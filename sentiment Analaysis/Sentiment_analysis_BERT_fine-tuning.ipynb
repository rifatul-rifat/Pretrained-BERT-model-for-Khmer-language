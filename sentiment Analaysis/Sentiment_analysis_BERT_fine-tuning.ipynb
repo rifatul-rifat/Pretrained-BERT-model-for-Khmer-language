{
 "cells": [
  {
   "cell_type": "markdown",
   "metadata": {},
   "source": [
    "---"
   ]
  },
  {
   "cell_type": "markdown",
   "metadata": {},
   "source": [
    "## Khmer Sentiment Analysis with BERT Fine-Tuning Based Approach\n",
    "---"
   ]
  },
  {
   "cell_type": "code",
   "execution_count": null,
   "metadata": {
    "colab": {
     "base_uri": "https://localhost:8080/",
     "height": 34
    },
    "colab_type": "code",
    "executionInfo": {
     "elapsed": 1421,
     "status": "ok",
     "timestamp": 1598200239596,
     "user": {
      "displayName": "Md Rifatul Islam Rifat",
      "photoUrl": "",
      "userId": "17304548563437753137"
     },
     "user_tz": -360
    },
    "id": "ObHnHtoigqA8",
    "outputId": "d4e52116-4a74-45c9-9c99-c8540913fbca"
   },
   "outputs": [
    {
     "name": "stdout",
     "output_type": "stream",
     "text": [
      "TensorFlow 1.x selected.\n"
     ]
    }
   ],
   "source": [
    "%tensorflow_version 1.x"
   ]
  },
  {
   "cell_type": "code",
   "execution_count": null,
   "metadata": {
    "colab": {
     "base_uri": "https://localhost:8080/",
     "height": 122
    },
    "colab_type": "code",
    "executionInfo": {
     "elapsed": 25682,
     "status": "ok",
     "timestamp": 1598200230980,
     "user": {
      "displayName": "Md Rifatul Islam Rifat",
      "photoUrl": "",
      "userId": "17304548563437753137"
     },
     "user_tz": -360
    },
    "id": "nrrJp0JtfT1I",
    "outputId": "00e2ca21-6865-4f68-dba4-75f7169d0618"
   },
   "outputs": [],
   "source": [
    "from google.colab import drive\n",
    "drive.mount('/content/drive')"
   ]
  },
  {
   "cell_type": "code",
   "execution_count": null,
   "metadata": {
    "colab": {},
    "colab_type": "code",
    "id": "juTBj0rbgaCW"
   },
   "outputs": [],
   "source": [
    "import sys\n",
    "sys.path.append(\"/content/drive/bert_khmer\")"
   ]
  },
  {
   "cell_type": "code",
   "execution_count": null,
   "metadata": {
    "colab": {},
    "colab_type": "code",
    "id": "TV302peTgjyD"
   },
   "outputs": [],
   "source": [
    "import re\n",
    "import pandas as pd\n",
    "import tensorflow as tf\n",
    "import tensorflow_hub as hub\n",
    "from datetime import datetime"
   ]
  },
  {
   "cell_type": "code",
   "execution_count": null,
   "metadata": {
    "colab": {
     "base_uri": "https://localhost:8080/",
     "height": 71
    },
    "colab_type": "code",
    "executionInfo": {
     "elapsed": 7238,
     "status": "ok",
     "timestamp": 1598200252606,
     "user": {
      "displayName": "Md Rifatul Islam Rifat",
      "photoUrl": "",
      "userId": "17304548563437753137"
     },
     "user_tz": -360
    },
    "id": "bHNfUNS6gfrl",
    "outputId": "1eff6ecb-0b12-45bd-9ec4-e973aebc73da"
   },
   "outputs": [],
   "source": [
    "import tokenization_km\n",
    "import modeling\n",
    "import optimization\n",
    "import run_classifier"
   ]
  },
  {
   "cell_type": "code",
   "execution_count": null,
   "metadata": {
    "colab": {},
    "colab_type": "code",
    "id": "MDwK8vdJgsoj"
   },
   "outputs": [],
   "source": [
    "OUTPUT_DIR = \"/content/fine_tuned_model\""
   ]
  },
  {
   "cell_type": "markdown",
   "metadata": {},
   "source": [
    "### Load Pre-trained BERT module for khmer"
   ]
  },
  {
   "cell_type": "code",
   "execution_count": null,
   "metadata": {
    "colab": {
     "base_uri": "https://localhost:8080/",
     "height": 187
    },
    "colab_type": "code",
    "executionInfo": {
     "elapsed": 25851,
     "status": "ok",
     "timestamp": 1598200276763,
     "user": {
      "displayName": "Md Rifatul Islam Rifat",
      "photoUrl": "",
      "userId": "17304548563437753137"
     },
     "user_tz": -360
    },
    "id": "1OFHqjWlguq9",
    "outputId": "c5f5cc99-dc5a-4ec4-d4e9-401f265b0895"
   },
   "outputs": [
    {
     "name": "stdout",
     "output_type": "stream",
     "text": [
      "Archive:  /content/drive/My Drive/Colab Notebooks/Khmer Paper/bert_module_khmer.zip\n",
      "   creating: ./pretrained/bert_module_khmer/\n",
      "   creating: ./pretrained/bert_module_khmer/assets/\n",
      "  inflating: ./pretrained/bert_module_khmer/assets/bert_config.json  \n",
      "  inflating: ./pretrained/bert_module_khmer/assets/vocab_file_BERT_.txt  \n",
      "  inflating: ./pretrained/bert_module_khmer/saved_model.pb  \n",
      "  inflating: ./pretrained/bert_module_khmer/tfhub_module.pb  \n",
      "   creating: ./pretrained/bert_module_khmer/variables/\n",
      "  inflating: ./pretrained/bert_module_khmer/variables/variables.data-00000-of-00001  \n",
      "  inflating: ./pretrained/bert_module_khmer/variables/variables.index  \n"
     ]
    }
   ],
   "source": [
    "!unzip \"/content/drive/bert_module_khmer.zip\" -d \"./pretrained\""
   ]
  },
  {
   "cell_type": "markdown",
   "metadata": {},
   "source": [
    "### Load Train/Validation Data"
   ]
  },
  {
   "cell_type": "code",
   "execution_count": null,
   "metadata": {
    "colab": {},
    "colab_type": "code",
    "id": "XaaTzDswgx0v"
   },
   "outputs": [],
   "source": [
    "data = pd.read_excel(\"/content/drive/sentiment_analysis_data_km.xlsx\", encoding=\"UTF-8\")"
   ]
  },
  {
   "cell_type": "markdown",
   "metadata": {},
   "source": [
    "### Preprocessing"
   ]
  },
  {
   "cell_type": "code",
   "execution_count": null,
   "metadata": {
    "colab": {},
    "colab_type": "code",
    "id": "EfW4_ADEg6Wo"
   },
   "outputs": [],
   "source": [
    "data['text_prep'] = data['text_prep'].apply(lambda x: ' '.join(re.sub(r'[០១២៣៤៥៦៧៨៩។៕៖ៗ៘៙៚]+', ' ', x).strip().split()))"
   ]
  },
  {
   "cell_type": "code",
   "execution_count": null,
   "metadata": {
    "colab": {},
    "colab_type": "code",
    "id": "Nl39ATopKM0j"
   },
   "outputs": [],
   "source": [
    "data.drop_duplicates(subset=['text_prep'], inplace=True)"
   ]
  },
  {
   "cell_type": "code",
   "execution_count": null,
   "metadata": {
    "colab": {
     "base_uri": "https://localhost:8080/",
     "height": 142
    },
    "colab_type": "code",
    "executionInfo": {
     "elapsed": 1181,
     "status": "ok",
     "timestamp": 1598200603266,
     "user": {
      "displayName": "Md Rifatul Islam Rifat",
      "photoUrl": "",
      "userId": "17304548563437753137"
     },
     "user_tz": -360
    },
    "id": "XyX41W94q2da",
    "outputId": "22305df5-0683-4e61-9194-c82a0adbbfe2"
   },
   "outputs": [
    {
     "data": {
      "text/html": [
       "<div>\n",
       "<style scoped>\n",
       "    .dataframe tbody tr th:only-of-type {\n",
       "        vertical-align: middle;\n",
       "    }\n",
       "\n",
       "    .dataframe tbody tr th {\n",
       "        vertical-align: top;\n",
       "    }\n",
       "\n",
       "    .dataframe thead th {\n",
       "        text-align: right;\n",
       "    }\n",
       "</style>\n",
       "<table border=\"1\" class=\"dataframe\">\n",
       "  <thead>\n",
       "    <tr style=\"text-align: right;\">\n",
       "      <th></th>\n",
       "      <th>source</th>\n",
       "      <th>texts</th>\n",
       "      <th>texts_km</th>\n",
       "      <th>text_prep</th>\n",
       "      <th>sentiment</th>\n",
       "    </tr>\n",
       "  </thead>\n",
       "  <tbody>\n",
       "    <tr>\n",
       "      <th>0</th>\n",
       "      <td>Yelp</td>\n",
       "      <td>Wow... Loved this place.</td>\n",
       "      <td>អីយ៉ា ... ស្រឡាញ់កន្លែងនេះ។</td>\n",
       "      <td>អីយ៉ា ស្រឡាញ់ កន្លែង នេះ</td>\n",
       "      <td>1</td>\n",
       "    </tr>\n",
       "    <tr>\n",
       "      <th>1</th>\n",
       "      <td>Yelp</td>\n",
       "      <td>Crust is not good.</td>\n",
       "      <td>សំបកគឺជាការមិនល្អ។</td>\n",
       "      <td>សំបក គឺ ជា ការ មិន ល្អ</td>\n",
       "      <td>0</td>\n",
       "    </tr>\n",
       "    <tr>\n",
       "      <th>2</th>\n",
       "      <td>Yelp</td>\n",
       "      <td>Not tasty and the texture was just nasty.</td>\n",
       "      <td>មិនហ៊ាននិងវាយនភាពនេះគឺអាក្រក់គ្រាន់តែជា។</td>\n",
       "      <td>មិន ហ៊ាន និង វាយន ភាព នេះ គឺ អាក្រក់ គ្រាន់ តែ ជា</td>\n",
       "      <td>0</td>\n",
       "    </tr>\n",
       "  </tbody>\n",
       "</table>\n",
       "</div>"
      ],
      "text/plain": [
       "  source  ... sentiment\n",
       "0   Yelp  ...         1\n",
       "1   Yelp  ...         0\n",
       "2   Yelp  ...         0\n",
       "\n",
       "[3 rows x 5 columns]"
      ]
     },
     "execution_count": 17,
     "metadata": {
      "tags": []
     },
     "output_type": "execute_result"
    }
   ],
   "source": [
    "data.head(3)"
   ]
  },
  {
   "cell_type": "code",
   "execution_count": null,
   "metadata": {
    "colab": {
     "base_uri": "https://localhost:8080/",
     "height": 34
    },
    "colab_type": "code",
    "executionInfo": {
     "elapsed": 1255,
     "status": "ok",
     "timestamp": 1598200584779,
     "user": {
      "displayName": "Md Rifatul Islam Rifat",
      "photoUrl": "",
      "userId": "17304548563437753137"
     },
     "user_tz": -360
    },
    "id": "uGjGdWR-LYvp",
    "outputId": "208be20c-f17d-406f-d4f2-c5700da1a51e"
   },
   "outputs": [
    {
     "data": {
      "text/plain": [
       "(10710, 5)"
      ]
     },
     "execution_count": 16,
     "metadata": {
      "tags": []
     },
     "output_type": "execute_result"
    }
   ],
   "source": [
    "data.shape"
   ]
  },
  {
   "cell_type": "code",
   "execution_count": null,
   "metadata": {
    "colab": {
     "base_uri": "https://localhost:8080/",
     "height": 68
    },
    "colab_type": "code",
    "executionInfo": {
     "elapsed": 8792,
     "status": "ok",
     "timestamp": 1598201315989,
     "user": {
      "displayName": "Md Rifatul Islam Rifat",
      "photoUrl": "",
      "userId": "17304548563437753137"
     },
     "user_tz": -360
    },
    "id": "Sa-mASh8q4tT",
    "outputId": "259b75fe-49db-44aa-913e-54b0a78b6025"
   },
   "outputs": [
    {
     "data": {
      "text/plain": [
       "1    5367\n",
       "0    5343\n",
       "Name: sentiment, dtype: int64"
      ]
     },
     "execution_count": 20,
     "metadata": {
      "tags": []
     },
     "output_type": "execute_result"
    }
   ],
   "source": [
    "data['sentiment'].value_counts()"
   ]
  },
  {
   "cell_type": "markdown",
   "metadata": {},
   "source": [
    "### Data Partitioning"
   ]
  },
  {
   "cell_type": "code",
   "execution_count": null,
   "metadata": {
    "colab": {},
    "colab_type": "code",
    "id": "zfddFZ8SrGUT"
   },
   "outputs": [],
   "source": [
    "X = data['text_prep']\n",
    "y = data['sentiment']"
   ]
  },
  {
   "cell_type": "code",
   "execution_count": null,
   "metadata": {
    "colab": {
     "base_uri": "https://localhost:8080/",
     "height": 51
    },
    "colab_type": "code",
    "executionInfo": {
     "elapsed": 1323,
     "status": "ok",
     "timestamp": 1598201336868,
     "user": {
      "displayName": "Md Rifatul Islam Rifat",
      "photoUrl": "",
      "userId": "17304548563437753137"
     },
     "user_tz": -360
    },
    "id": "DU52RE6arK3p",
    "outputId": "0367dbe4-f1cb-4362-ea90-7c6cb8519f72"
   },
   "outputs": [
    {
     "name": "stdout",
     "output_type": "stream",
     "text": [
      "Training shape: 8568\n",
      "Validation shape: 2142\n"
     ]
    }
   ],
   "source": [
    "from sklearn.model_selection import train_test_split\n",
    "X_train, X_val, y_train, y_val = train_test_split(X, y, test_size=0.2, random_state=1234, shuffle=True, stratify=y)\n",
    "\n",
    "print(\"\"\"Training shape: {}\n",
    "Validation shape: {}\"\"\".format(X_train.shape[0], X_val.shape[0]))"
   ]
  },
  {
   "cell_type": "code",
   "execution_count": null,
   "metadata": {
    "colab": {},
    "colab_type": "code",
    "id": "NLdDyze2rNiP"
   },
   "outputs": [],
   "source": [
    "train = pd.DataFrame({'text': X_train, 'sentiment': y_train})\n",
    "val = pd.DataFrame({'text': X_val, 'sentiment': y_val})"
   ]
  },
  {
   "cell_type": "markdown",
   "metadata": {
    "colab_type": "text",
    "id": "F-I9nuYyu4Ay"
   },
   "source": [
    "### Creat Input Example"
   ]
  },
  {
   "cell_type": "code",
   "execution_count": null,
   "metadata": {
    "colab": {},
    "colab_type": "code",
    "id": "fjg88yfHujsN"
   },
   "outputs": [],
   "source": [
    "DATA_COLUMN = 'text'\n",
    "LABEL_COLUMN = 'sentiment'\n",
    "\n",
    "train_InputExamples = train.apply(lambda x: run_classifier.InputExample(guid=None,\n",
    "                                                                   text_a = x[DATA_COLUMN], \n",
    "                                                                   text_b = None, \n",
    "                                                                   label = x[LABEL_COLUMN]), axis = 1)\n",
    "\n",
    "val_InputExamples = val.apply(lambda x: run_classifier.InputExample(guid=None, \n",
    "                                                                   text_a = x[DATA_COLUMN], \n",
    "                                                                   text_b = None, \n",
    "                                                                   label = x[LABEL_COLUMN]), axis = 1)"
   ]
  },
  {
   "cell_type": "markdown",
   "metadata": {
    "colab_type": "text",
    "id": "Ew5HFSwgvAII"
   },
   "source": [
    "### Tokenizer"
   ]
  },
  {
   "cell_type": "code",
   "execution_count": null,
   "metadata": {
    "colab": {
     "base_uri": "https://localhost:8080/",
     "height": 71
    },
    "colab_type": "code",
    "executionInfo": {
     "elapsed": 16431,
     "status": "ok",
     "timestamp": 1598201461127,
     "user": {
      "displayName": "Md Rifatul Islam Rifat",
      "photoUrl": "",
      "userId": "17304548563437753137"
     },
     "user_tz": -360
    },
    "id": "wC1cbfFju8bE",
    "outputId": "1b7afbc8-584d-4c0e-f231-d59ccddd8127"
   },
   "outputs": [],
   "source": [
    "vocab_path = '/content/pretrained/bert_module_khmer/assets/vocab_file_BERT_.txt'\n",
    "tokenizer = tokenization_km.FullTokenizer(vocab_file=vocab_path, do_lower_case=True)"
   ]
  },
  {
   "cell_type": "markdown",
   "metadata": {
    "colab_type": "text",
    "id": "LreVM_0HvFXl"
   },
   "source": [
    "### Feature Extraction"
   ]
  },
  {
   "cell_type": "code",
   "execution_count": null,
   "metadata": {
    "colab": {
     "base_uri": "https://localhost:8080/",
     "height": 1000
    },
    "colab_type": "code",
    "executionInfo": {
     "elapsed": 13290,
     "status": "ok",
     "timestamp": 1598201462110,
     "user": {
      "displayName": "Md Rifatul Islam Rifat",
      "photoUrl": "",
      "userId": "17304548563437753137"
     },
     "user_tz": -360
    },
    "id": "Zh8CDiagvCC5",
    "outputId": "48d059e3-e523-4fba-f639-2f938bc4cc56"
   },
   "outputs": [
    {
     "name": "stdout",
     "output_type": "stream",
     "text": [
      "WARNING:tensorflow:From /content/drive/My Drive/Colab Notebooks/bert_khmer/run_classifier.py:774: The name tf.logging.info is deprecated. Please use tf.compat.v1.logging.info instead.\n",
      "\n",
      "INFO:tensorflow:Writing example 0 of 8568\n",
      "INFO:tensorflow:*** Example ***\n",
      "INFO:tensorflow:guid: None\n",
      "INFO:tensorflow:tokens: [CLS] សាឡាត់ របស់ ខ្ញុំ មាន សុផា លើ បៃតង ហើយ ចិត្ត នៃ ទារក ដូង [SEP]\n",
      "INFO:tensorflow:input_ids: 0 111495 97489 7554 2113 97806 20394 27408 130476 47229 72073 50585 148893 1 0 0 0 0 0 0 0 0 0 0 0 0 0 0 0 0 0 0 0 0 0 0 0 0 0 0 0 0 0 0 0 0 0 0 0 0 0 0 0 0 0 0 0 0 0 0 0 0 0 0 0 0 0 0 0 0 0 0 0 0 0 0 0 0 0 0 0 0 0 0 0 0 0 0 0 0 0 0 0 0 0 0 0 0 0 0 0 0 0 0 0 0 0 0 0 0 0 0 0 0 0 0 0 0 0 0 0 0 0 0 0 0 0 0\n",
      "INFO:tensorflow:input_mask: 1 1 1 1 1 1 1 1 1 1 1 1 1 1 0 0 0 0 0 0 0 0 0 0 0 0 0 0 0 0 0 0 0 0 0 0 0 0 0 0 0 0 0 0 0 0 0 0 0 0 0 0 0 0 0 0 0 0 0 0 0 0 0 0 0 0 0 0 0 0 0 0 0 0 0 0 0 0 0 0 0 0 0 0 0 0 0 0 0 0 0 0 0 0 0 0 0 0 0 0 0 0 0 0 0 0 0 0 0 0 0 0 0 0 0 0 0 0 0 0 0 0 0 0 0 0 0 0\n",
      "INFO:tensorflow:segment_ids: 0 0 0 0 0 0 0 0 0 0 0 0 0 0 0 0 0 0 0 0 0 0 0 0 0 0 0 0 0 0 0 0 0 0 0 0 0 0 0 0 0 0 0 0 0 0 0 0 0 0 0 0 0 0 0 0 0 0 0 0 0 0 0 0 0 0 0 0 0 0 0 0 0 0 0 0 0 0 0 0 0 0 0 0 0 0 0 0 0 0 0 0 0 0 0 0 0 0 0 0 0 0 0 0 0 0 0 0 0 0 0 0 0 0 0 0 0 0 0 0 0 0 0 0 0 0 0 0\n",
      "INFO:tensorflow:label: 0 (id = 0)\n",
      "INFO:tensorflow:*** Example ***\n",
      "INFO:tensorflow:guid: None\n",
      "INFO:tensorflow:tokens: [CLS] ខ្ញុំ ដូច រ៉ូប នេះ ច្រើន ក្រណាត់ នេះ គឺ ស្រស់ ស្អាត គឺ មិន ធម្មតា និង ធ្វើ ឱ្យ ប៉ុន្តែ មិន មាន ការ ពិត ជា បន្ថែម ទៀត ថា ចំនួន នៅ ទំហំ ត្រគាក មាន ហោប៉ៅ នេះ សម្លៀកបំពាក់ ដែល មាន ផាសុខភាព ណាស់ [SEP]\n",
      "INFO:tensorflow:input_ids: 0 7554 164896 25617 28801 131525 106147 28801 125739 25179 29415 125739 85425 34068 83338 13122 114197 116361 85425 2113 152009 126082 16100 2984 80166 57158 74681 129027 55413 152206 2113 21593 28801 106994 28613 2113 139774 85691 1 0 0 0 0 0 0 0 0 0 0 0 0 0 0 0 0 0 0 0 0 0 0 0 0 0 0 0 0 0 0 0 0 0 0 0 0 0 0 0 0 0 0 0 0 0 0 0 0 0 0 0 0 0 0 0 0 0 0 0 0 0 0 0 0 0 0 0 0 0 0 0 0 0 0 0 0 0 0 0 0 0 0 0 0 0 0 0 0 0\n",
      "INFO:tensorflow:input_mask: 1 1 1 1 1 1 1 1 1 1 1 1 1 1 1 1 1 1 1 1 1 1 1 1 1 1 1 1 1 1 1 1 1 1 1 1 1 1 1 0 0 0 0 0 0 0 0 0 0 0 0 0 0 0 0 0 0 0 0 0 0 0 0 0 0 0 0 0 0 0 0 0 0 0 0 0 0 0 0 0 0 0 0 0 0 0 0 0 0 0 0 0 0 0 0 0 0 0 0 0 0 0 0 0 0 0 0 0 0 0 0 0 0 0 0 0 0 0 0 0 0 0 0 0 0 0 0 0\n",
      "INFO:tensorflow:segment_ids: 0 0 0 0 0 0 0 0 0 0 0 0 0 0 0 0 0 0 0 0 0 0 0 0 0 0 0 0 0 0 0 0 0 0 0 0 0 0 0 0 0 0 0 0 0 0 0 0 0 0 0 0 0 0 0 0 0 0 0 0 0 0 0 0 0 0 0 0 0 0 0 0 0 0 0 0 0 0 0 0 0 0 0 0 0 0 0 0 0 0 0 0 0 0 0 0 0 0 0 0 0 0 0 0 0 0 0 0 0 0 0 0 0 0 0 0 0 0 0 0 0 0 0 0 0 0 0 0\n",
      "INFO:tensorflow:label: 1 (id = 1)\n",
      "INFO:tensorflow:*** Example ***\n",
      "INFO:tensorflow:guid: None\n",
      "INFO:tensorflow:tokens: [CLS] បន្ទាប់ ពី បាន អាន ពិនិត្យ ផ្សេង ទៀត ខ្ញុំ នៅ តែ បាន យក ឱកាស មួយ នៅ លើ សម្លៀកបំពាក់ នេះ បញ្ជា ឱ្យ មើល ទៅ គួរ អោយ ស្រលាញ់ ណាស់ វា នៅ លើ ម៉ូដែល នេះ សម្លៀកបំពាក់ ដែល ពួក គេ បាន ចាត់ ខ្ញុំ អោយ មក មិន សំលៀកបំពាក់ នេះ វា គឺ ជា សម្ភារៈ ដូច គ្នា នេះ ដែរ បើ ទោះបី ជាមួយ ខ្ញុំ បាន ទទួល មាន តែ ឆ្នូត មួយ ដែល ចុះ ដូច ជា ឈើ ឆ្កាង មិន មាន ការ ត្រឡប់ មក វិញ ជួប ដូច មាន ចែង ដោយ ពិនិត្យ ផ្សេង ទៀត គឺ វា គឺ ជា ការ ដួស ហើយ ប្រសិន បើ អ្នក ទាញ វា ចុះ កបាន កើន ឡើង រ៉ូប ដែល ខ្ញុំ បាន ទទួល ជា អ្នក កាន់ ត្រូវ បាន ម៉ាក យីហោ នេះ សេះ ខណៈ ដែល រាយ នៅ លើ នៅ ទី នេះ គឺ ប្រវែង វាស់ នៅ មិន ទី [SEP]\n",
      "INFO:tensorflow:input_ids: 0 135252 29168 128962 96734 2597 20828 80166 7554 129027 70605 128962 143402 116098 32244 129027 20394 106994 28801 39014 114197 8414 127642 86831 112345 95357 85691 135432 129027 20394 154308 28801 106994 28613 100802 85779 128962 107858 7554 112345 44928 85425 125143 28801 135432 125739 16100 129916 164896 10625 28801 151440 125551 30208 8764 7554 128962 72135 2113 70605 135946 32244 28613 70971 164896 16100 86259 135055 85425 2113 152009 50253 44928 66217 155608 164896 2113 109778 67734 2597 20828 80166 125739 135432 125739 16100 152009 52708 130476 55061 125551 38340 18422 135432 70971 2 45495 46853 25617 28613 7554 128962 72135 16100 38340 123804 74058 128962 119749 77369 28801 53650 111634 28613 73667 129027 20394 129027 167467 28801 125739 47350 145068 129027 85425 167467 1 0\n",
      "INFO:tensorflow:input_mask: 1 1 1 1 1 1 1 1 1 1 1 1 1 1 1 1 1 1 1 1 1 1 1 1 1 1 1 1 1 1 1 1 1 1 1 1 1 1 1 1 1 1 1 1 1 1 1 1 1 1 1 1 1 1 1 1 1 1 1 1 1 1 1 1 1 1 1 1 1 1 1 1 1 1 1 1 1 1 1 1 1 1 1 1 1 1 1 1 1 1 1 1 1 1 1 1 1 1 1 1 1 1 1 1 1 1 1 1 1 1 1 1 1 1 1 1 1 1 1 1 1 1 1 1 1 1 1 0\n",
      "INFO:tensorflow:segment_ids: 0 0 0 0 0 0 0 0 0 0 0 0 0 0 0 0 0 0 0 0 0 0 0 0 0 0 0 0 0 0 0 0 0 0 0 0 0 0 0 0 0 0 0 0 0 0 0 0 0 0 0 0 0 0 0 0 0 0 0 0 0 0 0 0 0 0 0 0 0 0 0 0 0 0 0 0 0 0 0 0 0 0 0 0 0 0 0 0 0 0 0 0 0 0 0 0 0 0 0 0 0 0 0 0 0 0 0 0 0 0 0 0 0 0 0 0 0 0 0 0 0 0 0 0 0 0 0 0\n",
      "INFO:tensorflow:label: 0 (id = 0)\n",
      "INFO:tensorflow:*** Example ***\n",
      "INFO:tensorflow:guid: None\n",
      "INFO:tensorflow:tokens: [CLS] ខោ ទាំង នេះ គឺ មាន ផាសុខភាព ណាស់ ហើយ ខ្ញុំ ស្រឡាញ់ណ៍ នេះ ប៉ុន្តែ ពួក គេ មិន បាន ធ្វើ ការ សម្រាប់ ខ្ញុំ [SEP]\n",
      "INFO:tensorflow:input_ids: 0 32217 39376 28801 125739 2113 139774 85691 130476 7554 2 28801 116361 100802 85779 85425 128962 13122 152009 26142 7554 1 0 0 0 0 0 0 0 0 0 0 0 0 0 0 0 0 0 0 0 0 0 0 0 0 0 0 0 0 0 0 0 0 0 0 0 0 0 0 0 0 0 0 0 0 0 0 0 0 0 0 0 0 0 0 0 0 0 0 0 0 0 0 0 0 0 0 0 0 0 0 0 0 0 0 0 0 0 0 0 0 0 0 0 0 0 0 0 0 0 0 0 0 0 0 0 0 0 0 0 0 0 0 0 0 0 0\n",
      "INFO:tensorflow:input_mask: 1 1 1 1 1 1 1 1 1 1 1 1 1 1 1 1 1 1 1 1 1 1 0 0 0 0 0 0 0 0 0 0 0 0 0 0 0 0 0 0 0 0 0 0 0 0 0 0 0 0 0 0 0 0 0 0 0 0 0 0 0 0 0 0 0 0 0 0 0 0 0 0 0 0 0 0 0 0 0 0 0 0 0 0 0 0 0 0 0 0 0 0 0 0 0 0 0 0 0 0 0 0 0 0 0 0 0 0 0 0 0 0 0 0 0 0 0 0 0 0 0 0 0 0 0 0 0 0\n",
      "INFO:tensorflow:segment_ids: 0 0 0 0 0 0 0 0 0 0 0 0 0 0 0 0 0 0 0 0 0 0 0 0 0 0 0 0 0 0 0 0 0 0 0 0 0 0 0 0 0 0 0 0 0 0 0 0 0 0 0 0 0 0 0 0 0 0 0 0 0 0 0 0 0 0 0 0 0 0 0 0 0 0 0 0 0 0 0 0 0 0 0 0 0 0 0 0 0 0 0 0 0 0 0 0 0 0 0 0 0 0 0 0 0 0 0 0 0 0 0 0 0 0 0 0 0 0 0 0 0 0 0 0 0 0 0 0\n",
      "INFO:tensorflow:label: 1 (id = 1)\n",
      "INFO:tensorflow:*** Example ***\n",
      "INFO:tensorflow:guid: None\n",
      "INFO:tensorflow:tokens: [CLS] ខ្ញុំ មាន ការ ចង់ ដឹង ចង់ ឃើញ ណាស់ ដែល ឃើញ សំពត់ នេះ វា មើល ទៅ គ្រាន់ តែ ដូច ណ្តា លំនាំ ដិត ស្រស់ ស្អាត ពិត ជា និង ក្រណាត់ ដូច ដាក់ ពាក្យ ប្តឹង បញ្ហា តែ មួយ គត់ របស់ ខ្ញុំ គឺ ថា ខ្ញុំ គិត ថា មាន ក្រណាត់ ច្រើន ពេក ខ្ញុំ ស្រឡាញ់ សំពត់ ខ្ញុំ និង ផោន វា គឺ ជា ពេល វេលា យូរ បន្តិច នៅ លើ ខ្ញុំ ទេ ប៉ុន្តែ គ្រាន់ តែ មាន ក្រណាត់ ច្រើន ពេក ខ្ញុំ មាន ត្រគាក ស្ដើង ប៉ុន្តែ នេះ ធ្វើ ឱ្យ ពួក គេ មើល ទៅ ធំ ជាង មុន សំពត់ រ៉ូប សាល គឺ ស្ទើរ តែ ដូច នៅ ក្នុង ភាព ពេញលេញ របស់ ខ្លួន ស្រឡាញ់ វា ហើយ នរណា ម្នាក់ ផ្សេង ទៀត ប្រហែល ជា ស្រឡាញ់ វា ទេ ប៉ុន្តែ សម្រាប់ ខ្ញុំ វា ជា ការ ច្រើន ពេក មាន បំណង ចង់ វា បាន ធ្វើ ការ [SEP]\n",
      "INFO:tensorflow:input_ids: 0 7554 2113 152009 57123 18227 57123 42571 85691 28613 42571 166355 28801 135432 8414 127642 34638 70605 164896 111536 91714 167183 25179 29415 126082 16100 83338 106147 164896 34049 6129 24348 145339 70605 32244 135573 97489 7554 125739 57158 7554 147532 57158 2113 106147 131525 66510 7554 49719 166355 7554 83338 145708 135432 125739 16100 109932 26045 162802 157863 129027 20394 7554 23478 116361 34638 70605 2113 106147 131525 66510 7554 2113 152206 97085 116361 28801 13122 114197 100802 85779 8414 127642 74914 109615 105256 166355 25617 25102 125739 18455 70605 164896 129027 38977 163655 93250 97489 64943 49719 135432 130476 128734 116705 20828 80166 39080 16100 49719 135432 23478 116361 26142 7554 135432 16100 152009 131525 66510 2113 41496 57123 135432 128962 13122 152009 1 0\n",
      "INFO:tensorflow:input_mask: 1 1 1 1 1 1 1 1 1 1 1 1 1 1 1 1 1 1 1 1 1 1 1 1 1 1 1 1 1 1 1 1 1 1 1 1 1 1 1 1 1 1 1 1 1 1 1 1 1 1 1 1 1 1 1 1 1 1 1 1 1 1 1 1 1 1 1 1 1 1 1 1 1 1 1 1 1 1 1 1 1 1 1 1 1 1 1 1 1 1 1 1 1 1 1 1 1 1 1 1 1 1 1 1 1 1 1 1 1 1 1 1 1 1 1 1 1 1 1 1 1 1 1 1 1 1 1 0\n",
      "INFO:tensorflow:segment_ids: 0 0 0 0 0 0 0 0 0 0 0 0 0 0 0 0 0 0 0 0 0 0 0 0 0 0 0 0 0 0 0 0 0 0 0 0 0 0 0 0 0 0 0 0 0 0 0 0 0 0 0 0 0 0 0 0 0 0 0 0 0 0 0 0 0 0 0 0 0 0 0 0 0 0 0 0 0 0 0 0 0 0 0 0 0 0 0 0 0 0 0 0 0 0 0 0 0 0 0 0 0 0 0 0 0 0 0 0 0 0 0 0 0 0 0 0 0 0 0 0 0 0 0 0 0 0 0 0\n",
      "INFO:tensorflow:label: 0 (id = 0)\n",
      "INFO:tensorflow:Writing example 0 of 2142\n",
      "INFO:tensorflow:*** Example ***\n",
      "INFO:tensorflow:guid: None\n",
      "INFO:tensorflow:tokens: [CLS] ខ្ញុំ បាន ទិញ កំពូល នៅ ក្នុងណ៍ ស្រា នេះ ខ្ញុំ គ្រាន់ តែ ស្រឡាញ់ វា បាន ឆាប់ តាម ដែល ខ្ញុំ បាន ពាក់ វា ខ្ញុំ ទទួល បាន ការ សរសើរ ដោយសារ តែ វា មាន តែ មួយ គត់ ជា ច្រើន ដូច្នេះ លម្អិត ខ្ញុំ បាន ទិញ មធ្យម មួយ ហើយ វា គឺ គ្រាន់ តែ ជា ទំហំ ត្រឹមត្រូវ [SEP]\n",
      "INFO:tensorflow:input_ids: 0 7554 128962 54796 4251 129027 2 112160 28801 7554 34638 70605 49719 135432 128962 123141 2746 28613 7554 128962 80304 135432 7554 72135 128962 152009 19541 66409 70605 135432 2113 70605 32244 135573 16100 131525 48554 73387 7554 128962 54796 21331 32244 130476 135432 125739 34638 70605 16100 55413 142654 1 0 0 0 0 0 0 0 0 0 0 0 0 0 0 0 0 0 0 0 0 0 0 0 0 0 0 0 0 0 0 0 0 0 0 0 0 0 0 0 0 0 0 0 0 0 0 0 0 0 0 0 0 0 0 0 0 0 0 0 0 0 0 0 0 0 0 0 0 0 0 0 0 0 0 0 0\n",
      "INFO:tensorflow:input_mask: 1 1 1 1 1 1 1 1 1 1 1 1 1 1 1 1 1 1 1 1 1 1 1 1 1 1 1 1 1 1 1 1 1 1 1 1 1 1 1 1 1 1 1 1 1 1 1 1 1 1 1 1 0 0 0 0 0 0 0 0 0 0 0 0 0 0 0 0 0 0 0 0 0 0 0 0 0 0 0 0 0 0 0 0 0 0 0 0 0 0 0 0 0 0 0 0 0 0 0 0 0 0 0 0 0 0 0 0 0 0 0 0 0 0 0 0 0 0 0 0 0 0 0 0 0 0 0 0\n",
      "INFO:tensorflow:segment_ids: 0 0 0 0 0 0 0 0 0 0 0 0 0 0 0 0 0 0 0 0 0 0 0 0 0 0 0 0 0 0 0 0 0 0 0 0 0 0 0 0 0 0 0 0 0 0 0 0 0 0 0 0 0 0 0 0 0 0 0 0 0 0 0 0 0 0 0 0 0 0 0 0 0 0 0 0 0 0 0 0 0 0 0 0 0 0 0 0 0 0 0 0 0 0 0 0 0 0 0 0 0 0 0 0 0 0 0 0 0 0 0 0 0 0 0 0 0 0 0 0 0 0 0 0 0 0 0 0\n",
      "INFO:tensorflow:label: 1 (id = 1)\n",
      "INFO:tensorflow:*** Example ***\n",
      "INFO:tensorflow:guid: None\n",
      "INFO:tensorflow:tokens: [CLS] ចំពោះ អ្វី ដែល អ្នក កំពុង តែ ទទួល បាន [SEP]\n",
      "INFO:tensorflow:input_ids: 0 40843 148789 28613 38340 27945 70605 72135 128962 1 0 0 0 0 0 0 0 0 0 0 0 0 0 0 0 0 0 0 0 0 0 0 0 0 0 0 0 0 0 0 0 0 0 0 0 0 0 0 0 0 0 0 0 0 0 0 0 0 0 0 0 0 0 0 0 0 0 0 0 0 0 0 0 0 0 0 0 0 0 0 0 0 0 0 0 0 0 0 0 0 0 0 0 0 0 0 0 0 0 0 0 0 0 0 0 0 0 0 0 0 0 0 0 0 0 0 0 0 0 0 0 0 0 0 0 0 0 0\n",
      "INFO:tensorflow:input_mask: 1 1 1 1 1 1 1 1 1 1 0 0 0 0 0 0 0 0 0 0 0 0 0 0 0 0 0 0 0 0 0 0 0 0 0 0 0 0 0 0 0 0 0 0 0 0 0 0 0 0 0 0 0 0 0 0 0 0 0 0 0 0 0 0 0 0 0 0 0 0 0 0 0 0 0 0 0 0 0 0 0 0 0 0 0 0 0 0 0 0 0 0 0 0 0 0 0 0 0 0 0 0 0 0 0 0 0 0 0 0 0 0 0 0 0 0 0 0 0 0 0 0 0 0 0 0 0 0\n",
      "INFO:tensorflow:segment_ids: 0 0 0 0 0 0 0 0 0 0 0 0 0 0 0 0 0 0 0 0 0 0 0 0 0 0 0 0 0 0 0 0 0 0 0 0 0 0 0 0 0 0 0 0 0 0 0 0 0 0 0 0 0 0 0 0 0 0 0 0 0 0 0 0 0 0 0 0 0 0 0 0 0 0 0 0 0 0 0 0 0 0 0 0 0 0 0 0 0 0 0 0 0 0 0 0 0 0 0 0 0 0 0 0 0 0 0 0 0 0 0 0 0 0 0 0 0 0 0 0 0 0 0 0 0 0 0 0\n",
      "INFO:tensorflow:label: 0 (id = 0)\n",
      "INFO:tensorflow:*** Example ***\n",
      "INFO:tensorflow:guid: None\n",
      "INFO:tensorflow:tokens: [CLS] ខោ ខូវប៊ ស្រស់ ស្អាត ប៉ុន្តែ បាន ត្រឡប់ មក វិញ តឹង ពេក នៅ ក្នុង ត្រគាក ភ្លៅ និង ធំ នៅ ចង្កេះ [SEP]\n",
      "INFO:tensorflow:input_ids: 0 32217 2 25179 29415 116361 128962 50253 44928 66217 70668 66510 129027 38977 152206 10567 83338 74914 129027 41987 1 0 0 0 0 0 0 0 0 0 0 0 0 0 0 0 0 0 0 0 0 0 0 0 0 0 0 0 0 0 0 0 0 0 0 0 0 0 0 0 0 0 0 0 0 0 0 0 0 0 0 0 0 0 0 0 0 0 0 0 0 0 0 0 0 0 0 0 0 0 0 0 0 0 0 0 0 0 0 0 0 0 0 0 0 0 0 0 0 0 0 0 0 0 0 0 0 0 0 0 0 0 0 0 0 0 0 0\n",
      "INFO:tensorflow:input_mask: 1 1 1 1 1 1 1 1 1 1 1 1 1 1 1 1 1 1 1 1 1 0 0 0 0 0 0 0 0 0 0 0 0 0 0 0 0 0 0 0 0 0 0 0 0 0 0 0 0 0 0 0 0 0 0 0 0 0 0 0 0 0 0 0 0 0 0 0 0 0 0 0 0 0 0 0 0 0 0 0 0 0 0 0 0 0 0 0 0 0 0 0 0 0 0 0 0 0 0 0 0 0 0 0 0 0 0 0 0 0 0 0 0 0 0 0 0 0 0 0 0 0 0 0 0 0 0 0\n",
      "INFO:tensorflow:segment_ids: 0 0 0 0 0 0 0 0 0 0 0 0 0 0 0 0 0 0 0 0 0 0 0 0 0 0 0 0 0 0 0 0 0 0 0 0 0 0 0 0 0 0 0 0 0 0 0 0 0 0 0 0 0 0 0 0 0 0 0 0 0 0 0 0 0 0 0 0 0 0 0 0 0 0 0 0 0 0 0 0 0 0 0 0 0 0 0 0 0 0 0 0 0 0 0 0 0 0 0 0 0 0 0 0 0 0 0 0 0 0 0 0 0 0 0 0 0 0 0 0 0 0 0 0 0 0 0 0\n",
      "INFO:tensorflow:label: 1 (id = 1)\n",
      "INFO:tensorflow:*** Example ***\n",
      "INFO:tensorflow:guid: None\n",
      "INFO:tensorflow:tokens: [CLS] នេះ គឺ ជា ការ វាយ ប្រហារ ចុង ក្រោយ ដូច [SEP]\n",
      "INFO:tensorflow:input_ids: 0 28801 125739 16100 152009 2915 4645 108141 70986 164896 1 0 0 0 0 0 0 0 0 0 0 0 0 0 0 0 0 0 0 0 0 0 0 0 0 0 0 0 0 0 0 0 0 0 0 0 0 0 0 0 0 0 0 0 0 0 0 0 0 0 0 0 0 0 0 0 0 0 0 0 0 0 0 0 0 0 0 0 0 0 0 0 0 0 0 0 0 0 0 0 0 0 0 0 0 0 0 0 0 0 0 0 0 0 0 0 0 0 0 0 0 0 0 0 0 0 0 0 0 0 0 0 0 0 0 0 0 0\n",
      "INFO:tensorflow:input_mask: 1 1 1 1 1 1 1 1 1 1 1 0 0 0 0 0 0 0 0 0 0 0 0 0 0 0 0 0 0 0 0 0 0 0 0 0 0 0 0 0 0 0 0 0 0 0 0 0 0 0 0 0 0 0 0 0 0 0 0 0 0 0 0 0 0 0 0 0 0 0 0 0 0 0 0 0 0 0 0 0 0 0 0 0 0 0 0 0 0 0 0 0 0 0 0 0 0 0 0 0 0 0 0 0 0 0 0 0 0 0 0 0 0 0 0 0 0 0 0 0 0 0 0 0 0 0 0 0\n",
      "INFO:tensorflow:segment_ids: 0 0 0 0 0 0 0 0 0 0 0 0 0 0 0 0 0 0 0 0 0 0 0 0 0 0 0 0 0 0 0 0 0 0 0 0 0 0 0 0 0 0 0 0 0 0 0 0 0 0 0 0 0 0 0 0 0 0 0 0 0 0 0 0 0 0 0 0 0 0 0 0 0 0 0 0 0 0 0 0 0 0 0 0 0 0 0 0 0 0 0 0 0 0 0 0 0 0 0 0 0 0 0 0 0 0 0 0 0 0 0 0 0 0 0 0 0 0 0 0 0 0 0 0 0 0 0 0\n",
      "INFO:tensorflow:label: 0 (id = 0)\n",
      "INFO:tensorflow:*** Example ***\n",
      "INFO:tensorflow:guid: None\n",
      "INFO:tensorflow:tokens: [CLS] បោះពុម្ពណ៍ និង ពិត ជា ស្អាត ហើយ ខ្ញុំ កំពុង ខូច ចិត្ត ណាស់ ដែល ថា ឈុត នេះ គ្រាន់ តែ មិន សម ខ្ញុំ មិន មាន ដង ខ្លួន វែង ប៉ុន្តែ គ្រាន់ តែ ដូច្នេះ ត្រូវ បាន ធ្លាក់ ចុះ ជួប ខ្ញុំ នឹង មិន ដែល មាន អារម្មណ៍ ស្រួល បាន ចាក ចេញ ពី កៅអី កន្លែង ក្រោយ ផ្ទះ នៅ ក្នុង ឈុត មុជ នេះ គ្មាន បញ្ហា ថា តើ ខ្ញុំ ជា ច្រើន បាន ចង ជួប វា នៅ តែ បាន បង្ហាញ ពី ពាក់កណ្តាល ចុះ ទៅ ជាមួយ កង ទ័ព ជើង ទឹក របស់ ខ្ញុំ រឿង ចម្លែក នោះ គឺ ថា នៅ ទី នោះ ហាក់ ដូច ជា ក្រណាត់ ច្រើន ពេក នៅ លើ កំពូល ច្រើន និង ក្រាស់ ជាង ខ្ញុំ នឹង ធម្មតា ទៅ សម្រាប់ និង ខណៈ ពេល ដែល ខ្ញុំ នៅ តែ នៅ ជុំវិញ ខ មួយ [SEP]\n",
      "INFO:tensorflow:input_ids: 0 2 83338 126082 16100 29415 130476 7554 27945 119004 47229 85691 28613 57158 152547 28801 34638 70605 85425 128978 7554 85425 2113 88295 64943 95216 116361 34638 70605 48554 74058 128962 1516 70971 155608 7554 6654 85425 28613 2113 76225 146777 128962 97588 18862 29168 146780 22750 70986 14442 129027 38977 152547 45720 28801 29760 145339 57158 55908 7554 16100 131525 128962 50992 155608 135432 129027 70605 128962 145592 29168 18498 70971 127642 8764 33253 72864 151702 39247 97489 7554 75948 25733 141277 125739 57158 129027 167467 141277 4703 164896 16100 106147 131525 66510 129027 20394 4251 131525 83338 51795 109615 7554 6654 34068 127642 26142 83338 111634 109932 28613 7554 129027 70605 129027 21057 159934 32244 1 0 0 0 0 0 0 0 0 0\n",
      "INFO:tensorflow:input_mask: 1 1 1 1 1 1 1 1 1 1 1 1 1 1 1 1 1 1 1 1 1 1 1 1 1 1 1 1 1 1 1 1 1 1 1 1 1 1 1 1 1 1 1 1 1 1 1 1 1 1 1 1 1 1 1 1 1 1 1 1 1 1 1 1 1 1 1 1 1 1 1 1 1 1 1 1 1 1 1 1 1 1 1 1 1 1 1 1 1 1 1 1 1 1 1 1 1 1 1 1 1 1 1 1 1 1 1 1 1 1 1 1 1 1 1 1 1 1 1 0 0 0 0 0 0 0 0 0\n",
      "INFO:tensorflow:segment_ids: 0 0 0 0 0 0 0 0 0 0 0 0 0 0 0 0 0 0 0 0 0 0 0 0 0 0 0 0 0 0 0 0 0 0 0 0 0 0 0 0 0 0 0 0 0 0 0 0 0 0 0 0 0 0 0 0 0 0 0 0 0 0 0 0 0 0 0 0 0 0 0 0 0 0 0 0 0 0 0 0 0 0 0 0 0 0 0 0 0 0 0 0 0 0 0 0 0 0 0 0 0 0 0 0 0 0 0 0 0 0 0 0 0 0 0 0 0 0 0 0 0 0 0 0 0 0 0 0\n",
      "INFO:tensorflow:label: 0 (id = 0)\n"
     ]
    }
   ],
   "source": [
    "MAX_SEQ_LENGTH = 128\n",
    "label_list = [0, 1]\n",
    "train_features = run_classifier.convert_examples_to_features(train_InputExamples, label_list, MAX_SEQ_LENGTH, tokenizer)\n",
    "val_features = run_classifier.convert_examples_to_features(val_InputExamples, label_list, MAX_SEQ_LENGTH, tokenizer)"
   ]
  },
  {
   "cell_type": "markdown",
   "metadata": {
    "colab_type": "text",
    "id": "XE0hIWPCvaCe"
   },
   "source": [
    "### Create Classification Model"
   ]
  },
  {
   "cell_type": "code",
   "execution_count": null,
   "metadata": {
    "colab": {},
    "colab_type": "code",
    "id": "di9_rYFZvUHd"
   },
   "outputs": [],
   "source": [
    "def create_model(is_predicting, input_ids, input_mask, segment_ids, labels, num_labels):\n",
    "  \"\"\"Creates a classification model.\"\"\"\n",
    "\n",
    "  bert_module = hub.Module(\"./pretrained/bert_module_khmer/\", trainable=True)\n",
    "  bert_inputs = dict(\n",
    "      input_ids=input_ids,\n",
    "      input_mask=input_mask,\n",
    "      segment_ids=segment_ids)\n",
    "  bert_outputs = bert_module(\n",
    "      inputs=bert_inputs,\n",
    "      signature=\"tokens\",\n",
    "      as_dict=True)\n",
    "\n",
    "  # Use \"pooled_output\" for classification tasks on an entire sentence.\n",
    "  # Use \"sequence_outputs\" for token-level output.\n",
    "  output_layer = bert_outputs[\"pooled_output\"]\n",
    "\n",
    "  hidden_size = output_layer.shape[-1].value\n",
    "\n",
    "  # Create our own layer to tune for politeness data.\n",
    "  output_weights = tf.get_variable(\n",
    "      \"output_weights\", [num_labels, hidden_size],\n",
    "      initializer=tf.truncated_normal_initializer(stddev=0.0))\n",
    "\n",
    "  output_bias = tf.get_variable(\n",
    "      \"output_bias\", [num_labels], initializer=tf.zeros_initializer())\n",
    "\n",
    "  with tf.variable_scope(\"loss\"):\n",
    "\n",
    "    # Dropout helps prevent overfitting\n",
    "    output_layer = tf.nn.dropout(output_layer, keep_prob=0.9)\n",
    "\n",
    "    logits = tf.matmul(output_layer, output_weights, transpose_b=True)\n",
    "    logits = tf.nn.bias_add(logits, output_bias)\n",
    "    log_probs = tf.nn.log_softmax(logits, axis=-1)\n",
    "\n",
    "    # Convert labels into one-hot encoding\n",
    "    one_hot_labels = tf.one_hot(labels, depth=num_labels, dtype=tf.float32)\n",
    "\n",
    "    predicted_labels = tf.squeeze(tf.argmax(log_probs, axis=-1, output_type=tf.int32))\n",
    "    # If we're predicting, we want predicted labels and the probabiltiies.\n",
    "    if is_predicting:\n",
    "      return (predicted_labels, log_probs)\n",
    "\n",
    "    # If we're train/eval, compute loss between predicted and actual label\n",
    "    per_example_loss = -tf.reduce_sum(one_hot_labels * log_probs, axis=-1)\n",
    "    loss = tf.reduce_mean(per_example_loss)\n",
    "    return (loss, predicted_labels, log_probs)"
   ]
  },
  {
   "cell_type": "markdown",
   "metadata": {
    "colab_type": "text",
    "id": "1zGTDkwvytiW"
   },
   "source": [
    "### Creating Model Function"
   ]
  },
  {
   "cell_type": "code",
   "execution_count": null,
   "metadata": {
    "colab": {},
    "colab_type": "code",
    "id": "KidyquSlyits"
   },
   "outputs": [],
   "source": [
    "# model_fn_builder actually creates our model function\n",
    "# using the passed parameters for num_labels, learning_rate, etc.\n",
    "def model_fn_builder(num_labels, learning_rate, num_train_steps, num_warmup_steps):\n",
    "  \"\"\"Returns `model_fn` closure for TPUEstimator.\"\"\"\n",
    "  def model_fn(features, labels, mode, params):  # pylint: disable=unused-argument\n",
    "    \"\"\"The `model_fn` for TPUEstimator.\"\"\"\n",
    "\n",
    "    input_ids = features[\"input_ids\"]\n",
    "    input_mask = features[\"input_mask\"]\n",
    "    segment_ids = features[\"segment_ids\"]\n",
    "    label_ids = features[\"label_ids\"]\n",
    "\n",
    "    is_predicting = (mode == tf.estimator.ModeKeys.PREDICT)\n",
    "    \n",
    "    # TRAIN and EVAL\n",
    "    if not is_predicting:\n",
    "\n",
    "      (loss, predicted_labels, log_probs) = create_model(\n",
    "        is_predicting, input_ids, input_mask, segment_ids, label_ids, num_labels)\n",
    "\n",
    "      train_op = optimization.create_optimizer(\n",
    "          loss, learning_rate, num_train_steps, num_warmup_steps, use_tpu=False)\n",
    "\n",
    "      # Calculate evaluation metrics. \n",
    "      def metric_fn(label_ids, predicted_labels):\n",
    "        accuracy = tf.metrics.accuracy(label_ids, predicted_labels)\n",
    "        return {\n",
    "            \"eval_accuracy\": accuracy\n",
    "        }\n",
    "\n",
    "      eval_metrics = metric_fn(label_ids, predicted_labels)\n",
    "\n",
    "      if mode == tf.estimator.ModeKeys.TRAIN:\n",
    "        return tf.estimator.EstimatorSpec(mode=mode,\n",
    "          loss=loss,\n",
    "          train_op=train_op)\n",
    "      else:\n",
    "          return tf.estimator.EstimatorSpec(mode=mode,\n",
    "            loss=loss,\n",
    "            eval_metric_ops=eval_metrics)\n",
    "    else:\n",
    "      (predicted_labels, log_probs) = create_model(\n",
    "        is_predicting, input_ids, input_mask, segment_ids, label_ids, num_labels)\n",
    "\n",
    "      predictions = {\n",
    "          'probabilities': log_probs,\n",
    "          'labels': predicted_labels\n",
    "      }\n",
    "      return tf.estimator.EstimatorSpec(mode, predictions=predictions)\n",
    "\n",
    "  # Return the actual model function in the closure\n",
    "  return model_fn"
   ]
  },
  {
   "cell_type": "code",
   "execution_count": null,
   "metadata": {
    "colab": {},
    "colab_type": "code",
    "id": "ox_7E7_q2HBu"
   },
   "outputs": [],
   "source": [
    "BATCH_SIZE = 32\n",
    "LEARNING_RATE = 2e-5\n",
    "NUM_TRAIN_EPOCHS = 2.0\n",
    "WARMUP_PROPORTION = 0.6\n",
    "SAVE_CHECKPOINTS_STEPS = int(len(train_features) / BATCH_SIZE)\n",
    "SAVE_SUMMARY_STEPS = 100"
   ]
  },
  {
   "cell_type": "code",
   "execution_count": null,
   "metadata": {
    "colab": {},
    "colab_type": "code",
    "id": "NfF8TtaK2G_W"
   },
   "outputs": [],
   "source": [
    "# Compute train and warmup steps from batch size\n",
    "num_train_steps = int(len(train_features) / BATCH_SIZE * NUM_TRAIN_EPOCHS)\n",
    "num_warmup_steps = int(num_train_steps * WARMUP_PROPORTION)"
   ]
  },
  {
   "cell_type": "code",
   "execution_count": null,
   "metadata": {
    "colab": {},
    "colab_type": "code",
    "id": "QWjbskwW3LyT"
   },
   "outputs": [],
   "source": [
    "# Specify outpit directory and number of checkpoint steps to save\n",
    "run_config = tf.estimator.RunConfig(\n",
    "    model_dir=OUTPUT_DIR,\n",
    "    save_summary_steps=SAVE_SUMMARY_STEPS,\n",
    "    save_checkpoints_steps=SAVE_CHECKPOINTS_STEPS,\n",
    "    keep_checkpoint_max = 8)"
   ]
  },
  {
   "cell_type": "code",
   "execution_count": null,
   "metadata": {
    "colab": {
     "base_uri": "https://localhost:8080/",
     "height": 156
    },
    "colab_type": "code",
    "executionInfo": {
     "elapsed": 1279,
     "status": "ok",
     "timestamp": 1598203256275,
     "user": {
      "displayName": "Md Rifatul Islam Rifat",
      "photoUrl": "",
      "userId": "17304548563437753137"
     },
     "user_tz": -360
    },
    "id": "yCOj6iUE3UJ_",
    "outputId": "d19ebac9-7390-469e-8261-d06309724d34"
   },
   "outputs": [
    {
     "name": "stdout",
     "output_type": "stream",
     "text": [
      "INFO:tensorflow:Using config: {'_model_dir': '/content/fine_tuned_model', '_tf_random_seed': None, '_save_summary_steps': 100, '_save_checkpoints_steps': 267, '_save_checkpoints_secs': None, '_session_config': allow_soft_placement: true\n",
      "graph_options {\n",
      "  rewrite_options {\n",
      "    meta_optimizer_iterations: ONE\n",
      "  }\n",
      "}\n",
      ", '_keep_checkpoint_max': 8, '_keep_checkpoint_every_n_hours': 10000, '_log_step_count_steps': 100, '_train_distribute': None, '_device_fn': None, '_protocol': None, '_eval_distribute': None, '_experimental_distribute': None, '_experimental_max_worker_delay_secs': None, '_session_creation_timeout_secs': 7200, '_service': None, '_cluster_spec': <tensorflow.python.training.server_lib.ClusterSpec object at 0x7f52a0cfac18>, '_task_type': 'worker', '_task_id': 0, '_global_id_in_cluster': 0, '_master': '', '_evaluation_master': '', '_is_chief': True, '_num_ps_replicas': 0, '_num_worker_replicas': 1}\n"
     ]
    }
   ],
   "source": [
    "model_fn = model_fn_builder(\n",
    "  num_labels=len(label_list),\n",
    "  learning_rate=LEARNING_RATE,\n",
    "  num_train_steps=num_train_steps,\n",
    "  num_warmup_steps=num_warmup_steps)\n",
    "\n",
    "estimator = tf.estimator.Estimator(\n",
    "  model_fn=model_fn,\n",
    "  config=run_config,\n",
    "  params={\"batch_size\": BATCH_SIZE})"
   ]
  },
  {
   "cell_type": "code",
   "execution_count": null,
   "metadata": {
    "colab": {},
    "colab_type": "code",
    "id": "zFUdLNdf3XuR"
   },
   "outputs": [],
   "source": [
    "# Create an input function for training. drop_remainder = True for using TPUs.\n",
    "train_input_fn = run_classifier.input_fn_builder(\n",
    "    features=train_features,\n",
    "    seq_length=MAX_SEQ_LENGTH,\n",
    "    is_training=True,\n",
    "    drop_remainder=False)"
   ]
  },
  {
   "cell_type": "markdown",
   "metadata": {},
   "source": [
    "### Training"
   ]
  },
  {
   "cell_type": "code",
   "execution_count": null,
   "metadata": {
    "colab": {
     "base_uri": "https://localhost:8080/",
     "height": 68
    },
    "colab_type": "code",
    "executionInfo": {
     "elapsed": 1615,
     "status": "ok",
     "timestamp": 1598203258124,
     "user": {
      "displayName": "Md Rifatul Islam Rifat",
      "photoUrl": "",
      "userId": "17304548563437753137"
     },
     "user_tz": -360
    },
    "id": "ZZh_FJMj3cWQ",
    "outputId": "fa425ee5-facc-4307-8840-90b3143d7ba7"
   },
   "outputs": [
    {
     "name": "stdout",
     "output_type": "stream",
     "text": [
      "Beginning Training!\n",
      "INFO:tensorflow:Skipping training since max_steps has already saved.\n",
      "Training took time  0:00:00.018864\n"
     ]
    }
   ],
   "source": [
    "print(f'Beginning Training!')\n",
    "current_time = datetime.now()\n",
    "estimator.train(input_fn=train_input_fn, max_steps=num_train_steps)\n",
    "print(\"Training took time \", datetime.now() - current_time)"
   ]
  },
  {
   "cell_type": "markdown",
   "metadata": {
    "colab_type": "text",
    "id": "RGUmqm0gyKhX"
   },
   "source": [
    "### Training Accuracy"
   ]
  },
  {
   "cell_type": "code",
   "execution_count": null,
   "metadata": {
    "colab": {},
    "colab_type": "code",
    "id": "i2llgaJ_m-Jv"
   },
   "outputs": [],
   "source": [
    "test_input_fn_with_train_data = run_classifier.input_fn_builder(\n",
    "    features=train_features,\n",
    "    seq_length=MAX_SEQ_LENGTH,\n",
    "    is_training=False,\n",
    "    drop_remainder=False)"
   ]
  },
  {
   "cell_type": "code",
   "execution_count": null,
   "metadata": {
    "colab": {
     "base_uri": "https://localhost:8080/",
     "height": 258
    },
    "colab_type": "code",
    "executionInfo": {
     "elapsed": 127759,
     "status": "ok",
     "timestamp": 1598204250183,
     "user": {
      "displayName": "Md Rifatul Islam Rifat",
      "photoUrl": "",
      "userId": "17304548563437753137"
     },
     "user_tz": -360
    },
    "id": "rUNRy-NNyHAp",
    "outputId": "6ad2ecbe-4c62-43db-bbdd-d5d2e30c454b"
   },
   "outputs": [
    {
     "name": "stdout",
     "output_type": "stream",
     "text": [
      "INFO:tensorflow:Calling model_fn.\n",
      "INFO:tensorflow:Saver not created because there are no variables in the graph to restore\n"
     ]
    },
    {
     "name": "stderr",
     "output_type": "stream",
     "text": [
      "/tensorflow-1.15.2/python3.6/tensorflow_core/python/framework/indexed_slices.py:424: UserWarning: Converting sparse IndexedSlices to a dense Tensor of unknown shape. This may consume a large amount of memory.\n",
      "  \"Converting sparse IndexedSlices to a dense Tensor of unknown shape. \"\n"
     ]
    },
    {
     "name": "stdout",
     "output_type": "stream",
     "text": [
      "INFO:tensorflow:Done calling model_fn.\n",
      "INFO:tensorflow:Starting evaluation at 2020-08-23T17:35:34Z\n",
      "INFO:tensorflow:Graph was finalized.\n",
      "INFO:tensorflow:Restoring parameters from content/fine_tuned_model/model.ckpt-536\n",
      "INFO:tensorflow:Running local_init_op.\n",
      "INFO:tensorflow:Done running local_init_op.\n",
      "INFO:tensorflow:Finished evaluation at 2020-08-23-17:37:28\n",
      "INFO:tensorflow:Saving dict for global step 536: eval_accuracy = 0.8328665, global_step = 536, loss = 0.40150547\n",
      "INFO:tensorflow:Saving 'checkpoint_path' summary for global step 536: content/fine_tuned_model/model.ckpt-536\n"
     ]
    }
   ],
   "source": [
    "train_result = []\n",
    "for i in [536]:\n",
    "    train_acc = estimator.evaluate(input_fn=test_input_fn_with_train_data, steps=None,\n",
    "                    checkpoint_path='content/fine_tuned_model/model.ckpt-' + str(i))\n",
    "    train_result.append(train_acc)"
   ]
  },
  {
   "cell_type": "markdown",
   "metadata": {
    "colab_type": "text",
    "id": "8bN7nwvB0RKb"
   },
   "source": [
    "### Validation accuracy"
   ]
  },
  {
   "cell_type": "code",
   "execution_count": null,
   "metadata": {
    "colab": {},
    "colab_type": "code",
    "id": "urYvw3ZC0CYS"
   },
   "outputs": [],
   "source": [
    "val_input_fn = run_classifier.input_fn_builder(\n",
    "    features=val_features,\n",
    "    seq_length=MAX_SEQ_LENGTH,\n",
    "    is_training=False,\n",
    "    drop_remainder=False)"
   ]
  },
  {
   "cell_type": "code",
   "execution_count": null,
   "metadata": {
    "colab": {
     "base_uri": "https://localhost:8080/",
     "height": 258
    },
    "colab_type": "code",
    "executionInfo": {
     "elapsed": 77276,
     "status": "ok",
     "timestamp": 1598204406520,
     "user": {
      "displayName": "Md Rifatul Islam Rifat",
      "photoUrl": "",
      "userId": "17304548563437753137"
     },
     "user_tz": -360
    },
    "id": "OjCuu_Vh0C-H",
    "outputId": "3d1b6d84-0867-47f1-8780-03a02f443521"
   },
   "outputs": [
    {
     "name": "stdout",
     "output_type": "stream",
     "text": [
      "INFO:tensorflow:Calling model_fn.\n",
      "INFO:tensorflow:Saver not created because there are no variables in the graph to restore\n"
     ]
    },
    {
     "name": "stderr",
     "output_type": "stream",
     "text": [
      "/tensorflow-1.15.2/python3.6/tensorflow_core/python/framework/indexed_slices.py:424: UserWarning: Converting sparse IndexedSlices to a dense Tensor of unknown shape. This may consume a large amount of memory.\n",
      "  \"Converting sparse IndexedSlices to a dense Tensor of unknown shape. \"\n"
     ]
    },
    {
     "name": "stdout",
     "output_type": "stream",
     "text": [
      "INFO:tensorflow:Done calling model_fn.\n",
      "INFO:tensorflow:Starting evaluation at 2020-08-23T17:38:58Z\n",
      "INFO:tensorflow:Graph was finalized.\n",
      "INFO:tensorflow:Restoring parameters from content/fine_tuned_model/model.ckpt-536\n",
      "INFO:tensorflow:Running local_init_op.\n",
      "INFO:tensorflow:Done running local_init_op.\n",
      "INFO:tensorflow:Finished evaluation at 2020-08-23-17:40:04\n",
      "INFO:tensorflow:Saving dict for global step 536: eval_accuracy = 0.82726425, global_step = 536, loss = 0.40080485\n",
      "INFO:tensorflow:Saving 'checkpoint_path' summary for global step 536: content/fine_tuned_model/model.ckpt-536\n"
     ]
    }
   ],
   "source": [
    "val_result = []\n",
    "for i in [536]:\n",
    "    val_acc = estimator.evaluate(input_fn=val_input_fn, steps=None, \n",
    "                                checkpoint_path='content/fine_tuned_model/model.ckpt-' + str(i))\n",
    "    val_result.append(val_acc)"
   ]
  },
  {
   "cell_type": "code",
   "execution_count": null,
   "metadata": {
    "colab": {
     "base_uri": "https://localhost:8080/",
     "height": 80
    },
    "colab_type": "code",
    "executionInfo": {
     "elapsed": 1181,
     "status": "ok",
     "timestamp": 1598204428540,
     "user": {
      "displayName": "Md Rifatul Islam Rifat",
      "photoUrl": "",
      "userId": "17304548563437753137"
     },
     "user_tz": -360
    },
    "id": "ckHkIbZz0e36",
    "outputId": "18c62aa2-f606-4d73-bcc5-2221ccd6b585"
   },
   "outputs": [
    {
     "data": {
      "text/html": [
       "<div>\n",
       "<style scoped>\n",
       "    .dataframe tbody tr th:only-of-type {\n",
       "        vertical-align: middle;\n",
       "    }\n",
       "\n",
       "    .dataframe tbody tr th {\n",
       "        vertical-align: top;\n",
       "    }\n",
       "\n",
       "    .dataframe thead th {\n",
       "        text-align: right;\n",
       "    }\n",
       "</style>\n",
       "<table border=\"1\" class=\"dataframe\">\n",
       "  <thead>\n",
       "    <tr style=\"text-align: right;\">\n",
       "      <th></th>\n",
       "      <th>Train</th>\n",
       "      <th>Validation</th>\n",
       "    </tr>\n",
       "  </thead>\n",
       "  <tbody>\n",
       "    <tr>\n",
       "      <th>0</th>\n",
       "      <td>0.832866</td>\n",
       "      <td>0.827264</td>\n",
       "    </tr>\n",
       "  </tbody>\n",
       "</table>\n",
       "</div>"
      ],
      "text/plain": [
       "      Train  Validation\n",
       "0  0.832866    0.827264"
      ]
     },
     "execution_count": 70,
     "metadata": {
      "tags": []
     },
     "output_type": "execute_result"
    }
   ],
   "source": [
    "pd.DataFrame({\"Train\": [i['eval_accuracy'] for i in train_result], \"Validation\": [i['eval_accuracy'] for i in val_result]})"
   ]
  },
  {
   "cell_type": "markdown",
   "metadata": {
    "colab_type": "text",
    "id": "d7wT8jK62isS"
   },
   "source": [
    "### Test Accuracy"
   ]
  },
  {
   "cell_type": "code",
   "execution_count": null,
   "metadata": {
    "colab": {},
    "colab_type": "code",
    "id": "2_mLq24tV_Bv"
   },
   "outputs": [],
   "source": [
    "# Load Test Data\n",
    "data_test = pd.read_excel(\"/content/sentiment_analysis_test_data.xlsx\")"
   ]
  },
  {
   "cell_type": "code",
   "execution_count": null,
   "metadata": {
    "colab": {},
    "colab_type": "code",
    "id": "JwLDK3hZ5bdw"
   },
   "outputs": [],
   "source": [
    "data_test['X_test'] = data_test['X_test'].apply(lambda x: ' '.join(re.sub(r'[០១២៣៤៥៦៧៨៩។៕៖ៗ៘៙៚]+', ' ', x).strip().split()))"
   ]
  },
  {
   "cell_type": "code",
   "execution_count": null,
   "metadata": {
    "colab": {
     "base_uri": "https://localhost:8080/",
     "height": 204
    },
    "colab_type": "code",
    "executionInfo": {
     "elapsed": 1224,
     "status": "ok",
     "timestamp": 1598205167332,
     "user": {
      "displayName": "Md Rifatul Islam Rifat",
      "photoUrl": "",
      "userId": "17304548563437753137"
     },
     "user_tz": -360
    },
    "id": "01D7ddQ0V_5U",
    "outputId": "1af38775-9211-42b3-b418-d918d1d5b627"
   },
   "outputs": [
    {
     "data": {
      "text/html": [
       "<div>\n",
       "<style scoped>\n",
       "    .dataframe tbody tr th:only-of-type {\n",
       "        vertical-align: middle;\n",
       "    }\n",
       "\n",
       "    .dataframe tbody tr th {\n",
       "        vertical-align: top;\n",
       "    }\n",
       "\n",
       "    .dataframe thead th {\n",
       "        text-align: right;\n",
       "    }\n",
       "</style>\n",
       "<table border=\"1\" class=\"dataframe\">\n",
       "  <thead>\n",
       "    <tr style=\"text-align: right;\">\n",
       "      <th></th>\n",
       "      <th>texts</th>\n",
       "      <th>X_test</th>\n",
       "      <th>y_test</th>\n",
       "    </tr>\n",
       "  </thead>\n",
       "  <tbody>\n",
       "    <tr>\n",
       "      <th>0</th>\n",
       "      <td>ខ្ញុំត្រូវចាកចេញពីការងារ នឹងមិនអាចទៅរួចទេ។ ដូច...</td>\n",
       "      <td>ខ្ញុំ ត្រូវ ចាក ចេញ ពី ការងារ នឹង មិន អាច ទៅ រ...</td>\n",
       "      <td>0</td>\n",
       "    </tr>\n",
       "    <tr>\n",
       "      <th>1</th>\n",
       "      <td>សួស្តី។ យើងកំពុងហោះហើរ SWA ថ្ងៃនេះ។ កូនប្រុសរប...</td>\n",
       "      <td>សួស្តី យើង កំពុង ហោះ ហើរ ថ្ងៃ នេះ កូន ប្រុស រប...</td>\n",
       "      <td>0</td>\n",
       "    </tr>\n",
       "    <tr>\n",
       "      <th>2</th>\n",
       "      <td>សម្លៀកបំពាក់នេះមើលទៅហើយមានអារម្មណ៍ថាថោក។ សម្ភា...</td>\n",
       "      <td>សម្លៀកបំពាក់ នេះ មើល ទៅ ហើយ មាន អារម្មណ៍ ថា ថោ...</td>\n",
       "      <td>0</td>\n",
       "    </tr>\n",
       "    <tr>\n",
       "      <th>3</th>\n",
       "      <td>ធំពេកហើយវាមិនមានសុវត្ថិភាពគ្រប់គ្រាន់ពាក់សម្រា...</td>\n",
       "      <td>ធំ ពេក ហើយ វា មិន មាន សុវត្ថិ ភាព គ្រប់ គ្រាន់...</td>\n",
       "      <td>0</td>\n",
       "    </tr>\n",
       "    <tr>\n",
       "      <th>4</th>\n",
       "      <td>តើអ្នកដឹងទេនៅពេលផ្លូវថ្មីពី HOU ទៅ Aruba &amp;amp ...</td>\n",
       "      <td>តើ អ្នក ដឹង ទេ នៅ ពេល ផ្លូវ ថ្មី ពី ទៅ នឹង អាច...</td>\n",
       "      <td>0</td>\n",
       "    </tr>\n",
       "  </tbody>\n",
       "</table>\n",
       "</div>"
      ],
      "text/plain": [
       "                                               texts  ... y_test\n",
       "0  ខ្ញុំត្រូវចាកចេញពីការងារ នឹងមិនអាចទៅរួចទេ។ ដូច...  ...      0\n",
       "1  សួស្តី។ យើងកំពុងហោះហើរ SWA ថ្ងៃនេះ។ កូនប្រុសរប...  ...      0\n",
       "2  សម្លៀកបំពាក់នេះមើលទៅហើយមានអារម្មណ៍ថាថោក។ សម្ភា...  ...      0\n",
       "3  ធំពេកហើយវាមិនមានសុវត្ថិភាពគ្រប់គ្រាន់ពាក់សម្រា...  ...      0\n",
       "4  តើអ្នកដឹងទេនៅពេលផ្លូវថ្មីពី HOU ទៅ Aruba &amp ...  ...      0\n",
       "\n",
       "[5 rows x 3 columns]"
      ]
     },
     "execution_count": 76,
     "metadata": {
      "tags": []
     },
     "output_type": "execute_result"
    }
   ],
   "source": [
    "data_test.head()"
   ]
  },
  {
   "cell_type": "code",
   "execution_count": null,
   "metadata": {
    "colab": {
     "base_uri": "https://localhost:8080/",
     "height": 68
    },
    "colab_type": "code",
    "executionInfo": {
     "elapsed": 1222,
     "status": "ok",
     "timestamp": 1598205169540,
     "user": {
      "displayName": "Md Rifatul Islam Rifat",
      "photoUrl": "",
      "userId": "17304548563437753137"
     },
     "user_tz": -360
    },
    "id": "SQlvv4chWIqE",
    "outputId": "0d9a4bce-d8af-4754-f2ff-c30777822f41"
   },
   "outputs": [
    {
     "data": {
      "text/plain": [
       "0    209\n",
       "1    191\n",
       "Name: y_test, dtype: int64"
      ]
     },
     "execution_count": 77,
     "metadata": {
      "tags": []
     },
     "output_type": "execute_result"
    }
   ],
   "source": [
    "data_test.y_test.value_counts()"
   ]
  },
  {
   "cell_type": "code",
   "execution_count": null,
   "metadata": {
    "colab": {},
    "colab_type": "code",
    "id": "8dwqCjrHWTb2"
   },
   "outputs": [],
   "source": [
    "X_test, y_test = data_test.X_test, data_test.y_test"
   ]
  },
  {
   "cell_type": "markdown",
   "metadata": {
    "colab": {},
    "colab_type": "code",
    "id": "St_7z1u_5bXx"
   },
   "source": [
    "#### Prediction"
   ]
  },
  {
   "cell_type": "code",
   "execution_count": null,
   "metadata": {
    "colab": {
     "base_uri": "https://localhost:8080/",
     "height": 802
    },
    "colab_type": "code",
    "executionInfo": {
     "elapsed": 9637,
     "status": "ok",
     "timestamp": 1598205190639,
     "user": {
      "displayName": "Md Rifatul Islam Rifat",
      "photoUrl": "",
      "userId": "17304548563437753137"
     },
     "user_tz": -360
    },
    "id": "Y-queen-2l91",
    "outputId": "17a077ee-b319-43e8-b527-08cb38766225"
   },
   "outputs": [
    {
     "name": "stdout",
     "output_type": "stream",
     "text": [
      "INFO:tensorflow:Writing example 0 of 400\n",
      "INFO:tensorflow:*** Example ***\n",
      "INFO:tensorflow:guid: \n",
      "INFO:tensorflow:tokens: [CLS] ខ្ញុំ ត្រូវ ចាក ចេញ ពី ការងារ នឹង មិន អាច ទៅ រួច ទេ ដូច្នេះ ខ្ញុំ ចង់ ជំនួស កន្លែង នេះ ឥឡូវ នេះ [SEP]\n",
      "INFO:tensorflow:input_ids: 0 7554 74058 97588 18862 29168 155316 6654 85425 13977 127642 154738 23478 48554 7554 57123 13475 22750 28801 52480 28801 1 0 0 0 0 0 0 0 0 0 0 0 0 0 0 0 0 0 0 0 0 0 0 0 0 0 0 0 0 0 0 0 0 0 0 0 0 0 0 0 0 0 0 0 0 0 0 0 0 0 0 0 0 0 0 0 0 0 0 0 0 0 0 0 0 0 0 0 0 0 0 0 0 0 0 0 0 0 0 0 0 0 0 0 0 0 0 0 0 0 0 0 0 0 0 0 0 0 0 0 0 0 0 0 0 0 0\n",
      "INFO:tensorflow:input_mask: 1 1 1 1 1 1 1 1 1 1 1 1 1 1 1 1 1 1 1 1 1 1 0 0 0 0 0 0 0 0 0 0 0 0 0 0 0 0 0 0 0 0 0 0 0 0 0 0 0 0 0 0 0 0 0 0 0 0 0 0 0 0 0 0 0 0 0 0 0 0 0 0 0 0 0 0 0 0 0 0 0 0 0 0 0 0 0 0 0 0 0 0 0 0 0 0 0 0 0 0 0 0 0 0 0 0 0 0 0 0 0 0 0 0 0 0 0 0 0 0 0 0 0 0 0 0 0 0\n",
      "INFO:tensorflow:segment_ids: 0 0 0 0 0 0 0 0 0 0 0 0 0 0 0 0 0 0 0 0 0 0 0 0 0 0 0 0 0 0 0 0 0 0 0 0 0 0 0 0 0 0 0 0 0 0 0 0 0 0 0 0 0 0 0 0 0 0 0 0 0 0 0 0 0 0 0 0 0 0 0 0 0 0 0 0 0 0 0 0 0 0 0 0 0 0 0 0 0 0 0 0 0 0 0 0 0 0 0 0 0 0 0 0 0 0 0 0 0 0 0 0 0 0 0 0 0 0 0 0 0 0 0 0 0 0 0 0\n",
      "INFO:tensorflow:label: 0 (id = 0)\n",
      "INFO:tensorflow:*** Example ***\n",
      "INFO:tensorflow:guid: \n",
      "INFO:tensorflow:tokens: [CLS] សួស្តី យើង កំពុង ហោះ ហើរ ថ្ងៃ នេះ កូន ប្រុស របស់ យើង មាន ប្រតិ កម្ម អាឡែហ្ស៊ី សណ្តែក ដី តើ មាន វិធី ណា មួយ ដើម្បី ស្នើ សុំ ឱ្យ នាវិក មិន ផ្តល់ សណ្តែក ដី នៅ ពេល ហោះ ហើរ អរគុណ [SEP]\n",
      "INFO:tensorflow:input_ids: 0 39164 24685 27945 1146 10718 133503 28801 143455 166971 97489 24685 2113 142275 84262 117424 47097 95347 55908 2113 5319 81634 32244 76008 54426 126154 114197 5999 85425 22412 47097 95347 129027 109932 1146 10718 132592 1 0 0 0 0 0 0 0 0 0 0 0 0 0 0 0 0 0 0 0 0 0 0 0 0 0 0 0 0 0 0 0 0 0 0 0 0 0 0 0 0 0 0 0 0 0 0 0 0 0 0 0 0 0 0 0 0 0 0 0 0 0 0 0 0 0 0 0 0 0 0 0 0 0 0 0 0 0 0 0 0 0 0 0 0 0 0 0 0 0 0\n",
      "INFO:tensorflow:input_mask: 1 1 1 1 1 1 1 1 1 1 1 1 1 1 1 1 1 1 1 1 1 1 1 1 1 1 1 1 1 1 1 1 1 1 1 1 1 1 0 0 0 0 0 0 0 0 0 0 0 0 0 0 0 0 0 0 0 0 0 0 0 0 0 0 0 0 0 0 0 0 0 0 0 0 0 0 0 0 0 0 0 0 0 0 0 0 0 0 0 0 0 0 0 0 0 0 0 0 0 0 0 0 0 0 0 0 0 0 0 0 0 0 0 0 0 0 0 0 0 0 0 0 0 0 0 0 0 0\n",
      "INFO:tensorflow:segment_ids: 0 0 0 0 0 0 0 0 0 0 0 0 0 0 0 0 0 0 0 0 0 0 0 0 0 0 0 0 0 0 0 0 0 0 0 0 0 0 0 0 0 0 0 0 0 0 0 0 0 0 0 0 0 0 0 0 0 0 0 0 0 0 0 0 0 0 0 0 0 0 0 0 0 0 0 0 0 0 0 0 0 0 0 0 0 0 0 0 0 0 0 0 0 0 0 0 0 0 0 0 0 0 0 0 0 0 0 0 0 0 0 0 0 0 0 0 0 0 0 0 0 0 0 0 0 0 0 0\n",
      "INFO:tensorflow:label: 0 (id = 0)\n",
      "INFO:tensorflow:*** Example ***\n",
      "INFO:tensorflow:guid: \n",
      "INFO:tensorflow:tokens: [CLS] សម្លៀកបំពាក់ នេះ មើល ទៅ ហើយ មាន អារម្មណ៍ ថា ថោក សម្ភារៈ ពណ៌ ស គឺ រឹង ហើយ មិន មាន ជាតិ ដែក ត្រឹមត្រូវ អាវ យឺត ពណ៌ ប្រផេះ គឺ ស្តើង ហើយ មើល ទៅ ថោក ណាស់ ជា រួម រ៉ូប អាក្រក់ គួរ ឱ្យ ខ្លាច គួរ សន្សំ លុយ របស់ អ្នក ប្រសើរ ជាង [SEP]\n",
      "INFO:tensorflow:input_ids: 0 106994 28801 8414 127642 130476 2113 76225 57158 2548 129916 11333 146373 125739 7855 130476 85425 2113 4681 69267 142654 27163 42200 11333 156598 125739 116623 130476 8414 127642 2548 85691 16100 121598 25617 94378 86831 114197 7965 86831 24182 150022 97489 38340 111337 109615 1 0 0 0 0 0 0 0 0 0 0 0 0 0 0 0 0 0 0 0 0 0 0 0 0 0 0 0 0 0 0 0 0 0 0 0 0 0 0 0 0 0 0 0 0 0 0 0 0 0 0 0 0 0 0 0 0 0 0 0 0 0 0 0 0 0 0 0 0 0 0 0 0 0 0 0 0 0 0 0 0 0\n",
      "INFO:tensorflow:input_mask: 1 1 1 1 1 1 1 1 1 1 1 1 1 1 1 1 1 1 1 1 1 1 1 1 1 1 1 1 1 1 1 1 1 1 1 1 1 1 1 1 1 1 1 1 1 1 1 0 0 0 0 0 0 0 0 0 0 0 0 0 0 0 0 0 0 0 0 0 0 0 0 0 0 0 0 0 0 0 0 0 0 0 0 0 0 0 0 0 0 0 0 0 0 0 0 0 0 0 0 0 0 0 0 0 0 0 0 0 0 0 0 0 0 0 0 0 0 0 0 0 0 0 0 0 0 0 0 0\n",
      "INFO:tensorflow:segment_ids: 0 0 0 0 0 0 0 0 0 0 0 0 0 0 0 0 0 0 0 0 0 0 0 0 0 0 0 0 0 0 0 0 0 0 0 0 0 0 0 0 0 0 0 0 0 0 0 0 0 0 0 0 0 0 0 0 0 0 0 0 0 0 0 0 0 0 0 0 0 0 0 0 0 0 0 0 0 0 0 0 0 0 0 0 0 0 0 0 0 0 0 0 0 0 0 0 0 0 0 0 0 0 0 0 0 0 0 0 0 0 0 0 0 0 0 0 0 0 0 0 0 0 0 0 0 0 0 0\n",
      "INFO:tensorflow:label: 0 (id = 0)\n",
      "INFO:tensorflow:*** Example ***\n",
      "INFO:tensorflow:guid: \n",
      "INFO:tensorflow:tokens: [CLS] ធំ ពេក ហើយ វា មិន មាន សុវត្ថិ ភាព គ្រប់ គ្រាន់ ពាក់ សម្រាប់ ហែល ទឹក [SEP]\n",
      "INFO:tensorflow:input_ids: 0 74914 66510 130476 135432 85425 2113 161323 163655 116017 34638 80304 26142 100094 39247 1 0 0 0 0 0 0 0 0 0 0 0 0 0 0 0 0 0 0 0 0 0 0 0 0 0 0 0 0 0 0 0 0 0 0 0 0 0 0 0 0 0 0 0 0 0 0 0 0 0 0 0 0 0 0 0 0 0 0 0 0 0 0 0 0 0 0 0 0 0 0 0 0 0 0 0 0 0 0 0 0 0 0 0 0 0 0 0 0 0 0 0 0 0 0 0 0 0 0 0 0 0 0 0 0 0 0 0 0 0 0 0 0\n",
      "INFO:tensorflow:input_mask: 1 1 1 1 1 1 1 1 1 1 1 1 1 1 1 1 0 0 0 0 0 0 0 0 0 0 0 0 0 0 0 0 0 0 0 0 0 0 0 0 0 0 0 0 0 0 0 0 0 0 0 0 0 0 0 0 0 0 0 0 0 0 0 0 0 0 0 0 0 0 0 0 0 0 0 0 0 0 0 0 0 0 0 0 0 0 0 0 0 0 0 0 0 0 0 0 0 0 0 0 0 0 0 0 0 0 0 0 0 0 0 0 0 0 0 0 0 0 0 0 0 0 0 0 0 0 0 0\n",
      "INFO:tensorflow:segment_ids: 0 0 0 0 0 0 0 0 0 0 0 0 0 0 0 0 0 0 0 0 0 0 0 0 0 0 0 0 0 0 0 0 0 0 0 0 0 0 0 0 0 0 0 0 0 0 0 0 0 0 0 0 0 0 0 0 0 0 0 0 0 0 0 0 0 0 0 0 0 0 0 0 0 0 0 0 0 0 0 0 0 0 0 0 0 0 0 0 0 0 0 0 0 0 0 0 0 0 0 0 0 0 0 0 0 0 0 0 0 0 0 0 0 0 0 0 0 0 0 0 0 0 0 0 0 0 0 0\n",
      "INFO:tensorflow:label: 0 (id = 0)\n",
      "INFO:tensorflow:*** Example ***\n",
      "INFO:tensorflow:guid: \n",
      "INFO:tensorflow:tokens: [CLS] តើ អ្នក ដឹង ទេ នៅ ពេល ផ្លូវ ថ្មី ពី ទៅ នឹង អាច ប្រើ បាន ទេ [SEP]\n",
      "INFO:tensorflow:input_ids: 0 55908 38340 18227 23478 129027 109932 95926 54469 29168 127642 6654 13977 145762 128962 23478 1 0 0 0 0 0 0 0 0 0 0 0 0 0 0 0 0 0 0 0 0 0 0 0 0 0 0 0 0 0 0 0 0 0 0 0 0 0 0 0 0 0 0 0 0 0 0 0 0 0 0 0 0 0 0 0 0 0 0 0 0 0 0 0 0 0 0 0 0 0 0 0 0 0 0 0 0 0 0 0 0 0 0 0 0 0 0 0 0 0 0 0 0 0 0 0 0 0 0 0 0 0 0 0 0 0 0 0 0 0 0 0\n",
      "INFO:tensorflow:input_mask: 1 1 1 1 1 1 1 1 1 1 1 1 1 1 1 1 1 0 0 0 0 0 0 0 0 0 0 0 0 0 0 0 0 0 0 0 0 0 0 0 0 0 0 0 0 0 0 0 0 0 0 0 0 0 0 0 0 0 0 0 0 0 0 0 0 0 0 0 0 0 0 0 0 0 0 0 0 0 0 0 0 0 0 0 0 0 0 0 0 0 0 0 0 0 0 0 0 0 0 0 0 0 0 0 0 0 0 0 0 0 0 0 0 0 0 0 0 0 0 0 0 0 0 0 0 0 0 0\n",
      "INFO:tensorflow:segment_ids: 0 0 0 0 0 0 0 0 0 0 0 0 0 0 0 0 0 0 0 0 0 0 0 0 0 0 0 0 0 0 0 0 0 0 0 0 0 0 0 0 0 0 0 0 0 0 0 0 0 0 0 0 0 0 0 0 0 0 0 0 0 0 0 0 0 0 0 0 0 0 0 0 0 0 0 0 0 0 0 0 0 0 0 0 0 0 0 0 0 0 0 0 0 0 0 0 0 0 0 0 0 0 0 0 0 0 0 0 0 0 0 0 0 0 0 0 0 0 0 0 0 0 0 0 0 0 0 0\n",
      "INFO:tensorflow:label: 0 (id = 0)\n",
      "INFO:tensorflow:Calling model_fn.\n",
      "INFO:tensorflow:Saver not created because there are no variables in the graph to restore\n",
      "INFO:tensorflow:Done calling model_fn.\n",
      "INFO:tensorflow:Graph was finalized.\n",
      "INFO:tensorflow:Restoring parameters from content/fine_tuned_model/model.ckpt-536\n",
      "INFO:tensorflow:Running local_init_op.\n",
      "INFO:tensorflow:Done running local_init_op.\n",
      "CPU times: user 4.92 s, sys: 468 ms, total: 5.39 s\n",
      "Wall time: 8.44 s\n"
     ]
    }
   ],
   "source": [
    "%%time\n",
    "from sklearn.metrics import accuracy_score\n",
    "\n",
    "y_actual = y_test.tolist()\n",
    "\n",
    "\n",
    "labels = [0, 1]\n",
    "pred_sentences = X_test.to_list()\n",
    "input_examples = [run_classifier.InputExample(guid=\"\", text_a = x, text_b = None, label = 0) for x in pred_sentences]\n",
    "input_features = run_classifier.convert_examples_to_features(input_examples, label_list, MAX_SEQ_LENGTH, tokenizer)\n",
    "predict_input_fn = run_classifier.input_fn_builder(features=input_features, seq_length=MAX_SEQ_LENGTH, is_training=False, drop_remainder=False)\n",
    "\n",
    "test_result = []\n",
    "predictions = estimator.predict(predict_input_fn, \n",
    "                                checkpoint_path='content/fine_tuned_model/model.ckpt-536')\n",
    "predictions = [(sentence, prediction['probabilities'], labels[prediction['labels']]) for sentence, prediction in zip(pred_sentences, predictions)]\n",
    "y_pred = [i[2] for i in predictions]\n",
    "test_result.append(accuracy_score(y_actual, y_pred))"
   ]
  },
  {
   "cell_type": "markdown",
   "metadata": {},
   "source": [
    "### Result Analysis"
   ]
  },
  {
   "cell_type": "code",
   "execution_count": null,
   "metadata": {
    "colab": {
     "base_uri": "https://localhost:8080/",
     "height": 80
    },
    "colab_type": "code",
    "executionInfo": {
     "elapsed": 1278,
     "status": "ok",
     "timestamp": 1598205195181,
     "user": {
      "displayName": "Md Rifatul Islam Rifat",
      "photoUrl": "",
      "userId": "17304548563437753137"
     },
     "user_tz": -360
    },
    "id": "JMrabRnO7EO_",
    "outputId": "3eb10196-ac8e-4fc8-cff5-32d074b05e9f"
   },
   "outputs": [
    {
     "data": {
      "text/html": [
       "<div>\n",
       "<style scoped>\n",
       "    .dataframe tbody tr th:only-of-type {\n",
       "        vertical-align: middle;\n",
       "    }\n",
       "\n",
       "    .dataframe tbody tr th {\n",
       "        vertical-align: top;\n",
       "    }\n",
       "\n",
       "    .dataframe thead th {\n",
       "        text-align: right;\n",
       "    }\n",
       "</style>\n",
       "<table border=\"1\" class=\"dataframe\">\n",
       "  <thead>\n",
       "    <tr style=\"text-align: right;\">\n",
       "      <th></th>\n",
       "      <th>Train</th>\n",
       "      <th>Validation</th>\n",
       "      <th>test</th>\n",
       "    </tr>\n",
       "  </thead>\n",
       "  <tbody>\n",
       "    <tr>\n",
       "      <th>0</th>\n",
       "      <td>0.832866</td>\n",
       "      <td>0.827264</td>\n",
       "      <td>0.81</td>\n",
       "    </tr>\n",
       "  </tbody>\n",
       "</table>\n",
       "</div>"
      ],
      "text/plain": [
       "      Train  Validation  test\n",
       "0  0.832866    0.827264  0.81"
      ]
     },
     "execution_count": 81,
     "metadata": {
      "tags": []
     },
     "output_type": "execute_result"
    }
   ],
   "source": [
    "pd.DataFrame({\"Train\": [i['eval_accuracy'] for i in train_result],\n",
    "              \"Validation\": [i['eval_accuracy'] for i in val_result],\n",
    "              \"test\": test_result[0]})"
   ]
  },
  {
   "cell_type": "code",
   "execution_count": null,
   "metadata": {
    "colab": {},
    "colab_type": "code",
    "id": "s7SoWzcgdVLw"
   },
   "outputs": [],
   "source": [
    "from sklearn.metrics import accuracy_score\n",
    "from sklearn.metrics import confusion_matrix\n",
    "from sklearn.metrics import classification_report"
   ]
  },
  {
   "cell_type": "code",
   "execution_count": null,
   "metadata": {
    "colab": {
     "base_uri": "https://localhost:8080/",
     "height": 82
    },
    "colab_type": "code",
    "executionInfo": {
     "elapsed": 1221,
     "status": "ok",
     "timestamp": 1598205363616,
     "user": {
      "displayName": "Md Rifatul Islam Rifat",
      "photoUrl": "",
      "userId": "17304548563437753137"
     },
     "user_tz": -360
    },
    "id": "5_z-JoctdaSo",
    "outputId": "78e80f25-83a0-4890-dddd-bee3a6600493"
   },
   "outputs": [
    {
     "data": {
      "text/html": [
       "<style  type=\"text/css\" >\n",
       "    #T_e874bdfe_e569_11ea_b1d6_0242ac1c0002row0_col0 {\n",
       "            background-color:  skyblue;\n",
       "            color:  black;\n",
       "        }    #T_e874bdfe_e569_11ea_b1d6_0242ac1c0002row0_col1 {\n",
       "            background-color:  skyblue;\n",
       "            color:  black;\n",
       "        }    #T_e874bdfe_e569_11ea_b1d6_0242ac1c0002row1_col0 {\n",
       "            background-color:  skyblue;\n",
       "            color:  black;\n",
       "        }    #T_e874bdfe_e569_11ea_b1d6_0242ac1c0002row1_col1 {\n",
       "            background-color:  skyblue;\n",
       "            color:  black;\n",
       "        }</style><table id=\"T_e874bdfe_e569_11ea_b1d6_0242ac1c0002\" ><thead>    <tr>        <th class=\"blank level0\" ></th>        <th class=\"col_heading level0 col0\" >Negative</th>        <th class=\"col_heading level0 col1\" >Positive</th>    </tr></thead><tbody>\n",
       "                <tr>\n",
       "                        <th id=\"T_e874bdfe_e569_11ea_b1d6_0242ac1c0002level0_row0\" class=\"row_heading level0 row0\" >Negative</th>\n",
       "                        <td id=\"T_e874bdfe_e569_11ea_b1d6_0242ac1c0002row0_col0\" class=\"data row0 col0\" >160</td>\n",
       "                        <td id=\"T_e874bdfe_e569_11ea_b1d6_0242ac1c0002row0_col1\" class=\"data row0 col1\" >49</td>\n",
       "            </tr>\n",
       "            <tr>\n",
       "                        <th id=\"T_e874bdfe_e569_11ea_b1d6_0242ac1c0002level0_row1\" class=\"row_heading level0 row1\" >Positive</th>\n",
       "                        <td id=\"T_e874bdfe_e569_11ea_b1d6_0242ac1c0002row1_col0\" class=\"data row1 col0\" >27</td>\n",
       "                        <td id=\"T_e874bdfe_e569_11ea_b1d6_0242ac1c0002row1_col1\" class=\"data row1 col1\" >164</td>\n",
       "            </tr>\n",
       "    </tbody></table>"
      ],
      "text/plain": [
       "<pandas.io.formats.style.Styler at 0x7f5185fb9400>"
      ]
     },
     "execution_count": 85,
     "metadata": {
      "tags": []
     },
     "output_type": "execute_result"
    }
   ],
   "source": [
    "## generate confusion matrix\n",
    "cm = confusion_matrix(y_test, y_pred)\n",
    "p = pd.DataFrame(cm, \n",
    "                 index = ['Negative', 'Positive'],\n",
    "                 columns = ['Negative', 'Positive'])\n",
    "p.style.set_properties(**{'background-color': 'skyblue', \n",
    "                          'color': 'black'})"
   ]
  },
  {
   "cell_type": "code",
   "execution_count": null,
   "metadata": {
    "colab": {
     "base_uri": "https://localhost:8080/",
     "height": 192
    },
    "colab_type": "code",
    "executionInfo": {
     "elapsed": 1625,
     "status": "ok",
     "timestamp": 1598205822558,
     "user": {
      "displayName": "Md Rifatul Islam Rifat",
      "photoUrl": "",
      "userId": "17304548563437753137"
     },
     "user_tz": -360
    },
    "id": "FD5yEcxydwq-",
    "outputId": "deb6ac24-6403-4464-c3a2-43dde0d0c5a6"
   },
   "outputs": [
    {
     "data": {
      "image/png": "[encoded data removed]",
      "text/plain": [
       "<Figure size 288x144 with 2 Axes>"
      ]
     },
     "metadata": {
      "tags": []
     },
     "output_type": "display_data"
    }
   ],
   "source": [
    "## Confusion Matrix in Heatmap\n",
    "import matplotlib.pyplot as plt\n",
    "import seaborn as sns\n",
    "plt.figure(figsize=(4, 2))\n",
    "sns.set()\n",
    "f = sns.heatmap(p, annot=True, fmt=\"d\")\n",
    "plt.title(\"Confusion Matrix\", fontdict={'fontsize': 12})\n",
    "plt.xlabel(\"Predicted\")\n",
    "plt.ylabel(\"Actual\")\n",
    "plt.show()\n",
    "\n",
    "# f.get_figure().savefig(\"sentiment_confusion_matrix_fine_tune.jpg\", dpi=300, bbox_inches='tight')"
   ]
  },
  {
   "cell_type": "code",
   "execution_count": null,
   "metadata": {
    "colab": {
     "base_uri": "https://localhost:8080/",
     "height": 170
    },
    "colab_type": "code",
    "executionInfo": {
     "elapsed": 1130,
     "status": "ok",
     "timestamp": 1598205902258,
     "user": {
      "displayName": "Md Rifatul Islam Rifat",
      "photoUrl": "",
      "userId": "17304548563437753137"
     },
     "user_tz": -360
    },
    "id": "vBXoZ06IfebM",
    "outputId": "711c12f4-434f-4ff9-ed71-342f29671620"
   },
   "outputs": [
    {
     "name": "stdout",
     "output_type": "stream",
     "text": [
      "              precision    recall  f1-score   support\n",
      "\n",
      "    Negative       0.86      0.77      0.81       209\n",
      "    Positive       0.77      0.86      0.81       191\n",
      "\n",
      "    accuracy                           0.81       400\n",
      "   macro avg       0.81      0.81      0.81       400\n",
      "weighted avg       0.81      0.81      0.81       400\n",
      "\n"
     ]
    }
   ],
   "source": [
    "## Classification Report\n",
    "target_names = ['Negative', 'Positive']\n",
    "print(classification_report(y_test, y_pred, target_names = target_names))"
   ]
  },
  {
   "cell_type": "code",
   "execution_count": null,
   "metadata": {
    "colab": {},
    "colab_type": "code",
    "id": "8v3b11wDfeTx"
   },
   "outputs": [],
   "source": []
  }
 ],
 "metadata": {
  "accelerator": "GPU",
  "colab": {
   "authorship_tag": "ABX9TyPAh22PxEkeSo3MaBjWblI4",
   "collapsed_sections": [],
   "name": "Sentiment_analysis_BERT_fine-tuning.ipynb",
   "provenance": []
  },
  "kernelspec": {
   "display_name": "Python 3",
   "language": "python",
   "name": "python3"
  },
  "language_info": {
   "codemirror_mode": {
    "name": "ipython",
    "version": 3
   },
   "file_extension": ".py",
   "mimetype": "text/x-python",
   "name": "python",
   "nbconvert_exporter": "python",
   "pygments_lexer": "ipython3",
   "version": "3.7.4"
  }
 },
 "nbformat": 4,
 "nbformat_minor": 1
}
