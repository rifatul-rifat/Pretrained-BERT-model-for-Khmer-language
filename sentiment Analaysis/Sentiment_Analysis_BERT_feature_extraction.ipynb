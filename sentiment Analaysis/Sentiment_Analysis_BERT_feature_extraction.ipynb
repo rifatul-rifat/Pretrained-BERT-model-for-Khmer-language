{
 "cells": [
  {
   "cell_type": "markdown",
   "metadata": {},
   "source": [
    "---"
   ]
  },
  {
   "cell_type": "markdown",
   "metadata": {
    "colab_type": "text",
    "id": "aDkTa617hX4w"
   },
   "source": [
    "## Khmer Sentiment Analysis with BERT Feature Extraction Based Approach\n",
    "---"
   ]
  },
  {
   "cell_type": "code",
   "execution_count": null,
   "metadata": {
    "colab": {
     "base_uri": "https://localhost:8080/",
     "height": 34
    },
    "colab_type": "code",
    "executionInfo": {
     "elapsed": 1421,
     "status": "ok",
     "timestamp": 1598200239596,
     "user": {
      "displayName": "Md Rifatul Islam Rifat",
      "photoUrl": "",
      "userId": "17304548563437753137"
     },
     "user_tz": -360
    },
    "id": "ObHnHtoigqA8",
    "outputId": "d4e52116-4a74-45c9-9c99-c8540913fbca"
   },
   "outputs": [
    {
     "name": "stdout",
     "output_type": "stream",
     "text": [
      "TensorFlow 1.x selected.\n"
     ]
    }
   ],
   "source": [
    "%tensorflow_version 1.x"
   ]
  },
  {
   "cell_type": "code",
   "execution_count": null,
   "metadata": {
    "colab": {
     "base_uri": "https://localhost:8080/",
     "height": 122
    },
    "colab_type": "code",
    "executionInfo": {
     "elapsed": 25205,
     "status": "ok",
     "timestamp": 1598206209287,
     "user": {
      "displayName": "Md Rifatul Islam Rifat",
      "photoUrl": "",
      "userId": "17304548563437753137"
     },
     "user_tz": -360
    },
    "id": "rg3DXjBfXDit",
    "outputId": "1c51ab11-d8ae-456e-cb0d-d800583ff102"
   },
   "outputs": [],
   "source": [
    "from google.colab import drive\n",
    "drive.mount('/content/drive')"
   ]
  },
  {
   "cell_type": "code",
   "execution_count": null,
   "metadata": {
    "colab": {},
    "colab_type": "code",
    "executionInfo": {
     "elapsed": 6019,
     "status": "ok",
     "timestamp": 1598206225630,
     "user": {
      "displayName": "Md Rifatul Islam Rifat",
      "photoUrl": "",
      "userId": "17304548563437753137"
     },
     "user_tz": -360
    },
    "id": "hsZvic2YxnTz"
   },
   "outputs": [],
   "source": [
    "import re\n",
    "import numpy as np\n",
    "import pandas as pd\n",
    "import collections\n",
    "import tensorflow as tf\n",
    "import tensorflow_hub as hub\n",
    "\n",
    "import warnings\n",
    "warnings.filterwarnings('ignore')"
   ]
  },
  {
   "cell_type": "markdown",
   "metadata": {},
   "source": [
    "### Load Pre-trained BERT module for khmer"
   ]
  },
  {
   "cell_type": "code",
   "execution_count": 18,
   "metadata": {
    "colab": {
     "base_uri": "https://localhost:8080/",
     "height": 187
    },
    "colab_type": "code",
    "executionInfo": {
     "elapsed": 14420,
     "status": "ok",
     "timestamp": 1598206818248,
     "user": {
      "displayName": "Md Rifatul Islam Rifat",
      "photoUrl": "",
      "userId": "17304548563437753137"
     },
     "user_tz": -360
    },
    "id": "bDvJcs5aFDOm",
    "outputId": "ea5fa2a0-377c-43a6-820f-7fc5a8f71fea"
   },
   "outputs": [
    {
     "name": "stdout",
     "output_type": "stream",
     "text": [
      "Archive:  /content/drive/My Drive/Colab Notebooks/Khmer Paper/bert_module_khmer.zip\n",
      "   creating: ./pretrained/bert_module_khmer/\n",
      "   creating: ./pretrained/bert_module_khmer/assets/\n",
      "  inflating: ./pretrained/bert_module_khmer/assets/bert_config.json  \n",
      "  inflating: ./pretrained/bert_module_khmer/assets/vocab_file_BERT_.txt  \n",
      "  inflating: ./pretrained/bert_module_khmer/saved_model.pb  \n",
      "  inflating: ./pretrained/bert_module_khmer/tfhub_module.pb  \n",
      "   creating: ./pretrained/bert_module_khmer/variables/\n",
      "  inflating: ./pretrained/bert_module_khmer/variables/variables.data-00000-of-00001  \n",
      "  inflating: ./pretrained/bert_module_khmer/variables/variables.index  \n"
     ]
    }
   ],
   "source": [
    "!unzip \"/content/drive/bert_module_khmer.zip\" -d \"./pretrained\""
   ]
  },
  {
   "cell_type": "markdown",
   "metadata": {},
   "source": [
    "### Load Train/Validation Data"
   ]
  },
  {
   "cell_type": "code",
   "execution_count": null,
   "metadata": {},
   "outputs": [],
   "source": [
    "data = pd.read_excel(\"/content/drive/sentiment_analysis_data_km.xlsx\", encoding=\"UTF-8\")"
   ]
  },
  {
   "cell_type": "code",
   "execution_count": 4,
   "metadata": {
    "colab": {
     "base_uri": "https://localhost:8080/",
     "height": 204
    },
    "colab_type": "code",
    "executionInfo": {
     "elapsed": 4509,
     "status": "ok",
     "timestamp": 1598206230965,
     "user": {
      "displayName": "Md Rifatul Islam Rifat",
      "photoUrl": "",
      "userId": "17304548563437753137"
     },
     "user_tz": -360
    },
    "id": "RGqKvm1gpA4F",
    "outputId": "05158c45-10cd-4716-dd38-a4b3ea403639"
   },
   "outputs": [
    {
     "data": {
      "text/html": [
       "<div>\n",
       "<style scoped>\n",
       "    .dataframe tbody tr th:only-of-type {\n",
       "        vertical-align: middle;\n",
       "    }\n",
       "\n",
       "    .dataframe tbody tr th {\n",
       "        vertical-align: top;\n",
       "    }\n",
       "\n",
       "    .dataframe thead th {\n",
       "        text-align: right;\n",
       "    }\n",
       "</style>\n",
       "<table border=\"1\" class=\"dataframe\">\n",
       "  <thead>\n",
       "    <tr style=\"text-align: right;\">\n",
       "      <th></th>\n",
       "      <th>source</th>\n",
       "      <th>texts</th>\n",
       "      <th>texts_km</th>\n",
       "      <th>text_prep</th>\n",
       "      <th>sentiment</th>\n",
       "    </tr>\n",
       "  </thead>\n",
       "  <tbody>\n",
       "    <tr>\n",
       "      <th>0</th>\n",
       "      <td>Yelp</td>\n",
       "      <td>Wow... Loved this place.</td>\n",
       "      <td>អីយ៉ា ... ស្រឡាញ់កន្លែងនេះ។</td>\n",
       "      <td>អីយ៉ា ស្រឡាញ់ កន្លែង នេះ</td>\n",
       "      <td>1</td>\n",
       "    </tr>\n",
       "    <tr>\n",
       "      <th>1</th>\n",
       "      <td>Yelp</td>\n",
       "      <td>Crust is not good.</td>\n",
       "      <td>សំបកគឺជាការមិនល្អ។</td>\n",
       "      <td>សំបក គឺ ជា ការ មិន ល្អ</td>\n",
       "      <td>0</td>\n",
       "    </tr>\n",
       "    <tr>\n",
       "      <th>2</th>\n",
       "      <td>Yelp</td>\n",
       "      <td>Not tasty and the texture was just nasty.</td>\n",
       "      <td>មិនហ៊ាននិងវាយនភាពនេះគឺអាក្រក់គ្រាន់តែជា។</td>\n",
       "      <td>មិន ហ៊ាន និង វាយន ភាព នេះ គឺ អាក្រក់ គ្រាន់ តែ ជា</td>\n",
       "      <td>0</td>\n",
       "    </tr>\n",
       "    <tr>\n",
       "      <th>3</th>\n",
       "      <td>Yelp</td>\n",
       "      <td>Stopped by during the late May bank holiday of...</td>\n",
       "      <td>បញ្ឈប់ដោយក្នុងអំឡុងពេលថ្ងៃឈប់សម្រាកចុងខែឧសភាបិ...</td>\n",
       "      <td>បញ្ឈប់ ដោយ ក្នុង អំឡុង ពេល ថ្ងៃ ឈប់ សម្រាក ចុង...</td>\n",
       "      <td>1</td>\n",
       "    </tr>\n",
       "    <tr>\n",
       "      <th>4</th>\n",
       "      <td>Yelp</td>\n",
       "      <td>The selection on the menu was great and so wer...</td>\n",
       "      <td>ការជ្រើសនៅលើម៉ឺនុយនេះគឺអស្ចារ្យណាស់ហើយត្រូវបាន...</td>\n",
       "      <td>ការ ជ្រើស នៅ លើ ម៉ឺនុយ នេះ គឺ អស្ចារ្យ ណាស់ ហើ...</td>\n",
       "      <td>1</td>\n",
       "    </tr>\n",
       "  </tbody>\n",
       "</table>\n",
       "</div>"
      ],
      "text/plain": [
       "  source  ... sentiment\n",
       "0   Yelp  ...         1\n",
       "1   Yelp  ...         0\n",
       "2   Yelp  ...         0\n",
       "3   Yelp  ...         1\n",
       "4   Yelp  ...         1\n",
       "\n",
       "[5 rows x 5 columns]"
      ]
     },
     "execution_count": 4,
     "metadata": {
      "tags": []
     },
     "output_type": "execute_result"
    }
   ],
   "source": [
    "data['text_prep'] = data['text_prep'].apply(lambda x: ' '.join(re.sub(r'[០១២៣៤៥៦៧៨៩។៕៖ៗ៘៙៚]+', ' ', x).strip().split()))\n",
    "data.drop_duplicates(subset=['text_prep'], inplace=True)\n",
    "data.head()"
   ]
  },
  {
   "cell_type": "code",
   "execution_count": 5,
   "metadata": {
    "colab": {},
    "colab_type": "code",
    "executionInfo": {
     "elapsed": 1124,
     "status": "ok",
     "timestamp": 1598206230967,
     "user": {
      "displayName": "Md Rifatul Islam Rifat",
      "photoUrl": "",
      "userId": "17304548563437753137"
     },
     "user_tz": -360
    },
    "id": "G3PVHB-MIseX"
   },
   "outputs": [],
   "source": [
    "data = data.reset_index()"
   ]
  },
  {
   "cell_type": "code",
   "execution_count": 6,
   "metadata": {
    "colab": {
     "base_uri": "https://localhost:8080/",
     "height": 34
    },
    "colab_type": "code",
    "executionInfo": {
     "elapsed": 826,
     "status": "ok",
     "timestamp": 1598206230968,
     "user": {
      "displayName": "Md Rifatul Islam Rifat",
      "photoUrl": "",
      "userId": "17304548563437753137"
     },
     "user_tz": -360
    },
    "id": "B0J_N6iGpO2b",
    "outputId": "971cd5ee-0a5c-4a14-d05d-7779e55087fa"
   },
   "outputs": [
    {
     "data": {
      "text/plain": [
       "(10710, 6)"
      ]
     },
     "execution_count": 6,
     "metadata": {
      "tags": []
     },
     "output_type": "execute_result"
    }
   ],
   "source": [
    "data.shape"
   ]
  },
  {
   "cell_type": "code",
   "execution_count": 7,
   "metadata": {
    "colab": {
     "base_uri": "https://localhost:8080/",
     "height": 68
    },
    "colab_type": "code",
    "executionInfo": {
     "elapsed": 1762,
     "status": "ok",
     "timestamp": 1598206295011,
     "user": {
      "displayName": "Md Rifatul Islam Rifat",
      "photoUrl": "",
      "userId": "17304548563437753137"
     },
     "user_tz": -360
    },
    "id": "r0R0kUrycwm8",
    "outputId": "a9cfea91-64ff-425c-87a1-1b5e5e855387"
   },
   "outputs": [
    {
     "data": {
      "text/plain": [
       "1    5367\n",
       "0    5343\n",
       "Name: sentiment, dtype: int64"
      ]
     },
     "execution_count": 7,
     "metadata": {
      "tags": []
     },
     "output_type": "execute_result"
    }
   ],
   "source": [
    "data['sentiment'].value_counts()"
   ]
  },
  {
   "cell_type": "markdown",
   "metadata": {
    "colab_type": "text",
    "id": "iv0cNKz9XkIj"
   },
   "source": [
    "### Load Test Data"
   ]
  },
  {
   "cell_type": "code",
   "execution_count": null,
   "metadata": {
    "colab": {},
    "colab_type": "code",
    "id": "2_mLq24tV_Bv"
   },
   "outputs": [],
   "source": [
    "# Load Test Data\n",
    "data_test = pd.read_excel(\"/content/sentiment_analysis_test_data.xlsx\")"
   ]
  },
  {
   "cell_type": "code",
   "execution_count": null,
   "metadata": {
    "colab": {},
    "colab_type": "code",
    "id": "JwLDK3hZ5bdw"
   },
   "outputs": [],
   "source": [
    "data_test['X_test'] = data_test['X_test'].apply(lambda x: ' '.join(re.sub(r'[០១២៣៤៥៦៧៨៩។៕៖ៗ៘៙៚]+', ' ', x).strip().split()))"
   ]
  },
  {
   "cell_type": "code",
   "execution_count": null,
   "metadata": {
    "colab": {
     "base_uri": "https://localhost:8080/",
     "height": 204
    },
    "colab_type": "code",
    "executionInfo": {
     "elapsed": 1224,
     "status": "ok",
     "timestamp": 1598205167332,
     "user": {
      "displayName": "Md Rifatul Islam Rifat",
      "photoUrl": "",
      "userId": "17304548563437753137"
     },
     "user_tz": -360
    },
    "id": "01D7ddQ0V_5U",
    "outputId": "1af38775-9211-42b3-b418-d918d1d5b627"
   },
   "outputs": [
    {
     "data": {
      "text/html": [
       "<div>\n",
       "<style scoped>\n",
       "    .dataframe tbody tr th:only-of-type {\n",
       "        vertical-align: middle;\n",
       "    }\n",
       "\n",
       "    .dataframe tbody tr th {\n",
       "        vertical-align: top;\n",
       "    }\n",
       "\n",
       "    .dataframe thead th {\n",
       "        text-align: right;\n",
       "    }\n",
       "</style>\n",
       "<table border=\"1\" class=\"dataframe\">\n",
       "  <thead>\n",
       "    <tr style=\"text-align: right;\">\n",
       "      <th></th>\n",
       "      <th>texts</th>\n",
       "      <th>X_test</th>\n",
       "      <th>y_test</th>\n",
       "    </tr>\n",
       "  </thead>\n",
       "  <tbody>\n",
       "    <tr>\n",
       "      <th>0</th>\n",
       "      <td>ខ្ញុំត្រូវចាកចេញពីការងារ នឹងមិនអាចទៅរួចទេ។ ដូច...</td>\n",
       "      <td>ខ្ញុំ ត្រូវ ចាក ចេញ ពី ការងារ នឹង មិន អាច ទៅ រ...</td>\n",
       "      <td>0</td>\n",
       "    </tr>\n",
       "    <tr>\n",
       "      <th>1</th>\n",
       "      <td>សួស្តី។ យើងកំពុងហោះហើរ SWA ថ្ងៃនេះ។ កូនប្រុសរប...</td>\n",
       "      <td>សួស្តី យើង កំពុង ហោះ ហើរ ថ្ងៃ នេះ កូន ប្រុស រប...</td>\n",
       "      <td>0</td>\n",
       "    </tr>\n",
       "    <tr>\n",
       "      <th>2</th>\n",
       "      <td>សម្លៀកបំពាក់នេះមើលទៅហើយមានអារម្មណ៍ថាថោក។ សម្ភា...</td>\n",
       "      <td>សម្លៀកបំពាក់ នេះ មើល ទៅ ហើយ មាន អារម្មណ៍ ថា ថោ...</td>\n",
       "      <td>0</td>\n",
       "    </tr>\n",
       "    <tr>\n",
       "      <th>3</th>\n",
       "      <td>ធំពេកហើយវាមិនមានសុវត្ថិភាពគ្រប់គ្រាន់ពាក់សម្រា...</td>\n",
       "      <td>ធំ ពេក ហើយ វា មិន មាន សុវត្ថិ ភាព គ្រប់ គ្រាន់...</td>\n",
       "      <td>0</td>\n",
       "    </tr>\n",
       "    <tr>\n",
       "      <th>4</th>\n",
       "      <td>តើអ្នកដឹងទេនៅពេលផ្លូវថ្មីពី HOU ទៅ Aruba &amp;amp ...</td>\n",
       "      <td>តើ អ្នក ដឹង ទេ នៅ ពេល ផ្លូវ ថ្មី ពី ទៅ នឹង អាច...</td>\n",
       "      <td>0</td>\n",
       "    </tr>\n",
       "  </tbody>\n",
       "</table>\n",
       "</div>"
      ],
      "text/plain": [
       "                                               texts  ... y_test\n",
       "0  ខ្ញុំត្រូវចាកចេញពីការងារ នឹងមិនអាចទៅរួចទេ។ ដូច...  ...      0\n",
       "1  សួស្តី។ យើងកំពុងហោះហើរ SWA ថ្ងៃនេះ។ កូនប្រុសរប...  ...      0\n",
       "2  សម្លៀកបំពាក់នេះមើលទៅហើយមានអារម្មណ៍ថាថោក។ សម្ភា...  ...      0\n",
       "3  ធំពេកហើយវាមិនមានសុវត្ថិភាពគ្រប់គ្រាន់ពាក់សម្រា...  ...      0\n",
       "4  តើអ្នកដឹងទេនៅពេលផ្លូវថ្មីពី HOU ទៅ Aruba &amp ...  ...      0\n",
       "\n",
       "[5 rows x 3 columns]"
      ]
     },
     "execution_count": 76,
     "metadata": {
      "tags": []
     },
     "output_type": "execute_result"
    }
   ],
   "source": [
    "data_test.head()"
   ]
  },
  {
   "cell_type": "code",
   "execution_count": 16,
   "metadata": {
    "colab": {
     "base_uri": "https://localhost:8080/",
     "height": 68
    },
    "colab_type": "code",
    "executionInfo": {
     "elapsed": 1222,
     "status": "ok",
     "timestamp": 1598206661526,
     "user": {
      "displayName": "Md Rifatul Islam Rifat",
      "photoUrl": "",
      "userId": "17304548563437753137"
     },
     "user_tz": -360
    },
    "id": "QHcVzXqNiYGA",
    "outputId": "ee3cdb3e-8760-4e73-ee5e-83da956298ef"
   },
   "outputs": [
    {
     "data": {
      "text/plain": [
       "0    209\n",
       "1    191\n",
       "Name: y_test, dtype: int64"
      ]
     },
     "execution_count": 16,
     "metadata": {
      "tags": []
     },
     "output_type": "execute_result"
    }
   ],
   "source": [
    "data_test.y_test.value_counts()"
   ]
  },
  {
   "cell_type": "markdown",
   "metadata": {},
   "source": [
    "### Data Partitioning"
   ]
  },
  {
   "cell_type": "code",
   "execution_count": 8,
   "metadata": {
    "colab": {},
    "colab_type": "code",
    "executionInfo": {
     "elapsed": 1017,
     "status": "ok",
     "timestamp": 1598206330288,
     "user": {
      "displayName": "Md Rifatul Islam Rifat",
      "photoUrl": "",
      "userId": "17304548563437753137"
     },
     "user_tz": -360
    },
    "id": "dPcm7sZpD2zS"
   },
   "outputs": [],
   "source": [
    "X = data['text_prep']\n",
    "y = data['sentiment']"
   ]
  },
  {
   "cell_type": "code",
   "execution_count": 17,
   "metadata": {
    "colab": {
     "base_uri": "https://localhost:8080/",
     "height": 68
    },
    "colab_type": "code",
    "executionInfo": {
     "elapsed": 1535,
     "status": "ok",
     "timestamp": 1598206694059,
     "user": {
      "displayName": "Md Rifatul Islam Rifat",
      "photoUrl": "",
      "userId": "17304548563437753137"
     },
     "user_tz": -360
    },
    "id": "oso3-dNheFAu",
    "outputId": "8991d073-76c7-4122-998c-033ae7270137"
   },
   "outputs": [
    {
     "name": "stdout",
     "output_type": "stream",
     "text": [
      "Training shape: 8568\n",
      "Validation shape: 2142\n",
      "Test shape: 400\n"
     ]
    }
   ],
   "source": [
    "from sklearn.model_selection import train_test_split\n",
    "X_train, X_val, y_train, y_val = train_test_split(X, y, test_size=0.2, random_state=1234, shuffle=True, stratify=y)\n",
    "X_test, y_test = data_test.X_test, data_test.y_test\n",
    "\n",
    "print(\"\"\"Training shape: {}\n",
    "Validation shape: {}\n",
    "Test shape: {}\"\"\".format(X_train.shape[0], X_val.shape[0], X_test.shape[0]))"
   ]
  },
  {
   "cell_type": "markdown",
   "metadata": {
    "colab_type": "text",
    "id": "xtm7338qpPok"
   },
   "source": [
    "### Tokenizer"
   ]
  },
  {
   "cell_type": "code",
   "execution_count": 19,
   "metadata": {
    "colab": {},
    "colab_type": "code",
    "executionInfo": {
     "elapsed": 1051,
     "status": "ok",
     "timestamp": 1598206874942,
     "user": {
      "displayName": "Md Rifatul Islam Rifat",
      "photoUrl": "",
      "userId": "17304548563437753137"
     },
     "user_tz": -360
    },
    "id": "Jbiq_k2lPkcs"
   },
   "outputs": [],
   "source": [
    "def convert_to_unicode(text):\n",
    "    \"\"\"Converts `text` to Unicode (if it's not already), assuming utf-8 input.\"\"\"\n",
    "    if isinstance(text, str):\n",
    "        return text\n",
    "    elif isinstance(text, bytes):\n",
    "        return text.decode(\"utf-8\", \"ignore\")\n",
    "    else:\n",
    "        raise ValueError(\"Unsupported string type: %s\" % (type(text)))\n",
    "\n",
    "def load_vocab(vocab_file):\n",
    "    \"\"\"Loads a vocabulary file into a dictionary.\"\"\"\n",
    "    vocab = collections.OrderedDict()\n",
    "    index = 0\n",
    "    with tf.gfile.GFile(vocab_file, \"r\") as reader:\n",
    "        while True:\n",
    "            token = convert_to_unicode(reader.readline())\n",
    "            if not token:\n",
    "                break\n",
    "            token = token.strip()\n",
    "            vocab[token] = index\n",
    "            index += 1\n",
    "    return vocab\n",
    "\n",
    "def convert_by_vocab(vocab, items):\n",
    "    \"\"\"Converts a sequence of [tokens|ids] using the vocab.\"\"\"\n",
    "    output = []\n",
    "    for item in items:\n",
    "        try:\n",
    "            output.append(vocab[item])\n",
    "        except:\n",
    "            pass\n",
    "    return output\n",
    "\n",
    "class FullTokenizer(object):\n",
    "    \"\"\"Runs end-to-end tokenziation.\"\"\"\n",
    "\n",
    "    def __init__(self, vocab_file, do_lower_case=False):\n",
    "        self.vocab = load_vocab(vocab_file)\n",
    "\n",
    "    def tokenize(self, text):\n",
    "        \"\"\"Runs basic whitespace cleaning and splitting on a piece of text.\"\"\"\n",
    "        text = text.strip()\n",
    "        if not text:\n",
    "            return []\n",
    "        tokens = text.split()\n",
    "        return tokens\n",
    "\n",
    "    def convert_tokens_to_ids(self, tokens):\n",
    "        return convert_by_vocab(self.vocab, tokens)"
   ]
  },
  {
   "cell_type": "code",
   "execution_count": 20,
   "metadata": {
    "colab": {},
    "colab_type": "code",
    "executionInfo": {
     "elapsed": 1132,
     "status": "ok",
     "timestamp": 1598206877526,
     "user": {
      "displayName": "Md Rifatul Islam Rifat",
      "photoUrl": "",
      "userId": "17304548563437753137"
     },
     "user_tz": -360
    },
    "id": "UrijyzpUFV7Y"
   },
   "outputs": [],
   "source": [
    "vocab_path = '/content/pretrained/bert_module_khmer/assets/vocab_file_BERT_.txt'\n",
    "tokenizer = FullTokenizer(vocab_file=vocab_path, do_lower_case=True)"
   ]
  },
  {
   "cell_type": "markdown",
   "metadata": {
    "colab_type": "text",
    "id": "yviOduCCpn4t"
   },
   "source": [
    "### BERT Input Generator"
   ]
  },
  {
   "cell_type": "code",
   "execution_count": 21,
   "metadata": {
    "colab": {},
    "colab_type": "code",
    "executionInfo": {
     "elapsed": 1098,
     "status": "ok",
     "timestamp": 1598206883599,
     "user": {
      "displayName": "Md Rifatul Islam Rifat",
      "photoUrl": "",
      "userId": "17304548563437753137"
     },
     "user_tz": -360
    },
    "id": "-QW2D6kS-x2V"
   },
   "outputs": [],
   "source": [
    "def convert_sentence_to_features(sentence, tokenizer, max_seq_len):\n",
    "    tokens = ['[CLS]']\n",
    "    tokens.extend(tokenizer.tokenize(sentence))\n",
    "    if len(tokens) > max_seq_len-1:\n",
    "        tokens = tokens[:max_seq_len-1]\n",
    "    tokens.append('[SEP]')\n",
    "    \n",
    "    input_ids = tokenizer.convert_tokens_to_ids(tokens)\n",
    "    input_mask = [1] * len(input_ids)\n",
    "    segment_ids = [0] * len(input_ids)\n",
    "    \n",
    "    zero_padding = [0] * (max_seq_len-len(input_ids))\n",
    "\n",
    "    input_ids.extend(zero_padding)\n",
    "    input_mask.extend(zero_padding)\n",
    "    segment_ids.extend(zero_padding)\n",
    "    \n",
    "    return input_ids, input_mask, segment_ids\n",
    "\n",
    "def convert_sentences_to_features(sentences, tokenizer, max_seq_len=64):\n",
    "    all_input_ids = []\n",
    "    all_input_mask = []\n",
    "    all_segment_ids = []\n",
    "    \n",
    "    for sentence in sentences:\n",
    "        input_ids, input_mask, segment_ids = convert_sentence_to_features(sentence, tokenizer, max_seq_len)\n",
    "        all_input_ids.append(input_ids)\n",
    "        all_input_mask.append(input_mask)\n",
    "        all_segment_ids.append(segment_ids)\n",
    "    \n",
    "    return all_input_ids, all_input_mask, all_segment_ids"
   ]
  },
  {
   "cell_type": "markdown",
   "metadata": {
    "colab_type": "text",
    "id": "fD014suYJjSC"
   },
   "source": [
    "### Load BERT Pre-trained Module"
   ]
  },
  {
   "cell_type": "code",
   "execution_count": 22,
   "metadata": {
    "colab": {},
    "colab_type": "code",
    "executionInfo": {
     "elapsed": 2378,
     "status": "ok",
     "timestamp": 1598206898482,
     "user": {
      "displayName": "Md Rifatul Islam Rifat",
      "photoUrl": "",
      "userId": "17304548563437753137"
     },
     "user_tz": -360
    },
    "id": "QofKIvkn-HDV"
   },
   "outputs": [],
   "source": [
    "BERT_URL = '/content/pretrained/bert_module_khmer'\n",
    "module = hub.Module(BERT_URL)"
   ]
  },
  {
   "cell_type": "markdown",
   "metadata": {
    "colab_type": "text",
    "id": "W47iCYDeC2tI"
   },
   "source": [
    "### Feature Extractor"
   ]
  },
  {
   "cell_type": "code",
   "execution_count": 23,
   "metadata": {
    "colab": {},
    "colab_type": "code",
    "executionInfo": {
     "elapsed": 888,
     "status": "ok",
     "timestamp": 1598206906627,
     "user": {
      "displayName": "Md Rifatul Islam Rifat",
      "photoUrl": "",
      "userId": "17304548563437753137"
     },
     "user_tz": -360
    },
    "id": "vN_EIEuw-G__"
   },
   "outputs": [],
   "source": [
    "def creat_BERT_embeddings(sentences):\n",
    "    \"\"\"Create BERT Embeddings from tokenized Text\n",
    "\n",
    "    Argument: A list of Sentences\n",
    "    Return: A numpy array of BERT embeddings\n",
    "    \"\"\"\n",
    "    input_ids_vals, input_mask_vals, segment_ids_vals = convert_sentences_to_features(sentences, tokenizer, 64)\n",
    "\n",
    "    ### SIGNATURE\n",
    "    input_ids = tf.placeholder(dtype=tf.int32, shape=[None, None])\n",
    "    input_mask = tf.placeholder(dtype=tf.int32, shape=[None, None])\n",
    "    segment_ids = tf.placeholder(dtype=tf.int32, shape=[None, None])\n",
    "\n",
    "    bert_inputs = dict(\n",
    "        input_ids=input_ids,\n",
    "        input_mask=input_mask,\n",
    "        segment_ids=segment_ids)\n",
    "    \n",
    "    bert_outputs = module(bert_inputs, signature=\"tokens\", as_dict=True)\n",
    "\n",
    "    pooled_embeddings = []\n",
    "    # sequence_embeddings = []\n",
    "\n",
    "    ### CREAT BATCH PROCESS\n",
    "    input_ids_tensors = tf.compat.v1.data.Dataset.from_tensor_slices(input_ids_vals)\n",
    "    input_mask_tensors = tf.compat.v1.data.Dataset.from_tensor_slices(input_mask_vals)\n",
    "    segment_ids_tensors = tf.compat.v1.data.Dataset.from_tensor_slices(segment_ids_vals)\n",
    "    dcombined = tf.compat.v1.data.Dataset.zip((input_ids_tensors, input_mask_tensors, segment_ids_tensors)).batch(512)\n",
    "\n",
    "    iterator = tf.compat.v1.data.make_one_shot_iterator(dcombined)\n",
    "    next_ele = iterator.get_next()\n",
    "\n",
    "    with tf.Session() as sess:\n",
    "        sess.run(tf.global_variables_initializer())\n",
    "        try:\n",
    "            while True:\n",
    "                inputs = sess.run(next_ele)\n",
    "\n",
    "                input_ids_vals = inputs[0]\n",
    "                input_mask_vals = inputs[1]\n",
    "                segment_ids_vals = inputs[2]\n",
    "                out = sess.run(bert_outputs, feed_dict={input_ids: input_ids_vals,\n",
    "                                                        input_mask: input_mask_vals, \n",
    "                                                        segment_ids: segment_ids_vals})\n",
    "\n",
    "                pooled_embeddings.extend(out['pooled_output'].tolist())\n",
    "                # sequence_embeddings.extend(out['sequence_output'].tolist())\n",
    "        except tf.errors.OutOfRangeError:\n",
    "            pass\n",
    "    return np.array(pooled_embeddings)"
   ]
  },
  {
   "cell_type": "code",
   "execution_count": 24,
   "metadata": {
    "colab": {
     "base_uri": "https://localhost:8080/",
     "height": 102
    },
    "colab_type": "code",
    "executionInfo": {
     "elapsed": 48749,
     "status": "ok",
     "timestamp": 1598206980371,
     "user": {
      "displayName": "Md Rifatul Islam Rifat",
      "photoUrl": "",
      "userId": "17304548563437753137"
     },
     "user_tz": -360
    },
    "id": "WKIbWrb_FUcW",
    "outputId": "0cbb0137-3559-4cfb-d7e0-476221962cbe"
   },
   "outputs": [
    {
     "name": "stdout",
     "output_type": "stream",
     "text": [
      "INFO:tensorflow:Saver not created because there are no variables in the graph to restore\n",
      "INFO:tensorflow:Saver not created because there are no variables in the graph to restore\n",
      "INFO:tensorflow:Saver not created because there are no variables in the graph to restore\n",
      "CPU times: user 29.6 s, sys: 12.3 s, total: 42 s\n",
      "Wall time: 47.7 s\n"
     ]
    }
   ],
   "source": [
    "%%time\n",
    "X_train_embeddings = pd.DataFrame(creat_BERT_embeddings(X_train)).add_prefix('Col_')\n",
    "X_val_embeddings = pd.DataFrame(creat_BERT_embeddings(X_val)).add_prefix('Col_')\n",
    "X_test_embeddings = pd.DataFrame(creat_BERT_embeddings(X_test)).add_prefix('Col_')"
   ]
  },
  {
   "cell_type": "markdown",
   "metadata": {},
   "source": [
    "### Model Architecture"
   ]
  },
  {
   "cell_type": "code",
   "execution_count": null,
   "metadata": {
    "colab": {
     "base_uri": "https://localhost:8080/",
     "height": 34
    },
    "colab_type": "code",
    "executionInfo": {
     "elapsed": 966,
     "status": "ok",
     "timestamp": 1598207046786,
     "user": {
      "displayName": "Md Rifatul Islam Rifat",
      "photoUrl": "",
      "userId": "17304548563437753137"
     },
     "user_tz": -360
    },
    "id": "uwHej1fWI2GT",
    "outputId": "b1e243ed-6da1-4316-ccfc-7cfe5ecc9e0c"
   },
   "outputs": [],
   "source": [
    "import random as rn\n",
    "\n",
    "from keras.models import Sequential\n",
    "from keras.layers import Dense, Dropout\n",
    "from keras.callbacks import History\n",
    "from keras.optimizers import Adam, SGD"
   ]
  },
  {
   "cell_type": "code",
   "execution_count": null,
   "metadata": {
    "colab": {},
    "colab_type": "code",
    "executionInfo": {
     "elapsed": 957,
     "status": "ok",
     "timestamp": 1598207049391,
     "user": {
      "displayName": "Md Rifatul Islam Rifat",
      "photoUrl": "",
      "userId": "17304548563437753137"
     },
     "user_tz": -360
    },
    "id": "BDnrDTe4KBS_"
   },
   "outputs": [],
   "source": [
    "from keras.utils import to_categorical\n",
    "\n",
    "y_train_k = to_categorical(y_train, num_classes=2)\n",
    "y_val_k = to_categorical(y_val, num_classes=2)\n",
    "y_test_k = to_categorical(y_test, num_classes=2)"
   ]
  },
  {
   "cell_type": "code",
   "execution_count": 69,
   "metadata": {
    "colab": {
     "base_uri": "https://localhost:8080/",
     "height": 1000
    },
    "colab_type": "code",
    "executionInfo": {
     "elapsed": 12091,
     "status": "ok",
     "timestamp": 1598208031246,
     "user": {
      "displayName": "Md Rifatul Islam Rifat",
      "photoUrl": "",
      "userId": "17304548563437753137"
     },
     "user_tz": -360
    },
    "id": "ECx-0H-OKNAp",
    "outputId": "60466ff8-ee8c-41b9-d41b-38a70f4751a2"
   },
   "outputs": [
    {
     "name": "stdout",
     "output_type": "stream",
     "text": [
      "Train on 8568 samples, validate on 2142 samples\n",
      "Epoch 1/52\n",
      "8568/8568 [==============================] - 1s 135us/step - loss: 2.3333 - accuracy: 0.5016 - val_loss: 1.7929 - val_accuracy: 0.5009\n",
      "Epoch 2/52\n",
      "8568/8568 [==============================] - 0s 14us/step - loss: 1.2129 - accuracy: 0.4987 - val_loss: 1.0117 - val_accuracy: 0.5028\n",
      "Epoch 3/52\n",
      "8568/8568 [==============================] - 0s 14us/step - loss: 0.8491 - accuracy: 0.5011 - val_loss: 0.8412 - val_accuracy: 0.4991\n",
      "Epoch 4/52\n",
      "8568/8568 [==============================] - 0s 15us/step - loss: 0.7796 - accuracy: 0.5030 - val_loss: 0.7119 - val_accuracy: 0.5023\n",
      "Epoch 5/52\n",
      "8568/8568 [==============================] - 0s 14us/step - loss: 0.7482 - accuracy: 0.5002 - val_loss: 0.6927 - val_accuracy: 0.5023\n",
      "Epoch 6/52\n",
      "8568/8568 [==============================] - 0s 14us/step - loss: 0.7152 - accuracy: 0.5090 - val_loss: 0.7389 - val_accuracy: 0.4991\n",
      "Epoch 7/52\n",
      "8568/8568 [==============================] - 0s 14us/step - loss: 0.7105 - accuracy: 0.5153 - val_loss: 0.7051 - val_accuracy: 0.5009\n",
      "Epoch 8/52\n",
      "8568/8568 [==============================] - 0s 14us/step - loss: 0.7183 - accuracy: 0.5040 - val_loss: 0.6878 - val_accuracy: 0.5098\n",
      "Epoch 9/52\n",
      "8568/8568 [==============================] - 0s 14us/step - loss: 0.6996 - accuracy: 0.5162 - val_loss: 0.7078 - val_accuracy: 0.5065\n",
      "Epoch 10/52\n",
      "8568/8568 [==============================] - 0s 14us/step - loss: 0.6969 - accuracy: 0.5259 - val_loss: 0.6888 - val_accuracy: 0.5009\n",
      "Epoch 11/52\n",
      "8568/8568 [==============================] - 0s 14us/step - loss: 0.6980 - accuracy: 0.5144 - val_loss: 0.6835 - val_accuracy: 0.5285\n",
      "Epoch 12/52\n",
      "8568/8568 [==============================] - 0s 14us/step - loss: 0.6923 - accuracy: 0.5288 - val_loss: 0.6901 - val_accuracy: 0.5196\n",
      "Epoch 13/52\n",
      "8568/8568 [==============================] - 0s 14us/step - loss: 0.6879 - accuracy: 0.5408 - val_loss: 0.6783 - val_accuracy: 0.5261\n",
      "Epoch 14/52\n",
      "8568/8568 [==============================] - 0s 13us/step - loss: 0.6838 - accuracy: 0.5372 - val_loss: 0.6709 - val_accuracy: 0.6153\n",
      "Epoch 15/52\n",
      "8568/8568 [==============================] - 0s 14us/step - loss: 0.6746 - accuracy: 0.5717 - val_loss: 0.6640 - val_accuracy: 0.6036\n",
      "Epoch 16/52\n",
      "8568/8568 [==============================] - 0s 14us/step - loss: 0.6671 - accuracy: 0.5843 - val_loss: 0.6516 - val_accuracy: 0.6377\n",
      "Epoch 17/52\n",
      "8568/8568 [==============================] - 0s 14us/step - loss: 0.6557 - accuracy: 0.6081 - val_loss: 0.6389 - val_accuracy: 0.6391\n",
      "Epoch 18/52\n",
      "8568/8568 [==============================] - 0s 14us/step - loss: 0.6432 - accuracy: 0.6273 - val_loss: 0.6223 - val_accuracy: 0.6536\n",
      "Epoch 19/52\n",
      "8568/8568 [==============================] - 0s 14us/step - loss: 0.6334 - accuracy: 0.6384 - val_loss: 0.6114 - val_accuracy: 0.6573\n",
      "Epoch 20/52\n",
      "8568/8568 [==============================] - 0s 14us/step - loss: 0.6241 - accuracy: 0.6475 - val_loss: 0.6239 - val_accuracy: 0.6466\n",
      "Epoch 21/52\n",
      "8568/8568 [==============================] - 0s 14us/step - loss: 0.6261 - accuracy: 0.6479 - val_loss: 0.6073 - val_accuracy: 0.6625\n",
      "Epoch 22/52\n",
      "8568/8568 [==============================] - 0s 14us/step - loss: 0.6155 - accuracy: 0.6508 - val_loss: 0.6028 - val_accuracy: 0.6681\n",
      "Epoch 23/52\n",
      "8568/8568 [==============================] - 0s 14us/step - loss: 0.6128 - accuracy: 0.6569 - val_loss: 0.6003 - val_accuracy: 0.6667\n",
      "Epoch 24/52\n",
      "8568/8568 [==============================] - 0s 14us/step - loss: 0.6099 - accuracy: 0.6592 - val_loss: 0.5866 - val_accuracy: 0.6783\n",
      "Epoch 25/52\n",
      "8568/8568 [==============================] - 0s 14us/step - loss: 0.5995 - accuracy: 0.6695 - val_loss: 0.5927 - val_accuracy: 0.6639\n",
      "Epoch 26/52\n",
      "8568/8568 [==============================] - 0s 14us/step - loss: 0.5919 - accuracy: 0.6764 - val_loss: 0.5907 - val_accuracy: 0.6774\n",
      "Epoch 27/52\n",
      "8568/8568 [==============================] - 0s 14us/step - loss: 0.5885 - accuracy: 0.6814 - val_loss: 0.5809 - val_accuracy: 0.6858\n",
      "Epoch 28/52\n",
      "8568/8568 [==============================] - 0s 15us/step - loss: 0.5845 - accuracy: 0.6880 - val_loss: 0.5746 - val_accuracy: 0.6923\n",
      "Epoch 29/52\n",
      "8568/8568 [==============================] - 0s 14us/step - loss: 0.5883 - accuracy: 0.6869 - val_loss: 0.5809 - val_accuracy: 0.6886\n",
      "Epoch 30/52\n",
      "8568/8568 [==============================] - 0s 14us/step - loss: 0.5875 - accuracy: 0.6834 - val_loss: 0.6047 - val_accuracy: 0.6662\n",
      "Epoch 31/52\n",
      "8568/8568 [==============================] - 0s 14us/step - loss: 0.5958 - accuracy: 0.6733 - val_loss: 0.5752 - val_accuracy: 0.6923\n",
      "Epoch 32/52\n",
      "8568/8568 [==============================] - 0s 14us/step - loss: 0.5861 - accuracy: 0.6806 - val_loss: 0.5916 - val_accuracy: 0.6755\n",
      "Epoch 33/52\n",
      "8568/8568 [==============================] - 0s 14us/step - loss: 0.5823 - accuracy: 0.6916 - val_loss: 0.5977 - val_accuracy: 0.6741\n",
      "Epoch 34/52\n",
      "8568/8568 [==============================] - 0s 14us/step - loss: 0.5878 - accuracy: 0.6817 - val_loss: 0.5790 - val_accuracy: 0.6905\n",
      "Epoch 35/52\n",
      "8568/8568 [==============================] - 0s 14us/step - loss: 0.5782 - accuracy: 0.6897 - val_loss: 0.5682 - val_accuracy: 0.6993\n",
      "Epoch 36/52\n",
      "8568/8568 [==============================] - 0s 14us/step - loss: 0.5724 - accuracy: 0.6949 - val_loss: 0.5970 - val_accuracy: 0.6769\n",
      "Epoch 37/52\n",
      "8568/8568 [==============================] - 0s 14us/step - loss: 0.5782 - accuracy: 0.6899 - val_loss: 0.5675 - val_accuracy: 0.7003\n",
      "Epoch 38/52\n",
      "8568/8568 [==============================] - 0s 14us/step - loss: 0.5620 - accuracy: 0.7060 - val_loss: 0.5779 - val_accuracy: 0.6942\n",
      "Epoch 39/52\n",
      "8568/8568 [==============================] - 0s 14us/step - loss: 0.5664 - accuracy: 0.6985 - val_loss: 0.5603 - val_accuracy: 0.7054\n",
      "Epoch 40/52\n",
      "8568/8568 [==============================] - 0s 14us/step - loss: 0.5593 - accuracy: 0.7121 - val_loss: 0.5731 - val_accuracy: 0.7003\n",
      "Epoch 41/52\n",
      "8568/8568 [==============================] - 0s 14us/step - loss: 0.5557 - accuracy: 0.7138 - val_loss: 0.5697 - val_accuracy: 0.7017\n",
      "Epoch 42/52\n",
      "8568/8568 [==============================] - 0s 14us/step - loss: 0.5543 - accuracy: 0.7131 - val_loss: 0.5599 - val_accuracy: 0.7045\n",
      "Epoch 43/52\n",
      "8568/8568 [==============================] - 0s 14us/step - loss: 0.5481 - accuracy: 0.7185 - val_loss: 0.5635 - val_accuracy: 0.7026\n",
      "Epoch 44/52\n",
      "8568/8568 [==============================] - 0s 15us/step - loss: 0.5468 - accuracy: 0.7174 - val_loss: 0.5602 - val_accuracy: 0.7068\n",
      "Epoch 45/52\n",
      "8568/8568 [==============================] - 0s 13us/step - loss: 0.5409 - accuracy: 0.7218 - val_loss: 0.5629 - val_accuracy: 0.7068\n",
      "Epoch 46/52\n",
      "8568/8568 [==============================] - 0s 14us/step - loss: 0.5369 - accuracy: 0.7307 - val_loss: 0.5598 - val_accuracy: 0.7101\n",
      "Epoch 47/52\n",
      "8568/8568 [==============================] - 0s 13us/step - loss: 0.5355 - accuracy: 0.7321 - val_loss: 0.5690 - val_accuracy: 0.7092\n",
      "Epoch 48/52\n",
      "8568/8568 [==============================] - 0s 14us/step - loss: 0.5389 - accuracy: 0.7274 - val_loss: 0.5768 - val_accuracy: 0.7021\n",
      "Epoch 49/52\n",
      "8568/8568 [==============================] - 0s 14us/step - loss: 0.5409 - accuracy: 0.7206 - val_loss: 0.5960 - val_accuracy: 0.6839\n",
      "Epoch 50/52\n",
      "8568/8568 [==============================] - 0s 14us/step - loss: 0.5510 - accuracy: 0.7115 - val_loss: 0.5834 - val_accuracy: 0.6886\n",
      "Epoch 51/52\n",
      "8568/8568 [==============================] - 0s 14us/step - loss: 0.5533 - accuracy: 0.7122 - val_loss: 0.5615 - val_accuracy: 0.7063\n",
      "Epoch 52/52\n",
      "8568/8568 [==============================] - 0s 14us/step - loss: 0.5354 - accuracy: 0.7321 - val_loss: 0.5554 - val_accuracy: 0.7129\n"
     ]
    },
    {
     "data": {
      "text/plain": [
       "<keras.callbacks.callbacks.History at 0x7ff1c66047b8>"
      ]
     },
     "execution_count": 69,
     "metadata": {
      "tags": []
     },
     "output_type": "execute_result"
    }
   ],
   "source": [
    "np.random.seed(2)\n",
    "rn.seed(3)\n",
    "\n",
    "history = History()\n",
    "\n",
    "model = Sequential()\n",
    "model.add(Dense(units = 1024, activation = \"tanh\", input_dim=768))\n",
    "model.add(Dropout(0.1))\n",
    "model.add(Dense(units = 512, activation = \"tanh\"))\n",
    "model.add(Dropout(0.1))\n",
    "model.add(Dense(units = 256, activation = \"tanh\"))\n",
    "model.add(Dropout(0.1))\n",
    "model.add(Dense(units = 256, activation = \"tanh\"))\n",
    "# model.add(Dropout(0.1))\n",
    "model.add(Dense(units = 2, activation = \"softmax\"))\n",
    "\n",
    "model.compile(optimizer=Adam(0.001), loss=\"categorical_crossentropy\", metrics=['accuracy'])\n",
    "\n",
    "model.fit(np.array(X_train_embeddings), np.array(y_train_k), \n",
    "          validation_data=(np.array(X_val_embeddings), np.array(y_val_k)), \n",
    "          epochs=52, \n",
    "          batch_size=3000, \n",
    "          shuffle=True, \n",
    "          callbacks=[history], \n",
    "          verbose=True)"
   ]
  },
  {
   "cell_type": "code",
   "execution_count": 70,
   "metadata": {
    "colab": {},
    "colab_type": "code",
    "executionInfo": {
     "elapsed": 1437,
     "status": "ok",
     "timestamp": 1598208042755,
     "user": {
      "displayName": "Md Rifatul Islam Rifat",
      "photoUrl": "",
      "userId": "17304548563437753137"
     },
     "user_tz": -360
    },
    "id": "pRb42ccVM07F"
   },
   "outputs": [],
   "source": [
    "# for learning curve\n",
    "his_train_loss = history.history['loss']\n",
    "his_val_loss = history.history['val_loss']"
   ]
  },
  {
   "cell_type": "code",
   "execution_count": 86,
   "metadata": {
    "colab": {
     "base_uri": "https://localhost:8080/",
     "height": 293
    },
    "colab_type": "code",
    "executionInfo": {
     "elapsed": 1502,
     "status": "ok",
     "timestamp": 1598208668954,
     "user": {
      "displayName": "Md Rifatul Islam Rifat",
      "photoUrl": "",
      "userId": "17304548563437753137"
     },
     "user_tz": -360
    },
    "id": "RJYCY9qZoWvP",
    "outputId": "4b2086cf-1c85-4751-bdd9-0fda7b9223c4"
   },
   "outputs": [
    {
     "data": {
      "image/png": "[encoded data removed]",
      "text/plain": [
       "<Figure size 432x288 with 1 Axes>"
      ]
     },
     "metadata": {
      "tags": []
     },
     "output_type": "display_data"
    }
   ],
   "source": [
    "## plot learning curve\n",
    "import matplotlib.pyplot as plt\n",
    "# fig, ax = plt.subplots(figsize=(10,5))\n",
    "plt.plot(his_train_loss,'darkorange')\n",
    "plt.plot(his_val_loss, 'seagreen')\n",
    "\n",
    "plt.title(\"Loss vs Epochs\", fontdict={'fontsize': 12})\n",
    "plt.ylabel('Loss')\n",
    "plt.xlabel('Epochs')\n",
    "\n",
    "plt.legend(['Train', 'Validation'], loc='upper right')\n",
    "plt.tight_layout()\n",
    "plt.savefig(\"sentiment_loss_vs_epochs_BERT_feature_based.jpg\", dpi=300, bbox_inches='tight')\n",
    "plt.show()"
   ]
  },
  {
   "cell_type": "markdown",
   "metadata": {
    "colab_type": "text",
    "id": "kS8qkB2R45-Q"
   },
   "source": [
    "### Test"
   ]
  },
  {
   "cell_type": "code",
   "execution_count": 72,
   "metadata": {
    "colab": {},
    "colab_type": "code",
    "executionInfo": {
     "elapsed": 1109,
     "status": "ok",
     "timestamp": 1598208059029,
     "user": {
      "displayName": "Md Rifatul Islam Rifat",
      "photoUrl": "",
      "userId": "17304548563437753137"
     },
     "user_tz": -360
    },
    "id": "91ojgioE5GV0"
   },
   "outputs": [],
   "source": [
    "loss, test_accuracy = model.evaluate(np.array(X_test_embeddings), np.array(y_test_k), verbose=0)"
   ]
  },
  {
   "cell_type": "code",
   "execution_count": 110,
   "metadata": {
    "colab": {
     "base_uri": "https://localhost:8080/",
     "height": 142
    },
    "colab_type": "code",
    "executionInfo": {
     "elapsed": 991,
     "status": "ok",
     "timestamp": 1598209558428,
     "user": {
      "displayName": "Md Rifatul Islam Rifat",
      "photoUrl": "",
      "userId": "17304548563437753137"
     },
     "user_tz": -360
    },
    "id": "UBbEfFGHtdRx",
    "outputId": "3bc418f1-7386-462f-a29c-e4fe6a8b8cea"
   },
   "outputs": [
    {
     "data": {
      "text/html": [
       "<div>\n",
       "<style scoped>\n",
       "    .dataframe tbody tr th:only-of-type {\n",
       "        vertical-align: middle;\n",
       "    }\n",
       "\n",
       "    .dataframe tbody tr th {\n",
       "        vertical-align: top;\n",
       "    }\n",
       "\n",
       "    .dataframe thead th {\n",
       "        text-align: right;\n",
       "    }\n",
       "</style>\n",
       "<table border=\"1\" class=\"dataframe\">\n",
       "  <thead>\n",
       "    <tr style=\"text-align: right;\">\n",
       "      <th></th>\n",
       "      <th>Accuracy</th>\n",
       "    </tr>\n",
       "  </thead>\n",
       "  <tbody>\n",
       "    <tr>\n",
       "      <th>Training</th>\n",
       "      <td>0.732</td>\n",
       "    </tr>\n",
       "    <tr>\n",
       "      <th>Validation</th>\n",
       "      <td>0.713</td>\n",
       "    </tr>\n",
       "    <tr>\n",
       "      <th>Test</th>\n",
       "      <td>0.697</td>\n",
       "    </tr>\n",
       "  </tbody>\n",
       "</table>\n",
       "</div>"
      ],
      "text/plain": [
       "            Accuracy\n",
       "Training       0.732\n",
       "Validation     0.713\n",
       "Test           0.697"
      ]
     },
     "execution_count": 110,
     "metadata": {
      "tags": []
     },
     "output_type": "execute_result"
    }
   ],
   "source": [
    "train_accuracy = history.history['accuracy'][-1]\n",
    "val_accuracy = history.history['val_accuracy'][-1]\n",
    "\n",
    "accuracy_table = pd.DataFrame([round(train_accuracy, 3), round(val_accuracy, 3), round(test_accuracy, 3)], \n",
    "             index=['Training', 'Validation', 'Test'], \n",
    "             columns=['Accuracy'])\n",
    "accuracy_table"
   ]
  },
  {
   "cell_type": "markdown",
   "metadata": {},
   "source": [
    "### Prediction"
   ]
  },
  {
   "cell_type": "code",
   "execution_count": 87,
   "metadata": {
    "colab": {},
    "colab_type": "code",
    "executionInfo": {
     "elapsed": 978,
     "status": "ok",
     "timestamp": 1598208800351,
     "user": {
      "displayName": "Md Rifatul Islam Rifat",
      "photoUrl": "",
      "userId": "17304548563437753137"
     },
     "user_tz": -360
    },
    "id": "-Gq88LmOR7ge"
   },
   "outputs": [],
   "source": [
    "from sklearn.metrics import accuracy_score\n",
    "from sklearn.metrics import confusion_matrix\n",
    "from sklearn.metrics import classification_report"
   ]
  },
  {
   "cell_type": "code",
   "execution_count": 88,
   "metadata": {
    "colab": {
     "base_uri": "https://localhost:8080/",
     "height": 34
    },
    "colab_type": "code",
    "executionInfo": {
     "elapsed": 2585,
     "status": "ok",
     "timestamp": 1598208812787,
     "user": {
      "displayName": "Md Rifatul Islam Rifat",
      "photoUrl": "",
      "userId": "17304548563437753137"
     },
     "user_tz": -360
    },
    "id": "SaSFiw6rax88",
    "outputId": "7947b134-6133-4e01-a77d-2780038f7832"
   },
   "outputs": [
    {
     "name": "stdout",
     "output_type": "stream",
     "text": [
      "Test Accuracy: 0.7\n"
     ]
    }
   ],
   "source": [
    "y_pred = model.predict(np.array(X_test_embeddings))\n",
    "ac = accuracy_score(y_test_k.argmax(axis=1), y_pred.argmax(axis=1))\n",
    "print(\"Test Accuracy:\", round(ac, 2))"
   ]
  },
  {
   "cell_type": "code",
   "execution_count": null,
   "metadata": {
    "colab": {
     "base_uri": "https://localhost:8080/",
     "height": 51
    },
    "colab_type": "code",
    "executionInfo": {
     "elapsed": 899,
     "status": "ok",
     "timestamp": 1598208838843,
     "user": {
      "displayName": "Md Rifatul Islam Rifat",
      "photoUrl": "",
      "userId": "17304548563437753137"
     },
     "user_tz": -360
    },
    "id": "4DWWfnyGax5A",
    "outputId": "84f28177-f2b8-4250-dc4e-a7152e408b90"
   },
   "outputs": [],
   "source": [
    "## generate confusion matrix\n",
    "cm = confusion_matrix(y_test_k.argmax(axis=1), y_pred.argmax(axis=1))"
   ]
  },
  {
   "cell_type": "code",
   "execution_count": 97,
   "metadata": {
    "colab": {
     "base_uri": "https://localhost:8080/",
     "height": 120
    },
    "colab_type": "code",
    "executionInfo": {
     "elapsed": 925,
     "status": "ok",
     "timestamp": 1598208999402,
     "user": {
      "displayName": "Md Rifatul Islam Rifat",
      "photoUrl": "",
      "userId": "17304548563437753137"
     },
     "user_tz": -360
    },
    "id": "ElGMDLyjax2K",
    "outputId": "8e9317cc-9b1f-424a-ebdf-e4338189a26b"
   },
   "outputs": [
    {
     "name": "stdout",
     "output_type": "stream",
     "text": [
      "Confusion Matrix: \n"
     ]
    },
    {
     "data": {
      "text/html": [
       "<style  type=\"text/css\" >\n",
       "    #T_5f92b938_e572_11ea_a6d8_0242ac1c0002row0_col0 {\n",
       "            background-color:  lightgrey;\n",
       "            color:  black;\n",
       "        }    #T_5f92b938_e572_11ea_a6d8_0242ac1c0002row0_col1 {\n",
       "            background-color:  lightgrey;\n",
       "            color:  black;\n",
       "        }    #T_5f92b938_e572_11ea_a6d8_0242ac1c0002row1_col0 {\n",
       "            background-color:  lightgrey;\n",
       "            color:  black;\n",
       "        }    #T_5f92b938_e572_11ea_a6d8_0242ac1c0002row1_col1 {\n",
       "            background-color:  lightgrey;\n",
       "            color:  black;\n",
       "        }</style><table id=\"T_5f92b938_e572_11ea_a6d8_0242ac1c0002\" ><thead>    <tr>        <th class=\"blank\" ></th>        <th class=\"blank level0\" ></th>        <th class=\"col_heading level0 col0\" colspan=2>Predicted</th>    </tr>    <tr>        <th class=\"blank\" ></th>        <th class=\"blank level1\" ></th>        <th class=\"col_heading level1 col0\" >Negative</th>        <th class=\"col_heading level1 col1\" >Positive</th>    </tr></thead><tbody>\n",
       "                <tr>\n",
       "                        <th id=\"T_5f92b938_e572_11ea_a6d8_0242ac1c0002level0_row0\" class=\"row_heading level0 row0\" rowspan=2>Actual</th>\n",
       "                        <th id=\"T_5f92b938_e572_11ea_a6d8_0242ac1c0002level1_row0\" class=\"row_heading level1 row0\" >Negative</th>\n",
       "                        <td id=\"T_5f92b938_e572_11ea_a6d8_0242ac1c0002row0_col0\" class=\"data row0 col0\" >127</td>\n",
       "                        <td id=\"T_5f92b938_e572_11ea_a6d8_0242ac1c0002row0_col1\" class=\"data row0 col1\" >82</td>\n",
       "            </tr>\n",
       "            <tr>\n",
       "                                <th id=\"T_5f92b938_e572_11ea_a6d8_0242ac1c0002level1_row1\" class=\"row_heading level1 row1\" >Positive</th>\n",
       "                        <td id=\"T_5f92b938_e572_11ea_a6d8_0242ac1c0002row1_col0\" class=\"data row1 col0\" >39</td>\n",
       "                        <td id=\"T_5f92b938_e572_11ea_a6d8_0242ac1c0002row1_col1\" class=\"data row1 col1\" >152</td>\n",
       "            </tr>\n",
       "    </tbody></table>"
      ],
      "text/plain": [
       "<pandas.io.formats.style.Styler at 0x7ff1a4cea6a0>"
      ]
     },
     "execution_count": 97,
     "metadata": {
      "tags": []
     },
     "output_type": "execute_result"
    }
   ],
   "source": [
    "print(\"Confusion Matrix: \")\n",
    "p = pd.DataFrame(cm, \n",
    "                 index=[['Actual']*2, ['Negative', 'Positive']], \n",
    "                 columns=[['Predicted']*2,['Negative', 'Positive']])\n",
    "\n",
    "p.style.set_properties(**{'background-color': 'lightgrey', \n",
    "                          'color': 'black'})"
   ]
  },
  {
   "cell_type": "code",
   "execution_count": 101,
   "metadata": {
    "colab": {
     "base_uri": "https://localhost:8080/",
     "height": 192
    },
    "colab_type": "code",
    "executionInfo": {
     "elapsed": 1092,
     "status": "ok",
     "timestamp": 1598209181654,
     "user": {
      "displayName": "Md Rifatul Islam Rifat",
      "photoUrl": "",
      "userId": "17304548563437753137"
     },
     "user_tz": -360
    },
    "id": "b-EJNopjaxzt",
    "outputId": "db9d0fc5-0512-4b98-8ebe-bdba619edf61"
   },
   "outputs": [
    {
     "data": {
      "image/png": "[encoded data removed]",
      "text/plain": [
       "<Figure size 288x144 with 2 Axes>"
      ]
     },
     "metadata": {
      "tags": []
     },
     "output_type": "display_data"
    }
   ],
   "source": [
    "## Confusion Matrix in Heatmap\n",
    "import matplotlib.pyplot as plt\n",
    "import seaborn as sns\n",
    "p = pd.DataFrame(cm, \n",
    "                 index = ['Negative', 'Positive'],\n",
    "                 columns = ['Negative', 'Positive'])\n",
    "\n",
    "plt.figure(figsize=(4, 2))\n",
    "sns.set()\n",
    "f = sns.heatmap(p, annot=True, fmt=\"d\")\n",
    "plt.title(\"Confusion Matrix\", fontdict={'fontsize': 12})\n",
    "plt.xlabel(\"Predicted\")\n",
    "plt.ylabel(\"Actual\")\n",
    "plt.show()\n",
    "\n",
    "# f.get_figure().savefig(\"sentiment_confusion_matrix_BERT_feature_based.jpg\", dpi=300, bbox_inches='tight')"
   ]
  },
  {
   "cell_type": "code",
   "execution_count": 108,
   "metadata": {
    "colab": {
     "base_uri": "https://localhost:8080/",
     "height": 170
    },
    "colab_type": "code",
    "executionInfo": {
     "elapsed": 994,
     "status": "ok",
     "timestamp": 1598209418484,
     "user": {
      "displayName": "Md Rifatul Islam Rifat",
      "photoUrl": "",
      "userId": "17304548563437753137"
     },
     "user_tz": -360
    },
    "id": "J-WoAy3nA4Xd",
    "outputId": "9ba76351-4623-42e8-d886-355624edab56"
   },
   "outputs": [
    {
     "name": "stdout",
     "output_type": "stream",
     "text": [
      "              precision    recall  f1-score   support\n",
      "\n",
      "    Negative       0.77      0.61      0.68       209\n",
      "    Positive       0.65      0.80      0.72       191\n",
      "\n",
      "    accuracy                           0.70       400\n",
      "   macro avg       0.71      0.70      0.70       400\n",
      "weighted avg       0.71      0.70      0.70       400\n",
      "\n"
     ]
    }
   ],
   "source": [
    "## Classification Report\n",
    "target_names = ['Negative', 'Positive']\n",
    "print(classification_report(y_test.tolist(), y_pred.argmax(axis=1), target_names = target_names))"
   ]
  },
  {
   "cell_type": "code",
   "execution_count": 111,
   "metadata": {
    "colab": {},
    "colab_type": "code",
    "executionInfo": {
     "elapsed": 2027,
     "status": "ok",
     "timestamp": 1598209814126,
     "user": {
      "displayName": "Md Rifatul Islam Rifat",
      "photoUrl": "",
      "userId": "17304548563437753137"
     },
     "user_tz": -360
    },
    "id": "6sKfA2TluJo0"
   },
   "outputs": [],
   "source": []
  }
 ],
 "metadata": {
  "accelerator": "GPU",
  "colab": {
   "collapsed_sections": [],
   "machine_shape": "hm",
   "name": "Sentiment_Analysis_BERT_frature_extraction.ipynb",
   "provenance": [
    {
     "file_id": "https://github.com/google-research/bert/blob/master/predicting_movie_reviews_with_bert_on_tf_hub.ipynb",
     "timestamp": 1582706432461
    }
   ]
  },
  "kernelspec": {
   "display_name": "Python 3",
   "language": "python",
   "name": "python3"
  },
  "language_info": {
   "codemirror_mode": {
    "name": "ipython",
    "version": 3
   },
   "file_extension": ".py",
   "mimetype": "text/x-python",
   "name": "python",
   "nbconvert_exporter": "python",
   "pygments_lexer": "ipython3",
   "version": "3.7.4"
  }
 },
 "nbformat": 4,
 "nbformat_minor": 1
}
