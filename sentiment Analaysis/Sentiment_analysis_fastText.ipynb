{
 "cells": [
  {
   "cell_type": "markdown",
   "metadata": {},
   "source": [
    "---"
   ]
  },
  {
   "cell_type": "markdown",
   "metadata": {},
   "source": [
    "## Khmer Sentiment Analysis with fastText\n",
    "---"
   ]
  },
  {
   "cell_type": "code",
   "execution_count": null,
   "metadata": {
    "colab": {
     "base_uri": "https://localhost:8080/",
     "height": 34
    },
    "colab_type": "code",
    "executionInfo": {
     "elapsed": 1421,
     "status": "ok",
     "timestamp": 1598200239596,
     "user": {
      "displayName": "Md Rifatul Islam Rifat",
      "photoUrl": "",
      "userId": "17304548563437753137"
     },
     "user_tz": -360
    },
    "id": "ObHnHtoigqA8",
    "outputId": "d4e52116-4a74-45c9-9c99-c8540913fbca"
   },
   "outputs": [
    {
     "name": "stdout",
     "output_type": "stream",
     "text": [
      "TensorFlow 1.x selected.\n"
     ]
    }
   ],
   "source": [
    "%tensorflow_version 1.x"
   ]
  },
  {
   "cell_type": "code",
   "execution_count": null,
   "metadata": {
    "colab": {
     "base_uri": "https://localhost:8080/",
     "height": 122
    },
    "colab_type": "code",
    "executionInfo": {
     "elapsed": 35071,
     "status": "ok",
     "timestamp": 1598209889889,
     "user": {
      "displayName": "Md Rifatul Islam Rifat",
      "photoUrl": "",
      "userId": "17304548563437753137"
     },
     "user_tz": -360
    },
    "id": "fulaxgf7_LvF",
    "outputId": "2d4e4483-709c-418a-977b-c8042e13a9f4"
   },
   "outputs": [],
   "source": [
    "from google.colab import drive\n",
    "drive.mount('/content/drive')"
   ]
  },
  {
   "cell_type": "code",
   "execution_count": 3,
   "metadata": {
    "colab": {},
    "colab_type": "code",
    "executionInfo": {
     "elapsed": 1769,
     "status": "ok",
     "timestamp": 1598209961602,
     "user": {
      "displayName": "Md Rifatul Islam Rifat",
      "photoUrl": "",
      "userId": "17304548563437753137"
     },
     "user_tz": -360
    },
    "id": "QUXZSmou-L7V"
   },
   "outputs": [],
   "source": [
    "from datetime import datetime\n",
    "import numpy as np\n",
    "import pandas as pd\n",
    "\n",
    "import warnings\n",
    "warnings.filterwarnings('ignore')"
   ]
  },
  {
   "cell_type": "markdown",
   "metadata": {},
   "source": [
    "### Load Train/Validation Data"
   ]
  },
  {
   "cell_type": "code",
   "execution_count": null,
   "metadata": {},
   "outputs": [],
   "source": [
    "data = pd.read_excel(\"/content/drive/sentiment_analysis_data_km.xlsx\", encoding=\"UTF-8\")"
   ]
  },
  {
   "cell_type": "code",
   "execution_count": 4,
   "metadata": {
    "colab": {
     "base_uri": "https://localhost:8080/",
     "height": 204
    },
    "colab_type": "code",
    "executionInfo": {
     "elapsed": 4509,
     "status": "ok",
     "timestamp": 1598206230965,
     "user": {
      "displayName": "Md Rifatul Islam Rifat",
      "photoUrl": "",
      "userId": "17304548563437753137"
     },
     "user_tz": -360
    },
    "id": "RGqKvm1gpA4F",
    "outputId": "05158c45-10cd-4716-dd38-a4b3ea403639"
   },
   "outputs": [
    {
     "data": {
      "text/html": [
       "<div>\n",
       "<style scoped>\n",
       "    .dataframe tbody tr th:only-of-type {\n",
       "        vertical-align: middle;\n",
       "    }\n",
       "\n",
       "    .dataframe tbody tr th {\n",
       "        vertical-align: top;\n",
       "    }\n",
       "\n",
       "    .dataframe thead th {\n",
       "        text-align: right;\n",
       "    }\n",
       "</style>\n",
       "<table border=\"1\" class=\"dataframe\">\n",
       "  <thead>\n",
       "    <tr style=\"text-align: right;\">\n",
       "      <th></th>\n",
       "      <th>source</th>\n",
       "      <th>texts</th>\n",
       "      <th>texts_km</th>\n",
       "      <th>text_prep</th>\n",
       "      <th>sentiment</th>\n",
       "    </tr>\n",
       "  </thead>\n",
       "  <tbody>\n",
       "    <tr>\n",
       "      <th>0</th>\n",
       "      <td>Yelp</td>\n",
       "      <td>Wow... Loved this place.</td>\n",
       "      <td>អីយ៉ា ... ស្រឡាញ់កន្លែងនេះ។</td>\n",
       "      <td>អីយ៉ា ស្រឡាញ់ កន្លែង នេះ</td>\n",
       "      <td>1</td>\n",
       "    </tr>\n",
       "    <tr>\n",
       "      <th>1</th>\n",
       "      <td>Yelp</td>\n",
       "      <td>Crust is not good.</td>\n",
       "      <td>សំបកគឺជាការមិនល្អ។</td>\n",
       "      <td>សំបក គឺ ជា ការ មិន ល្អ</td>\n",
       "      <td>0</td>\n",
       "    </tr>\n",
       "    <tr>\n",
       "      <th>2</th>\n",
       "      <td>Yelp</td>\n",
       "      <td>Not tasty and the texture was just nasty.</td>\n",
       "      <td>មិនហ៊ាននិងវាយនភាពនេះគឺអាក្រក់គ្រាន់តែជា។</td>\n",
       "      <td>មិន ហ៊ាន និង វាយន ភាព នេះ គឺ អាក្រក់ គ្រាន់ តែ ជា</td>\n",
       "      <td>0</td>\n",
       "    </tr>\n",
       "    <tr>\n",
       "      <th>3</th>\n",
       "      <td>Yelp</td>\n",
       "      <td>Stopped by during the late May bank holiday of...</td>\n",
       "      <td>បញ្ឈប់ដោយក្នុងអំឡុងពេលថ្ងៃឈប់សម្រាកចុងខែឧសភាបិ...</td>\n",
       "      <td>បញ្ឈប់ ដោយ ក្នុង អំឡុង ពេល ថ្ងៃ ឈប់ សម្រាក ចុង...</td>\n",
       "      <td>1</td>\n",
       "    </tr>\n",
       "    <tr>\n",
       "      <th>4</th>\n",
       "      <td>Yelp</td>\n",
       "      <td>The selection on the menu was great and so wer...</td>\n",
       "      <td>ការជ្រើសនៅលើម៉ឺនុយនេះគឺអស្ចារ្យណាស់ហើយត្រូវបាន...</td>\n",
       "      <td>ការ ជ្រើស នៅ លើ ម៉ឺនុយ នេះ គឺ អស្ចារ្យ ណាស់ ហើ...</td>\n",
       "      <td>1</td>\n",
       "    </tr>\n",
       "  </tbody>\n",
       "</table>\n",
       "</div>"
      ],
      "text/plain": [
       "  source  ... sentiment\n",
       "0   Yelp  ...         1\n",
       "1   Yelp  ...         0\n",
       "2   Yelp  ...         0\n",
       "3   Yelp  ...         1\n",
       "4   Yelp  ...         1\n",
       "\n",
       "[5 rows x 5 columns]"
      ]
     },
     "execution_count": 4,
     "metadata": {
      "tags": []
     },
     "output_type": "execute_result"
    }
   ],
   "source": [
    "data['text_prep'] = data['text_prep'].apply(lambda x: ' '.join(re.sub(r'[០១២៣៤៥៦៧៨៩។៕៖ៗ៘៙៚]+', ' ', x).strip().split()))\n",
    "data.drop_duplicates(subset=['text_prep'], inplace=True)\n",
    "data.head()"
   ]
  },
  {
   "cell_type": "code",
   "execution_count": 5,
   "metadata": {
    "colab": {},
    "colab_type": "code",
    "executionInfo": {
     "elapsed": 1124,
     "status": "ok",
     "timestamp": 1598206230967,
     "user": {
      "displayName": "Md Rifatul Islam Rifat",
      "photoUrl": "",
      "userId": "17304548563437753137"
     },
     "user_tz": -360
    },
    "id": "G3PVHB-MIseX"
   },
   "outputs": [],
   "source": [
    "data = data.reset_index()"
   ]
  },
  {
   "cell_type": "code",
   "execution_count": 6,
   "metadata": {
    "colab": {
     "base_uri": "https://localhost:8080/",
     "height": 34
    },
    "colab_type": "code",
    "executionInfo": {
     "elapsed": 826,
     "status": "ok",
     "timestamp": 1598206230968,
     "user": {
      "displayName": "Md Rifatul Islam Rifat",
      "photoUrl": "",
      "userId": "17304548563437753137"
     },
     "user_tz": -360
    },
    "id": "B0J_N6iGpO2b",
    "outputId": "971cd5ee-0a5c-4a14-d05d-7779e55087fa"
   },
   "outputs": [
    {
     "data": {
      "text/plain": [
       "(10710, 6)"
      ]
     },
     "execution_count": 6,
     "metadata": {
      "tags": []
     },
     "output_type": "execute_result"
    }
   ],
   "source": [
    "data.shape"
   ]
  },
  {
   "cell_type": "code",
   "execution_count": 7,
   "metadata": {
    "colab": {
     "base_uri": "https://localhost:8080/",
     "height": 68
    },
    "colab_type": "code",
    "executionInfo": {
     "elapsed": 1762,
     "status": "ok",
     "timestamp": 1598206295011,
     "user": {
      "displayName": "Md Rifatul Islam Rifat",
      "photoUrl": "",
      "userId": "17304548563437753137"
     },
     "user_tz": -360
    },
    "id": "r0R0kUrycwm8",
    "outputId": "a9cfea91-64ff-425c-87a1-1b5e5e855387"
   },
   "outputs": [
    {
     "data": {
      "text/plain": [
       "1    5367\n",
       "0    5343\n",
       "Name: sentiment, dtype: int64"
      ]
     },
     "execution_count": 7,
     "metadata": {
      "tags": []
     },
     "output_type": "execute_result"
    }
   ],
   "source": [
    "data['sentiment'].value_counts()"
   ]
  },
  {
   "cell_type": "markdown",
   "metadata": {
    "colab_type": "text",
    "id": "iv0cNKz9XkIj"
   },
   "source": [
    "### Load Test Data"
   ]
  },
  {
   "cell_type": "code",
   "execution_count": null,
   "metadata": {
    "colab": {},
    "colab_type": "code",
    "id": "2_mLq24tV_Bv"
   },
   "outputs": [],
   "source": [
    "# Load Test Data\n",
    "data_test = pd.read_excel(\"/content/sentiment_analysis_test_data.xlsx\")"
   ]
  },
  {
   "cell_type": "code",
   "execution_count": null,
   "metadata": {
    "colab": {},
    "colab_type": "code",
    "id": "JwLDK3hZ5bdw"
   },
   "outputs": [],
   "source": [
    "data_test['X_test'] = data_test['X_test'].apply(lambda x: ' '.join(re.sub(r'[០១២៣៤៥៦៧៨៩។៕៖ៗ៘៙៚]+', ' ', x).strip().split()))"
   ]
  },
  {
   "cell_type": "code",
   "execution_count": null,
   "metadata": {
    "colab": {
     "base_uri": "https://localhost:8080/",
     "height": 204
    },
    "colab_type": "code",
    "executionInfo": {
     "elapsed": 1224,
     "status": "ok",
     "timestamp": 1598205167332,
     "user": {
      "displayName": "Md Rifatul Islam Rifat",
      "photoUrl": "",
      "userId": "17304548563437753137"
     },
     "user_tz": -360
    },
    "id": "01D7ddQ0V_5U",
    "outputId": "1af38775-9211-42b3-b418-d918d1d5b627"
   },
   "outputs": [
    {
     "data": {
      "text/html": [
       "<div>\n",
       "<style scoped>\n",
       "    .dataframe tbody tr th:only-of-type {\n",
       "        vertical-align: middle;\n",
       "    }\n",
       "\n",
       "    .dataframe tbody tr th {\n",
       "        vertical-align: top;\n",
       "    }\n",
       "\n",
       "    .dataframe thead th {\n",
       "        text-align: right;\n",
       "    }\n",
       "</style>\n",
       "<table border=\"1\" class=\"dataframe\">\n",
       "  <thead>\n",
       "    <tr style=\"text-align: right;\">\n",
       "      <th></th>\n",
       "      <th>texts</th>\n",
       "      <th>X_test</th>\n",
       "      <th>y_test</th>\n",
       "    </tr>\n",
       "  </thead>\n",
       "  <tbody>\n",
       "    <tr>\n",
       "      <th>0</th>\n",
       "      <td>ខ្ញុំត្រូវចាកចេញពីការងារ នឹងមិនអាចទៅរួចទេ។ ដូច...</td>\n",
       "      <td>ខ្ញុំ ត្រូវ ចាក ចេញ ពី ការងារ នឹង មិន អាច ទៅ រ...</td>\n",
       "      <td>0</td>\n",
       "    </tr>\n",
       "    <tr>\n",
       "      <th>1</th>\n",
       "      <td>សួស្តី។ យើងកំពុងហោះហើរ SWA ថ្ងៃនេះ។ កូនប្រុសរប...</td>\n",
       "      <td>សួស្តី យើង កំពុង ហោះ ហើរ ថ្ងៃ នេះ កូន ប្រុស រប...</td>\n",
       "      <td>0</td>\n",
       "    </tr>\n",
       "    <tr>\n",
       "      <th>2</th>\n",
       "      <td>សម្លៀកបំពាក់នេះមើលទៅហើយមានអារម្មណ៍ថាថោក។ សម្ភា...</td>\n",
       "      <td>សម្លៀកបំពាក់ នេះ មើល ទៅ ហើយ មាន អារម្មណ៍ ថា ថោ...</td>\n",
       "      <td>0</td>\n",
       "    </tr>\n",
       "    <tr>\n",
       "      <th>3</th>\n",
       "      <td>ធំពេកហើយវាមិនមានសុវត្ថិភាពគ្រប់គ្រាន់ពាក់សម្រា...</td>\n",
       "      <td>ធំ ពេក ហើយ វា មិន មាន សុវត្ថិ ភាព គ្រប់ គ្រាន់...</td>\n",
       "      <td>0</td>\n",
       "    </tr>\n",
       "    <tr>\n",
       "      <th>4</th>\n",
       "      <td>តើអ្នកដឹងទេនៅពេលផ្លូវថ្មីពី HOU ទៅ Aruba &amp;amp ...</td>\n",
       "      <td>តើ អ្នក ដឹង ទេ នៅ ពេល ផ្លូវ ថ្មី ពី ទៅ នឹង អាច...</td>\n",
       "      <td>0</td>\n",
       "    </tr>\n",
       "  </tbody>\n",
       "</table>\n",
       "</div>"
      ],
      "text/plain": [
       "                                               texts  ... y_test\n",
       "0  ខ្ញុំត្រូវចាកចេញពីការងារ នឹងមិនអាចទៅរួចទេ។ ដូច...  ...      0\n",
       "1  សួស្តី។ យើងកំពុងហោះហើរ SWA ថ្ងៃនេះ។ កូនប្រុសរប...  ...      0\n",
       "2  សម្លៀកបំពាក់នេះមើលទៅហើយមានអារម្មណ៍ថាថោក។ សម្ភា...  ...      0\n",
       "3  ធំពេកហើយវាមិនមានសុវត្ថិភាពគ្រប់គ្រាន់ពាក់សម្រា...  ...      0\n",
       "4  តើអ្នកដឹងទេនៅពេលផ្លូវថ្មីពី HOU ទៅ Aruba &amp ...  ...      0\n",
       "\n",
       "[5 rows x 3 columns]"
      ]
     },
     "execution_count": 76,
     "metadata": {
      "tags": []
     },
     "output_type": "execute_result"
    }
   ],
   "source": [
    "data_test.head()"
   ]
  },
  {
   "cell_type": "code",
   "execution_count": 17,
   "metadata": {
    "colab": {
     "base_uri": "https://localhost:8080/",
     "height": 68
    },
    "colab_type": "code",
    "executionInfo": {
     "elapsed": 885,
     "status": "ok",
     "timestamp": 1598210040969,
     "user": {
      "displayName": "Md Rifatul Islam Rifat",
      "photoUrl": "",
      "userId": "17304548563437753137"
     },
     "user_tz": -360
    },
    "id": "pcsxuxbUxZ3P",
    "outputId": "57cd3495-ea74-486b-e650-7e9156f31944"
   },
   "outputs": [
    {
     "data": {
      "text/plain": [
       "0    209\n",
       "1    191\n",
       "Name: y_test, dtype: int64"
      ]
     },
     "execution_count": 17,
     "metadata": {
      "tags": []
     },
     "output_type": "execute_result"
    }
   ],
   "source": [
    "data_test.y_test.value_counts()"
   ]
  },
  {
   "cell_type": "code",
   "execution_count": 21,
   "metadata": {
    "colab": {},
    "colab_type": "code",
    "executionInfo": {
     "elapsed": 1157,
     "status": "ok",
     "timestamp": 1598210197184,
     "user": {
      "displayName": "Md Rifatul Islam Rifat",
      "photoUrl": "",
      "userId": "17304548563437753137"
     },
     "user_tz": -360
    },
    "id": "EXIHo-7Ow6h3"
   },
   "outputs": [],
   "source": [
    "data_test['texts_tokenized'] = data_test.X_test.apply(lambda x: x.split())"
   ]
  },
  {
   "cell_type": "code",
   "execution_count": 22,
   "metadata": {
    "colab": {
     "base_uri": "https://localhost:8080/",
     "height": 142
    },
    "colab_type": "code",
    "executionInfo": {
     "elapsed": 904,
     "status": "ok",
     "timestamp": 1598210268423,
     "user": {
      "displayName": "Md Rifatul Islam Rifat",
      "photoUrl": "",
      "userId": "17304548563437753137"
     },
     "user_tz": -360
    },
    "id": "mEq9B9lGwrUM",
    "outputId": "8e48a687-ddad-46d6-9e6c-3e05542ae60e"
   },
   "outputs": [
    {
     "data": {
      "text/html": [
       "<div>\n",
       "<style scoped>\n",
       "    .dataframe tbody tr th:only-of-type {\n",
       "        vertical-align: middle;\n",
       "    }\n",
       "\n",
       "    .dataframe tbody tr th {\n",
       "        vertical-align: top;\n",
       "    }\n",
       "\n",
       "    .dataframe thead th {\n",
       "        text-align: right;\n",
       "    }\n",
       "</style>\n",
       "<table border=\"1\" class=\"dataframe\">\n",
       "  <thead>\n",
       "    <tr style=\"text-align: right;\">\n",
       "      <th></th>\n",
       "      <th>texts</th>\n",
       "      <th>X_test</th>\n",
       "      <th>y_test</th>\n",
       "      <th>texts_tokenized</th>\n",
       "    </tr>\n",
       "  </thead>\n",
       "  <tbody>\n",
       "    <tr>\n",
       "      <th>0</th>\n",
       "      <td>ខ្ញុំត្រូវចាកចេញពីការងារ នឹងមិនអាចទៅរួចទេ។ ដូច...</td>\n",
       "      <td>ខ្ញុំ ត្រូវ ចាក ចេញ ពី ការងារ នឹង មិន អាច ទៅ រ...</td>\n",
       "      <td>0</td>\n",
       "      <td>[ខ្ញុំ, ត្រូវ, ចាក, ចេញ, ពី, ការងារ, នឹង, មិន,...</td>\n",
       "    </tr>\n",
       "    <tr>\n",
       "      <th>1</th>\n",
       "      <td>សួស្តី។ យើងកំពុងហោះហើរ SWA ថ្ងៃនេះ។ កូនប្រុសរប...</td>\n",
       "      <td>សួស្តី យើង កំពុង ហោះ ហើរ ថ្ងៃ នេះ កូន ប្រុស រប...</td>\n",
       "      <td>0</td>\n",
       "      <td>[សួស្តី, យើង, កំពុង, ហោះ, ហើរ, ថ្ងៃ, នេះ, កូន,...</td>\n",
       "    </tr>\n",
       "    <tr>\n",
       "      <th>2</th>\n",
       "      <td>សម្លៀកបំពាក់នេះមើលទៅហើយមានអារម្មណ៍ថាថោក។ សម្ភា...</td>\n",
       "      <td>សម្លៀកបំពាក់ នេះ មើល ទៅ ហើយ មាន អារម្មណ៍ ថា ថោ...</td>\n",
       "      <td>0</td>\n",
       "      <td>[សម្លៀកបំពាក់, នេះ, មើល, ទៅ, ហើយ, មាន, អារម្មណ...</td>\n",
       "    </tr>\n",
       "  </tbody>\n",
       "</table>\n",
       "</div>"
      ],
      "text/plain": [
       "                                               texts  ...                                    texts_tokenized\n",
       "0  ខ្ញុំត្រូវចាកចេញពីការងារ នឹងមិនអាចទៅរួចទេ។ ដូច...  ...  [ខ្ញុំ, ត្រូវ, ចាក, ចេញ, ពី, ការងារ, នឹង, មិន,...\n",
       "1  សួស្តី។ យើងកំពុងហោះហើរ SWA ថ្ងៃនេះ។ កូនប្រុសរប...  ...  [សួស្តី, យើង, កំពុង, ហោះ, ហើរ, ថ្ងៃ, នេះ, កូន,...\n",
       "2  សម្លៀកបំពាក់នេះមើលទៅហើយមានអារម្មណ៍ថាថោក។ សម្ភា...  ...  [សម្លៀកបំពាក់, នេះ, មើល, ទៅ, ហើយ, មាន, អារម្មណ...\n",
       "\n",
       "[3 rows x 4 columns]"
      ]
     },
     "execution_count": 22,
     "metadata": {
      "tags": []
     },
     "output_type": "execute_result"
    }
   ],
   "source": [
    "data_test.head(3)"
   ]
  },
  {
   "cell_type": "markdown",
   "metadata": {
    "colab_type": "text",
    "id": "Ij79VXKY-L7t"
   },
   "source": [
    "### Data Partitioning"
   ]
  },
  {
   "cell_type": "code",
   "execution_count": null,
   "metadata": {},
   "outputs": [],
   "source": [
    "X = data['text_prep']\n",
    "y = data['sentiment']"
   ]
  },
  {
   "cell_type": "code",
   "execution_count": 23,
   "metadata": {
    "colab": {
     "base_uri": "https://localhost:8080/",
     "height": 85
    },
    "colab_type": "code",
    "executionInfo": {
     "elapsed": 985,
     "status": "ok",
     "timestamp": 1598210329982,
     "user": {
      "displayName": "Md Rifatul Islam Rifat",
      "photoUrl": "",
      "userId": "17304548563437753137"
     },
     "user_tz": -360
    },
    "id": "pRozZVGC-L7t",
    "outputId": "97567364-e472-421c-bed1-9c591699707a"
   },
   "outputs": [
    {
     "name": "stdout",
     "output_type": "stream",
     "text": [
      "\n",
      "Training shape:   8568\n",
      "Validation shape: 2142\n",
      "Testing shape:    400\n"
     ]
    }
   ],
   "source": [
    "from sklearn.model_selection import train_test_split\n",
    "X_train, X_val, y_train, y_val = train_test_split(X, y, test_size=0.2, random_state=1234, shuffle=True, stratify=y)\n",
    "\n",
    "X_test, y_test = data_test.texts_tokenized, data_test.y_test\n",
    "\n",
    "print(\"\"\"\n",
    "Training shape:   {}\n",
    "Validation shape: {}\n",
    "Testing shape:    {}\"\"\".format(X_train.shape[0], X_val.shape[0], X_test.shape[0]))"
   ]
  },
  {
   "cell_type": "markdown",
   "metadata": {
    "colab_type": "text",
    "id": "WMbQmY2C-L8L"
   },
   "source": [
    "### Load fastText pre-trained model"
   ]
  },
  {
   "cell_type": "code",
   "execution_count": 27,
   "metadata": {
    "colab": {},
    "colab_type": "code",
    "executionInfo": {
     "elapsed": 65622,
     "status": "ok",
     "timestamp": 1598210445588,
     "user": {
      "displayName": "Md Rifatul Islam Rifat",
      "photoUrl": "",
      "userId": "17304548563437753137"
     },
     "user_tz": -360
    },
    "id": "i6KTQlNs-L8L"
   },
   "outputs": [],
   "source": [
    "from gensim.models import KeyedVectors\n",
    "\n",
    "path = \"/content/drive/cc.km.300.vec\"\n",
    "fastText_model = KeyedVectors.load_word2vec_format(path, binary=False)"
   ]
  },
  {
   "cell_type": "code",
   "execution_count": 28,
   "metadata": {
    "colab": {
     "base_uri": "https://localhost:8080/",
     "height": 34
    },
    "colab_type": "code",
    "executionInfo": {
     "elapsed": 64830,
     "status": "ok",
     "timestamp": 1598210445614,
     "user": {
      "displayName": "Md Rifatul Islam Rifat",
      "photoUrl": "",
      "userId": "17304548563437753137"
     },
     "user_tz": -360
    },
    "id": "RmdrYpgQ-L8Q",
    "outputId": "118dbe93-60bd-4758-ae82-8ef7760d7f59"
   },
   "outputs": [
    {
     "data": {
      "text/plain": [
       "242732"
      ]
     },
     "execution_count": 28,
     "metadata": {
      "tags": []
     },
     "output_type": "execute_result"
    }
   ],
   "source": [
    "len(fastText_model.vocab)"
   ]
  },
  {
   "cell_type": "code",
   "execution_count": 29,
   "metadata": {
    "colab": {
     "base_uri": "https://localhost:8080/",
     "height": 34
    },
    "colab_type": "code",
    "executionInfo": {
     "elapsed": 64528,
     "status": "ok",
     "timestamp": 1598210445617,
     "user": {
      "displayName": "Md Rifatul Islam Rifat",
      "photoUrl": "",
      "userId": "17304548563437753137"
     },
     "user_tz": -360
    },
    "id": "dnk--unv-L8S",
    "outputId": "d165e885-26b4-43c4-8279-e788e4da95f7",
    "scrolled": true
   },
   "outputs": [
    {
     "data": {
      "text/plain": [
       "300"
      ]
     },
     "execution_count": 29,
     "metadata": {
      "tags": []
     },
     "output_type": "execute_result"
    }
   ],
   "source": [
    "fastText_model.vector_size"
   ]
  },
  {
   "cell_type": "markdown",
   "metadata": {
    "colab_type": "text",
    "id": "wMIA82kC-L8T"
   },
   "source": [
    "### Feature Extraction"
   ]
  },
  {
   "cell_type": "code",
   "execution_count": 30,
   "metadata": {
    "colab": {},
    "colab_type": "code",
    "executionInfo": {
     "elapsed": 58770,
     "status": "ok",
     "timestamp": 1598210445620,
     "user": {
      "displayName": "Md Rifatul Islam Rifat",
      "photoUrl": "",
      "userId": "17304548563437753137"
     },
     "user_tz": -360
    },
    "id": "sEkP1tQ5-L8U"
   },
   "outputs": [],
   "source": [
    "def embedding_vectorizer(fastText_model, docs):\n",
    "    mean_vecs = []\n",
    "    for instance in docs:\n",
    "        vecs = []\n",
    "        for word in instance:\n",
    "            if word in fastText_model.vocab:\n",
    "                vecs.append(fastText_model[word])\n",
    "            else:\n",
    "                vecs.append(np.zeros(fastText_model.vector_size))\n",
    "                \n",
    "        mean_vecs.append(np.mean(vecs, axis=0))\n",
    "        \n",
    "    return mean_vecs"
   ]
  },
  {
   "cell_type": "code",
   "execution_count": 31,
   "metadata": {
    "colab": {
     "base_uri": "https://localhost:8080/",
     "height": 51
    },
    "colab_type": "code",
    "executionInfo": {
     "elapsed": 60109,
     "status": "ok",
     "timestamp": 1598210447867,
     "user": {
      "displayName": "Md Rifatul Islam Rifat",
      "photoUrl": "",
      "userId": "17304548563437753137"
     },
     "user_tz": -360
    },
    "id": "1uCvu8He-L8Y",
    "outputId": "b44dfa89-229e-489e-8e5f-9bbbb1321591",
    "scrolled": true
   },
   "outputs": [
    {
     "name": "stdout",
     "output_type": "stream",
     "text": [
      "CPU times: user 2.68 s, sys: 119 ms, total: 2.8 s\n",
      "Wall time: 2.8 s\n"
     ]
    }
   ],
   "source": [
    "%%time\n",
    "x_train_vectorized = pd.DataFrame(embedding_vectorizer(fastText_model, X_train)).add_prefix('col_')\n",
    "\n",
    "x_val_vectorized = pd.DataFrame(embedding_vectorizer(fastText_model, X_val)).add_prefix('col_')\n",
    "x_test_vectorized = pd.DataFrame(embedding_vectorizer(fastText_model, X_test)).add_prefix('col_')"
   ]
  },
  {
   "cell_type": "markdown",
   "metadata": {
    "colab_type": "text",
    "id": "YR9U6sBk-L8d"
   },
   "source": [
    "### Model Architecture"
   ]
  },
  {
   "cell_type": "code",
   "execution_count": 32,
   "metadata": {
    "colab": {
     "base_uri": "https://localhost:8080/",
     "height": 34
    },
    "colab_type": "code",
    "executionInfo": {
     "elapsed": 6097,
     "status": "ok",
     "timestamp": 1598210472121,
     "user": {
      "displayName": "Md Rifatul Islam Rifat",
      "photoUrl": "",
      "userId": "17304548563437753137"
     },
     "user_tz": -360
    },
    "id": "0BYz0Mrt-L8e",
    "outputId": "7290748a-232c-48a3-d108-47a7c653445a"
   },
   "outputs": [
    {
     "name": "stderr",
     "output_type": "stream",
     "text": [
      "Using TensorFlow backend.\n"
     ]
    }
   ],
   "source": [
    "import tensorflow as tf\n",
    "import random as rn\n",
    "\n",
    "from keras.models import Sequential\n",
    "from keras.layers import Dense, Dropout\n",
    "from keras.callbacks import History\n",
    "from keras.optimizers import Adam, SGD"
   ]
  },
  {
   "cell_type": "code",
   "execution_count": 33,
   "metadata": {
    "colab": {},
    "colab_type": "code",
    "executionInfo": {
     "elapsed": 4039,
     "status": "ok",
     "timestamp": 1598210472125,
     "user": {
      "displayName": "Md Rifatul Islam Rifat",
      "photoUrl": "",
      "userId": "17304548563437753137"
     },
     "user_tz": -360
    },
    "id": "FAoPNo-h-L8g"
   },
   "outputs": [],
   "source": [
    "from keras.utils import to_categorical\n",
    "\n",
    "y_train_k = to_categorical(y_train, num_classes=2)\n",
    "y_val_k = to_categorical(y_val, num_classes=2)\n",
    "y_test_k = to_categorical(y_test, num_classes=2)"
   ]
  },
  {
   "cell_type": "code",
   "execution_count": 115,
   "metadata": {
    "colab": {
     "base_uri": "https://localhost:8080/",
     "height": 1000
    },
    "colab_type": "code",
    "executionInfo": {
     "elapsed": 8306,
     "status": "ok",
     "timestamp": 1598212497823,
     "user": {
      "displayName": "Md Rifatul Islam Rifat",
      "photoUrl": "",
      "userId": "17304548563437753137"
     },
     "user_tz": -360
    },
    "id": "J_BidpXd-L8i",
    "outputId": "af1487c0-89b0-4845-a292-ff5e02103e34",
    "scrolled": true
   },
   "outputs": [
    {
     "name": "stdout",
     "output_type": "stream",
     "text": [
      "Train on 8568 samples, validate on 2142 samples\n",
      "Epoch 1/44\n",
      "8568/8568 [==============================] - 1s 97us/step - loss: 0.7107 - accuracy: 0.4959 - val_loss: 0.7011 - val_accuracy: 0.5033\n",
      "Epoch 2/44\n",
      "8568/8568 [==============================] - 0s 11us/step - loss: 0.6836 - accuracy: 0.5493 - val_loss: 0.6843 - val_accuracy: 0.5065\n",
      "Epoch 3/44\n",
      "8568/8568 [==============================] - 0s 10us/step - loss: 0.6782 - accuracy: 0.5321 - val_loss: 0.6651 - val_accuracy: 0.6648\n",
      "Epoch 4/44\n",
      "8568/8568 [==============================] - 0s 10us/step - loss: 0.6578 - accuracy: 0.6333 - val_loss: 0.6469 - val_accuracy: 0.6368\n",
      "Epoch 5/44\n",
      "8568/8568 [==============================] - 0s 10us/step - loss: 0.6331 - accuracy: 0.6665 - val_loss: 0.6194 - val_accuracy: 0.6685\n",
      "Epoch 6/44\n",
      "8568/8568 [==============================] - 0s 10us/step - loss: 0.6071 - accuracy: 0.6806 - val_loss: 0.6056 - val_accuracy: 0.6751\n",
      "Epoch 7/44\n",
      "8568/8568 [==============================] - 0s 10us/step - loss: 0.5866 - accuracy: 0.7034 - val_loss: 0.5766 - val_accuracy: 0.7162\n",
      "Epoch 8/44\n",
      "8568/8568 [==============================] - 0s 10us/step - loss: 0.5605 - accuracy: 0.7241 - val_loss: 0.5548 - val_accuracy: 0.7400\n",
      "Epoch 9/44\n",
      "8568/8568 [==============================] - 0s 10us/step - loss: 0.5702 - accuracy: 0.7010 - val_loss: 0.5825 - val_accuracy: 0.7017\n",
      "Epoch 10/44\n",
      "8568/8568 [==============================] - 0s 10us/step - loss: 0.5616 - accuracy: 0.7074 - val_loss: 0.5304 - val_accuracy: 0.7591\n",
      "Epoch 11/44\n",
      "8568/8568 [==============================] - 0s 10us/step - loss: 0.5409 - accuracy: 0.7386 - val_loss: 0.5295 - val_accuracy: 0.7530\n",
      "Epoch 12/44\n",
      "8568/8568 [==============================] - 0s 10us/step - loss: 0.5340 - accuracy: 0.7390 - val_loss: 0.5432 - val_accuracy: 0.7348\n",
      "Epoch 13/44\n",
      "8568/8568 [==============================] - 0s 10us/step - loss: 0.5262 - accuracy: 0.7466 - val_loss: 0.5481 - val_accuracy: 0.7120\n",
      "Epoch 14/44\n",
      "8568/8568 [==============================] - 0s 10us/step - loss: 0.5313 - accuracy: 0.7360 - val_loss: 0.5229 - val_accuracy: 0.7558\n",
      "Epoch 15/44\n",
      "8568/8568 [==============================] - 0s 10us/step - loss: 0.5206 - accuracy: 0.7468 - val_loss: 0.5121 - val_accuracy: 0.7624\n",
      "Epoch 16/44\n",
      "8568/8568 [==============================] - 0s 10us/step - loss: 0.5160 - accuracy: 0.7583 - val_loss: 0.5200 - val_accuracy: 0.7460\n",
      "Epoch 17/44\n",
      "8568/8568 [==============================] - 0s 10us/step - loss: 0.5152 - accuracy: 0.7507 - val_loss: 0.5132 - val_accuracy: 0.7619\n",
      "Epoch 18/44\n",
      "8568/8568 [==============================] - 0s 10us/step - loss: 0.5058 - accuracy: 0.7655 - val_loss: 0.5033 - val_accuracy: 0.7694\n",
      "Epoch 19/44\n",
      "8568/8568 [==============================] - 0s 10us/step - loss: 0.5000 - accuracy: 0.7724 - val_loss: 0.5024 - val_accuracy: 0.7684\n",
      "Epoch 20/44\n",
      "8568/8568 [==============================] - 0s 10us/step - loss: 0.4995 - accuracy: 0.7679 - val_loss: 0.5017 - val_accuracy: 0.7680\n",
      "Epoch 21/44\n",
      "8568/8568 [==============================] - 0s 10us/step - loss: 0.4965 - accuracy: 0.7681 - val_loss: 0.5155 - val_accuracy: 0.7652\n",
      "Epoch 22/44\n",
      "8568/8568 [==============================] - 0s 10us/step - loss: 0.5028 - accuracy: 0.7610 - val_loss: 0.4977 - val_accuracy: 0.7698\n",
      "Epoch 23/44\n",
      "8568/8568 [==============================] - 0s 10us/step - loss: 0.4967 - accuracy: 0.7675 - val_loss: 0.5197 - val_accuracy: 0.7432\n",
      "Epoch 24/44\n",
      "8568/8568 [==============================] - 0s 11us/step - loss: 0.5007 - accuracy: 0.7565 - val_loss: 0.4986 - val_accuracy: 0.7675\n",
      "Epoch 25/44\n",
      "8568/8568 [==============================] - 0s 10us/step - loss: 0.4921 - accuracy: 0.7712 - val_loss: 0.5003 - val_accuracy: 0.7675\n",
      "Epoch 26/44\n",
      "8568/8568 [==============================] - 0s 10us/step - loss: 0.4907 - accuracy: 0.7704 - val_loss: 0.4930 - val_accuracy: 0.7698\n",
      "Epoch 27/44\n",
      "8568/8568 [==============================] - 0s 10us/step - loss: 0.4873 - accuracy: 0.7753 - val_loss: 0.5041 - val_accuracy: 0.7591\n",
      "Epoch 28/44\n",
      "8568/8568 [==============================] - 0s 10us/step - loss: 0.4880 - accuracy: 0.7684 - val_loss: 0.4896 - val_accuracy: 0.7773\n",
      "Epoch 29/44\n",
      "8568/8568 [==============================] - 0s 10us/step - loss: 0.4827 - accuracy: 0.7758 - val_loss: 0.4884 - val_accuracy: 0.7703\n",
      "Epoch 30/44\n",
      "8568/8568 [==============================] - 0s 10us/step - loss: 0.4797 - accuracy: 0.7768 - val_loss: 0.4857 - val_accuracy: 0.7759\n",
      "Epoch 31/44\n",
      "8568/8568 [==============================] - 0s 10us/step - loss: 0.4737 - accuracy: 0.7823 - val_loss: 0.4838 - val_accuracy: 0.7745\n",
      "Epoch 32/44\n",
      "8568/8568 [==============================] - 0s 10us/step - loss: 0.4717 - accuracy: 0.7823 - val_loss: 0.4822 - val_accuracy: 0.7703\n",
      "Epoch 33/44\n",
      "8568/8568 [==============================] - 0s 10us/step - loss: 0.4680 - accuracy: 0.7833 - val_loss: 0.4821 - val_accuracy: 0.7745\n",
      "Epoch 34/44\n",
      "8568/8568 [==============================] - 0s 10us/step - loss: 0.4691 - accuracy: 0.7810 - val_loss: 0.5018 - val_accuracy: 0.7647\n",
      "Epoch 35/44\n",
      "8568/8568 [==============================] - 0s 10us/step - loss: 0.4929 - accuracy: 0.7614 - val_loss: 0.4806 - val_accuracy: 0.7717\n",
      "Epoch 36/44\n",
      "8568/8568 [==============================] - 0s 10us/step - loss: 0.4783 - accuracy: 0.7732 - val_loss: 0.4828 - val_accuracy: 0.7754\n",
      "Epoch 37/44\n",
      "8568/8568 [==============================] - 0s 10us/step - loss: 0.4784 - accuracy: 0.7721 - val_loss: 0.4868 - val_accuracy: 0.7764\n",
      "Epoch 38/44\n",
      "8568/8568 [==============================] - 0s 10us/step - loss: 0.4798 - accuracy: 0.7701 - val_loss: 0.4864 - val_accuracy: 0.7764\n",
      "Epoch 39/44\n",
      "8568/8568 [==============================] - 0s 10us/step - loss: 0.4708 - accuracy: 0.7799 - val_loss: 0.4931 - val_accuracy: 0.7694\n",
      "Epoch 40/44\n",
      "8568/8568 [==============================] - 0s 10us/step - loss: 0.4715 - accuracy: 0.7822 - val_loss: 0.4859 - val_accuracy: 0.7750\n",
      "Epoch 41/44\n",
      "8568/8568 [==============================] - 0s 10us/step - loss: 0.4749 - accuracy: 0.7761 - val_loss: 0.4782 - val_accuracy: 0.7759\n",
      "Epoch 42/44\n",
      "8568/8568 [==============================] - 0s 9us/step - loss: 0.4670 - accuracy: 0.7821 - val_loss: 0.4810 - val_accuracy: 0.7745\n",
      "Epoch 43/44\n",
      "8568/8568 [==============================] - 0s 10us/step - loss: 0.4649 - accuracy: 0.7820 - val_loss: 0.4836 - val_accuracy: 0.7754\n",
      "Epoch 44/44\n",
      "8568/8568 [==============================] - 0s 9us/step - loss: 0.4640 - accuracy: 0.7829 - val_loss: 0.4866 - val_accuracy: 0.7708\n"
     ]
    },
    {
     "data": {
      "text/plain": [
       "<keras.callbacks.callbacks.History at 0x7f19477cfc88>"
      ]
     },
     "execution_count": 115,
     "metadata": {
      "tags": []
     },
     "output_type": "execute_result"
    }
   ],
   "source": [
    "np.random.seed(2)\n",
    "rn.seed(3)\n",
    "history = History()\n",
    "\n",
    "model = Sequential()\n",
    "model.add(Dense(1024, input_dim=300, activation=\"tanh\"))\n",
    "model.add(Dropout(0.1))\n",
    "model.add(Dense(512, activation=\"tanh\"))\n",
    "model.add(Dropout(0.1))\n",
    "model.add(Dense(256, activation=\"tanh\"))\n",
    "model.add(Dropout(0.1))\n",
    "model.add(Dense(128, activation=\"tanh\"))\n",
    "# model.add(Dropout(0.1))\n",
    "model.add(Dense(2, activation=\"softmax\"))\n",
    "\n",
    "model.compile(optimizer=Adam(0.001), loss=\"binary_crossentropy\", metrics=['accuracy'])\n",
    "\n",
    "model.fit(np.array(x_train_vectorized), np.array(y_train_k), \n",
    "          validation_data=(np.array(x_val_vectorized), np.array(y_val_k)), \n",
    "          epochs=44, \n",
    "          batch_size=3000, \n",
    "          shuffle=True, \n",
    "          callbacks=[history], \n",
    "          verbose=True)"
   ]
  },
  {
   "cell_type": "code",
   "execution_count": 117,
   "metadata": {
    "colab": {},
    "colab_type": "code",
    "executionInfo": {
     "elapsed": 2025,
     "status": "ok",
     "timestamp": 1598212578319,
     "user": {
      "displayName": "Md Rifatul Islam Rifat",
      "photoUrl": "",
      "userId": "17304548563437753137"
     },
     "user_tz": -360
    },
    "id": "-Obtqoqmxd17"
   },
   "outputs": [],
   "source": [
    "## for learning curve\n",
    "his_train_loss = history.history['loss']\n",
    "his_val_loss = history.history['val_loss']"
   ]
  },
  {
   "cell_type": "code",
   "execution_count": 104,
   "metadata": {
    "colab": {
     "base_uri": "https://localhost:8080/",
     "height": 293
    },
    "colab_type": "code",
    "executionInfo": {
     "elapsed": 1485,
     "status": "ok",
     "timestamp": 1598212028932,
     "user": {
      "displayName": "Md Rifatul Islam Rifat",
      "photoUrl": "",
      "userId": "17304548563437753137"
     },
     "user_tz": -360
    },
    "id": "56lcGaowyE-z",
    "outputId": "1485a1b7-c625-4d63-8bce-0412f07e2303"
   },
   "outputs": [
    {
     "data": {
      "image/png": "[encoded data removed]",
      "text/plain": [
       "<Figure size 576x288 with 1 Axes>"
      ]
     },
     "metadata": {
      "tags": []
     },
     "output_type": "display_data"
    }
   ],
   "source": [
    "## Plot learning curve\n",
    "import matplotlib.pyplot as plt\n",
    "sns.set()\n",
    "fig, ax = plt.subplots(figsize=(8,4))\n",
    "plt.plot(his_train_loss[0:35],'darkorange')\n",
    "plt.plot(his_val_loss[0:35], 'seagreen')\n",
    "\n",
    "plt.title(\"Loss vs Epochs\", fontdict={'fontsize': 12})\n",
    "plt.ylabel('Loss')\n",
    "plt.xlabel('Epochs')\n",
    "\n",
    "plt.legend(['Train', 'Validation'], loc='upper right')\n",
    "plt.tight_layout()\n",
    "# plt.savefig(\"sentiment_loss_vs_epochs_fastText.jpg\", dpi=300, bbox_inches='tight')\n",
    "plt.show()"
   ]
  },
  {
   "cell_type": "code",
   "execution_count": 118,
   "metadata": {
    "colab": {},
    "colab_type": "code",
    "executionInfo": {
     "elapsed": 1691,
     "status": "ok",
     "timestamp": 1598212585592,
     "user": {
      "displayName": "Md Rifatul Islam Rifat",
      "photoUrl": "",
      "userId": "17304548563437753137"
     },
     "user_tz": -360
    },
    "id": "Jm3Zz4lZ-L8n"
   },
   "outputs": [],
   "source": [
    "loss, test_accuracy = model.evaluate(np.array(x_test_vectorized), np.array(y_test_k), verbose=0)"
   ]
  },
  {
   "cell_type": "code",
   "execution_count": 121,
   "metadata": {
    "colab": {
     "base_uri": "https://localhost:8080/",
     "height": 193
    },
    "colab_type": "code",
    "executionInfo": {
     "elapsed": 806,
     "status": "ok",
     "timestamp": 1598212594721,
     "user": {
      "displayName": "Md Rifatul Islam Rifat",
      "photoUrl": "",
      "userId": "17304548563437753137"
     },
     "user_tz": -360
    },
    "id": "gVv6-H2g-L8p",
    "outputId": "636a6e9a-bf7c-44ec-9faa-bef7839a1a46",
    "scrolled": true
   },
   "outputs": [
    {
     "name": "stdout",
     "output_type": "stream",
     "text": [
      "Training Accuracy: 0.783\n",
      "Validation Accuracy: 0.771\n",
      "Test Accuracy: 0.767\n"
     ]
    },
    {
     "data": {
      "text/html": [
       "<div>\n",
       "<style scoped>\n",
       "    .dataframe tbody tr th:only-of-type {\n",
       "        vertical-align: middle;\n",
       "    }\n",
       "\n",
       "    .dataframe tbody tr th {\n",
       "        vertical-align: top;\n",
       "    }\n",
       "\n",
       "    .dataframe thead th {\n",
       "        text-align: right;\n",
       "    }\n",
       "</style>\n",
       "<table border=\"1\" class=\"dataframe\">\n",
       "  <thead>\n",
       "    <tr style=\"text-align: right;\">\n",
       "      <th></th>\n",
       "      <th>Accuracy</th>\n",
       "    </tr>\n",
       "  </thead>\n",
       "  <tbody>\n",
       "    <tr>\n",
       "      <th>Training</th>\n",
       "      <td>0.783</td>\n",
       "    </tr>\n",
       "    <tr>\n",
       "      <th>Validation</th>\n",
       "      <td>0.771</td>\n",
       "    </tr>\n",
       "    <tr>\n",
       "      <th>Test</th>\n",
       "      <td>0.767</td>\n",
       "    </tr>\n",
       "  </tbody>\n",
       "</table>\n",
       "</div>"
      ],
      "text/plain": [
       "            Accuracy\n",
       "Training       0.783\n",
       "Validation     0.771\n",
       "Test           0.767"
      ]
     },
     "execution_count": 121,
     "metadata": {
      "tags": []
     },
     "output_type": "execute_result"
    }
   ],
   "source": [
    "train_accuracy = history.history['accuracy'][-1]\n",
    "val_accuracy = history.history['val_accuracy'][-1]\n",
    "\n",
    "print(\"Training Accuracy: %0.3f\" %train_accuracy)\n",
    "print(\"Validation Accuracy: %0.3f\" %val_accuracy)\n",
    "print(\"Test Accuracy: %0.3f\" %test_accuracy)\n",
    "\n",
    "accuracy_table = pd.DataFrame([round(train_accuracy, 3), round(val_accuracy, 3), round(test_accuracy, 3)], \n",
    "             index=['Training', 'Validation', 'Test'], \n",
    "             columns=['Accuracy'])\n",
    "accuracy_table"
   ]
  },
  {
   "cell_type": "markdown",
   "metadata": {},
   "source": [
    "### Prediction"
   ]
  },
  {
   "cell_type": "code",
   "execution_count": 122,
   "metadata": {
    "colab": {},
    "colab_type": "code",
    "executionInfo": {
     "elapsed": 1579,
     "status": "ok",
     "timestamp": 1598212601419,
     "user": {
      "displayName": "Md Rifatul Islam Rifat",
      "photoUrl": "",
      "userId": "17304548563437753137"
     },
     "user_tz": -360
    },
    "id": "gF9uA3ru3Yba"
   },
   "outputs": [],
   "source": [
    "from sklearn.metrics import accuracy_score\n",
    "from sklearn.metrics import confusion_matrix\n",
    "from sklearn.metrics import classification_report"
   ]
  },
  {
   "cell_type": "code",
   "execution_count": 123,
   "metadata": {
    "colab": {
     "base_uri": "https://localhost:8080/",
     "height": 34
    },
    "colab_type": "code",
    "executionInfo": {
     "elapsed": 1095,
     "status": "ok",
     "timestamp": 1598212601422,
     "user": {
      "displayName": "Md Rifatul Islam Rifat",
      "photoUrl": "",
      "userId": "17304548563437753137"
     },
     "user_tz": -360
    },
    "id": "qBva1ywl3ZSz",
    "outputId": "8eee8451-35ed-461d-9742-6ebe3e04d6e9"
   },
   "outputs": [
    {
     "name": "stdout",
     "output_type": "stream",
     "text": [
      "Test Accuracy: 0.77\n"
     ]
    }
   ],
   "source": [
    "y_pred = model.predict(np.array(x_test_vectorized))\n",
    "ac = accuracy_score(y_test_k.argmax(axis=1), y_pred.argmax(axis=1))\n",
    "print(\"Test Accuracy:\", round(ac, 2))"
   ]
  },
  {
   "cell_type": "code",
   "execution_count": 125,
   "metadata": {
    "colab": {
     "base_uri": "https://localhost:8080/",
     "height": 120
    },
    "colab_type": "code",
    "executionInfo": {
     "elapsed": 1036,
     "status": "ok",
     "timestamp": 1598212626441,
     "user": {
      "displayName": "Md Rifatul Islam Rifat",
      "photoUrl": "",
      "userId": "17304548563437753137"
     },
     "user_tz": -360
    },
    "id": "WrT4kbs8WCZQ",
    "outputId": "6bf2f59e-e129-4259-ccaa-d88d26d9e099"
   },
   "outputs": [
    {
     "name": "stdout",
     "output_type": "stream",
     "text": [
      "Confusion Matrix: \n"
     ]
    },
    {
     "data": {
      "text/html": [
       "<style  type=\"text/css\" >\n",
       "    #T_d16686a4_e57a_11ea_92c9_0242ac1c0002row0_col0 {\n",
       "            background-color:  lightgrey;\n",
       "            color:  black;\n",
       "        }    #T_d16686a4_e57a_11ea_92c9_0242ac1c0002row0_col1 {\n",
       "            background-color:  lightgrey;\n",
       "            color:  black;\n",
       "        }    #T_d16686a4_e57a_11ea_92c9_0242ac1c0002row1_col0 {\n",
       "            background-color:  lightgrey;\n",
       "            color:  black;\n",
       "        }    #T_d16686a4_e57a_11ea_92c9_0242ac1c0002row1_col1 {\n",
       "            background-color:  lightgrey;\n",
       "            color:  black;\n",
       "        }</style><table id=\"T_d16686a4_e57a_11ea_92c9_0242ac1c0002\" ><thead>    <tr>        <th class=\"blank\" ></th>        <th class=\"blank level0\" ></th>        <th class=\"col_heading level0 col0\" colspan=2>Predicted</th>    </tr>    <tr>        <th class=\"blank\" ></th>        <th class=\"blank level1\" ></th>        <th class=\"col_heading level1 col0\" >Negative</th>        <th class=\"col_heading level1 col1\" >Positive</th>    </tr></thead><tbody>\n",
       "                <tr>\n",
       "                        <th id=\"T_d16686a4_e57a_11ea_92c9_0242ac1c0002level0_row0\" class=\"row_heading level0 row0\" rowspan=2>Actual</th>\n",
       "                        <th id=\"T_d16686a4_e57a_11ea_92c9_0242ac1c0002level1_row0\" class=\"row_heading level1 row0\" >Negative</th>\n",
       "                        <td id=\"T_d16686a4_e57a_11ea_92c9_0242ac1c0002row0_col0\" class=\"data row0 col0\" >139</td>\n",
       "                        <td id=\"T_d16686a4_e57a_11ea_92c9_0242ac1c0002row0_col1\" class=\"data row0 col1\" >70</td>\n",
       "            </tr>\n",
       "            <tr>\n",
       "                                <th id=\"T_d16686a4_e57a_11ea_92c9_0242ac1c0002level1_row1\" class=\"row_heading level1 row1\" >Positive</th>\n",
       "                        <td id=\"T_d16686a4_e57a_11ea_92c9_0242ac1c0002row1_col0\" class=\"data row1 col0\" >23</td>\n",
       "                        <td id=\"T_d16686a4_e57a_11ea_92c9_0242ac1c0002row1_col1\" class=\"data row1 col1\" >168</td>\n",
       "            </tr>\n",
       "    </tbody></table>"
      ],
      "text/plain": [
       "<pandas.io.formats.style.Styler at 0x7f194790f048>"
      ]
     },
     "execution_count": 125,
     "metadata": {
      "tags": []
     },
     "output_type": "execute_result"
    }
   ],
   "source": [
    "## generate confusion matrix\n",
    "print(\"Confusion Matrix: \")\n",
    "cm = confusion_matrix(y_test_k.argmax(axis=1), y_pred.argmax(axis=1))\n",
    "p = pd.DataFrame(cm, \n",
    "                 index=[['Actual']*2, ['Negative', 'Positive']], \n",
    "                 columns=[['Predicted']*2,['Negative', 'Positive']])\n",
    "\n",
    "p.style.set_properties(**{'background-color': 'lightgrey', \n",
    "                          'color': 'black'})"
   ]
  },
  {
   "cell_type": "code",
   "execution_count": 127,
   "metadata": {
    "colab": {
     "base_uri": "https://localhost:8080/",
     "height": 192
    },
    "colab_type": "code",
    "executionInfo": {
     "elapsed": 976,
     "status": "ok",
     "timestamp": 1598212656266,
     "user": {
      "displayName": "Md Rifatul Islam Rifat",
      "photoUrl": "",
      "userId": "17304548563437753137"
     },
     "user_tz": -360
    },
    "id": "eSB-Mmf94H8T",
    "outputId": "6a8f6b15-47de-4277-8cc2-8d5c74ec7c7b"
   },
   "outputs": [
    {
     "data": {
      "image/png": "[encoded data removed]",
      "text/plain": [
       "<Figure size 288x144 with 2 Axes>"
      ]
     },
     "metadata": {
      "tags": []
     },
     "output_type": "display_data"
    }
   ],
   "source": [
    "## Confusion Matrix in Heatmap\n",
    "import matplotlib.pyplot as plt\n",
    "import seaborn as sns\n",
    "p = pd.DataFrame(cm, \n",
    "                 index = ['Negative', 'Positive'],\n",
    "                 columns = ['Negative', 'Positive'])\n",
    "\n",
    "plt.figure(figsize=(4, 2))\n",
    "sns.set()\n",
    "f = sns.heatmap(p, annot=True, fmt=\"d\")\n",
    "plt.title(\"Confusion Matrix\", fontdict={'fontsize': 12})\n",
    "plt.xlabel(\"Predicted\")\n",
    "plt.ylabel(\"Actual\")\n",
    "plt.show()\n",
    "\n",
    "# f.get_figure().savefig(\"sentiment_confusion_matrix_fastText.jpg\", dpi=300, bbox_inches='tight')"
   ]
  },
  {
   "cell_type": "code",
   "execution_count": 128,
   "metadata": {
    "colab": {
     "base_uri": "https://localhost:8080/",
     "height": 170
    },
    "colab_type": "code",
    "executionInfo": {
     "elapsed": 1205,
     "status": "ok",
     "timestamp": 1598212674476,
     "user": {
      "displayName": "Md Rifatul Islam Rifat",
      "photoUrl": "",
      "userId": "17304548563437753137"
     },
     "user_tz": -360
    },
    "id": "YZjYSl3u4OWQ",
    "outputId": "974baf17-ec1e-4854-d04d-e4bc6114ecf7"
   },
   "outputs": [
    {
     "name": "stdout",
     "output_type": "stream",
     "text": [
      "              precision    recall  f1-score   support\n",
      "\n",
      "    Negative       0.86      0.67      0.75       209\n",
      "    Positive       0.71      0.88      0.78       191\n",
      "\n",
      "    accuracy                           0.77       400\n",
      "   macro avg       0.78      0.77      0.77       400\n",
      "weighted avg       0.79      0.77      0.77       400\n",
      "\n"
     ]
    }
   ],
   "source": [
    "## Classification Report\n",
    "target_names = ['Negative', 'Positive']\n",
    "print(classification_report(y_test_k.argmax(axis=1), y_pred.argmax(axis=1), target_names = target_names))"
   ]
  },
  {
   "cell_type": "code",
   "execution_count": null,
   "metadata": {
    "colab": {},
    "colab_type": "code",
    "id": "JO5H8Ih44pdn"
   },
   "outputs": [],
   "source": []
  }
 ],
 "metadata": {
  "accelerator": "GPU",
  "colab": {
   "collapsed_sections": [
    "Tj5c4BT8-L9Q",
    "YDOgVAS7-L9l"
   ],
   "name": "Sentiment_analysis_fastText.ipynb",
   "provenance": []
  },
  "kernelspec": {
   "display_name": "Python 3",
   "language": "python",
   "name": "python3"
  },
  "language_info": {
   "codemirror_mode": {
    "name": "ipython",
    "version": 3
   },
   "file_extension": ".py",
   "mimetype": "text/x-python",
   "name": "python",
   "nbconvert_exporter": "python",
   "pygments_lexer": "ipython3",
   "version": "3.7.4"
  }
 },
 "nbformat": 4,
 "nbformat_minor": 1
}
