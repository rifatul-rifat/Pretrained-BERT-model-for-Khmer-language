{
 "cells": [
  {
   "cell_type": "markdown",
   "metadata": {},
   "source": [
    "---"
   ]
  },
  {
   "cell_type": "markdown",
   "metadata": {
    "colab_type": "text",
    "id": "aDkTa617hX4w"
   },
   "source": [
    "## Khmer News Classification with BERT Feature Extraction Based Approach\n",
    "---"
   ]
  },
  {
   "cell_type": "code",
   "execution_count": null,
   "metadata": {
    "colab": {
     "base_uri": "https://localhost:8080/",
     "height": 34
    },
    "colab_type": "code",
    "executionInfo": {
     "elapsed": 1421,
     "status": "ok",
     "timestamp": 1598200239596,
     "user": {
      "displayName": "Md Rifatul Islam Rifat",
      "photoUrl": "",
      "userId": "17304548563437753137"
     },
     "user_tz": -360
    },
    "id": "ObHnHtoigqA8",
    "outputId": "d4e52116-4a74-45c9-9c99-c8540913fbca"
   },
   "outputs": [
    {
     "name": "stdout",
     "output_type": "stream",
     "text": [
      "TensorFlow 1.x selected.\n"
     ]
    }
   ],
   "source": [
    "%tensorflow_version 1.x"
   ]
  },
  {
   "cell_type": "code",
   "execution_count": null,
   "metadata": {
    "colab": {
     "base_uri": "https://localhost:8080/",
     "height": 122
    },
    "colab_type": "code",
    "executionInfo": {
     "elapsed": 28060,
     "status": "ok",
     "timestamp": 1598212924061,
     "user": {
      "displayName": "Md Rifatul Islam Rifat",
      "photoUrl": "",
      "userId": "17304548563437753137"
     },
     "user_tz": -360
    },
    "id": "rg3DXjBfXDit",
    "outputId": "d1f31bad-c416-4307-c440-841511d998bc"
   },
   "outputs": [],
   "source": [
    "from google.colab import drive\n",
    "drive.mount('/content/drive')"
   ]
  },
  {
   "cell_type": "code",
   "execution_count": null,
   "metadata": {
    "colab": {},
    "colab_type": "code",
    "executionInfo": {
     "elapsed": 6705,
     "status": "ok",
     "timestamp": 1598212936205,
     "user": {
      "displayName": "Md Rifatul Islam Rifat",
      "photoUrl": "",
      "userId": "17304548563437753137"
     },
     "user_tz": -360
    },
    "id": "hsZvic2YxnTz"
   },
   "outputs": [],
   "source": [
    "import re\n",
    "import numpy as np\n",
    "import pandas as pd\n",
    "import collections\n",
    "import tensorflow as tf\n",
    "import tensorflow_hub as hub\n",
    "\n",
    "import warnings\n",
    "warnings.filterwarnings('ignore')"
   ]
  },
  {
   "cell_type": "markdown",
   "metadata": {},
   "source": [
    "### Load Pre-trained BERT module for khmer"
   ]
  },
  {
   "cell_type": "code",
   "execution_count": 19,
   "metadata": {
    "colab": {
     "base_uri": "https://localhost:8080/",
     "height": 187
    },
    "colab_type": "code",
    "executionInfo": {
     "elapsed": 17840,
     "status": "ok",
     "timestamp": 1598213086728,
     "user": {
      "displayName": "Md Rifatul Islam Rifat",
      "photoUrl": "",
      "userId": "17304548563437753137"
     },
     "user_tz": -360
    },
    "id": "bDvJcs5aFDOm",
    "outputId": "577b3299-0a4e-48d6-f068-8712200a35d5",
    "scrolled": true
   },
   "outputs": [
    {
     "name": "stdout",
     "output_type": "stream",
     "text": [
      "Archive:  /content/drive/My Drive/Colab Notebooks/Khmer Paper/bert_module_khmer.zip\n",
      "   creating: ./pretrained/bert_module_khmer/\n",
      "   creating: ./pretrained/bert_module_khmer/assets/\n",
      "  inflating: ./pretrained/bert_module_khmer/assets/bert_config.json  \n",
      "  inflating: ./pretrained/bert_module_khmer/assets/vocab_file_BERT_.txt  \n",
      "  inflating: ./pretrained/bert_module_khmer/saved_model.pb  \n",
      "  inflating: ./pretrained/bert_module_khmer/tfhub_module.pb  \n",
      "   creating: ./pretrained/bert_module_khmer/variables/\n",
      "  inflating: ./pretrained/bert_module_khmer/variables/variables.data-00000-of-00001  \n",
      "  inflating: ./pretrained/bert_module_khmer/variables/variables.index  \n"
     ]
    }
   ],
   "source": [
    "!unzip \"/content/drive/bert_module_khmer.zip\" -d \"./pretrained\""
   ]
  },
  {
   "cell_type": "markdown",
   "metadata": {},
   "source": [
    "### Load Data"
   ]
  },
  {
   "cell_type": "code",
   "execution_count": 10,
   "metadata": {
    "colab": {
     "base_uri": "https://localhost:8080/",
     "height": 289
    },
    "colab_type": "code",
    "executionInfo": {
     "elapsed": 7437,
     "status": "ok",
     "timestamp": 1598213072293,
     "user": {
      "displayName": "Md Rifatul Islam Rifat",
      "photoUrl": "",
      "userId": "17304548563437753137"
     },
     "user_tz": -360
    },
    "id": "RGqKvm1gpA4F",
    "outputId": "57168f8b-bbc6-4b31-d413-69a3bae5209d",
    "scrolled": true
   },
   "outputs": [
    {
     "data": {
      "text/html": [
       "<div>\n",
       "<style scoped>\n",
       "    .dataframe tbody tr th:only-of-type {\n",
       "        vertical-align: middle;\n",
       "    }\n",
       "\n",
       "    .dataframe tbody tr th {\n",
       "        vertical-align: top;\n",
       "    }\n",
       "\n",
       "    .dataframe thead th {\n",
       "        text-align: right;\n",
       "    }\n",
       "</style>\n",
       "<table border=\"1\" class=\"dataframe\">\n",
       "  <thead>\n",
       "    <tr style=\"text-align: right;\">\n",
       "      <th></th>\n",
       "      <th>id</th>\n",
       "      <th>content</th>\n",
       "      <th>tokenized_content</th>\n",
       "      <th>category</th>\n",
       "      <th>category_en</th>\n",
       "      <th>text_prep</th>\n",
       "    </tr>\n",
       "  </thead>\n",
       "  <tbody>\n",
       "    <tr>\n",
       "      <th>0</th>\n",
       "      <td>45541</td>\n",
       "      <td>រាជធានីភ្នំពេញ ៖នៅក្នុងពិភពសិល្បៈតារាសម្តែងមួយ...</td>\n",
       "      <td>រាជ ធានី ភ្នំ ពេញ ៖ នៅ ក្នុង ពិភព សិល្បៈ តារា ...</td>\n",
       "      <td>សិល្បៈនិងវប្បធម៌</td>\n",
       "      <td>arts-and-culture</td>\n",
       "      <td>រាជ ធានី ភ្នំ ពេញ នៅ ក្នុង ពិភព សិល្បៈ តារា សម...</td>\n",
       "    </tr>\n",
       "    <tr>\n",
       "      <th>1</th>\n",
       "      <td>52071</td>\n",
       "      <td>រាជធានីភ្នំពេញ ៖ ក្រុមតន្ត្រីថ្មីមួយដែលមានឈ្មោ...</td>\n",
       "      <td>រាជ ធានី ភ្នំ ពេញ ៖ ក្រុម តន្ត្រី ថ្មី មួយ ដែល...</td>\n",
       "      <td>សិល្បៈនិងវប្បធម៌</td>\n",
       "      <td>arts-and-culture</td>\n",
       "      <td>រាជ ធានី ភ្នំ ពេញ ក្រុម តន្ត្រី ថ្មី មួយ ដែល ម...</td>\n",
       "    </tr>\n",
       "    <tr>\n",
       "      <th>2</th>\n",
       "      <td>8906</td>\n",
       "      <td>រូបកាយយើងនេះញាំញីទៅដោយជំងឺដង្កាត់គ្រប់ប្រភេទ អ...</td>\n",
       "      <td>រូប កាយ យើង នេះ ញាំញី ទៅ ដោយ ជំងឺ ដង្កាត់ គ្រប...</td>\n",
       "      <td>សិល្បៈនិងវប្បធម៌</td>\n",
       "      <td>arts-and-culture</td>\n",
       "      <td>រូប កាយ យើង នេះ ញាំញី ទៅ ដោយ ជំងឺ ដង្កាត់ គ្រប...</td>\n",
       "    </tr>\n",
       "    <tr>\n",
       "      <th>3</th>\n",
       "      <td>49697</td>\n",
       "      <td>រាជធានីភ្នំពេញ ៖ តារាសម្តែង និងជាអ្នកចម្រៀងវ័យ...</td>\n",
       "      <td>រាជ ធានី ភ្នំ ពេញ ៖ តារា សម្តែង និង ជា អ្នក ចម...</td>\n",
       "      <td>សិល្បៈនិងវប្បធម៌</td>\n",
       "      <td>arts-and-culture</td>\n",
       "      <td>រាជ ធានី ភ្នំ ពេញ តារា សម្តែង និង ជា អ្នក ចម្រ...</td>\n",
       "    </tr>\n",
       "    <tr>\n",
       "      <th>4</th>\n",
       "      <td>46696</td>\n",
       "      <td>រាជធានីភ្នំពេញ ៖ អ្នកនាងឡាយ លក្ខិណា ក្រោយពេលវិ...</td>\n",
       "      <td>រាជ ធានី ភ្នំ ពេញ ៖ អ្នក នាង ឡាយ លក្ខិណា ក្រោយ...</td>\n",
       "      <td>សិល្បៈនិងវប្បធម៌</td>\n",
       "      <td>arts-and-culture</td>\n",
       "      <td>រាជ ធានី ភ្នំ ពេញ អ្នក នាង ឡាយ លក្ខិណា ក្រោយ ព...</td>\n",
       "    </tr>\n",
       "  </tbody>\n",
       "</table>\n",
       "</div>"
      ],
      "text/plain": [
       "      id  ...                                          text_prep\n",
       "0  45541  ...  រាជ ធានី ភ្នំ ពេញ នៅ ក្នុង ពិភព សិល្បៈ តារា សម...\n",
       "1  52071  ...  រាជ ធានី ភ្នំ ពេញ ក្រុម តន្ត្រី ថ្មី មួយ ដែល ម...\n",
       "2   8906  ...  រូប កាយ យើង នេះ ញាំញី ទៅ ដោយ ជំងឺ ដង្កាត់ គ្រប...\n",
       "3  49697  ...  រាជ ធានី ភ្នំ ពេញ តារា សម្តែង និង ជា អ្នក ចម្រ...\n",
       "4  46696  ...  រាជ ធានី ភ្នំ ពេញ អ្នក នាង ឡាយ លក្ខិណា ក្រោយ ព...\n",
       "\n",
       "[5 rows x 6 columns]"
      ]
     },
     "execution_count": 10,
     "metadata": {
      "tags": []
     },
     "output_type": "execute_result"
    }
   ],
   "source": [
    "data = pd.read_excel('/content/drive/news_classification_data_km.xlsx', encoding=\"UTF-8\")\n",
    "data.head()"
   ]
  },
  {
   "cell_type": "markdown",
   "metadata": {},
   "source": [
    "### Preprocessing"
   ]
  },
  {
   "cell_type": "code",
   "execution_count": null,
   "metadata": {},
   "outputs": [],
   "source": [
    "data['text_prep'] = data['tokenized_content'].apply(lambda x: ' '.join(re.sub(r'[០១២៣៤៥៦៧៨៩។៕៖ៗ៘៙៚]+', ' ', x).strip().split()))\n",
    "data.drop_duplicates(subset=['text_prep'], inplace=True)"
   ]
  },
  {
   "cell_type": "code",
   "execution_count": 12,
   "metadata": {
    "colab": {
     "base_uri": "https://localhost:8080/",
     "height": 34
    },
    "colab_type": "code",
    "executionInfo": {
     "elapsed": 6167,
     "status": "ok",
     "timestamp": 1598213072295,
     "user": {
      "displayName": "Md Rifatul Islam Rifat",
      "photoUrl": "",
      "userId": "17304548563437753137"
     },
     "user_tz": -360
    },
    "id": "B0J_N6iGpO2b",
    "outputId": "5f2e8cd2-c508-4979-e581-234a1260588d"
   },
   "outputs": [
    {
     "data": {
      "text/plain": [
       "(7418, 7)"
      ]
     },
     "execution_count": 12,
     "metadata": {
      "tags": []
     },
     "output_type": "execute_result"
    }
   ],
   "source": [
    "data.shape"
   ]
  },
  {
   "cell_type": "code",
   "execution_count": 13,
   "metadata": {
    "colab": {
     "base_uri": "https://localhost:8080/",
     "height": 170
    },
    "colab_type": "code",
    "executionInfo": {
     "elapsed": 5665,
     "status": "ok",
     "timestamp": 1598213072295,
     "user": {
      "displayName": "Md Rifatul Islam Rifat",
      "photoUrl": "",
      "userId": "17304548563437753137"
     },
     "user_tz": -360
    },
    "id": "r0R0kUrycwm8",
    "outputId": "4424d3ba-ae12-4a59-b067-a64952878606"
   },
   "outputs": [
    {
     "data": {
      "text/plain": [
       "international-news    999\n",
       "national-news         999\n",
       "research              999\n",
       "health                999\n",
       "arts-and-culture      998\n",
       "service               994\n",
       "sports-news           769\n",
       "business              661\n",
       "Name: category_en, dtype: int64"
      ]
     },
     "execution_count": 13,
     "metadata": {
      "tags": []
     },
     "output_type": "execute_result"
    }
   ],
   "source": [
    "data['category_en'].value_counts()"
   ]
  },
  {
   "cell_type": "code",
   "execution_count": 14,
   "metadata": {
    "colab": {},
    "colab_type": "code",
    "executionInfo": {
     "elapsed": 5249,
     "status": "ok",
     "timestamp": 1598213072296,
     "user": {
      "displayName": "Md Rifatul Islam Rifat",
      "photoUrl": "",
      "userId": "17304548563437753137"
     },
     "user_tz": -360
    },
    "id": "MjcEG2tFdopk"
   },
   "outputs": [],
   "source": [
    "## Encoding\n",
    "from sklearn.preprocessing import LabelEncoder\n",
    "le = LabelEncoder()\n",
    "data['label'] = le.fit_transform(data.loc[:, 'category_en'].copy().tolist())"
   ]
  },
  {
   "cell_type": "code",
   "execution_count": 15,
   "metadata": {
    "colab": {
     "base_uri": "https://localhost:8080/",
     "height": 297
    },
    "colab_type": "code",
    "executionInfo": {
     "elapsed": 4724,
     "status": "ok",
     "timestamp": 1598213072296,
     "user": {
      "displayName": "Md Rifatul Islam Rifat",
      "photoUrl": "",
      "userId": "17304548563437753137"
     },
     "user_tz": -360
    },
    "id": "lDOjfw1cdrl9",
    "outputId": "8cde2780-356d-4655-daa4-98346b3c4186"
   },
   "outputs": [
    {
     "data": {
      "text/html": [
       "<div>\n",
       "<style scoped>\n",
       "    .dataframe tbody tr th:only-of-type {\n",
       "        vertical-align: middle;\n",
       "    }\n",
       "\n",
       "    .dataframe tbody tr th {\n",
       "        vertical-align: top;\n",
       "    }\n",
       "\n",
       "    .dataframe thead th {\n",
       "        text-align: right;\n",
       "    }\n",
       "</style>\n",
       "<table border=\"1\" class=\"dataframe\">\n",
       "  <thead>\n",
       "    <tr style=\"text-align: right;\">\n",
       "      <th></th>\n",
       "      <th>category_en</th>\n",
       "      <th>label</th>\n",
       "    </tr>\n",
       "  </thead>\n",
       "  <tbody>\n",
       "    <tr>\n",
       "      <th>0</th>\n",
       "      <td>arts-and-culture</td>\n",
       "      <td>0</td>\n",
       "    </tr>\n",
       "    <tr>\n",
       "      <th>1</th>\n",
       "      <td>business</td>\n",
       "      <td>1</td>\n",
       "    </tr>\n",
       "    <tr>\n",
       "      <th>2</th>\n",
       "      <td>health</td>\n",
       "      <td>2</td>\n",
       "    </tr>\n",
       "    <tr>\n",
       "      <th>3</th>\n",
       "      <td>international-news</td>\n",
       "      <td>3</td>\n",
       "    </tr>\n",
       "    <tr>\n",
       "      <th>4</th>\n",
       "      <td>national-news</td>\n",
       "      <td>4</td>\n",
       "    </tr>\n",
       "    <tr>\n",
       "      <th>5</th>\n",
       "      <td>research</td>\n",
       "      <td>5</td>\n",
       "    </tr>\n",
       "    <tr>\n",
       "      <th>6</th>\n",
       "      <td>service</td>\n",
       "      <td>6</td>\n",
       "    </tr>\n",
       "    <tr>\n",
       "      <th>7</th>\n",
       "      <td>sports-news</td>\n",
       "      <td>7</td>\n",
       "    </tr>\n",
       "  </tbody>\n",
       "</table>\n",
       "</div>"
      ],
      "text/plain": [
       "          category_en  label\n",
       "0    arts-and-culture      0\n",
       "1            business      1\n",
       "2              health      2\n",
       "3  international-news      3\n",
       "4       national-news      4\n",
       "5            research      5\n",
       "6             service      6\n",
       "7         sports-news      7"
      ]
     },
     "execution_count": 15,
     "metadata": {
      "tags": []
     },
     "output_type": "execute_result"
    }
   ],
   "source": [
    "data[['category_en', 'label']].drop_duplicates(subset=['category_en']).sort_values(by=['label']).reset_index(drop=True)"
   ]
  },
  {
   "cell_type": "code",
   "execution_count": 16,
   "metadata": {
    "colab": {
     "base_uri": "https://localhost:8080/",
     "height": 289
    },
    "colab_type": "code",
    "executionInfo": {
     "elapsed": 4460,
     "status": "ok",
     "timestamp": 1598213072297,
     "user": {
      "displayName": "Md Rifatul Islam Rifat",
      "photoUrl": "",
      "userId": "17304548563437753137"
     },
     "user_tz": -360
    },
    "id": "zB5nuu4jd_AT",
    "outputId": "1caebb18-b604-4bb0-d077-c9cd2d019140"
   },
   "outputs": [
    {
     "data": {
      "text/html": [
       "<div>\n",
       "<style scoped>\n",
       "    .dataframe tbody tr th:only-of-type {\n",
       "        vertical-align: middle;\n",
       "    }\n",
       "\n",
       "    .dataframe tbody tr th {\n",
       "        vertical-align: top;\n",
       "    }\n",
       "\n",
       "    .dataframe thead th {\n",
       "        text-align: right;\n",
       "    }\n",
       "</style>\n",
       "<table border=\"1\" class=\"dataframe\">\n",
       "  <thead>\n",
       "    <tr style=\"text-align: right;\">\n",
       "      <th></th>\n",
       "      <th>index</th>\n",
       "      <th>id</th>\n",
       "      <th>content</th>\n",
       "      <th>tokenized_content</th>\n",
       "      <th>category</th>\n",
       "      <th>category_en</th>\n",
       "      <th>text_prep</th>\n",
       "      <th>label</th>\n",
       "    </tr>\n",
       "  </thead>\n",
       "  <tbody>\n",
       "    <tr>\n",
       "      <th>0</th>\n",
       "      <td>0</td>\n",
       "      <td>45541</td>\n",
       "      <td>រាជធានីភ្នំពេញ ៖នៅក្នុងពិភពសិល្បៈតារាសម្តែងមួយ...</td>\n",
       "      <td>រាជ ធានី ភ្នំ ពេញ ៖ នៅ ក្នុង ពិភព សិល្បៈ តារា ...</td>\n",
       "      <td>សិល្បៈនិងវប្បធម៌</td>\n",
       "      <td>arts-and-culture</td>\n",
       "      <td>រាជ ធានី ភ្នំ ពេញ នៅ ក្នុង ពិភព សិល្បៈ តារា សម...</td>\n",
       "      <td>0</td>\n",
       "    </tr>\n",
       "    <tr>\n",
       "      <th>1</th>\n",
       "      <td>1</td>\n",
       "      <td>52071</td>\n",
       "      <td>រាជធានីភ្នំពេញ ៖ ក្រុមតន្ត្រីថ្មីមួយដែលមានឈ្មោ...</td>\n",
       "      <td>រាជ ធានី ភ្នំ ពេញ ៖ ក្រុម តន្ត្រី ថ្មី មួយ ដែល...</td>\n",
       "      <td>សិល្បៈនិងវប្បធម៌</td>\n",
       "      <td>arts-and-culture</td>\n",
       "      <td>រាជ ធានី ភ្នំ ពេញ ក្រុម តន្ត្រី ថ្មី មួយ ដែល ម...</td>\n",
       "      <td>0</td>\n",
       "    </tr>\n",
       "    <tr>\n",
       "      <th>2</th>\n",
       "      <td>2</td>\n",
       "      <td>8906</td>\n",
       "      <td>រូបកាយយើងនេះញាំញីទៅដោយជំងឺដង្កាត់គ្រប់ប្រភេទ អ...</td>\n",
       "      <td>រូប កាយ យើង នេះ ញាំញី ទៅ ដោយ ជំងឺ ដង្កាត់ គ្រប...</td>\n",
       "      <td>សិល្បៈនិងវប្បធម៌</td>\n",
       "      <td>arts-and-culture</td>\n",
       "      <td>រូប កាយ យើង នេះ ញាំញី ទៅ ដោយ ជំងឺ ដង្កាត់ គ្រប...</td>\n",
       "      <td>0</td>\n",
       "    </tr>\n",
       "    <tr>\n",
       "      <th>3</th>\n",
       "      <td>3</td>\n",
       "      <td>49697</td>\n",
       "      <td>រាជធានីភ្នំពេញ ៖ តារាសម្តែង និងជាអ្នកចម្រៀងវ័យ...</td>\n",
       "      <td>រាជ ធានី ភ្នំ ពេញ ៖ តារា សម្តែង និង ជា អ្នក ចម...</td>\n",
       "      <td>សិល្បៈនិងវប្បធម៌</td>\n",
       "      <td>arts-and-culture</td>\n",
       "      <td>រាជ ធានី ភ្នំ ពេញ តារា សម្តែង និង ជា អ្នក ចម្រ...</td>\n",
       "      <td>0</td>\n",
       "    </tr>\n",
       "    <tr>\n",
       "      <th>4</th>\n",
       "      <td>4</td>\n",
       "      <td>46696</td>\n",
       "      <td>រាជធានីភ្នំពេញ ៖ អ្នកនាងឡាយ លក្ខិណា ក្រោយពេលវិ...</td>\n",
       "      <td>រាជ ធានី ភ្នំ ពេញ ៖ អ្នក នាង ឡាយ លក្ខិណា ក្រោយ...</td>\n",
       "      <td>សិល្បៈនិងវប្បធម៌</td>\n",
       "      <td>arts-and-culture</td>\n",
       "      <td>រាជ ធានី ភ្នំ ពេញ អ្នក នាង ឡាយ លក្ខិណា ក្រោយ ព...</td>\n",
       "      <td>0</td>\n",
       "    </tr>\n",
       "  </tbody>\n",
       "</table>\n",
       "</div>"
      ],
      "text/plain": [
       "   index     id  ...                                          text_prep label\n",
       "0      0  45541  ...  រាជ ធានី ភ្នំ ពេញ នៅ ក្នុង ពិភព សិល្បៈ តារា សម...     0\n",
       "1      1  52071  ...  រាជ ធានី ភ្នំ ពេញ ក្រុម តន្ត្រី ថ្មី មួយ ដែល ម...     0\n",
       "2      2   8906  ...  រូប កាយ យើង នេះ ញាំញី ទៅ ដោយ ជំងឺ ដង្កាត់ គ្រប...     0\n",
       "3      3  49697  ...  រាជ ធានី ភ្នំ ពេញ តារា សម្តែង និង ជា អ្នក ចម្រ...     0\n",
       "4      4  46696  ...  រាជ ធានី ភ្នំ ពេញ អ្នក នាង ឡាយ លក្ខិណា ក្រោយ ព...     0\n",
       "\n",
       "[5 rows x 8 columns]"
      ]
     },
     "execution_count": 16,
     "metadata": {
      "tags": []
     },
     "output_type": "execute_result"
    }
   ],
   "source": [
    "data.head()"
   ]
  },
  {
   "cell_type": "markdown",
   "metadata": {},
   "source": [
    "### Data Partitioning"
   ]
  },
  {
   "cell_type": "code",
   "execution_count": null,
   "metadata": {
    "colab": {},
    "colab_type": "code",
    "executionInfo": {
     "elapsed": 4156,
     "status": "ok",
     "timestamp": 1598213072297,
     "user": {
      "displayName": "Md Rifatul Islam Rifat",
      "photoUrl": "",
      "userId": "17304548563437753137"
     },
     "user_tz": -360
    },
    "id": "dPcm7sZpD2zS"
   },
   "outputs": [],
   "source": [
    "X = data['text_prep']\n",
    "y = data['label']"
   ]
  },
  {
   "cell_type": "code",
   "execution_count": 18,
   "metadata": {
    "colab": {
     "base_uri": "https://localhost:8080/",
     "height": 68
    },
    "colab_type": "code",
    "executionInfo": {
     "elapsed": 3860,
     "status": "ok",
     "timestamp": 1598213072298,
     "user": {
      "displayName": "Md Rifatul Islam Rifat",
      "photoUrl": "",
      "userId": "17304548563437753137"
     },
     "user_tz": -360
    },
    "id": "bkXh2GK4eHCw",
    "outputId": "18479829-ceeb-42fc-9dd1-62b1d1c472a3"
   },
   "outputs": [
    {
     "name": "stdout",
     "output_type": "stream",
     "text": [
      "Training shape: 5192\n",
      "Validation shape: 1558\n",
      "Testing shape: 668\n"
     ]
    }
   ],
   "source": [
    "from sklearn.model_selection import train_test_split\n",
    "X_train, X_val, y_train, y_val = train_test_split(X, y, test_size=0.3, random_state=1234, shuffle=True, stratify=y)\n",
    "X_val, X_test, y_val, y_test = train_test_split(X_val, y_val, test_size=0.3, random_state=1234, shuffle=True, stratify=y_val)\n",
    "\n",
    "print(\"\"\"Training shape: {}\n",
    "Validation shape: {}\n",
    "Testing shape: {}\"\"\".format(X_train.shape[0], X_val.shape[0], X_test.shape[0]))"
   ]
  },
  {
   "cell_type": "markdown",
   "metadata": {
    "colab_type": "text",
    "id": "xtm7338qpPok"
   },
   "source": [
    "### Tokenizer"
   ]
  },
  {
   "cell_type": "code",
   "execution_count": 20,
   "metadata": {
    "colab": {},
    "colab_type": "code",
    "executionInfo": {
     "elapsed": 5238,
     "status": "ok",
     "timestamp": 1598213086730,
     "user": {
      "displayName": "Md Rifatul Islam Rifat",
      "photoUrl": "",
      "userId": "17304548563437753137"
     },
     "user_tz": -360
    },
    "id": "Jbiq_k2lPkcs"
   },
   "outputs": [],
   "source": [
    "def convert_to_unicode(text):\n",
    "    \"\"\"Converts `text` to Unicode (if it's not already), assuming utf-8 input.\"\"\"\n",
    "    if isinstance(text, str):\n",
    "        return text\n",
    "    elif isinstance(text, bytes):\n",
    "        return text.decode(\"utf-8\", \"ignore\")\n",
    "    else:\n",
    "        raise ValueError(\"Unsupported string type: %s\" % (type(text)))\n",
    "\n",
    "def load_vocab(vocab_file):\n",
    "    \"\"\"Loads a vocabulary file into a dictionary.\"\"\"\n",
    "    vocab = collections.OrderedDict()\n",
    "    index = 0\n",
    "    with tf.gfile.GFile(vocab_file, \"r\") as reader:\n",
    "        while True:\n",
    "            token = convert_to_unicode(reader.readline())\n",
    "            if not token:\n",
    "                break\n",
    "            token = token.strip()\n",
    "            vocab[token] = index\n",
    "            index += 1\n",
    "    return vocab\n",
    "\n",
    "def convert_by_vocab(vocab, items):\n",
    "    \"\"\"Converts a sequence of [tokens|ids] using the vocab.\"\"\"\n",
    "    output = []\n",
    "    for item in items:\n",
    "        try:\n",
    "            output.append(vocab[item])\n",
    "        except:\n",
    "            pass\n",
    "    return output\n",
    "\n",
    "class FullTokenizer(object):\n",
    "    \"\"\"Runs end-to-end tokenziation.\"\"\"\n",
    "\n",
    "    def __init__(self, vocab_file, do_lower_case=False):\n",
    "        self.vocab = load_vocab(vocab_file)\n",
    "\n",
    "    def tokenize(self, text):\n",
    "        \"\"\"Runs basic whitespace cleaning and splitting on a piece of text.\"\"\"\n",
    "        text = text.strip()\n",
    "        if not text:\n",
    "            return []\n",
    "        tokens = text.split()\n",
    "        return tokens\n",
    "\n",
    "    def convert_tokens_to_ids(self, tokens):\n",
    "        return convert_by_vocab(self.vocab, tokens)"
   ]
  },
  {
   "cell_type": "code",
   "execution_count": 21,
   "metadata": {
    "colab": {},
    "colab_type": "code",
    "executionInfo": {
     "elapsed": 5389,
     "status": "ok",
     "timestamp": 1598213087258,
     "user": {
      "displayName": "Md Rifatul Islam Rifat",
      "photoUrl": "",
      "userId": "17304548563437753137"
     },
     "user_tz": -360
    },
    "id": "UrijyzpUFV7Y"
   },
   "outputs": [],
   "source": [
    "vocab_path = '/content/pretrained/bert_module_khmer/assets/vocab_file_BERT_.txt'\n",
    "tokenizer = FullTokenizer(vocab_file=vocab_path, do_lower_case=True)"
   ]
  },
  {
   "cell_type": "markdown",
   "metadata": {
    "colab_type": "text",
    "id": "yviOduCCpn4t"
   },
   "source": [
    "### BERT Input Generator"
   ]
  },
  {
   "cell_type": "code",
   "execution_count": 22,
   "metadata": {
    "colab": {},
    "colab_type": "code",
    "executionInfo": {
     "elapsed": 4444,
     "status": "ok",
     "timestamp": 1598213087259,
     "user": {
      "displayName": "Md Rifatul Islam Rifat",
      "photoUrl": "",
      "userId": "17304548563437753137"
     },
     "user_tz": -360
    },
    "id": "-QW2D6kS-x2V"
   },
   "outputs": [],
   "source": [
    "def convert_sentence_to_features(sentence, tokenizer, max_seq_len):\n",
    "    tokens = ['[CLS]']\n",
    "    tokens.extend(tokenizer.tokenize(sentence))\n",
    "    if len(tokens) > max_seq_len-1:\n",
    "        tokens = tokens[:max_seq_len-1]\n",
    "    tokens.append('[SEP]')\n",
    "    \n",
    "    input_ids = tokenizer.convert_tokens_to_ids(tokens)\n",
    "    input_mask = [1] * len(input_ids)\n",
    "    segment_ids = [0] * len(input_ids)\n",
    "    \n",
    "    zero_padding = [0] * (max_seq_len-len(input_ids))\n",
    "\n",
    "    input_ids.extend(zero_padding)\n",
    "    input_mask.extend(zero_padding)\n",
    "    segment_ids.extend(zero_padding)\n",
    "    \n",
    "    return input_ids, input_mask, segment_ids\n",
    "\n",
    "def convert_sentences_to_features(sentences, tokenizer, max_seq_len=64):\n",
    "    all_input_ids = []\n",
    "    all_input_mask = []\n",
    "    all_segment_ids = []\n",
    "    \n",
    "    for sentence in sentences:\n",
    "        input_ids, input_mask, segment_ids = convert_sentence_to_features(sentence, tokenizer, max_seq_len)\n",
    "        all_input_ids.append(input_ids)\n",
    "        all_input_mask.append(input_mask)\n",
    "        all_segment_ids.append(segment_ids)\n",
    "    \n",
    "    return all_input_ids, all_input_mask, all_segment_ids"
   ]
  },
  {
   "cell_type": "markdown",
   "metadata": {
    "colab_type": "text",
    "id": "fD014suYJjSC"
   },
   "source": [
    "### Load BERT Pre-trained Module"
   ]
  },
  {
   "cell_type": "code",
   "execution_count": 23,
   "metadata": {
    "colab": {},
    "colab_type": "code",
    "executionInfo": {
     "elapsed": 8984,
     "status": "ok",
     "timestamp": 1598213093021,
     "user": {
      "displayName": "Md Rifatul Islam Rifat",
      "photoUrl": "",
      "userId": "17304548563437753137"
     },
     "user_tz": -360
    },
    "id": "QofKIvkn-HDV"
   },
   "outputs": [],
   "source": [
    "BERT_URL = '/content/pretrained/bert_module_khmer'\n",
    "module = hub.Module(BERT_URL)"
   ]
  },
  {
   "cell_type": "markdown",
   "metadata": {
    "colab_type": "text",
    "id": "W47iCYDeC2tI"
   },
   "source": [
    "### Feature Extraction"
   ]
  },
  {
   "cell_type": "code",
   "execution_count": 24,
   "metadata": {
    "colab": {},
    "colab_type": "code",
    "executionInfo": {
     "elapsed": 4663,
     "status": "ok",
     "timestamp": 1598213093022,
     "user": {
      "displayName": "Md Rifatul Islam Rifat",
      "photoUrl": "",
      "userId": "17304548563437753137"
     },
     "user_tz": -360
    },
    "id": "vN_EIEuw-G__"
   },
   "outputs": [],
   "source": [
    "def creat_BERT_embeddings(sentences):\n",
    "    \"\"\"Create BERT Embeddings from tokenized Text\n",
    "\n",
    "    Argument: A list of Sentences\n",
    "    Return: A numpy array of BERT embeddings\n",
    "    \"\"\"\n",
    "    input_ids_vals, input_mask_vals, segment_ids_vals = convert_sentences_to_features(sentences, tokenizer, 64)\n",
    "\n",
    "    ### SIGNATURE\n",
    "    input_ids = tf.placeholder(dtype=tf.int32, shape=[None, None])\n",
    "    input_mask = tf.placeholder(dtype=tf.int32, shape=[None, None])\n",
    "    segment_ids = tf.placeholder(dtype=tf.int32, shape=[None, None])\n",
    "\n",
    "    bert_inputs = dict(\n",
    "        input_ids=input_ids,\n",
    "        input_mask=input_mask,\n",
    "        segment_ids=segment_ids)\n",
    "    \n",
    "    bert_outputs = module(bert_inputs, signature=\"tokens\", as_dict=True)\n",
    "\n",
    "    pooled_embeddings = []\n",
    "    # sequence_embeddings = []\n",
    "\n",
    "    ### CREAT BATCH PROCESS\n",
    "    input_ids_tensors = tf.compat.v1.data.Dataset.from_tensor_slices(input_ids_vals)\n",
    "    input_mask_tensors = tf.compat.v1.data.Dataset.from_tensor_slices(input_mask_vals)\n",
    "    segment_ids_tensors = tf.compat.v1.data.Dataset.from_tensor_slices(segment_ids_vals)\n",
    "    dcombined = tf.compat.v1.data.Dataset.zip((input_ids_tensors, input_mask_tensors, segment_ids_tensors)).batch(512)\n",
    "\n",
    "    iterator = tf.compat.v1.data.make_one_shot_iterator(dcombined)\n",
    "    next_ele = iterator.get_next()\n",
    "\n",
    "    with tf.Session() as sess:\n",
    "        sess.run(tf.global_variables_initializer())\n",
    "        try:\n",
    "            while True:\n",
    "                inputs = sess.run(next_ele)\n",
    "\n",
    "                input_ids_vals = inputs[0]\n",
    "                input_mask_vals = inputs[1]\n",
    "                segment_ids_vals = inputs[2]\n",
    "                out = sess.run(bert_outputs, feed_dict={input_ids: input_ids_vals,\n",
    "                                                        input_mask: input_mask_vals, \n",
    "                                                        segment_ids: segment_ids_vals})\n",
    "\n",
    "                pooled_embeddings.extend(out['pooled_output'].tolist())\n",
    "                # sequence_embeddings.extend(out['sequence_output'].tolist())\n",
    "        except tf.errors.OutOfRangeError:\n",
    "            pass\n",
    "    return np.array(pooled_embeddings)"
   ]
  },
  {
   "cell_type": "code",
   "execution_count": 19,
   "metadata": {
    "colab": {},
    "colab_type": "code",
    "executionInfo": {
     "elapsed": 1928,
     "status": "ok",
     "timestamp": 1598186665973,
     "user": {
      "displayName": "Md Rifatul Islam Rifat",
      "photoUrl": "",
      "userId": "17304548563437753137"
     },
     "user_tz": -360
    },
    "id": "9XQBHjL8HuMT"
   },
   "outputs": [],
   "source": [
    "### export embeddings for tSNE analysis\n",
    "# X_embeddings = pd.DataFrame(creat_BERT_embeddings(X)).add_prefix('Col_')\n",
    "# pd.concat([X_embeddings, y], axis=1).to_csv(\"news_data_embeddings.csv\", encoding='utf-8', index=False)\n",
    "# !zip -r \"/content/drive/news_data_embeddings.zip\" /content/news_data_embeddings.csv"
   ]
  },
  {
   "cell_type": "code",
   "execution_count": 22,
   "metadata": {
    "colab": {
     "base_uri": "https://localhost:8080/",
     "height": 102
    },
    "colab_type": "code",
    "executionInfo": {
     "elapsed": 41358,
     "status": "ok",
     "timestamp": 1598186719979,
     "user": {
      "displayName": "Md Rifatul Islam Rifat",
      "photoUrl": "",
      "userId": "17304548563437753137"
     },
     "user_tz": -360
    },
    "id": "WKIbWrb_FUcW",
    "outputId": "05a4eb8c-845b-454a-c81c-7ca373b16b2e"
   },
   "outputs": [
    {
     "name": "stdout",
     "output_type": "stream",
     "text": [
      "INFO:tensorflow:Saver not created because there are no variables in the graph to restore\n",
      "INFO:tensorflow:Saver not created because there are no variables in the graph to restore\n",
      "INFO:tensorflow:Saver not created because there are no variables in the graph to restore\n",
      "CPU times: user 22.8 s, sys: 9.68 s, total: 32.4 s\n",
      "Wall time: 38.7 s\n"
     ]
    }
   ],
   "source": [
    "%%time\n",
    "X_train_embeddings = pd.DataFrame(creat_BERT_embeddings(X_train)).add_prefix('Col_')\n",
    "X_val_embeddings = pd.DataFrame(creat_BERT_embeddings(X_val)).add_prefix('Col_')\n",
    "X_test_embeddings = pd.DataFrame(creat_BERT_embeddings(X_test)).add_prefix('Col_')"
   ]
  },
  {
   "cell_type": "markdown",
   "metadata": {},
   "source": [
    "### Model Architecture"
   ]
  },
  {
   "cell_type": "code",
   "execution_count": 5,
   "metadata": {
    "colab": {
     "base_uri": "https://localhost:8080/",
     "height": 34
    },
    "colab_type": "code",
    "executionInfo": {
     "elapsed": 1461,
     "status": "ok",
     "timestamp": 1598212960515,
     "user": {
      "displayName": "Md Rifatul Islam Rifat",
      "photoUrl": "",
      "userId": "17304548563437753137"
     },
     "user_tz": -360
    },
    "id": "uwHej1fWI2GT",
    "outputId": "6010384e-e634-411f-f13f-3d773609f7a4"
   },
   "outputs": [
    {
     "name": "stderr",
     "output_type": "stream",
     "text": [
      "Using TensorFlow backend.\n"
     ]
    }
   ],
   "source": [
    "import random as rn\n",
    "\n",
    "from keras.models import Sequential\n",
    "from keras.layers import Dense, Dropout\n",
    "from keras.callbacks import History\n",
    "from keras.optimizers import Adam, SGD"
   ]
  },
  {
   "cell_type": "code",
   "execution_count": 25,
   "metadata": {
    "colab": {},
    "colab_type": "code",
    "executionInfo": {
     "elapsed": 1114,
     "status": "ok",
     "timestamp": 1598186754501,
     "user": {
      "displayName": "Md Rifatul Islam Rifat",
      "photoUrl": "",
      "userId": "17304548563437753137"
     },
     "user_tz": -360
    },
    "id": "BDnrDTe4KBS_"
   },
   "outputs": [],
   "source": [
    "from keras.utils import to_categorical\n",
    "\n",
    "y_train_k = to_categorical(y_train, num_classes=8)\n",
    "y_val_k = to_categorical(y_val, num_classes=8)\n",
    "y_test_k = to_categorical(y_test, num_classes=8)"
   ]
  },
  {
   "cell_type": "code",
   "execution_count": 48,
   "metadata": {
    "colab": {
     "base_uri": "https://localhost:8080/",
     "height": 629
    },
    "colab_type": "code",
    "executionInfo": {
     "elapsed": 7374,
     "status": "ok",
     "timestamp": 1598187087905,
     "user": {
      "displayName": "Md Rifatul Islam Rifat",
      "photoUrl": "",
      "userId": "17304548563437753137"
     },
     "user_tz": -360
    },
    "id": "ECx-0H-OKNAp",
    "outputId": "a4707cbb-517e-42f6-de74-7ea93325a614"
   },
   "outputs": [
    {
     "name": "stdout",
     "output_type": "stream",
     "text": [
      "Train on 5192 samples, validate on 1558 samples\n",
      "Epoch 1/17\n",
      "5192/5192 [==============================] - 1s 217us/step - loss: 2.4211 - accuracy: 0.2223 - val_loss: 2.1180 - val_accuracy: 0.3427\n",
      "Epoch 2/17\n",
      "5192/5192 [==============================] - 0s 18us/step - loss: 1.8854 - accuracy: 0.3727 - val_loss: 1.4123 - val_accuracy: 0.5071\n",
      "Epoch 3/17\n",
      "5192/5192 [==============================] - 0s 17us/step - loss: 1.2936 - accuracy: 0.5535 - val_loss: 0.9491 - val_accuracy: 0.6900\n",
      "Epoch 4/17\n",
      "5192/5192 [==============================] - 0s 18us/step - loss: 0.8731 - accuracy: 0.7198 - val_loss: 0.7002 - val_accuracy: 0.7580\n",
      "Epoch 5/17\n",
      "5192/5192 [==============================] - 0s 19us/step - loss: 0.6948 - accuracy: 0.7660 - val_loss: 0.6238 - val_accuracy: 0.7997\n",
      "Epoch 6/17\n",
      "5192/5192 [==============================] - 0s 18us/step - loss: 0.6162 - accuracy: 0.7912 - val_loss: 0.5897 - val_accuracy: 0.8087\n",
      "Epoch 7/17\n",
      "5192/5192 [==============================] - 0s 18us/step - loss: 0.5663 - accuracy: 0.8028 - val_loss: 0.5813 - val_accuracy: 0.8145\n",
      "Epoch 8/17\n",
      "5192/5192 [==============================] - 0s 18us/step - loss: 0.5418 - accuracy: 0.8145 - val_loss: 0.5573 - val_accuracy: 0.8228\n",
      "Epoch 9/17\n",
      "5192/5192 [==============================] - 0s 19us/step - loss: 0.5203 - accuracy: 0.8153 - val_loss: 0.5522 - val_accuracy: 0.8094\n",
      "Epoch 10/17\n",
      "5192/5192 [==============================] - 0s 18us/step - loss: 0.5055 - accuracy: 0.8207 - val_loss: 0.5397 - val_accuracy: 0.8273\n",
      "Epoch 11/17\n",
      "5192/5192 [==============================] - 0s 18us/step - loss: 0.4901 - accuracy: 0.8284 - val_loss: 0.5259 - val_accuracy: 0.8235\n",
      "Epoch 12/17\n",
      "5192/5192 [==============================] - 0s 18us/step - loss: 0.4691 - accuracy: 0.8320 - val_loss: 0.5213 - val_accuracy: 0.8286\n",
      "Epoch 13/17\n",
      "5192/5192 [==============================] - 0s 18us/step - loss: 0.4512 - accuracy: 0.8417 - val_loss: 0.5227 - val_accuracy: 0.8184\n",
      "Epoch 14/17\n",
      "5192/5192 [==============================] - 0s 19us/step - loss: 0.4496 - accuracy: 0.8349 - val_loss: 0.5153 - val_accuracy: 0.8293\n",
      "Epoch 15/17\n",
      "5192/5192 [==============================] - 0s 19us/step - loss: 0.4327 - accuracy: 0.8442 - val_loss: 0.5092 - val_accuracy: 0.8363\n",
      "Epoch 16/17\n",
      "5192/5192 [==============================] - 0s 18us/step - loss: 0.4183 - accuracy: 0.8507 - val_loss: 0.5004 - val_accuracy: 0.8338\n",
      "Epoch 17/17\n",
      "5192/5192 [==============================] - 0s 19us/step - loss: 0.4132 - accuracy: 0.8494 - val_loss: 0.5122 - val_accuracy: 0.8350\n"
     ]
    },
    {
     "data": {
      "text/plain": [
       "<keras.callbacks.callbacks.History at 0x7f01eb17b358>"
      ]
     },
     "execution_count": 48,
     "metadata": {
      "tags": []
     },
     "output_type": "execute_result"
    }
   ],
   "source": [
    "np.random.seed(2)\n",
    "rn.seed(3)\n",
    "history = History()\n",
    "\n",
    "model = Sequential()\n",
    "model.add(Dense(units = 2048, activation = \"tanh\", input_dim=768))\n",
    "model.add(Dropout(0.1))\n",
    "model.add(Dense(units = 1024, activation = \"tanh\"))\n",
    "model.add(Dropout(0.1))\n",
    "model.add(Dense(units = 512, activation = \"tanh\"))\n",
    "model.add(Dropout(0.1))\n",
    "model.add(Dense(units = 256, activation = \"tanh\"))\n",
    "model.add(Dropout(0.1))\n",
    "model.add(Dense(units = 128, activation = \"tanh\"))\n",
    "model.add(Dropout(0.1))\n",
    "model.add(Dense(units = 8, activation = \"softmax\"))\n",
    "\n",
    "model.compile(optimizer=Adam(0.001), loss=\"categorical_crossentropy\", metrics=['accuracy'])\n",
    "\n",
    "model.fit(np.array(X_train_embeddings), np.array(y_train_k), \n",
    "          validation_data=(np.array(X_val_embeddings), np.array(y_val_k)), \n",
    "          epochs=17, \n",
    "          batch_size=2000, \n",
    "          shuffle=True, \n",
    "          callbacks=[history], \n",
    "          verbose=True)"
   ]
  },
  {
   "cell_type": "code",
   "execution_count": 25,
   "metadata": {
    "colab": {},
    "colab_type": "code",
    "executionInfo": {
     "elapsed": 1395,
     "status": "ok",
     "timestamp": 1598213771753,
     "user": {
      "displayName": "Md Rifatul Islam Rifat",
      "photoUrl": "",
      "userId": "17304548563437753137"
     },
     "user_tz": -360
    },
    "id": "pRb42ccVM07F"
   },
   "outputs": [],
   "source": [
    "# for learning curve\n",
    "his_train_loss = history.history['loss']\n",
    "his_val_loss = history.history['val_loss']"
   ]
  },
  {
   "cell_type": "code",
   "execution_count": 87,
   "metadata": {
    "colab": {
     "base_uri": "https://localhost:8080/",
     "height": 365
    },
    "colab_type": "code",
    "executionInfo": {
     "elapsed": 2003,
     "status": "ok",
     "timestamp": 1598189653046,
     "user": {
      "displayName": "Md Rifatul Islam Rifat",
      "photoUrl": "",
      "userId": "17304548563437753137"
     },
     "user_tz": -360
    },
    "id": "s06Lf-Tpd7Zj",
    "outputId": "759f44ff-af70-4640-e339-971aa8cd3f01"
   },
   "outputs": [
    {
     "data": {
      "image/png": "[encoded data removed]",
      "text/plain": [
       "<Figure size 720x360 with 1 Axes>"
      ]
     },
     "metadata": {
      "tags": []
     },
     "output_type": "display_data"
    }
   ],
   "source": [
    "## Plot learning curve\n",
    "import matplotlib.pyplot as plt\n",
    "sns.set()\n",
    "fig, ax = plt.subplots(figsize=(10,5))\n",
    "plt.plot(his_train_loss,'darkorange')\n",
    "plt.plot(his_val_loss, 'seagreen')\n",
    "\n",
    "plt.title(\"Loss vs Epochs\", fontdict={'fontsize': 12})\n",
    "plt.ylabel('Accuracy')\n",
    "plt.xlabel('Epochs')\n",
    "\n",
    "plt.legend(['Train', 'Validation'], loc='upper right')\n",
    "plt.tight_layout()\n",
    "# plt.savefig(\"news_loss_vs_epochs_BERT_feature_based.jpg\", dpi=300, bbox_inches='tight')\n",
    "plt.show()"
   ]
  },
  {
   "cell_type": "markdown",
   "metadata": {
    "colab_type": "text",
    "id": "sTaeDpw_ArVS"
   },
   "source": [
    "### Prediction"
   ]
  },
  {
   "cell_type": "code",
   "execution_count": 53,
   "metadata": {
    "colab": {},
    "colab_type": "code",
    "executionInfo": {
     "elapsed": 897,
     "status": "ok",
     "timestamp": 1598187392148,
     "user": {
      "displayName": "Md Rifatul Islam Rifat",
      "photoUrl": "",
      "userId": "17304548563437753137"
     },
     "user_tz": -360
    },
    "id": "Tg4jh4yRBSEl"
   },
   "outputs": [],
   "source": [
    "from sklearn.metrics import accuracy_score\n",
    "from sklearn.metrics import confusion_matrix\n",
    "from sklearn.metrics import classification_report"
   ]
  },
  {
   "cell_type": "code",
   "execution_count": 54,
   "metadata": {
    "colab": {
     "base_uri": "https://localhost:8080/",
     "height": 34
    },
    "colab_type": "code",
    "executionInfo": {
     "elapsed": 1942,
     "status": "ok",
     "timestamp": 1598187394688,
     "user": {
      "displayName": "Md Rifatul Islam Rifat",
      "photoUrl": "",
      "userId": "17304548563437753137"
     },
     "user_tz": -360
    },
    "id": "X4WN6l61lNry",
    "outputId": "31e9388e-8d9d-4894-cb3c-d186098c81c8"
   },
   "outputs": [
    {
     "name": "stdout",
     "output_type": "stream",
     "text": [
      "Test Accuracy: 0.82\n"
     ]
    }
   ],
   "source": [
    "y_pred = model.predict(np.array(X_test_embeddings))\n",
    "ac = accuracy_score(y_test_k.argmax(axis=1), y_pred.argmax(axis=1))\n",
    "print(\"Test Accuracy:\", round(ac, 2))"
   ]
  },
  {
   "cell_type": "code",
   "execution_count": null,
   "metadata": {
    "colab": {
     "base_uri": "https://localhost:8080/",
     "height": 153
    },
    "colab_type": "code",
    "executionInfo": {
     "elapsed": 1395,
     "status": "ok",
     "timestamp": 1598187397520,
     "user": {
      "displayName": "Md Rifatul Islam Rifat",
      "photoUrl": "",
      "userId": "17304548563437753137"
     },
     "user_tz": -360
    },
    "id": "xPPmiaX_pJkc",
    "outputId": "a3b58425-74aa-4aeb-851c-7845120a117b"
   },
   "outputs": [],
   "source": [
    "## generate confusion matrix\n",
    "cm = confusion_matrix(y_test_k.argmax(axis=1), y_pred.argmax(axis=1))"
   ]
  },
  {
   "cell_type": "code",
   "execution_count": 56,
   "metadata": {
    "colab": {
     "base_uri": "https://localhost:8080/",
     "height": 246
    },
    "colab_type": "code",
    "executionInfo": {
     "elapsed": 1237,
     "status": "ok",
     "timestamp": 1598187403225,
     "user": {
      "displayName": "Md Rifatul Islam Rifat",
      "photoUrl": "",
      "userId": "17304548563437753137"
     },
     "user_tz": -360
    },
    "id": "WoNKxLEIql0D",
    "outputId": "cf7b443c-7b2c-4390-b33b-e29c07fe891b"
   },
   "outputs": [
    {
     "name": "stdout",
     "output_type": "stream",
     "text": [
      "Confusion Matrix: \n"
     ]
    },
    {
     "data": {
      "text/html": [
       "<style  type=\"text/css\" >\n",
       "    #T_176556f2_e540_11ea_a89c_0242ac1c0002row0_col0 {\n",
       "            background-color:  skyblue;\n",
       "            color:  black;\n",
       "        }    #T_176556f2_e540_11ea_a89c_0242ac1c0002row0_col1 {\n",
       "            background-color:  skyblue;\n",
       "            color:  black;\n",
       "        }    #T_176556f2_e540_11ea_a89c_0242ac1c0002row0_col2 {\n",
       "            background-color:  skyblue;\n",
       "            color:  black;\n",
       "        }    #T_176556f2_e540_11ea_a89c_0242ac1c0002row0_col3 {\n",
       "            background-color:  skyblue;\n",
       "            color:  black;\n",
       "        }    #T_176556f2_e540_11ea_a89c_0242ac1c0002row0_col4 {\n",
       "            background-color:  skyblue;\n",
       "            color:  black;\n",
       "        }    #T_176556f2_e540_11ea_a89c_0242ac1c0002row0_col5 {\n",
       "            background-color:  skyblue;\n",
       "            color:  black;\n",
       "        }    #T_176556f2_e540_11ea_a89c_0242ac1c0002row0_col6 {\n",
       "            background-color:  skyblue;\n",
       "            color:  black;\n",
       "        }    #T_176556f2_e540_11ea_a89c_0242ac1c0002row0_col7 {\n",
       "            background-color:  skyblue;\n",
       "            color:  black;\n",
       "        }    #T_176556f2_e540_11ea_a89c_0242ac1c0002row1_col0 {\n",
       "            background-color:  skyblue;\n",
       "            color:  black;\n",
       "        }    #T_176556f2_e540_11ea_a89c_0242ac1c0002row1_col1 {\n",
       "            background-color:  skyblue;\n",
       "            color:  black;\n",
       "        }    #T_176556f2_e540_11ea_a89c_0242ac1c0002row1_col2 {\n",
       "            background-color:  skyblue;\n",
       "            color:  black;\n",
       "        }    #T_176556f2_e540_11ea_a89c_0242ac1c0002row1_col3 {\n",
       "            background-color:  skyblue;\n",
       "            color:  black;\n",
       "        }    #T_176556f2_e540_11ea_a89c_0242ac1c0002row1_col4 {\n",
       "            background-color:  skyblue;\n",
       "            color:  black;\n",
       "        }    #T_176556f2_e540_11ea_a89c_0242ac1c0002row1_col5 {\n",
       "            background-color:  skyblue;\n",
       "            color:  black;\n",
       "        }    #T_176556f2_e540_11ea_a89c_0242ac1c0002row1_col6 {\n",
       "            background-color:  skyblue;\n",
       "            color:  black;\n",
       "        }    #T_176556f2_e540_11ea_a89c_0242ac1c0002row1_col7 {\n",
       "            background-color:  skyblue;\n",
       "            color:  black;\n",
       "        }    #T_176556f2_e540_11ea_a89c_0242ac1c0002row2_col0 {\n",
       "            background-color:  skyblue;\n",
       "            color:  black;\n",
       "        }    #T_176556f2_e540_11ea_a89c_0242ac1c0002row2_col1 {\n",
       "            background-color:  skyblue;\n",
       "            color:  black;\n",
       "        }    #T_176556f2_e540_11ea_a89c_0242ac1c0002row2_col2 {\n",
       "            background-color:  skyblue;\n",
       "            color:  black;\n",
       "        }    #T_176556f2_e540_11ea_a89c_0242ac1c0002row2_col3 {\n",
       "            background-color:  skyblue;\n",
       "            color:  black;\n",
       "        }    #T_176556f2_e540_11ea_a89c_0242ac1c0002row2_col4 {\n",
       "            background-color:  skyblue;\n",
       "            color:  black;\n",
       "        }    #T_176556f2_e540_11ea_a89c_0242ac1c0002row2_col5 {\n",
       "            background-color:  skyblue;\n",
       "            color:  black;\n",
       "        }    #T_176556f2_e540_11ea_a89c_0242ac1c0002row2_col6 {\n",
       "            background-color:  skyblue;\n",
       "            color:  black;\n",
       "        }    #T_176556f2_e540_11ea_a89c_0242ac1c0002row2_col7 {\n",
       "            background-color:  skyblue;\n",
       "            color:  black;\n",
       "        }    #T_176556f2_e540_11ea_a89c_0242ac1c0002row3_col0 {\n",
       "            background-color:  skyblue;\n",
       "            color:  black;\n",
       "        }    #T_176556f2_e540_11ea_a89c_0242ac1c0002row3_col1 {\n",
       "            background-color:  skyblue;\n",
       "            color:  black;\n",
       "        }    #T_176556f2_e540_11ea_a89c_0242ac1c0002row3_col2 {\n",
       "            background-color:  skyblue;\n",
       "            color:  black;\n",
       "        }    #T_176556f2_e540_11ea_a89c_0242ac1c0002row3_col3 {\n",
       "            background-color:  skyblue;\n",
       "            color:  black;\n",
       "        }    #T_176556f2_e540_11ea_a89c_0242ac1c0002row3_col4 {\n",
       "            background-color:  skyblue;\n",
       "            color:  black;\n",
       "        }    #T_176556f2_e540_11ea_a89c_0242ac1c0002row3_col5 {\n",
       "            background-color:  skyblue;\n",
       "            color:  black;\n",
       "        }    #T_176556f2_e540_11ea_a89c_0242ac1c0002row3_col6 {\n",
       "            background-color:  skyblue;\n",
       "            color:  black;\n",
       "        }    #T_176556f2_e540_11ea_a89c_0242ac1c0002row3_col7 {\n",
       "            background-color:  skyblue;\n",
       "            color:  black;\n",
       "        }    #T_176556f2_e540_11ea_a89c_0242ac1c0002row4_col0 {\n",
       "            background-color:  skyblue;\n",
       "            color:  black;\n",
       "        }    #T_176556f2_e540_11ea_a89c_0242ac1c0002row4_col1 {\n",
       "            background-color:  skyblue;\n",
       "            color:  black;\n",
       "        }    #T_176556f2_e540_11ea_a89c_0242ac1c0002row4_col2 {\n",
       "            background-color:  skyblue;\n",
       "            color:  black;\n",
       "        }    #T_176556f2_e540_11ea_a89c_0242ac1c0002row4_col3 {\n",
       "            background-color:  skyblue;\n",
       "            color:  black;\n",
       "        }    #T_176556f2_e540_11ea_a89c_0242ac1c0002row4_col4 {\n",
       "            background-color:  skyblue;\n",
       "            color:  black;\n",
       "        }    #T_176556f2_e540_11ea_a89c_0242ac1c0002row4_col5 {\n",
       "            background-color:  skyblue;\n",
       "            color:  black;\n",
       "        }    #T_176556f2_e540_11ea_a89c_0242ac1c0002row4_col6 {\n",
       "            background-color:  skyblue;\n",
       "            color:  black;\n",
       "        }    #T_176556f2_e540_11ea_a89c_0242ac1c0002row4_col7 {\n",
       "            background-color:  skyblue;\n",
       "            color:  black;\n",
       "        }    #T_176556f2_e540_11ea_a89c_0242ac1c0002row5_col0 {\n",
       "            background-color:  skyblue;\n",
       "            color:  black;\n",
       "        }    #T_176556f2_e540_11ea_a89c_0242ac1c0002row5_col1 {\n",
       "            background-color:  skyblue;\n",
       "            color:  black;\n",
       "        }    #T_176556f2_e540_11ea_a89c_0242ac1c0002row5_col2 {\n",
       "            background-color:  skyblue;\n",
       "            color:  black;\n",
       "        }    #T_176556f2_e540_11ea_a89c_0242ac1c0002row5_col3 {\n",
       "            background-color:  skyblue;\n",
       "            color:  black;\n",
       "        }    #T_176556f2_e540_11ea_a89c_0242ac1c0002row5_col4 {\n",
       "            background-color:  skyblue;\n",
       "            color:  black;\n",
       "        }    #T_176556f2_e540_11ea_a89c_0242ac1c0002row5_col5 {\n",
       "            background-color:  skyblue;\n",
       "            color:  black;\n",
       "        }    #T_176556f2_e540_11ea_a89c_0242ac1c0002row5_col6 {\n",
       "            background-color:  skyblue;\n",
       "            color:  black;\n",
       "        }    #T_176556f2_e540_11ea_a89c_0242ac1c0002row5_col7 {\n",
       "            background-color:  skyblue;\n",
       "            color:  black;\n",
       "        }    #T_176556f2_e540_11ea_a89c_0242ac1c0002row6_col0 {\n",
       "            background-color:  skyblue;\n",
       "            color:  black;\n",
       "        }    #T_176556f2_e540_11ea_a89c_0242ac1c0002row6_col1 {\n",
       "            background-color:  skyblue;\n",
       "            color:  black;\n",
       "        }    #T_176556f2_e540_11ea_a89c_0242ac1c0002row6_col2 {\n",
       "            background-color:  skyblue;\n",
       "            color:  black;\n",
       "        }    #T_176556f2_e540_11ea_a89c_0242ac1c0002row6_col3 {\n",
       "            background-color:  skyblue;\n",
       "            color:  black;\n",
       "        }    #T_176556f2_e540_11ea_a89c_0242ac1c0002row6_col4 {\n",
       "            background-color:  skyblue;\n",
       "            color:  black;\n",
       "        }    #T_176556f2_e540_11ea_a89c_0242ac1c0002row6_col5 {\n",
       "            background-color:  skyblue;\n",
       "            color:  black;\n",
       "        }    #T_176556f2_e540_11ea_a89c_0242ac1c0002row6_col6 {\n",
       "            background-color:  skyblue;\n",
       "            color:  black;\n",
       "        }    #T_176556f2_e540_11ea_a89c_0242ac1c0002row6_col7 {\n",
       "            background-color:  skyblue;\n",
       "            color:  black;\n",
       "        }    #T_176556f2_e540_11ea_a89c_0242ac1c0002row7_col0 {\n",
       "            background-color:  skyblue;\n",
       "            color:  black;\n",
       "        }    #T_176556f2_e540_11ea_a89c_0242ac1c0002row7_col1 {\n",
       "            background-color:  skyblue;\n",
       "            color:  black;\n",
       "        }    #T_176556f2_e540_11ea_a89c_0242ac1c0002row7_col2 {\n",
       "            background-color:  skyblue;\n",
       "            color:  black;\n",
       "        }    #T_176556f2_e540_11ea_a89c_0242ac1c0002row7_col3 {\n",
       "            background-color:  skyblue;\n",
       "            color:  black;\n",
       "        }    #T_176556f2_e540_11ea_a89c_0242ac1c0002row7_col4 {\n",
       "            background-color:  skyblue;\n",
       "            color:  black;\n",
       "        }    #T_176556f2_e540_11ea_a89c_0242ac1c0002row7_col5 {\n",
       "            background-color:  skyblue;\n",
       "            color:  black;\n",
       "        }    #T_176556f2_e540_11ea_a89c_0242ac1c0002row7_col6 {\n",
       "            background-color:  skyblue;\n",
       "            color:  black;\n",
       "        }    #T_176556f2_e540_11ea_a89c_0242ac1c0002row7_col7 {\n",
       "            background-color:  skyblue;\n",
       "            color:  black;\n",
       "        }</style><table id=\"T_176556f2_e540_11ea_a89c_0242ac1c0002\" ><thead>    <tr>        <th class=\"blank\" ></th>        <th class=\"blank level0\" ></th>        <th class=\"col_heading level0 col0\" colspan=8>Predicted</th>    </tr>    <tr>        <th class=\"blank\" ></th>        <th class=\"blank level1\" ></th>        <th class=\"col_heading level1 col0\" >arts-and-culture</th>        <th class=\"col_heading level1 col1\" >business</th>        <th class=\"col_heading level1 col2\" >health</th>        <th class=\"col_heading level1 col3\" >international-news</th>        <th class=\"col_heading level1 col4\" >national-news</th>        <th class=\"col_heading level1 col5\" >research</th>        <th class=\"col_heading level1 col6\" >service</th>        <th class=\"col_heading level1 col7\" >sports-news</th>    </tr></thead><tbody>\n",
       "                <tr>\n",
       "                        <th id=\"T_176556f2_e540_11ea_a89c_0242ac1c0002level0_row0\" class=\"row_heading level0 row0\" rowspan=8>Actual</th>\n",
       "                        <th id=\"T_176556f2_e540_11ea_a89c_0242ac1c0002level1_row0\" class=\"row_heading level1 row0\" >arts-and-culture</th>\n",
       "                        <td id=\"T_176556f2_e540_11ea_a89c_0242ac1c0002row0_col0\" class=\"data row0 col0\" >82</td>\n",
       "                        <td id=\"T_176556f2_e540_11ea_a89c_0242ac1c0002row0_col1\" class=\"data row0 col1\" >0</td>\n",
       "                        <td id=\"T_176556f2_e540_11ea_a89c_0242ac1c0002row0_col2\" class=\"data row0 col2\" >0</td>\n",
       "                        <td id=\"T_176556f2_e540_11ea_a89c_0242ac1c0002row0_col3\" class=\"data row0 col3\" >0</td>\n",
       "                        <td id=\"T_176556f2_e540_11ea_a89c_0242ac1c0002row0_col4\" class=\"data row0 col4\" >3</td>\n",
       "                        <td id=\"T_176556f2_e540_11ea_a89c_0242ac1c0002row0_col5\" class=\"data row0 col5\" >0</td>\n",
       "                        <td id=\"T_176556f2_e540_11ea_a89c_0242ac1c0002row0_col6\" class=\"data row0 col6\" >2</td>\n",
       "                        <td id=\"T_176556f2_e540_11ea_a89c_0242ac1c0002row0_col7\" class=\"data row0 col7\" >3</td>\n",
       "            </tr>\n",
       "            <tr>\n",
       "                                <th id=\"T_176556f2_e540_11ea_a89c_0242ac1c0002level1_row1\" class=\"row_heading level1 row1\" >business</th>\n",
       "                        <td id=\"T_176556f2_e540_11ea_a89c_0242ac1c0002row1_col0\" class=\"data row1 col0\" >0</td>\n",
       "                        <td id=\"T_176556f2_e540_11ea_a89c_0242ac1c0002row1_col1\" class=\"data row1 col1\" >43</td>\n",
       "                        <td id=\"T_176556f2_e540_11ea_a89c_0242ac1c0002row1_col2\" class=\"data row1 col2\" >0</td>\n",
       "                        <td id=\"T_176556f2_e540_11ea_a89c_0242ac1c0002row1_col3\" class=\"data row1 col3\" >5</td>\n",
       "                        <td id=\"T_176556f2_e540_11ea_a89c_0242ac1c0002row1_col4\" class=\"data row1 col4\" >6</td>\n",
       "                        <td id=\"T_176556f2_e540_11ea_a89c_0242ac1c0002row1_col5\" class=\"data row1 col5\" >4</td>\n",
       "                        <td id=\"T_176556f2_e540_11ea_a89c_0242ac1c0002row1_col6\" class=\"data row1 col6\" >1</td>\n",
       "                        <td id=\"T_176556f2_e540_11ea_a89c_0242ac1c0002row1_col7\" class=\"data row1 col7\" >0</td>\n",
       "            </tr>\n",
       "            <tr>\n",
       "                                <th id=\"T_176556f2_e540_11ea_a89c_0242ac1c0002level1_row2\" class=\"row_heading level1 row2\" >health</th>\n",
       "                        <td id=\"T_176556f2_e540_11ea_a89c_0242ac1c0002row2_col0\" class=\"data row2 col0\" >0</td>\n",
       "                        <td id=\"T_176556f2_e540_11ea_a89c_0242ac1c0002row2_col1\" class=\"data row2 col1\" >0</td>\n",
       "                        <td id=\"T_176556f2_e540_11ea_a89c_0242ac1c0002row2_col2\" class=\"data row2 col2\" >79</td>\n",
       "                        <td id=\"T_176556f2_e540_11ea_a89c_0242ac1c0002row2_col3\" class=\"data row2 col3\" >0</td>\n",
       "                        <td id=\"T_176556f2_e540_11ea_a89c_0242ac1c0002row2_col4\" class=\"data row2 col4\" >2</td>\n",
       "                        <td id=\"T_176556f2_e540_11ea_a89c_0242ac1c0002row2_col5\" class=\"data row2 col5\" >8</td>\n",
       "                        <td id=\"T_176556f2_e540_11ea_a89c_0242ac1c0002row2_col6\" class=\"data row2 col6\" >1</td>\n",
       "                        <td id=\"T_176556f2_e540_11ea_a89c_0242ac1c0002row2_col7\" class=\"data row2 col7\" >0</td>\n",
       "            </tr>\n",
       "            <tr>\n",
       "                                <th id=\"T_176556f2_e540_11ea_a89c_0242ac1c0002level1_row3\" class=\"row_heading level1 row3\" >international-news</th>\n",
       "                        <td id=\"T_176556f2_e540_11ea_a89c_0242ac1c0002row3_col0\" class=\"data row3 col0\" >0</td>\n",
       "                        <td id=\"T_176556f2_e540_11ea_a89c_0242ac1c0002row3_col1\" class=\"data row3 col1\" >4</td>\n",
       "                        <td id=\"T_176556f2_e540_11ea_a89c_0242ac1c0002row3_col2\" class=\"data row3 col2\" >1</td>\n",
       "                        <td id=\"T_176556f2_e540_11ea_a89c_0242ac1c0002row3_col3\" class=\"data row3 col3\" >75</td>\n",
       "                        <td id=\"T_176556f2_e540_11ea_a89c_0242ac1c0002row3_col4\" class=\"data row3 col4\" >1</td>\n",
       "                        <td id=\"T_176556f2_e540_11ea_a89c_0242ac1c0002row3_col5\" class=\"data row3 col5\" >9</td>\n",
       "                        <td id=\"T_176556f2_e540_11ea_a89c_0242ac1c0002row3_col6\" class=\"data row3 col6\" >0</td>\n",
       "                        <td id=\"T_176556f2_e540_11ea_a89c_0242ac1c0002row3_col7\" class=\"data row3 col7\" >0</td>\n",
       "            </tr>\n",
       "            <tr>\n",
       "                                <th id=\"T_176556f2_e540_11ea_a89c_0242ac1c0002level1_row4\" class=\"row_heading level1 row4\" >national-news</th>\n",
       "                        <td id=\"T_176556f2_e540_11ea_a89c_0242ac1c0002row4_col0\" class=\"data row4 col0\" >2</td>\n",
       "                        <td id=\"T_176556f2_e540_11ea_a89c_0242ac1c0002row4_col1\" class=\"data row4 col1\" >4</td>\n",
       "                        <td id=\"T_176556f2_e540_11ea_a89c_0242ac1c0002row4_col2\" class=\"data row4 col2\" >0</td>\n",
       "                        <td id=\"T_176556f2_e540_11ea_a89c_0242ac1c0002row4_col3\" class=\"data row4 col3\" >2</td>\n",
       "                        <td id=\"T_176556f2_e540_11ea_a89c_0242ac1c0002row4_col4\" class=\"data row4 col4\" >78</td>\n",
       "                        <td id=\"T_176556f2_e540_11ea_a89c_0242ac1c0002row4_col5\" class=\"data row4 col5\" >2</td>\n",
       "                        <td id=\"T_176556f2_e540_11ea_a89c_0242ac1c0002row4_col6\" class=\"data row4 col6\" >1</td>\n",
       "                        <td id=\"T_176556f2_e540_11ea_a89c_0242ac1c0002row4_col7\" class=\"data row4 col7\" >1</td>\n",
       "            </tr>\n",
       "            <tr>\n",
       "                                <th id=\"T_176556f2_e540_11ea_a89c_0242ac1c0002level1_row5\" class=\"row_heading level1 row5\" >research</th>\n",
       "                        <td id=\"T_176556f2_e540_11ea_a89c_0242ac1c0002row5_col0\" class=\"data row5 col0\" >1</td>\n",
       "                        <td id=\"T_176556f2_e540_11ea_a89c_0242ac1c0002row5_col1\" class=\"data row5 col1\" >8</td>\n",
       "                        <td id=\"T_176556f2_e540_11ea_a89c_0242ac1c0002row5_col2\" class=\"data row5 col2\" >15</td>\n",
       "                        <td id=\"T_176556f2_e540_11ea_a89c_0242ac1c0002row5_col3\" class=\"data row5 col3\" >8</td>\n",
       "                        <td id=\"T_176556f2_e540_11ea_a89c_0242ac1c0002row5_col4\" class=\"data row5 col4\" >1</td>\n",
       "                        <td id=\"T_176556f2_e540_11ea_a89c_0242ac1c0002row5_col5\" class=\"data row5 col5\" >53</td>\n",
       "                        <td id=\"T_176556f2_e540_11ea_a89c_0242ac1c0002row5_col6\" class=\"data row5 col6\" >2</td>\n",
       "                        <td id=\"T_176556f2_e540_11ea_a89c_0242ac1c0002row5_col7\" class=\"data row5 col7\" >2</td>\n",
       "            </tr>\n",
       "            <tr>\n",
       "                                <th id=\"T_176556f2_e540_11ea_a89c_0242ac1c0002level1_row6\" class=\"row_heading level1 row6\" >service</th>\n",
       "                        <td id=\"T_176556f2_e540_11ea_a89c_0242ac1c0002row6_col0\" class=\"data row6 col0\" >3</td>\n",
       "                        <td id=\"T_176556f2_e540_11ea_a89c_0242ac1c0002row6_col1\" class=\"data row6 col1\" >2</td>\n",
       "                        <td id=\"T_176556f2_e540_11ea_a89c_0242ac1c0002row6_col2\" class=\"data row6 col2\" >8</td>\n",
       "                        <td id=\"T_176556f2_e540_11ea_a89c_0242ac1c0002row6_col3\" class=\"data row6 col3\" >3</td>\n",
       "                        <td id=\"T_176556f2_e540_11ea_a89c_0242ac1c0002row6_col4\" class=\"data row6 col4\" >2</td>\n",
       "                        <td id=\"T_176556f2_e540_11ea_a89c_0242ac1c0002row6_col5\" class=\"data row6 col5\" >1</td>\n",
       "                        <td id=\"T_176556f2_e540_11ea_a89c_0242ac1c0002row6_col6\" class=\"data row6 col6\" >70</td>\n",
       "                        <td id=\"T_176556f2_e540_11ea_a89c_0242ac1c0002row6_col7\" class=\"data row6 col7\" >1</td>\n",
       "            </tr>\n",
       "            <tr>\n",
       "                                <th id=\"T_176556f2_e540_11ea_a89c_0242ac1c0002level1_row7\" class=\"row_heading level1 row7\" >sports-news</th>\n",
       "                        <td id=\"T_176556f2_e540_11ea_a89c_0242ac1c0002row7_col0\" class=\"data row7 col0\" >0</td>\n",
       "                        <td id=\"T_176556f2_e540_11ea_a89c_0242ac1c0002row7_col1\" class=\"data row7 col1\" >0</td>\n",
       "                        <td id=\"T_176556f2_e540_11ea_a89c_0242ac1c0002row7_col2\" class=\"data row7 col2\" >0</td>\n",
       "                        <td id=\"T_176556f2_e540_11ea_a89c_0242ac1c0002row7_col3\" class=\"data row7 col3\" >1</td>\n",
       "                        <td id=\"T_176556f2_e540_11ea_a89c_0242ac1c0002row7_col4\" class=\"data row7 col4\" >0</td>\n",
       "                        <td id=\"T_176556f2_e540_11ea_a89c_0242ac1c0002row7_col5\" class=\"data row7 col5\" >1</td>\n",
       "                        <td id=\"T_176556f2_e540_11ea_a89c_0242ac1c0002row7_col6\" class=\"data row7 col6\" >1</td>\n",
       "                        <td id=\"T_176556f2_e540_11ea_a89c_0242ac1c0002row7_col7\" class=\"data row7 col7\" >66</td>\n",
       "            </tr>\n",
       "    </tbody></table>"
      ],
      "text/plain": [
       "<pandas.io.formats.style.Styler at 0x7f01eaeb7cc0>"
      ]
     },
     "execution_count": 56,
     "metadata": {
      "tags": []
     },
     "output_type": "execute_result"
    }
   ],
   "source": [
    "print(\"Confusion Matrix: \")\n",
    "p = pd.DataFrame(cm, \n",
    "                 index=[['Actual']*8,list(le.inverse_transform([0, 1, 2, 3, 4, 5, 6, 7]))], \n",
    "                 columns=[['Predicted']*8,list(le.inverse_transform([0, 1, 2, 3, 4, 5, 6, 7]))])\n",
    "\n",
    "p.style.set_properties(**{'background-color': 'skyblue', \n",
    "                          'color': 'black'})"
   ]
  },
  {
   "cell_type": "code",
   "execution_count": null,
   "metadata": {
    "colab": {},
    "colab_type": "code",
    "id": "4kNiT1C24RTR"
   },
   "outputs": [],
   "source": [
    "p = pd.DataFrame(cm, \n",
    "                 index=list(le.inverse_transform([0, 1, 2, 3, 4, 5, 6, 7])), \n",
    "                 columns=list(le.inverse_transform([0, 1, 2, 3, 4, 5, 6, 7])))"
   ]
  },
  {
   "cell_type": "code",
   "execution_count": 61,
   "metadata": {
    "colab": {
     "base_uri": "https://localhost:8080/",
     "height": 394
    },
    "colab_type": "code",
    "executionInfo": {
     "elapsed": 1961,
     "status": "ok",
     "timestamp": 1598187760662,
     "user": {
      "displayName": "Md Rifatul Islam Rifat",
      "photoUrl": "",
      "userId": "17304548563437753137"
     },
     "user_tz": -360
    },
    "id": "hIuPSpk4qB9X",
    "outputId": "d63aeefe-5bbf-4d66-ca08-8dadbd9adf80"
   },
   "outputs": [
    {
     "data": {
      "image/png": "[encoded data removed]",
      "text/plain": [
       "<Figure size 432x288 with 2 Axes>"
      ]
     },
     "metadata": {
      "tags": []
     },
     "output_type": "display_data"
    }
   ],
   "source": [
    "## Confusion Matrix in Heatmap\n",
    "import matplotlib.pyplot as plt\n",
    "import seaborn as sns\n",
    "# plt.figure(figsize=(12, 8))\n",
    "sns.set()\n",
    "f = sns.heatmap(p, annot=True)\n",
    "plt.title(\"Confusion Matrix\", fontdict={'fontsize': 12})\n",
    "plt.xlabel(\"Predicted\")\n",
    "plt.ylabel(\"Actual\")\n",
    "plt.show()\n",
    "\n",
    "f.get_figure().savefig(\"news_confusion_matrix_BERT_feature_based.jpg\", dpi=300, bbox_inches='tight')"
   ]
  },
  {
   "cell_type": "code",
   "execution_count": 62,
   "metadata": {
    "colab": {
     "base_uri": "https://localhost:8080/",
     "height": 272
    },
    "colab_type": "code",
    "executionInfo": {
     "elapsed": 1018,
     "status": "ok",
     "timestamp": 1598187845929,
     "user": {
      "displayName": "Md Rifatul Islam Rifat",
      "photoUrl": "",
      "userId": "17304548563437753137"
     },
     "user_tz": -360
    },
    "id": "ZhGuTrdHlNuX",
    "outputId": "d81a7b7f-a9e0-4fb9-8d16-b01176938201"
   },
   "outputs": [
    {
     "name": "stdout",
     "output_type": "stream",
     "text": [
      "                    precision    recall  f1-score   support\n",
      "\n",
      "  arts-and-culture       0.93      0.91      0.92        90\n",
      "          business       0.70      0.73      0.72        59\n",
      "            health       0.77      0.88      0.82        90\n",
      "international-news       0.80      0.83      0.82        90\n",
      "     national-news       0.84      0.87      0.85        90\n",
      "          research       0.68      0.59      0.63        90\n",
      "           service       0.90      0.78      0.83        90\n",
      "       sports-news       0.90      0.96      0.93        69\n",
      "\n",
      "          accuracy                           0.82       668\n",
      "         macro avg       0.82      0.82      0.81       668\n",
      "      weighted avg       0.82      0.82      0.82       668\n",
      "\n"
     ]
    }
   ],
   "source": [
    "## Classification Report\n",
    "target_names = list(le.inverse_transform([0, 1, 2, 3, 4, 5, 6, 7]))\n",
    "print(classification_report(y_test_k.argmax(axis=1), y_pred.argmax(axis=1), target_names = target_names))"
   ]
  },
  {
   "cell_type": "code",
   "execution_count": null,
   "metadata": {
    "colab": {},
    "colab_type": "code",
    "id": "3_w5TYawlNo0"
   },
   "outputs": [],
   "source": []
  }
 ],
 "metadata": {
  "accelerator": "GPU",
  "colab": {
   "collapsed_sections": [],
   "machine_shape": "hm",
   "name": "News_Classification_BERT_frature_extraction.ipynb",
   "provenance": [
    {
     "file_id": "https://github.com/google-research/bert/blob/master/predicting_movie_reviews_with_bert_on_tf_hub.ipynb",
     "timestamp": 1582706432461
    }
   ]
  },
  "kernelspec": {
   "display_name": "Python 3",
   "language": "python",
   "name": "python3"
  },
  "language_info": {
   "codemirror_mode": {
    "name": "ipython",
    "version": 3
   },
   "file_extension": ".py",
   "mimetype": "text/x-python",
   "name": "python",
   "nbconvert_exporter": "python",
   "pygments_lexer": "ipython3",
   "version": "3.7.4"
  }
 },
 "nbformat": 4,
 "nbformat_minor": 1
}
