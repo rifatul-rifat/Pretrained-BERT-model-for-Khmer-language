{
 "cells": [
  {
   "cell_type": "markdown",
   "metadata": {},
   "source": [
    "---"
   ]
  },
  {
   "cell_type": "markdown",
   "metadata": {},
   "source": [
    "## Khmer News Classification with BERT Fine-Tuning Based Approach\n",
    "---"
   ]
  },
  {
   "cell_type": "code",
   "execution_count": null,
   "metadata": {
    "colab": {
     "base_uri": "https://localhost:8080/",
     "height": 34
    },
    "colab_type": "code",
    "executionInfo": {
     "elapsed": 1544,
     "status": "ok",
     "timestamp": 1598156513479,
     "user": {
      "displayName": "Md Rifatul Islam Rifat",
      "photoUrl": "",
      "userId": "17304548563437753137"
     },
     "user_tz": -360
    },
    "id": "ufHsc7otpH1Q",
    "outputId": "1566ee2b-74e4-4bb8-873e-2df8965f8332"
   },
   "outputs": [
    {
     "name": "stdout",
     "output_type": "stream",
     "text": [
      "TensorFlow 1.x selected.\n"
     ]
    }
   ],
   "source": [
    "%tensorflow_version 1.x"
   ]
  },
  {
   "cell_type": "code",
   "execution_count": null,
   "metadata": {},
   "outputs": [],
   "source": [
    "from google.colab import drive\n",
    "drive.mount('/content/drive')"
   ]
  },
  {
   "cell_type": "code",
   "execution_count": null,
   "metadata": {
    "colab": {},
    "colab_type": "code",
    "id": "_GvHHSvKtmcv"
   },
   "outputs": [],
   "source": [
    "import sys\n",
    "sys.path.append(\"/content/drive/bert_khmer\")"
   ]
  },
  {
   "cell_type": "code",
   "execution_count": null,
   "metadata": {
    "colab": {},
    "colab_type": "code",
    "id": "hsZvic2YxnTz"
   },
   "outputs": [],
   "source": [
    "import re\n",
    "import pandas as pd\n",
    "import tensorflow as tf\n",
    "import tensorflow_hub as hub\n",
    "from datetime import datetime"
   ]
  },
  {
   "cell_type": "code",
   "execution_count": null,
   "metadata": {},
   "outputs": [],
   "source": [
    "import tokenization_km\n",
    "import modeling\n",
    "import optimization\n",
    "import run_classifier"
   ]
  },
  {
   "cell_type": "code",
   "execution_count": null,
   "metadata": {
    "colab": {},
    "colab_type": "code",
    "id": "da5vVeWCLxR0"
   },
   "outputs": [],
   "source": [
    "OUTPUT_DIR = \"/content/fine_tuned_model\""
   ]
  },
  {
   "cell_type": "markdown",
   "metadata": {
    "colab_type": "text",
    "id": "cVyWdOZVPtkj"
   },
   "source": [
    "### Load Pre-trained BERT module for khmer"
   ]
  },
  {
   "cell_type": "code",
   "execution_count": null,
   "metadata": {
    "colab": {
     "base_uri": "https://localhost:8080/",
     "height": 187
    },
    "colab_type": "code",
    "executionInfo": {
     "elapsed": 15929,
     "status": "ok",
     "timestamp": 1598156579397,
     "user": {
      "displayName": "Md Rifatul Islam Rifat",
      "photoUrl": "",
      "userId": "17304548563437753137"
     },
     "user_tz": -360
    },
    "id": "ek-W2q5wL_aD",
    "outputId": "ea722f89-eada-4fdc-e395-cfbb2da9636d"
   },
   "outputs": [
    {
     "name": "stdout",
     "output_type": "stream",
     "text": [
      "Archive:  /content/drive/My Drive/Colab Notebooks/Khmer Paper/bert_module_khmer.zip\n",
      "   creating: /content/pretrained/bert_module_khmer/\n",
      "   creating: /content/pretrained/bert_module_khmer/assets/\n",
      "  inflating: /content/pretrained/bert_module_khmer/assets/bert_config.json  \n",
      "  inflating: /content/pretrained/bert_module_khmer/assets/vocab_file_BERT_.txt  \n",
      "  inflating: /content/pretrained/bert_module_khmer/saved_model.pb  \n",
      "  inflating: /content/pretrained/bert_module_khmer/tfhub_module.pb  \n",
      "   creating: /content/pretrained/bert_module_khmer/variables/\n",
      "  inflating: /content/pretrained/bert_module_khmer/variables/variables.data-00000-of-00001  \n",
      "  inflating: /content/pretrained/bert_module_khmer/variables/variables.index  \n"
     ]
    }
   ],
   "source": [
    "!unzip \"/content/drive/bert_module_khmer.zip\" -d \"/content/pretrained\""
   ]
  },
  {
   "cell_type": "markdown",
   "metadata": {
    "colab_type": "text",
    "id": "pmFYvkylMwXn"
   },
   "source": [
    "### Load Data"
   ]
  },
  {
   "cell_type": "code",
   "execution_count": null,
   "metadata": {
    "colab": {},
    "colab_type": "code",
    "id": "K4uSdg0L2yTS"
   },
   "outputs": [],
   "source": [
    "data = pd.read_excel('/content/drive/Khmer Paper/news_classification_data_km.xlsx', encoding=\"UTF-8\")"
   ]
  },
  {
   "cell_type": "code",
   "execution_count": null,
   "metadata": {
    "colab": {
     "base_uri": "https://localhost:8080/",
     "height": 204
    },
    "colab_type": "code",
    "executionInfo": {
     "elapsed": 2460,
     "status": "ok",
     "timestamp": 1598156864563,
     "user": {
      "displayName": "Md Rifatul Islam Rifat",
      "photoUrl": "",
      "userId": "17304548563437753137"
     },
     "user_tz": -360
    },
    "id": "fom_ff20gyy6",
    "outputId": "8d942d65-8a45-4c29-bc02-91f7c284eebb"
   },
   "outputs": [
    {
     "data": {
      "text/html": [
       "<div>\n",
       "<style scoped>\n",
       "    .dataframe tbody tr th:only-of-type {\n",
       "        vertical-align: middle;\n",
       "    }\n",
       "\n",
       "    .dataframe tbody tr th {\n",
       "        vertical-align: top;\n",
       "    }\n",
       "\n",
       "    .dataframe thead th {\n",
       "        text-align: right;\n",
       "    }\n",
       "</style>\n",
       "<table border=\"1\" class=\"dataframe\">\n",
       "  <thead>\n",
       "    <tr style=\"text-align: right;\">\n",
       "      <th></th>\n",
       "      <th>id</th>\n",
       "      <th>content</th>\n",
       "      <th>tokenized_content</th>\n",
       "      <th>category</th>\n",
       "      <th>category_en</th>\n",
       "    </tr>\n",
       "  </thead>\n",
       "  <tbody>\n",
       "    <tr>\n",
       "      <th>0</th>\n",
       "      <td>45541</td>\n",
       "      <td>រាជធានីភ្នំពេញ ៖នៅក្នុងពិភពសិល្បៈតារាសម្តែងមួយ...</td>\n",
       "      <td>រាជ ធានី ភ្នំ ពេញ ៖ នៅ ក្នុង ពិភព សិល្បៈ តារា ...</td>\n",
       "      <td>សិល្បៈនិងវប្បធម៌</td>\n",
       "      <td>arts-and-culture</td>\n",
       "    </tr>\n",
       "    <tr>\n",
       "      <th>1</th>\n",
       "      <td>52071</td>\n",
       "      <td>រាជធានីភ្នំពេញ ៖ ក្រុមតន្ត្រីថ្មីមួយដែលមានឈ្មោ...</td>\n",
       "      <td>រាជ ធានី ភ្នំ ពេញ ៖ ក្រុម តន្ត្រី ថ្មី មួយ ដែល...</td>\n",
       "      <td>សិល្បៈនិងវប្បធម៌</td>\n",
       "      <td>arts-and-culture</td>\n",
       "    </tr>\n",
       "    <tr>\n",
       "      <th>2</th>\n",
       "      <td>8906</td>\n",
       "      <td>រូបកាយយើងនេះញាំញីទៅដោយជំងឺដង្កាត់គ្រប់ប្រភេទ អ...</td>\n",
       "      <td>រូប កាយ យើង នេះ ញាំញី ទៅ ដោយ ជំងឺ ដង្កាត់ គ្រប...</td>\n",
       "      <td>សិល្បៈនិងវប្បធម៌</td>\n",
       "      <td>arts-and-culture</td>\n",
       "    </tr>\n",
       "    <tr>\n",
       "      <th>3</th>\n",
       "      <td>49697</td>\n",
       "      <td>រាជធានីភ្នំពេញ ៖ តារាសម្តែង និងជាអ្នកចម្រៀងវ័យ...</td>\n",
       "      <td>រាជ ធានី ភ្នំ ពេញ ៖ តារា សម្តែង និង ជា អ្នក ចម...</td>\n",
       "      <td>សិល្បៈនិងវប្បធម៌</td>\n",
       "      <td>arts-and-culture</td>\n",
       "    </tr>\n",
       "    <tr>\n",
       "      <th>4</th>\n",
       "      <td>46696</td>\n",
       "      <td>រាជធានីភ្នំពេញ ៖ អ្នកនាងឡាយ លក្ខិណា ក្រោយពេលវិ...</td>\n",
       "      <td>រាជ ធានី ភ្នំ ពេញ ៖ អ្នក នាង ឡាយ លក្ខិណា ក្រោយ...</td>\n",
       "      <td>សិល្បៈនិងវប្បធម៌</td>\n",
       "      <td>arts-and-culture</td>\n",
       "    </tr>\n",
       "  </tbody>\n",
       "</table>\n",
       "</div>"
      ],
      "text/plain": [
       "      id  ...       category_en\n",
       "0  45541  ...  arts-and-culture\n",
       "1  52071  ...  arts-and-culture\n",
       "2   8906  ...  arts-and-culture\n",
       "3  49697  ...  arts-and-culture\n",
       "4  46696  ...  arts-and-culture\n",
       "\n",
       "[5 rows x 5 columns]"
      ]
     },
     "execution_count": 14,
     "metadata": {
      "tags": []
     },
     "output_type": "execute_result"
    }
   ],
   "source": [
    "data.head()"
   ]
  },
  {
   "cell_type": "markdown",
   "metadata": {},
   "source": [
    "### Preprocessing"
   ]
  },
  {
   "cell_type": "code",
   "execution_count": null,
   "metadata": {
    "colab": {},
    "colab_type": "code",
    "id": "iC2Il5c4kDoD"
   },
   "outputs": [],
   "source": [
    "data['tokenized_content'] = data['tokenized_content'].apply(lambda x: ' '.join(re.sub(r'[០១២៣៤៥៦៧៨៩។៕៖ៗ៘៙៚]+', ' ', x).strip().split()))\n",
    "data.drop_duplicates(subset=['tokenized_content'], inplace=True)"
   ]
  },
  {
   "cell_type": "code",
   "execution_count": null,
   "metadata": {
    "colab": {
     "base_uri": "https://localhost:8080/",
     "height": 34
    },
    "colab_type": "code",
    "executionInfo": {
     "elapsed": 993,
     "status": "ok",
     "timestamp": 1598156866385,
     "user": {
      "displayName": "Md Rifatul Islam Rifat",
      "photoUrl": "",
      "userId": "17304548563437753137"
     },
     "user_tz": -360
    },
    "id": "W3wQ0OdmGDZ6",
    "outputId": "5e07424a-1d87-47d6-fc68-92c244206e5c"
   },
   "outputs": [
    {
     "data": {
      "text/plain": [
       "(7418, 5)"
      ]
     },
     "execution_count": 16,
     "metadata": {
      "tags": []
     },
     "output_type": "execute_result"
    }
   ],
   "source": [
    "data.shape"
   ]
  },
  {
   "cell_type": "code",
   "execution_count": null,
   "metadata": {
    "colab": {
     "base_uri": "https://localhost:8080/",
     "height": 68
    },
    "colab_type": "code",
    "executionInfo": {
     "elapsed": 1237,
     "status": "ok",
     "timestamp": 1598156877148,
     "user": {
      "displayName": "Md Rifatul Islam Rifat",
      "photoUrl": "",
      "userId": "17304548563437753137"
     },
     "user_tz": -360
    },
    "id": "mtA5IM948pBs",
    "outputId": "ffa2f720-4b93-4431-c170-012cd5d71b28"
   },
   "outputs": [
    {
     "data": {
      "text/plain": [
       "array(['arts-and-culture', 'sports-news', 'business',\n",
       "       'international-news', 'national-news', 'research', 'service',\n",
       "       'health'], dtype=object)"
      ]
     },
     "execution_count": 17,
     "metadata": {
      "tags": []
     },
     "output_type": "execute_result"
    }
   ],
   "source": [
    "data.category_en.unique()"
   ]
  },
  {
   "cell_type": "code",
   "execution_count": null,
   "metadata": {
    "colab": {
     "base_uri": "https://localhost:8080/",
     "height": 170
    },
    "colab_type": "code",
    "executionInfo": {
     "elapsed": 1097,
     "status": "ok",
     "timestamp": 1598156882344,
     "user": {
      "displayName": "Md Rifatul Islam Rifat",
      "photoUrl": "",
      "userId": "17304548563437753137"
     },
     "user_tz": -360
    },
    "id": "llC__5683MYG",
    "outputId": "5b32c6cd-2e09-4492-8657-210824d03c5f"
   },
   "outputs": [
    {
     "data": {
      "text/plain": [
       "research              999\n",
       "international-news    999\n",
       "health                999\n",
       "national-news         999\n",
       "arts-and-culture      998\n",
       "service               994\n",
       "sports-news           769\n",
       "business              661\n",
       "Name: category_en, dtype: int64"
      ]
     },
     "execution_count": 20,
     "metadata": {
      "tags": []
     },
     "output_type": "execute_result"
    }
   ],
   "source": [
    "data['category_en'].value_counts()"
   ]
  },
  {
   "cell_type": "code",
   "execution_count": null,
   "metadata": {
    "colab": {},
    "colab_type": "code",
    "id": "IUQr-Um9M_ok"
   },
   "outputs": [],
   "source": [
    "## Encoding\n",
    "from sklearn.preprocessing import LabelEncoder\n",
    "le = LabelEncoder()\n",
    "data['label'] = le.fit_transform(data.loc[:, 'category_en'].copy().tolist())"
   ]
  },
  {
   "cell_type": "code",
   "execution_count": null,
   "metadata": {
    "colab": {
     "base_uri": "https://localhost:8080/",
     "height": 297
    },
    "colab_type": "code",
    "executionInfo": {
     "elapsed": 1294,
     "status": "ok",
     "timestamp": 1598156903351,
     "user": {
      "displayName": "Md Rifatul Islam Rifat",
      "photoUrl": "",
      "userId": "17304548563437753137"
     },
     "user_tz": -360
    },
    "id": "edomohmWNc6j",
    "outputId": "17b3c526-6c79-466a-ee26-23c041edc3ab"
   },
   "outputs": [
    {
     "data": {
      "text/html": [
       "<div>\n",
       "<style scoped>\n",
       "    .dataframe tbody tr th:only-of-type {\n",
       "        vertical-align: middle;\n",
       "    }\n",
       "\n",
       "    .dataframe tbody tr th {\n",
       "        vertical-align: top;\n",
       "    }\n",
       "\n",
       "    .dataframe thead th {\n",
       "        text-align: right;\n",
       "    }\n",
       "</style>\n",
       "<table border=\"1\" class=\"dataframe\">\n",
       "  <thead>\n",
       "    <tr style=\"text-align: right;\">\n",
       "      <th></th>\n",
       "      <th>category_en</th>\n",
       "      <th>label</th>\n",
       "    </tr>\n",
       "  </thead>\n",
       "  <tbody>\n",
       "    <tr>\n",
       "      <th>0</th>\n",
       "      <td>arts-and-culture</td>\n",
       "      <td>0</td>\n",
       "    </tr>\n",
       "    <tr>\n",
       "      <th>1</th>\n",
       "      <td>business</td>\n",
       "      <td>1</td>\n",
       "    </tr>\n",
       "    <tr>\n",
       "      <th>2</th>\n",
       "      <td>health</td>\n",
       "      <td>2</td>\n",
       "    </tr>\n",
       "    <tr>\n",
       "      <th>3</th>\n",
       "      <td>international-news</td>\n",
       "      <td>3</td>\n",
       "    </tr>\n",
       "    <tr>\n",
       "      <th>4</th>\n",
       "      <td>national-news</td>\n",
       "      <td>4</td>\n",
       "    </tr>\n",
       "    <tr>\n",
       "      <th>5</th>\n",
       "      <td>research</td>\n",
       "      <td>5</td>\n",
       "    </tr>\n",
       "    <tr>\n",
       "      <th>6</th>\n",
       "      <td>service</td>\n",
       "      <td>6</td>\n",
       "    </tr>\n",
       "    <tr>\n",
       "      <th>7</th>\n",
       "      <td>sports-news</td>\n",
       "      <td>7</td>\n",
       "    </tr>\n",
       "  </tbody>\n",
       "</table>\n",
       "</div>"
      ],
      "text/plain": [
       "          category_en  label\n",
       "0    arts-and-culture      0\n",
       "1            business      1\n",
       "2              health      2\n",
       "3  international-news      3\n",
       "4       national-news      4\n",
       "5            research      5\n",
       "6             service      6\n",
       "7         sports-news      7"
      ]
     },
     "execution_count": 22,
     "metadata": {
      "tags": []
     },
     "output_type": "execute_result"
    }
   ],
   "source": [
    "data[['category_en', 'label']].drop_duplicates(subset=['category_en']).sort_values(by=['label']).reset_index(drop=True)"
   ]
  },
  {
   "cell_type": "code",
   "execution_count": null,
   "metadata": {
    "colab": {
     "base_uri": "https://localhost:8080/",
     "height": 204
    },
    "colab_type": "code",
    "executionInfo": {
     "elapsed": 913,
     "status": "ok",
     "timestamp": 1598156914921,
     "user": {
      "displayName": "Md Rifatul Islam Rifat",
      "photoUrl": "",
      "userId": "17304548563437753137"
     },
     "user_tz": -360
    },
    "id": "Az7_oGHYMP2b",
    "outputId": "fdb7991f-583e-47c1-f4fc-835e52d81707"
   },
   "outputs": [
    {
     "data": {
      "text/html": [
       "<div>\n",
       "<style scoped>\n",
       "    .dataframe tbody tr th:only-of-type {\n",
       "        vertical-align: middle;\n",
       "    }\n",
       "\n",
       "    .dataframe tbody tr th {\n",
       "        vertical-align: top;\n",
       "    }\n",
       "\n",
       "    .dataframe thead th {\n",
       "        text-align: right;\n",
       "    }\n",
       "</style>\n",
       "<table border=\"1\" class=\"dataframe\">\n",
       "  <thead>\n",
       "    <tr style=\"text-align: right;\">\n",
       "      <th></th>\n",
       "      <th>id</th>\n",
       "      <th>content</th>\n",
       "      <th>tokenized_content</th>\n",
       "      <th>category</th>\n",
       "      <th>category_en</th>\n",
       "      <th>label</th>\n",
       "    </tr>\n",
       "  </thead>\n",
       "  <tbody>\n",
       "    <tr>\n",
       "      <th>0</th>\n",
       "      <td>45541</td>\n",
       "      <td>រាជធានីភ្នំពេញ ៖នៅក្នុងពិភពសិល្បៈតារាសម្តែងមួយ...</td>\n",
       "      <td>រាជ ធានី ភ្នំ ពេញ នៅ ក្នុង ពិភព សិល្បៈ តារា សម...</td>\n",
       "      <td>សិល្បៈនិងវប្បធម៌</td>\n",
       "      <td>arts-and-culture</td>\n",
       "      <td>0</td>\n",
       "    </tr>\n",
       "    <tr>\n",
       "      <th>1</th>\n",
       "      <td>52071</td>\n",
       "      <td>រាជធានីភ្នំពេញ ៖ ក្រុមតន្ត្រីថ្មីមួយដែលមានឈ្មោ...</td>\n",
       "      <td>រាជ ធានី ភ្នំ ពេញ ក្រុម តន្ត្រី ថ្មី មួយ ដែល ម...</td>\n",
       "      <td>សិល្បៈនិងវប្បធម៌</td>\n",
       "      <td>arts-and-culture</td>\n",
       "      <td>0</td>\n",
       "    </tr>\n",
       "    <tr>\n",
       "      <th>2</th>\n",
       "      <td>8906</td>\n",
       "      <td>រូបកាយយើងនេះញាំញីទៅដោយជំងឺដង្កាត់គ្រប់ប្រភេទ អ...</td>\n",
       "      <td>រូប កាយ យើង នេះ ញាំញី ទៅ ដោយ ជំងឺ ដង្កាត់ គ្រប...</td>\n",
       "      <td>សិល្បៈនិងវប្បធម៌</td>\n",
       "      <td>arts-and-culture</td>\n",
       "      <td>0</td>\n",
       "    </tr>\n",
       "    <tr>\n",
       "      <th>3</th>\n",
       "      <td>49697</td>\n",
       "      <td>រាជធានីភ្នំពេញ ៖ តារាសម្តែង និងជាអ្នកចម្រៀងវ័យ...</td>\n",
       "      <td>រាជ ធានី ភ្នំ ពេញ តារា សម្តែង និង ជា អ្នក ចម្រ...</td>\n",
       "      <td>សិល្បៈនិងវប្បធម៌</td>\n",
       "      <td>arts-and-culture</td>\n",
       "      <td>0</td>\n",
       "    </tr>\n",
       "    <tr>\n",
       "      <th>4</th>\n",
       "      <td>46696</td>\n",
       "      <td>រាជធានីភ្នំពេញ ៖ អ្នកនាងឡាយ លក្ខិណា ក្រោយពេលវិ...</td>\n",
       "      <td>រាជ ធានី ភ្នំ ពេញ អ្នក នាង ឡាយ លក្ខិណា ក្រោយ ព...</td>\n",
       "      <td>សិល្បៈនិងវប្បធម៌</td>\n",
       "      <td>arts-and-culture</td>\n",
       "      <td>0</td>\n",
       "    </tr>\n",
       "  </tbody>\n",
       "</table>\n",
       "</div>"
      ],
      "text/plain": [
       "      id  ... label\n",
       "0  45541  ...     0\n",
       "1  52071  ...     0\n",
       "2   8906  ...     0\n",
       "3  49697  ...     0\n",
       "4  46696  ...     0\n",
       "\n",
       "[5 rows x 6 columns]"
      ]
     },
     "execution_count": 23,
     "metadata": {
      "tags": []
     },
     "output_type": "execute_result"
    }
   ],
   "source": [
    "data.head()"
   ]
  },
  {
   "cell_type": "markdown",
   "metadata": {},
   "source": [
    "### Data Partitioning"
   ]
  },
  {
   "cell_type": "code",
   "execution_count": null,
   "metadata": {
    "colab": {},
    "colab_type": "code",
    "id": "FTI91xPXMHLO"
   },
   "outputs": [],
   "source": [
    "X = data['tokenized_content']\n",
    "y = data['label']"
   ]
  },
  {
   "cell_type": "code",
   "execution_count": null,
   "metadata": {
    "colab": {
     "base_uri": "https://localhost:8080/",
     "height": 68
    },
    "colab_type": "code",
    "executionInfo": {
     "elapsed": 1248,
     "status": "ok",
     "timestamp": 1598157153359,
     "user": {
      "displayName": "Md Rifatul Islam Rifat",
      "photoUrl": "",
      "userId": "17304548563437753137"
     },
     "user_tz": -360
    },
    "id": "CPqc-cVPMGzx",
    "outputId": "fac14314-2c53-415b-e4b0-cde0473c745a"
   },
   "outputs": [
    {
     "name": "stdout",
     "output_type": "stream",
     "text": [
      "Training shape: 5192\n",
      "Validation shape: 1558\n",
      "Testing shape: 668\n"
     ]
    }
   ],
   "source": [
    "from sklearn.model_selection import train_test_split\n",
    "X_train, X_val, y_train, y_val = train_test_split(X, y, test_size=0.3, random_state=1234, shuffle=True, stratify=y)\n",
    "X_val, X_test, y_val, y_test = train_test_split(X_val, y_val, test_size=0.3, random_state=1234, shuffle=True, stratify=y_val)\n",
    "\n",
    "print(\"\"\"Training shape: {}\n",
    "Validation shape: {}\n",
    "Testing shape: {}\"\"\".format(X_train.shape[0], X_val.shape[0], X_test.shape[0]))"
   ]
  },
  {
   "cell_type": "code",
   "execution_count": null,
   "metadata": {
    "colab": {},
    "colab_type": "code",
    "id": "sDLWdk7gMaxN"
   },
   "outputs": [],
   "source": [
    "train = pd.DataFrame({'news': X_train, 'label': y_train})\n",
    "val = pd.DataFrame({'news': X_val, 'label': y_val})\n",
    "test = pd.DataFrame({'news': X_test, 'label': y_test})"
   ]
  },
  {
   "cell_type": "markdown",
   "metadata": {
    "colab_type": "text",
    "id": "V399W0rqNJ-Z"
   },
   "source": [
    "### Create InputExample"
   ]
  },
  {
   "cell_type": "code",
   "execution_count": null,
   "metadata": {
    "colab": {},
    "colab_type": "code",
    "id": "zEsa_u2vS0B2"
   },
   "outputs": [],
   "source": [
    "DATA_COLUMN = 'news'\n",
    "LABEL_COLUMN = 'label'\n",
    "label_list = [0, 1, 2, 3, 4, 5, 6, 7]"
   ]
  },
  {
   "cell_type": "code",
   "execution_count": null,
   "metadata": {
    "colab": {},
    "colab_type": "code",
    "id": "p9gEt5SmM6i6"
   },
   "outputs": [],
   "source": [
    "train_InputExamples = train.apply(lambda x: run_classifier.InputExample(guid=None,\n",
    "                                                                   text_a = x[DATA_COLUMN], \n",
    "                                                                   text_b = None, \n",
    "                                                                   label = x[LABEL_COLUMN]), axis = 1)\n",
    "\n",
    "val_InputExamples = val.apply(lambda x: run_classifier.InputExample(guid=None, \n",
    "                                                                   text_a = x[DATA_COLUMN], \n",
    "                                                                   text_b = None, \n",
    "                                                                   label = x[LABEL_COLUMN]), axis = 1)"
   ]
  },
  {
   "cell_type": "markdown",
   "metadata": {
    "colab_type": "text",
    "id": "TbxCoSBVfeDl"
   },
   "source": [
    "### Tokenizer"
   ]
  },
  {
   "cell_type": "code",
   "execution_count": null,
   "metadata": {
    "colab": {
     "base_uri": "https://localhost:8080/",
     "height": 71
    },
    "colab_type": "code",
    "executionInfo": {
     "elapsed": 1712,
     "status": "ok",
     "timestamp": 1598157187016,
     "user": {
      "displayName": "Md Rifatul Islam Rifat",
      "photoUrl": "",
      "userId": "17304548563437753137"
     },
     "user_tz": -360
    },
    "id": "IhJSe0QHNG7U",
    "outputId": "49ae5d36-3014-4745-a523-a54702ceefe0"
   },
   "outputs": [],
   "source": [
    "vocab_path = '/content/pretrained/bert_module_khmer/assets/vocab_file_BERT_.txt'\n",
    "tokenizer = tokenization_km.FullTokenizer(vocab_file=vocab_path, do_lower_case=True)"
   ]
  },
  {
   "cell_type": "markdown",
   "metadata": {
    "colab_type": "text",
    "id": "-u9WXPpRr1ks"
   },
   "source": [
    "### Feature Extraction"
   ]
  },
  {
   "cell_type": "code",
   "execution_count": null,
   "metadata": {
    "colab": {
     "base_uri": "https://localhost:8080/",
     "height": 1000
    },
    "colab_type": "code",
    "executionInfo": {
     "elapsed": 1894,
     "status": "ok",
     "timestamp": 1598157191099,
     "user": {
      "displayName": "Md Rifatul Islam Rifat",
      "photoUrl": "",
      "userId": "17304548563437753137"
     },
     "user_tz": -360
    },
    "id": "LL5W8gEGRTAf",
    "outputId": "2a4ff8fb-1919-426e-c393-6bc69313b1a7"
   },
   "outputs": [
    {
     "name": "stdout",
     "output_type": "stream",
     "text": [
      "WARNING:tensorflow:From /content/drive/My Drive/Colab Notebooks/bert_khmer/run_classifier.py:774: The name tf.logging.info is deprecated. Please use tf.compat.v1.logging.info instead.\n",
      "\n",
      "INFO:tensorflow:Writing example 0 of 5192\n",
      "INFO:tensorflow:*** Example ***\n",
      "INFO:tensorflow:guid: None\n",
      "INFO:tensorflow:tokens: [CLS] ប្រទេស សិង្ហបុរី BuildTech Yangon គឺ ជា ការ តាំង ពិព័រណ៍ ពាណិជ្ជ កម្ម ដែល ប្លែក ពី គេ សម្រាប់ ការ អភិវឌ្ឍ វិស័យ អគារ និង សំណង់ ហើយ ឆ្នាំ នេះ ការ តាំង ពិព័រណ៍ ដ៏ ធំ មួយ នឹង ចាប់ ពី ថ្ងៃ ទី ដល់ ថ្ងៃ ទី មេសា ឆ្នាំ នៅ មជ្ឈមណ្ឌល សន្និបាត ប្រទេស មីយ៉ាន់ម៉ា ក្នុង ទីក្រុង Yangon ពិព័រណ៍ នេះ រៀបចំ ដោយ ក្រុមហ៊ុន Sphere Exhibits សាខា នៃ អង្គភាព សារ ព័ត៌មាន សិង្ហបុរី និង រៀបចំ រួម គ្នា ដោយ សមាគម សហគ្រិន សំណង់ មីយ៉ាន់ម៉ា ក្នុង គោល បំណង ជួយ អភិវឌ្ឍន៍ វិស័យ សំណង់ របស់ ប្រទេស មីយ៉ាន់ម៉ា ផ្ដោត ការ យក ចិត្ត ទុក ដាក់ លើ ហេដ្ឋា រចនា សម្ព័ន្ធ អគារ ស្នាក់ នៅ និង អគារ ពាណិជ្ជ កម្ម ការ ដឹក ជញ្ជូន ការ ផលិត និង ការ ធ្វើ ជំនួញ លើស ពី នេះ ទៀត ការ តាំង ពិព័រណ៍ នេះ នឹង មាន រៀបចំ សិក្ខា សាលា ស្ដី ពី អាជីវកម្ម និង វគ្គ សិក្សា [SEP]\n",
      "INFO:tensorflow:input_ids: 0 22145 107962 165253 30214 125739 16100 152009 33813 40265 118713 84262 28613 85966 29168 85779 26142 152009 153373 105448 153362 83338 21377 130476 145194 28801 152009 33813 40265 26228 74914 32244 6654 15467 29168 133503 167467 100699 133503 167467 60256 145194 129027 129775 1253 22145 156799 38977 104297 30214 40265 28801 100541 67734 64430 50252 77111 33769 72073 165866 82742 496 107962 83338 100541 121598 10625 67734 52688 34140 21377 156799 38977 140081 41496 156379 128940 105448 21377 97489 22145 156799 2351 152009 143402 47229 123374 34049 20394 143686 74319 67814 153362 4111 129027 83338 153362 118713 84262 152009 126763 144238 152009 23539 83338 152009 13122 136852 58763 29168 28801 80166 152009 33813 40265 28801 6654 2113 100541 60224 10293 14219 29168 69066 83338 97894 26481 1\n",
      "INFO:tensorflow:input_mask: 1 1 1 1 1 1 1 1 1 1 1 1 1 1 1 1 1 1 1 1 1 1 1 1 1 1 1 1 1 1 1 1 1 1 1 1 1 1 1 1 1 1 1 1 1 1 1 1 1 1 1 1 1 1 1 1 1 1 1 1 1 1 1 1 1 1 1 1 1 1 1 1 1 1 1 1 1 1 1 1 1 1 1 1 1 1 1 1 1 1 1 1 1 1 1 1 1 1 1 1 1 1 1 1 1 1 1 1 1 1 1 1 1 1 1 1 1 1 1 1 1 1 1 1 1 1 1 1\n",
      "INFO:tensorflow:segment_ids: 0 0 0 0 0 0 0 0 0 0 0 0 0 0 0 0 0 0 0 0 0 0 0 0 0 0 0 0 0 0 0 0 0 0 0 0 0 0 0 0 0 0 0 0 0 0 0 0 0 0 0 0 0 0 0 0 0 0 0 0 0 0 0 0 0 0 0 0 0 0 0 0 0 0 0 0 0 0 0 0 0 0 0 0 0 0 0 0 0 0 0 0 0 0 0 0 0 0 0 0 0 0 0 0 0 0 0 0 0 0 0 0 0 0 0 0 0 0 0 0 0 0 0 0 0 0 0 0\n",
      "INFO:tensorflow:label: 3 (id = 3)\n",
      "INFO:tensorflow:*** Example ***\n",
      "INFO:tensorflow:guid: None\n",
      "INFO:tensorflow:tokens: [CLS] រាជ ធានី ភ្នំ ពេញ ក្រសួង ធនធាន ទឹក និង ឧតុនិយម បាន ឲ្យ ដឹង ថា កម្ពុជា កំពុង រង សម្ពាធ ទាប នាំ ឲ្យ តំបន់ មួយ ចំនួន រង ទឹក ភ្លៀង ខ្លាំង ដែល ធ្វើ ឲ្យ ស្ថានីយ ជលសាស្ត្រ នានា មាន ការ កើន ឡើង កម្ពស់ ទឹក តែ ទោះ ជា បែប ណា មិន ដល់ កម្ពស់ ប្រុង ប្រយ័ត្ន ទេ យោង តាម ការ ព្យាករ របស់ ក្រសួង ធនធាន ទឹក និង ឧតុនិយម ចេញ ផ្សាយ នៅ ថ្ងៃ ទី ខែ សីហា ស្តី ពី ស្ថានភាព ទឹក ជំនន់ ទន្លេ មេគង្គ បាន ឲ្យ ដឹង ថា បន្ទាប់ ពី បាន ធ្វើ ការ ពិនិត្យ និង តាមដាន លើ ស្ថានភាព អាកាស ធាតុ ជា ប្រចាំ រួច មក ក្រសួង ធនធាន ទឹក និង ឧតុនិយម សូម ជម្រាប ជូន ដំណឹង ដល់ សាធារណ ជន ឲ្យ បាន ជ្រាប ថា កាល ពី វេលា ម៉ោង ព្រឹក ថ្ងៃ ទី ខែ សីហា ឆ្នាំ កន្លង មក នេះ មាន ប្រព័ន្ធ សម្ពាធ [SEP]\n",
      "INFO:tensorflow:input_ids: 0 46225 8634 38431 90697 125045 142698 39247 83338 6825 128962 99009 18227 57158 165324 27945 132166 116721 1476 160134 99009 54051 32244 74681 132166 39247 155373 97540 28613 13122 99009 95432 118092 163157 2113 152009 45495 46853 166339 39247 70605 147372 16100 145521 81634 85425 100699 166339 82105 66736 23478 128329 2746 152009 90011 97489 125045 142698 39247 83338 6825 18862 144 129027 133503 167467 55981 42099 131102 29168 67352 39247 102219 55150 99822 128962 99009 18227 57158 135252 29168 128962 13122 152009 2597 83338 74199 20394 67352 115614 37294 16100 109350 154738 44928 125045 142698 39247 83338 6825 5732 34059 72446 155000 100699 89602 55 99009 128962 42916 57158 119240 29168 26045 29137 129811 133503 167467 55981 42099 145194 86675 44928 28801 2113 959 116721 1\n",
      "INFO:tensorflow:input_mask: 1 1 1 1 1 1 1 1 1 1 1 1 1 1 1 1 1 1 1 1 1 1 1 1 1 1 1 1 1 1 1 1 1 1 1 1 1 1 1 1 1 1 1 1 1 1 1 1 1 1 1 1 1 1 1 1 1 1 1 1 1 1 1 1 1 1 1 1 1 1 1 1 1 1 1 1 1 1 1 1 1 1 1 1 1 1 1 1 1 1 1 1 1 1 1 1 1 1 1 1 1 1 1 1 1 1 1 1 1 1 1 1 1 1 1 1 1 1 1 1 1 1 1 1 1 1 1 1\n",
      "INFO:tensorflow:segment_ids: 0 0 0 0 0 0 0 0 0 0 0 0 0 0 0 0 0 0 0 0 0 0 0 0 0 0 0 0 0 0 0 0 0 0 0 0 0 0 0 0 0 0 0 0 0 0 0 0 0 0 0 0 0 0 0 0 0 0 0 0 0 0 0 0 0 0 0 0 0 0 0 0 0 0 0 0 0 0 0 0 0 0 0 0 0 0 0 0 0 0 0 0 0 0 0 0 0 0 0 0 0 0 0 0 0 0 0 0 0 0 0 0 0 0 0 0 0 0 0 0 0 0 0 0 0 0 0 0\n",
      "INFO:tensorflow:label: 5 (id = 5)\n",
      "INFO:tensorflow:*** Example ***\n",
      "INFO:tensorflow:guid: None\n",
      "INFO:tensorflow:tokens: [CLS] ទីក្រុង បាងកក ប្រទេស ថៃ ប្រហែល ជា មិន អាច សម្រេច គោល ដៅ នាំ ចេញ ឲ្យ បាន លាន ដុល្លារ ទេ ក្នុង ឆ្នាំ នេះ ព្រោះ តែ តម្លៃ ប្រាក់ បាត កើន ឡើង ដែល ធ្វើ ឲ្យ ការ កុម្មង់ ទំនិញ មួយ ចំនួន ដូច ជា បង្គា ត្រី ធូណា កំប៉ុង ដំឡូង ឈើ និង ទឹក ផ្លែ ឈើ ធ្លាក់ ចុះ លោក Yongvut Saovapruk ប្រធាន វិទ្យា ស្ថាន អាហារ ជាតិ ( NFI ) និយាយ ថា តម្លៃ ការ នាំ ចេញ អាហារ ក្នុង ឆ្នាំ នេះ គឺ តិច ជាង គោល ដៅ ដែល បាន កំណត់ ទុក NFI ព្យាករ ថា ការ នាំ ចេញ អាហារ អាច នឹង កើន ឡើង , % ក្នុង ឆ្នាំ នេះ បើ ធៀប នឹង ឆ្នាំ មុន លោក Yongvut Saovapruk បន្ត ថា « តម្លៃ ប្រាក់ បាត កើន ឡើង កំពុង តែ ប៉ះ ពាល់ ដល់ ការ នាំ ចេញ ម្ហូប អាហារ របស់ ថៃ ប៉ុន្តែ ពួក [SEP]\n",
      "INFO:tensorflow:input_ids: 0 104297 73483 22145 5436 39080 16100 85425 13977 58595 140081 144826 160134 18862 99009 128962 31591 59433 23478 38977 145194 28801 79657 70605 55153 67465 122906 45495 46853 28613 13122 99009 152009 1286 5771 32244 74681 164896 16100 63405 129839 79609 152860 78721 86259 83338 39247 5449 86259 1516 70971 45584 56092 72998 2048 103635 59921 160424 4681 2 138115 2 51389 57158 55153 152009 160134 18862 160424 38977 145194 28801 125739 156643 109615 140081 144826 28613 128962 13561 123374 138115 90011 57158 152009 160134 18862 160424 13977 6654 45495 46853 2 2 38977 145194 28801 125551 89821 6654 145194 105256 45584 56092 72998 164277 57158 2 55153 67465 122906 45495 46853 27945 70605 4423 155992 100699 152009 160134 18862 44519 160424 97489 5436 116361 100802 1\n",
      "INFO:tensorflow:input_mask: 1 1 1 1 1 1 1 1 1 1 1 1 1 1 1 1 1 1 1 1 1 1 1 1 1 1 1 1 1 1 1 1 1 1 1 1 1 1 1 1 1 1 1 1 1 1 1 1 1 1 1 1 1 1 1 1 1 1 1 1 1 1 1 1 1 1 1 1 1 1 1 1 1 1 1 1 1 1 1 1 1 1 1 1 1 1 1 1 1 1 1 1 1 1 1 1 1 1 1 1 1 1 1 1 1 1 1 1 1 1 1 1 1 1 1 1 1 1 1 1 1 1 1 1 1 1 1 1\n",
      "INFO:tensorflow:segment_ids: 0 0 0 0 0 0 0 0 0 0 0 0 0 0 0 0 0 0 0 0 0 0 0 0 0 0 0 0 0 0 0 0 0 0 0 0 0 0 0 0 0 0 0 0 0 0 0 0 0 0 0 0 0 0 0 0 0 0 0 0 0 0 0 0 0 0 0 0 0 0 0 0 0 0 0 0 0 0 0 0 0 0 0 0 0 0 0 0 0 0 0 0 0 0 0 0 0 0 0 0 0 0 0 0 0 0 0 0 0 0 0 0 0 0 0 0 0 0 0 0 0 0 0 0 0 0 0 0\n",
      "INFO:tensorflow:label: 3 (id = 3)\n",
      "INFO:tensorflow:*** Example ***\n",
      "INFO:tensorflow:guid: None\n",
      "INFO:tensorflow:tokens: [CLS] រាជ ធានី ភ្នំ ពេញ ក្រោយ ពេល ផលិត កម្ម Rock ផ្អាក សកម្មភាព ផលិត ចម្រៀង គ្រប់ តារា ចម្រៀង ទាំងអស់ បាន ចែក ជើង គ្នា ទៅ រក ទ្រនំ ថ្មី រៀង ខ្លួន ដោយ ឡែក តារា ចម្រៀង កំពុង មាន សន្ទុះ ខ្លាំង ខៀវ ដាឡិច ទើប តែ រក បាន ទ្រនំ ថ្មី ហើយ នាង ត្រៀម បង្ហាញ ភាព ភ្ញាក់ ផ្អើល ជាមួយ បទ ចម្រៀង និង ស្ទីល ថ្មី ប្លែក នៅ ផលិត កម្ម ថ្មី នេះ ក្នុង ភាព លាក់ លៀម មិន ទាន់ ហ៊ាន បញ្ចេញ ឈ្មោះ ទ្រនំ ថ្មី នោះ ម្ចាស់ បទ អូន ក្បត់ ដើម្បី បង រូប នេះ បាន អះអាង ប្រាប់ កោះ សន្តិភាព តាម ទូរស័ព្ទ ថា ក្រោយ ពេល ដែល ផលិត កម្ម Rock ផ្អាក ភ្លាម មាន ផលិត កម្ម ជា ច្រើន បាន ទាក់ទង មក នាង ទាំង ផលិត កម្ម ល្បី និង ផលិត កម្ម មិន ទាន់ មាន ឈ្មោះ បោះ សំឡេង ប៉ុន្តែ ទោះបី ជា យ៉ាង ណា ការ [SEP]\n",
      "INFO:tensorflow:input_ids: 0 46225 8634 38431 90697 70986 109932 23539 84262 58703 61697 166768 23539 37867 116017 153754 37867 55177 128962 92728 151702 10625 127642 39270 7782 54469 102383 64943 67734 126867 153754 37867 27945 2113 145704 97540 129250 144560 165808 70605 39270 128962 7782 54469 130476 132662 31737 145592 163655 39541 37029 8764 63948 37867 83338 39334 54469 85966 129027 23539 84262 54469 28801 38977 163655 26640 49449 85425 23702 124885 123196 37351 7782 54469 141277 28682 63948 90977 124009 76008 109730 136474 28801 128962 112784 39690 45787 149237 2746 130179 57158 70986 109932 28613 23539 84262 58703 61697 162235 2113 23539 84262 16100 131525 128962 26519 44928 132662 39376 23539 84262 19773 83338 23539 84262 85425 23702 2113 37351 148105 56057 116361 30208 16100 50677 81634 152009 1\n",
      "INFO:tensorflow:input_mask: 1 1 1 1 1 1 1 1 1 1 1 1 1 1 1 1 1 1 1 1 1 1 1 1 1 1 1 1 1 1 1 1 1 1 1 1 1 1 1 1 1 1 1 1 1 1 1 1 1 1 1 1 1 1 1 1 1 1 1 1 1 1 1 1 1 1 1 1 1 1 1 1 1 1 1 1 1 1 1 1 1 1 1 1 1 1 1 1 1 1 1 1 1 1 1 1 1 1 1 1 1 1 1 1 1 1 1 1 1 1 1 1 1 1 1 1 1 1 1 1 1 1 1 1 1 1 1 1\n",
      "INFO:tensorflow:segment_ids: 0 0 0 0 0 0 0 0 0 0 0 0 0 0 0 0 0 0 0 0 0 0 0 0 0 0 0 0 0 0 0 0 0 0 0 0 0 0 0 0 0 0 0 0 0 0 0 0 0 0 0 0 0 0 0 0 0 0 0 0 0 0 0 0 0 0 0 0 0 0 0 0 0 0 0 0 0 0 0 0 0 0 0 0 0 0 0 0 0 0 0 0 0 0 0 0 0 0 0 0 0 0 0 0 0 0 0 0 0 0 0 0 0 0 0 0 0 0 0 0 0 0 0 0 0 0 0 0\n",
      "INFO:tensorflow:label: 0 (id = 0)\n",
      "INFO:tensorflow:*** Example ***\n",
      "INFO:tensorflow:guid: None\n",
      "INFO:tensorflow:tokens: [CLS] រាជ ធានី ភ្នំ ពេញ លោក ត្រាំ អីុវតឹក រដ្ឋ មន្ត្រី ក្រសួង ប្រៃសណីយ៍ និង ទូរ គមនាគមន៍ បាន អះអាង ថា នៅ ឆ្នាំ នៅ ក្នុង ប្រទេស កម្ពុជា នឹង មាន ប្រព័ន្ធ អីុន ធើរណេត ប្រើប្រាស់ % នៅ តំបន់ ទី ប្រជុំ ជន ទូទាំង ប្រទេស និង % នៅ តំបន់ ជនបទ លោក រដ្ឋ មន្ត្រី បាន ថ្លែង បែប នេះ នៅ ក្នុង ពិធី សម្ពោធ ដាក់ បច្ចេកវិទ្យា . G មុន គេ បង្អស់ នៅ កម្ពុជា របស់ ក្រុមហ៊ុន ស្មាត នា រសៀល ថ្ងៃ ទី ខែ សីហា នៅ សណ្ឋាគា សូហ្វីតែល ភ្នំ ពេញ ភូគី ត្រា លោក រដ្ឋ មន្ត្រី បញ្ជាក់ ថា « នៅ ក្នុង ប្រទេស កម្ពុជា មាន ការ រីក ចម្រើន កាន់តែ ច្រើន ឡើង នូវ ប្រព័ន្ធ បច្ចេកទេស ព័ត៌មាន ដែល ធ្វើ ឱ្យ មនុស្ស កាន់ ច្រើន មាន ការ ភ្ជាប់ ទំនាក់ទំនង គ្នា វិស័យ ព័ត៌មាន កាន់តែ រីក ចម្រើន ឡើង នេះ ក៏ បាន ឱ្យ មាន ការ រីក ចម្រើន លើ វិស័យ [SEP]\n",
      "INFO:tensorflow:input_ids: 0 46225 8634 38431 90697 45584 159953 56495 148036 115123 125045 59189 83338 40373 98500 128962 112784 57158 129027 145194 129027 38977 22145 165324 6654 2113 959 115507 68383 24036 2 129027 54051 167467 92841 55 6609 22145 83338 2 129027 54051 74442 45584 148036 115123 128962 57811 145521 28801 129027 38977 91190 42272 34049 71151 2 53542 105256 85779 153323 129027 165324 97489 64430 161577 101750 135080 133503 167467 55981 42099 129027 122582 76503 38431 90697 165867 66333 45584 148036 115123 97310 57158 2 129027 38977 22145 165324 2113 152009 6905 80998 16975 131525 46853 98562 959 8231 496 28613 13122 114197 148066 123804 131525 2113 152009 22581 87563 10625 105448 496 16975 6905 80998 46853 28801 109539 128962 114197 2113 152009 6905 80998 20394 105448 1\n",
      "INFO:tensorflow:input_mask: 1 1 1 1 1 1 1 1 1 1 1 1 1 1 1 1 1 1 1 1 1 1 1 1 1 1 1 1 1 1 1 1 1 1 1 1 1 1 1 1 1 1 1 1 1 1 1 1 1 1 1 1 1 1 1 1 1 1 1 1 1 1 1 1 1 1 1 1 1 1 1 1 1 1 1 1 1 1 1 1 1 1 1 1 1 1 1 1 1 1 1 1 1 1 1 1 1 1 1 1 1 1 1 1 1 1 1 1 1 1 1 1 1 1 1 1 1 1 1 1 1 1 1 1 1 1 1 1\n",
      "INFO:tensorflow:segment_ids: 0 0 0 0 0 0 0 0 0 0 0 0 0 0 0 0 0 0 0 0 0 0 0 0 0 0 0 0 0 0 0 0 0 0 0 0 0 0 0 0 0 0 0 0 0 0 0 0 0 0 0 0 0 0 0 0 0 0 0 0 0 0 0 0 0 0 0 0 0 0 0 0 0 0 0 0 0 0 0 0 0 0 0 0 0 0 0 0 0 0 0 0 0 0 0 0 0 0 0 0 0 0 0 0 0 0 0 0 0 0 0 0 0 0 0 0 0 0 0 0 0 0 0 0 0 0 0 0\n",
      "INFO:tensorflow:label: 1 (id = 1)\n",
      "INFO:tensorflow:Writing example 0 of 1558\n",
      "INFO:tensorflow:*** Example ***\n",
      "INFO:tensorflow:guid: None\n",
      "INFO:tensorflow:tokens: [CLS] ផ្សារ ហ៊ុន អាស៊ី កើន ឡើង នៅ ថ្ងៃ ពុធ ទី តុលា ពីព្រោះ ធនាគារ ចិន ដ៏ ធំ បាន ទូទាត់ ការ ខាត បង់ ដែល ជាប់ ទាក់ទង នឹង លទ្ធផល មិន ល្អ របស់ ក្រុមហ៊ុន អាមេរិក Alcoa និង ការ បរាជ័យ នៃ ការ ពង្រីក ជំនួយ មូលនិធិ របស់ អឺរ៉ុប ផ្សារ ហ៊ុន ហុងកុង Hang Seng កើន ឡើង , ភាគ រយ នា ពេល នេះ តែ ពេល បើក ទ្វារ កាល ពី ព្រឹក មិញ ធ្លាក់ ចុះ ភាគ រយ ផ្សារ ហ៊ុន សៀង ហៃ កើន ឡើង , ភាគ រយ ចំណែក ផ្សារ ហ៊ុន កូរ៉េ ខាង ត្បូង Kospi កើន ឡើង , ភាគ រយ ដោយ ឡែក ផ្សារ ហ៊ុន អូស្រ្តាលី S & P / ASX 200 ធ្លាក់ ចុះ , ភាគ រយ ស្រប ពេល ផ្សារ ហ៊ុន ជប៉ុន Nikkei ធ្លាក់ ចុះ , ភាគ រយ ផ្សារ ហ៊ុន អាស៊ី បាន អង្គុយ លើ កៅអី កើន ឡើង ប្រចាំ សប្តាហ៍ បន្ទាប់ [SEP]\n",
      "INFO:tensorflow:input_ids: 0 146590 140453 84602 45495 46853 129027 133503 134993 167467 96790 148960 20933 27473 26228 74914 128962 12379 152009 138622 159447 28613 62388 26519 6654 166706 85425 55863 97489 64430 165669 113131 83338 152009 60509 72073 152009 160086 95281 56796 97489 127319 146590 140453 151616 72515 133924 45495 46853 2 148647 125547 101750 109932 28801 70605 109932 2160 59287 119240 29168 129811 108930 1516 70971 148647 125547 146590 140453 98004 139063 45495 46853 2 148647 125547 36934 146590 140453 159811 19982 118646 44581 45495 46853 2 148647 125547 67734 126867 146590 140453 132529 68944 2 51841 2 50589 2 1516 70971 2 148647 125547 69162 109932 146590 140453 87847 14482 1516 70971 2 148647 125547 146590 140453 84602 128962 145268 20394 146780 45495 46853 109350 85627 135252 1\n",
      "INFO:tensorflow:input_mask: 1 1 1 1 1 1 1 1 1 1 1 1 1 1 1 1 1 1 1 1 1 1 1 1 1 1 1 1 1 1 1 1 1 1 1 1 1 1 1 1 1 1 1 1 1 1 1 1 1 1 1 1 1 1 1 1 1 1 1 1 1 1 1 1 1 1 1 1 1 1 1 1 1 1 1 1 1 1 1 1 1 1 1 1 1 1 1 1 1 1 1 1 1 1 1 1 1 1 1 1 1 1 1 1 1 1 1 1 1 1 1 1 1 1 1 1 1 1 1 1 1 1 1 1 1 1 1 1\n",
      "INFO:tensorflow:segment_ids: 0 0 0 0 0 0 0 0 0 0 0 0 0 0 0 0 0 0 0 0 0 0 0 0 0 0 0 0 0 0 0 0 0 0 0 0 0 0 0 0 0 0 0 0 0 0 0 0 0 0 0 0 0 0 0 0 0 0 0 0 0 0 0 0 0 0 0 0 0 0 0 0 0 0 0 0 0 0 0 0 0 0 0 0 0 0 0 0 0 0 0 0 0 0 0 0 0 0 0 0 0 0 0 0 0 0 0 0 0 0 0 0 0 0 0 0 0 0 0 0 0 0 0 0 0 0 0 0\n",
      "INFO:tensorflow:label: 3 (id = 3)\n",
      "INFO:tensorflow:*** Example ***\n",
      "INFO:tensorflow:guid: None\n",
      "INFO:tensorflow:tokens: [CLS] ប្រសិន បើ អ្នក ទិញ រថ យន្ត ថ្មី ចូល ផ្ទះ គួរ តែ អនុវត្ត តាម សេចក្ដី ណែនាំ មួយ ចំនួន ដើម្បី ការពារ កុំ ឱ្យ ច្រែះ ចាប់ សាច់ តួរថ យន្ត នៅ ពេល ខាង មុខ ផ្ទុយ ទៅ វិញ ទិញ រថ យន្ត ជជុះ ត្រូវ ទុក ចិត្ត ថា លោក អ្នក បាន ពិនិត្យ ត្រង់ ចំណុច អស់ ទាំង នោះ ស្រេចបាច់ ហើយ មុន នឹង សម្រេច ចិត្ត ទិញ រថ យន្ត ណា ក៏ ដោយ កាល បើ ម្ចាស់ ទុក ហាល ថ្ងៃ ចោល នោះ វា នឹង ឡើង ជាតិ អំបិល លើ សាច់ ថ្នាំ នៃ តួរថ យន្ត តិច និង ច្រើន តាម ស្ថានការណ៍ ជាក់ស្ដែង ហើយ ចំណុច នេះ គឺ ងាយ នឹង ធ្វើ ឱ្យ មាន លក្ខខណ្ឌ ច្រែះ ស៊ី តួរថ យន្ត កើត ឡើង នាំ ឱ្យ ឆាប់ ពុក ផុយ ដូច្នេះ សូម ណែនាំ វិធី ថែទាំ តួរថ យន្ត មិន ឱ្យ ច្រែះ ស៊ី ដូច ត ទៅ - អ្នក ចាំបាច់ ត្រូវតែ [SEP]\n",
      "INFO:tensorflow:input_ids: 0 55061 125551 38340 54796 120019 120550 54469 98248 14442 86831 70605 111661 2746 65748 17913 32244 74681 76008 61039 18650 114197 10583 15467 102356 86865 120550 129027 109932 19982 158978 74477 127642 66217 54796 120019 120550 86680 74058 123374 47229 57158 45584 38340 128962 2597 121559 31561 101825 39376 141277 78896 130476 105256 6654 58595 47229 54796 120019 120550 81634 109539 67734 119240 125551 28682 123374 967 133503 29949 141277 135432 6654 46853 4681 3250 20394 102356 94846 72073 86865 120550 156643 83338 131525 2746 63412 16563 130476 31561 28801 125739 105323 6654 13122 114197 2113 141611 10583 113359 86865 120550 11833 46853 160134 114197 123141 18968 125724 48554 5732 17913 5319 49033 86865 120550 85425 114197 10583 113359 164896 15203 127642 2 38340 32033 138794 1\n",
      "INFO:tensorflow:input_mask: 1 1 1 1 1 1 1 1 1 1 1 1 1 1 1 1 1 1 1 1 1 1 1 1 1 1 1 1 1 1 1 1 1 1 1 1 1 1 1 1 1 1 1 1 1 1 1 1 1 1 1 1 1 1 1 1 1 1 1 1 1 1 1 1 1 1 1 1 1 1 1 1 1 1 1 1 1 1 1 1 1 1 1 1 1 1 1 1 1 1 1 1 1 1 1 1 1 1 1 1 1 1 1 1 1 1 1 1 1 1 1 1 1 1 1 1 1 1 1 1 1 1 1 1 1 1 1 1\n",
      "INFO:tensorflow:segment_ids: 0 0 0 0 0 0 0 0 0 0 0 0 0 0 0 0 0 0 0 0 0 0 0 0 0 0 0 0 0 0 0 0 0 0 0 0 0 0 0 0 0 0 0 0 0 0 0 0 0 0 0 0 0 0 0 0 0 0 0 0 0 0 0 0 0 0 0 0 0 0 0 0 0 0 0 0 0 0 0 0 0 0 0 0 0 0 0 0 0 0 0 0 0 0 0 0 0 0 0 0 0 0 0 0 0 0 0 0 0 0 0 0 0 0 0 0 0 0 0 0 0 0 0 0 0 0 0 0\n",
      "INFO:tensorflow:label: 5 (id = 5)\n",
      "INFO:tensorflow:*** Example ***\n",
      "INFO:tensorflow:guid: None\n",
      "INFO:tensorflow:tokens: [CLS] រាជ ធានី ភ្នំ ពេញ ពល រដ្ឋ កម្ពុជា ពេញ វ័យ ជាង លាន នាក់ កំពុង ប្រើប្រាស់ ឥណទាន ពី មីក្រូ ហិរញ្ញ វត្ថុ នានា នៅ កម្ពុជា ជា សេវា ឥណទាន មួយ ដែល សេដ្ឋ វិទូ ព្រមាន ពី ហានិភ័យ នៃ អត្រា ការ ប្រាក់ ខ្ពស់ និង ផល ប្រយោជន៍ នៃ ការ ប្រើប្រាស់ ឥណទាន ទាំង នោះ លោក ជំទាវ នាវ ច័ន្ទ ថា ណា ទេសា ភិបាល រង ធនាគារ ជាតិ នៃ កម្ពុជា បាន ថ្លែង ក្នុង ពិធី បើក សន្និសីទ ម៉ាក្រូ សេដ្ឋ កិច្ច ប្រចាំ ឆ្នាំ លើក ទី ស្តី ពី វិស័យ មីក្រូ ហិរញ្ញ វត្ថុ កាលានុវត្ត ភាព និង ហានិភ័យ នា ព្រឹក ថ្ងៃ ទី វិច្ឆិកា ថា បច្ចុប្បន្ន នេះ វិស័យ មីក្រូ ហិរញ្ញ វត្ថុ មាន ទ្រព្យ សកម្ម កើន ឡើង ដល់ % នៃ ទ្រព្យ សកម្ម របស់ វិស័យ ធនាគារ ដោយ បាន ផ្តល់ ឥណទាន ដល់ ប្រជា ពល រដ្ឋ , លាន នាក់ និង មាន អ្នក ដាក់ ប្រាក់ បញ្ញើ រហូត ដល់ [SEP]\n",
      "INFO:tensorflow:input_ids: 0 46225 8634 38431 90697 95146 148036 165324 90697 74192 109615 31591 43082 27945 24036 29553 29168 82821 36786 128263 163157 129027 165324 16100 131815 29553 32244 28613 58787 23830 103729 29168 95406 72073 26120 152009 67465 34194 83338 110542 104599 72073 152009 24036 29553 39376 141277 45584 70521 134501 40171 57158 81634 201 69019 132166 20933 4681 72073 165324 128962 57811 38977 91190 2160 71425 92285 58787 106053 109350 145194 143822 167467 131102 29168 105448 82821 36786 128263 60063 163655 83338 95406 101750 129811 133503 167467 162989 57158 6729 28801 105448 82821 36786 128263 2113 157501 34949 45495 46853 100699 2 72073 157501 34949 97489 105448 20933 67734 128962 22412 29553 100699 51655 95146 148036 2 31591 43082 83338 2113 38340 34049 67465 67684 20922 100699 1\n",
      "INFO:tensorflow:input_mask: 1 1 1 1 1 1 1 1 1 1 1 1 1 1 1 1 1 1 1 1 1 1 1 1 1 1 1 1 1 1 1 1 1 1 1 1 1 1 1 1 1 1 1 1 1 1 1 1 1 1 1 1 1 1 1 1 1 1 1 1 1 1 1 1 1 1 1 1 1 1 1 1 1 1 1 1 1 1 1 1 1 1 1 1 1 1 1 1 1 1 1 1 1 1 1 1 1 1 1 1 1 1 1 1 1 1 1 1 1 1 1 1 1 1 1 1 1 1 1 1 1 1 1 1 1 1 1 1\n",
      "INFO:tensorflow:segment_ids: 0 0 0 0 0 0 0 0 0 0 0 0 0 0 0 0 0 0 0 0 0 0 0 0 0 0 0 0 0 0 0 0 0 0 0 0 0 0 0 0 0 0 0 0 0 0 0 0 0 0 0 0 0 0 0 0 0 0 0 0 0 0 0 0 0 0 0 0 0 0 0 0 0 0 0 0 0 0 0 0 0 0 0 0 0 0 0 0 0 0 0 0 0 0 0 0 0 0 0 0 0 0 0 0 0 0 0 0 0 0 0 0 0 0 0 0 0 0 0 0 0 0 0 0 0 0 0 0\n",
      "INFO:tensorflow:label: 4 (id = 4)\n",
      "INFO:tensorflow:*** Example ***\n",
      "INFO:tensorflow:guid: None\n",
      "INFO:tensorflow:tokens: [CLS] រាជ ធានី ភ្នំ ពេញ ក្រុមហ៊ុន Procter and Gamble ( P & G ) និង សហគ្រាស Good hill ដែល ជា អ្នក ចែកចាយ ជា ផ្លួវ ការ ផលិត ផល P & G បាន ប្រគល់ រង្វាន់ ដល់ អ្នក ឈ្នះ នាក់ កាល ពី ល្ងាច ថ្ងៃ ទី កញ្ញា នៅ សណ្ឋាគារ សាន់ វេភ្នំ ពេញ រង្វាន់ មាន ដូច ជា រង្វាន់ ទី ទូរទស្សន៍ Sony Bravia 42 W 654 ជាមួយ ប្រព័ន្ធ សំឡេង Sony Home Theater N 9100 មួយ ឈុត រង្វាន់ រង្វាន់ ទី iPad Mini 16 GB រង្វាន់ រង្វាន់ ទី កាមេរ៉ា Sony WX 200 រង្វាន់ សម្រាប់ ខែ ចុង ក្រោយ នេះ ក្រុមហ៊ុន Procter and Gamble ( P & G ) បាន រៀបចំ កម្មវិធី មួយ សម្រាប់ អតិថិជន ដែល បាន ទិញ គ្រប់ ផលិត ផល របស់ Procter and Gamble ( P & G ) ទៅ ប្រើប្រាស់ ក្នុង ឱកាស ពិធី បុណ្យ ចូល [SEP]\n",
      "INFO:tensorflow:input_ids: 0 46225 8634 38431 90697 64430 54259 167059 99506 2 51841 2 53542 2 83338 150932 136280 66976 28613 16100 38340 53686 16100 11718 152009 23539 110542 51841 2 53542 128962 43318 132411 100699 38340 28495 43082 119240 29168 87456 133503 167467 74557 129027 97365 146432 72369 90697 132411 2113 164896 16100 132411 167467 156337 133853 126490 2 37035 2 8764 959 56057 133853 118082 114614 54819 2 32244 152547 132411 132411 167467 88236 161693 2 11263 132411 132411 167467 109728 133853 144186 2 132411 26142 55981 108141 70986 28801 64430 54259 167059 99506 2 51841 2 53542 2 128962 100541 92657 32244 26142 97422 28613 128962 54796 116017 23539 110542 97489 54259 167059 99506 2 51841 2 53542 2 127642 24036 38977 116098 91190 26130 98248 1\n",
      "INFO:tensorflow:input_mask: 1 1 1 1 1 1 1 1 1 1 1 1 1 1 1 1 1 1 1 1 1 1 1 1 1 1 1 1 1 1 1 1 1 1 1 1 1 1 1 1 1 1 1 1 1 1 1 1 1 1 1 1 1 1 1 1 1 1 1 1 1 1 1 1 1 1 1 1 1 1 1 1 1 1 1 1 1 1 1 1 1 1 1 1 1 1 1 1 1 1 1 1 1 1 1 1 1 1 1 1 1 1 1 1 1 1 1 1 1 1 1 1 1 1 1 1 1 1 1 1 1 1 1 1 1 1 1 1\n",
      "INFO:tensorflow:segment_ids: 0 0 0 0 0 0 0 0 0 0 0 0 0 0 0 0 0 0 0 0 0 0 0 0 0 0 0 0 0 0 0 0 0 0 0 0 0 0 0 0 0 0 0 0 0 0 0 0 0 0 0 0 0 0 0 0 0 0 0 0 0 0 0 0 0 0 0 0 0 0 0 0 0 0 0 0 0 0 0 0 0 0 0 0 0 0 0 0 0 0 0 0 0 0 0 0 0 0 0 0 0 0 0 0 0 0 0 0 0 0 0 0 0 0 0 0 0 0 0 0 0 0 0 0 0 0 0 0\n",
      "INFO:tensorflow:label: 6 (id = 6)\n",
      "INFO:tensorflow:*** Example ***\n",
      "INFO:tensorflow:guid: None\n",
      "INFO:tensorflow:tokens: [CLS] រាជ ធានី ភ្នំ ពេញ គណៈ កម្មាធិការ បក្ស ប្រជា ជន កម្ពុជា ខណ្ឌ ប្ញស្សី កែវ កាល ពី រសៀល ថ្ងៃ ទី មេសា បាន នាំ យក អំណោយ ទៅ ចែក ជូន ដល់ ប្រជា ពល រដ្ឋ រង គ្រោះ ដោយសារ ខ្យល់ ព្យុះ ចំនួន គ្រួសារ នៅ ក្នុង ភូមិ ចំបក់ មាស និង ភូមិ ក្តី ចាស់ សង្កាត់ បាក់ ខែង ខណ្ឌ ប្ញស្សី កែវ ចូល រួម នៅ ក្នុង ពិធី ចែក អំណោយ នោះ មាន លោក ស្រី អួង សុផល្លា ប្រធាន សមាគម នារី កម្ពុជា ដើម្បី សន្តិភាព និង អភិវឌ្ឍន៍ ខណ្ឌ ប្ញស្សី កែវ និង ជា តំណាង លោក ឃ្លាំង ហួត ប្រធាន គណៈ កម្មាធិការ បក្ស ប្រជា ជន កម្ពុជា ខណ្ឌ ព្រម ទាំង សមាជិក សមាជិកា បក្ស យ៉ាង ច្រើន កុះករ អំណោយ ដែល នាំ យក ទៅ ចែក ជូន ក្នុង ឱកាស នោះ សម្រាប់ ប្រជា ពល រដ្ឋ គ្រួសារ ដែល ត្រូវ ខ្យល់ ព្យុះ រលំ ផ្ទះ ទាំងស្រុង ក្នុង គ្រួសារ ទទួល បាន អង្ករ គីឡូ [SEP]\n",
      "INFO:tensorflow:input_ids: 0 46225 8634 38431 90697 151689 24018 100122 51655 55 165324 160670 42781 65642 119240 29168 135080 133503 167467 60256 128962 160134 143402 4360 127642 92728 72446 100699 51655 95146 148036 132166 104517 66409 69823 126179 74681 102042 129027 38977 154354 55679 66703 83338 154354 163338 133000 56500 77703 124189 160670 42781 65642 98248 121598 129027 38977 91190 92728 4360 141277 2113 45584 150586 96572 107151 2048 52688 129075 165324 76008 149237 83338 128940 160670 42781 65642 83338 16100 19389 45584 99919 6570 2048 151689 24018 100122 51655 55 165324 160670 100193 39376 48055 40890 100122 50677 131525 94285 4360 28613 160134 143402 127642 92728 72446 38977 116098 141277 26142 51655 95146 148036 102042 28613 74058 69823 126179 91117 14442 23074 38977 102042 72135 128962 110970 14681 1\n",
      "INFO:tensorflow:input_mask: 1 1 1 1 1 1 1 1 1 1 1 1 1 1 1 1 1 1 1 1 1 1 1 1 1 1 1 1 1 1 1 1 1 1 1 1 1 1 1 1 1 1 1 1 1 1 1 1 1 1 1 1 1 1 1 1 1 1 1 1 1 1 1 1 1 1 1 1 1 1 1 1 1 1 1 1 1 1 1 1 1 1 1 1 1 1 1 1 1 1 1 1 1 1 1 1 1 1 1 1 1 1 1 1 1 1 1 1 1 1 1 1 1 1 1 1 1 1 1 1 1 1 1 1 1 1 1 1\n",
      "INFO:tensorflow:segment_ids: 0 0 0 0 0 0 0 0 0 0 0 0 0 0 0 0 0 0 0 0 0 0 0 0 0 0 0 0 0 0 0 0 0 0 0 0 0 0 0 0 0 0 0 0 0 0 0 0 0 0 0 0 0 0 0 0 0 0 0 0 0 0 0 0 0 0 0 0 0 0 0 0 0 0 0 0 0 0 0 0 0 0 0 0 0 0 0 0 0 0 0 0 0 0 0 0 0 0 0 0 0 0 0 0 0 0 0 0 0 0 0 0 0 0 0 0 0 0 0 0 0 0 0 0 0 0 0 0\n",
      "INFO:tensorflow:label: 6 (id = 6)\n"
     ]
    }
   ],
   "source": [
    "# We'll set sequences to be at most 128 tokens long.\n",
    "MAX_SEQ_LENGTH = 128\n",
    "train_features = run_classifier.convert_examples_to_features(train_InputExamples, label_list, MAX_SEQ_LENGTH, tokenizer)\n",
    "val_features = run_classifier.convert_examples_to_features(val_InputExamples, label_list, MAX_SEQ_LENGTH, tokenizer)"
   ]
  },
  {
   "cell_type": "markdown",
   "metadata": {
    "colab_type": "text",
    "id": "mhDZ5SnyrlBl"
   },
   "source": [
    "### Create Classification model"
   ]
  },
  {
   "cell_type": "code",
   "execution_count": null,
   "metadata": {
    "colab": {},
    "colab_type": "code",
    "id": "6o2a5ZIvRcJq"
   },
   "outputs": [],
   "source": [
    "def create_model(is_predicting, input_ids, input_mask, segment_ids, labels, num_labels):\n",
    "  \"\"\"Creates a classification model.\"\"\"\n",
    "\n",
    "  bert_module = hub.Module(\"./pretrained/bert_module_khmer\", trainable=True)\n",
    "  bert_inputs = dict(\n",
    "      input_ids=input_ids,\n",
    "      input_mask=input_mask,\n",
    "      segment_ids=segment_ids)\n",
    "  bert_outputs = bert_module(\n",
    "      inputs=bert_inputs,\n",
    "      signature=\"tokens\",\n",
    "      as_dict=True)\n",
    "\n",
    "  # Use \"pooled_output\" for classification tasks on an entire sentence.\n",
    "  # Use \"sequence_outputs\" for token-level output.\n",
    "  output_layer = bert_outputs[\"pooled_output\"]\n",
    "\n",
    "  hidden_size = output_layer.shape[-1].value\n",
    "\n",
    "\n",
    "  # Create our own layer to tune for politeness data.\n",
    "  output_weights = tf.get_variable(\n",
    "      \"output_weights\", [num_labels, hidden_size],\n",
    "      initializer=tf.truncated_normal_initializer(stddev=0.02))\n",
    "\n",
    "  output_bias = tf.get_variable(\n",
    "      \"output_bias\", [num_labels], initializer=tf.zeros_initializer())\n",
    "\n",
    "  with tf.variable_scope(\"loss\"):\n",
    "\n",
    "    # Dropout helps prevent overfitting\n",
    "    output_layer = tf.nn.dropout(output_layer, keep_prob=0.9)\n",
    "\n",
    "    logits = tf.matmul(output_layer, output_weights, transpose_b=True)\n",
    "    logits = tf.nn.bias_add(logits, output_bias)\n",
    "    log_probs = tf.nn.log_softmax(logits, axis=-1)\n",
    "\n",
    "    # Convert labels into one-hot encoding\n",
    "    one_hot_labels = tf.one_hot(labels, depth=num_labels, dtype=tf.float32)\n",
    "\n",
    "    predicted_labels = tf.squeeze(tf.argmax(log_probs, axis=-1, output_type=tf.int32))\n",
    "    # If we're predicting, we want predicted labels and the probabiltiies.\n",
    "    if is_predicting:\n",
    "      return (predicted_labels, log_probs)\n",
    "\n",
    "    # If we're train/eval, compute loss between predicted and actual label\n",
    "    per_example_loss = -tf.reduce_sum(one_hot_labels * log_probs, axis=-1)\n",
    "    loss = tf.reduce_mean(per_example_loss)\n",
    "    return (loss, predicted_labels, log_probs)"
   ]
  },
  {
   "cell_type": "markdown",
   "metadata": {
    "colab_type": "text",
    "id": "qW3UUB1qrMt_"
   },
   "source": [
    "### Creating Model Function"
   ]
  },
  {
   "cell_type": "code",
   "execution_count": null,
   "metadata": {
    "colab": {},
    "colab_type": "code",
    "id": "FnH-AnOQ9KKW"
   },
   "outputs": [],
   "source": [
    "# model_fn_builder actually creates our model function\n",
    "# using the passed parameters for num_labels, learning_rate, etc.\n",
    "def model_fn_builder(num_labels, learning_rate, num_train_steps,\n",
    "                     num_warmup_steps):\n",
    "  \"\"\"Returns `model_fn` closure for TPUEstimator.\"\"\"\n",
    "  def model_fn(features, labels, mode, params):  # pylint: disable=unused-argument\n",
    "    \"\"\"The `model_fn` for TPUEstimator.\"\"\"\n",
    "\n",
    "    input_ids = features[\"input_ids\"]\n",
    "    input_mask = features[\"input_mask\"]\n",
    "    segment_ids = features[\"segment_ids\"]\n",
    "    label_ids = features[\"label_ids\"]\n",
    "\n",
    "    is_predicting = (mode == tf.estimator.ModeKeys.PREDICT)\n",
    "    \n",
    "    # TRAIN and EVAL\n",
    "    if not is_predicting:\n",
    "\n",
    "      (loss, predicted_labels, log_probs) = create_model(\n",
    "        is_predicting, input_ids, input_mask, segment_ids, label_ids, num_labels)\n",
    "\n",
    "      train_op = optimization.create_optimizer(\n",
    "          loss, learning_rate, num_train_steps, num_warmup_steps, use_tpu=False)\n",
    "\n",
    "      # Calculate evaluation metrics. \n",
    "      def metric_fn(label_ids, predicted_labels):\n",
    "        accuracy = tf.metrics.accuracy(label_ids, predicted_labels)\n",
    "        # f1_score = tf.contrib.metrics.f1_score(label_ids, predicted_labels)\n",
    "        # auc = tf.metrics.auc(label_ids, predicted_labels)\n",
    "        # recall = tf.metrics.recall(label_ids, predicted_labels)\n",
    "        # precision = tf.metrics.precision(label_ids, predicted_labels)\n",
    "        return {\n",
    "            \"eval_accuracy\": accuracy\n",
    "            # \"f1_score\": f1_score,\n",
    "            # \"auc\": auc,\n",
    "            # \"precision\": precision,\n",
    "            # \"recall\": recall\n",
    "        }\n",
    "\n",
    "      eval_metrics = metric_fn(label_ids, predicted_labels)\n",
    "\n",
    "      if mode == tf.estimator.ModeKeys.TRAIN:\n",
    "        return tf.estimator.EstimatorSpec(mode=mode,\n",
    "          loss=loss,\n",
    "          train_op=train_op)\n",
    "      else:\n",
    "          return tf.estimator.EstimatorSpec(mode=mode,\n",
    "            loss=loss,\n",
    "            eval_metric_ops=eval_metrics)\n",
    "    else:\n",
    "      (predicted_labels, log_probs) = create_model(\n",
    "        is_predicting, input_ids, input_mask, segment_ids, label_ids, num_labels)\n",
    "\n",
    "      predictions = {\n",
    "          'probabilities': log_probs,\n",
    "          'labels': predicted_labels\n",
    "      }\n",
    "      return tf.estimator.EstimatorSpec(mode, predictions=predictions)\n",
    "\n",
    "  # Return the actual model function in the closure\n",
    "  return model_fn\n"
   ]
  },
  {
   "cell_type": "code",
   "execution_count": null,
   "metadata": {
    "colab": {},
    "colab_type": "code",
    "id": "YCvuUjW1mQRK"
   },
   "outputs": [],
   "source": [
    "BATCH_SIZE = 32\n",
    "LEARNING_RATE = 2e-5\n",
    "NUM_TRAIN_EPOCHS = 3\n",
    "WARMUP_PROPORTION = 0.5\n",
    "SAVE_CHECKPOINTS_STEPS = int(len(train_features) / BATCH_SIZE)\n",
    "SAVE_SUMMARY_STEPS = 100"
   ]
  },
  {
   "cell_type": "code",
   "execution_count": null,
   "metadata": {
    "colab": {},
    "colab_type": "code",
    "id": "O97yzHTAmQM-"
   },
   "outputs": [],
   "source": [
    "# Compute train and warmup steps from batch size\n",
    "num_train_steps = int(len(train_features) / BATCH_SIZE * NUM_TRAIN_EPOCHS)\n",
    "num_warmup_steps = int(num_train_steps * WARMUP_PROPORTION)"
   ]
  },
  {
   "cell_type": "code",
   "execution_count": null,
   "metadata": {
    "colab": {},
    "colab_type": "code",
    "id": "oEJldMr3WYZa"
   },
   "outputs": [],
   "source": [
    "# Specify outpot directory and number of checkpoint steps to save\n",
    "run_config = tf.estimator.RunConfig(\n",
    "    model_dir=OUTPUT_DIR,\n",
    "    save_summary_steps=SAVE_SUMMARY_STEPS,\n",
    "    save_checkpoints_steps=SAVE_CHECKPOINTS_STEPS,\n",
    "    keep_checkpoint_max = 8)"
   ]
  },
  {
   "cell_type": "code",
   "execution_count": null,
   "metadata": {
    "colab": {
     "base_uri": "https://localhost:8080/",
     "height": 156
    },
    "colab_type": "code",
    "executionInfo": {
     "elapsed": 696,
     "status": "ok",
     "timestamp": 1598159219272,
     "user": {
      "displayName": "Md Rifatul Islam Rifat",
      "photoUrl": "",
      "userId": "17304548563437753137"
     },
     "user_tz": -360
    },
    "id": "q_WebpS1X97v",
    "outputId": "e261bc51-839b-48d6-822c-cb430dfc280d"
   },
   "outputs": [
    {
     "name": "stdout",
     "output_type": "stream",
     "text": [
      "INFO:tensorflow:Using config: {'_model_dir': '/content/fine_tuned_model', '_tf_random_seed': None, '_save_summary_steps': 100, '_save_checkpoints_steps': 162, '_save_checkpoints_secs': None, '_session_config': allow_soft_placement: true\n",
      "graph_options {\n",
      "  rewrite_options {\n",
      "    meta_optimizer_iterations: ONE\n",
      "  }\n",
      "}\n",
      ", '_keep_checkpoint_max': 8, '_keep_checkpoint_every_n_hours': 10000, '_log_step_count_steps': 100, '_train_distribute': None, '_device_fn': None, '_protocol': None, '_eval_distribute': None, '_experimental_distribute': None, '_experimental_max_worker_delay_secs': None, '_session_creation_timeout_secs': 7200, '_service': None, '_cluster_spec': <tensorflow.python.training.server_lib.ClusterSpec object at 0x7fe6d8533198>, '_task_type': 'worker', '_task_id': 0, '_global_id_in_cluster': 0, '_master': '', '_evaluation_master': '', '_is_chief': True, '_num_ps_replicas': 0, '_num_worker_replicas': 1}\n"
     ]
    }
   ],
   "source": [
    "model_fn = model_fn_builder(\n",
    "  num_labels=len(label_list),\n",
    "  learning_rate=LEARNING_RATE,\n",
    "  num_train_steps=num_train_steps,\n",
    "  num_warmup_steps=num_warmup_steps)\n",
    "\n",
    "estimator = tf.estimator.Estimator(\n",
    "  model_fn=model_fn,\n",
    "  config=run_config,\n",
    "  params={\"batch_size\": BATCH_SIZE})"
   ]
  },
  {
   "cell_type": "code",
   "execution_count": null,
   "metadata": {
    "colab": {},
    "colab_type": "code",
    "id": "1Pv2bAlOX_-K"
   },
   "outputs": [],
   "source": [
    "# Create an input function for training. drop_remainder = True for using TPUs.\n",
    "train_input_fn = run_classifier.input_fn_builder(\n",
    "    features=train_features,\n",
    "    seq_length=MAX_SEQ_LENGTH,\n",
    "    is_training=True,\n",
    "    drop_remainder=False)"
   ]
  },
  {
   "cell_type": "markdown",
   "metadata": {
    "colab_type": "text",
    "id": "A8pUACyC-WN_"
   },
   "source": [
    "### Training"
   ]
  },
  {
   "cell_type": "code",
   "execution_count": null,
   "metadata": {
    "colab": {
     "base_uri": "https://localhost:8080/",
     "height": 462
    },
    "colab_type": "code",
    "executionInfo": {
     "elapsed": 463316,
     "status": "ok",
     "timestamp": 1598159723978,
     "user": {
      "displayName": "Md Rifatul Islam Rifat",
      "photoUrl": "",
      "userId": "17304548563437753137"
     },
     "user_tz": -360
    },
    "id": "nucD4gluYJmK",
    "outputId": "2de49ca3-d97c-4d61-dd63-14504fe3ec39"
   },
   "outputs": [
    {
     "name": "stdout",
     "output_type": "stream",
     "text": [
      "Beginning Training!\n",
      "INFO:tensorflow:Calling model_fn.\n",
      "INFO:tensorflow:Saver not created because there are no variables in the graph to restore\n"
     ]
    },
    {
     "name": "stderr",
     "output_type": "stream",
     "text": [
      "/tensorflow-1.15.2/python3.6/tensorflow_core/python/framework/indexed_slices.py:424: UserWarning: Converting sparse IndexedSlices to a dense Tensor of unknown shape. This may consume a large amount of memory.\n",
      "  \"Converting sparse IndexedSlices to a dense Tensor of unknown shape. \"\n"
     ]
    },
    {
     "name": "stdout",
     "output_type": "stream",
     "text": [
      "INFO:tensorflow:Done calling model_fn.\n",
      "INFO:tensorflow:Create CheckpointSaverHook.\n",
      "INFO:tensorflow:Graph was finalized.\n",
      "INFO:tensorflow:Running local_init_op.\n",
      "INFO:tensorflow:Done running local_init_op.\n",
      "INFO:tensorflow:Saving checkpoints for 0 into /content/fine_tuned_model/model.ckpt.\n",
      "INFO:tensorflow:loss = 2.2340796, step = 0\n",
      "INFO:tensorflow:global_step/sec: 1.42802\n",
      "INFO:tensorflow:loss = 0.690549, step = 100 (70.028 sec)\n",
      "INFO:tensorflow:Saving checkpoints for 162 into /content/fine_tuned_model/model.ckpt.\n",
      "INFO:tensorflow:global_step/sec: 1.18289\n",
      "INFO:tensorflow:loss = 0.34586555, step = 200 (84.539 sec)\n",
      "INFO:tensorflow:global_step/sec: 1.95684\n",
      "INFO:tensorflow:loss = 0.28952712, step = 300 (51.102 sec)\n",
      "INFO:tensorflow:Saving checkpoints for 324 into /content/fine_tuned_model/model.ckpt.\n",
      "INFO:tensorflow:global_step/sec: 1.21048\n",
      "INFO:tensorflow:loss = 0.21067086, step = 400 (82.612 sec)\n",
      "INFO:tensorflow:Saving checkpoints for 486 into /content/fine_tuned_model/model.ckpt.\n",
      "INFO:tensorflow:Loss for final step: 0.090475716.\n",
      "Training took time  0:07:41.668033\n"
     ]
    }
   ],
   "source": [
    "print(f'Beginning Training!')\n",
    "current_time = datetime.now()\n",
    "estimator.train(input_fn=train_input_fn, max_steps=num_train_steps)\n",
    "print(\"Training took time \", datetime.now() - current_time)"
   ]
  },
  {
   "cell_type": "markdown",
   "metadata": {
    "colab_type": "text",
    "id": "atbS1wu_kvC5"
   },
   "source": [
    "### Training_accuracy"
   ]
  },
  {
   "cell_type": "code",
   "execution_count": null,
   "metadata": {
    "colab": {},
    "colab_type": "code",
    "id": "gevfovjevqNh"
   },
   "outputs": [],
   "source": [
    "test_input_fn_with_train_data = run_classifier.input_fn_builder(\n",
    "    features=train_features,\n",
    "    seq_length=MAX_SEQ_LENGTH,\n",
    "    is_training=False,\n",
    "    drop_remainder=False)"
   ]
  },
  {
   "cell_type": "code",
   "execution_count": null,
   "metadata": {
    "colab": {
     "base_uri": "https://localhost:8080/",
     "height": 700
    },
    "colab_type": "code",
    "executionInfo": {
     "elapsed": 137903,
     "status": "ok",
     "timestamp": 1598159906088,
     "user": {
      "displayName": "Md Rifatul Islam Rifat",
      "photoUrl": "",
      "userId": "17304548563437753137"
     },
     "user_tz": -360
    },
    "id": "y2ri2nknLnyS",
    "outputId": "8c5d6057-de32-4e5f-c202-c4b995d90732"
   },
   "outputs": [
    {
     "name": "stdout",
     "output_type": "stream",
     "text": [
      "INFO:tensorflow:Calling model_fn.\n",
      "INFO:tensorflow:Saver not created because there are no variables in the graph to restore\n"
     ]
    },
    {
     "name": "stderr",
     "output_type": "stream",
     "text": [
      "/tensorflow-1.15.2/python3.6/tensorflow_core/python/framework/indexed_slices.py:424: UserWarning: Converting sparse IndexedSlices to a dense Tensor of unknown shape. This may consume a large amount of memory.\n",
      "  \"Converting sparse IndexedSlices to a dense Tensor of unknown shape. \"\n"
     ]
    },
    {
     "name": "stdout",
     "output_type": "stream",
     "text": [
      "INFO:tensorflow:Done calling model_fn.\n",
      "INFO:tensorflow:Starting evaluation at 2020-08-23T05:16:21Z\n",
      "INFO:tensorflow:Graph was finalized.\n",
      "INFO:tensorflow:Restoring parameters from ./fine_tuned_model/model.ckpt-162\n",
      "INFO:tensorflow:Running local_init_op.\n",
      "INFO:tensorflow:Done running local_init_op.\n",
      "INFO:tensorflow:Finished evaluation at 2020-08-23-05:16:53\n",
      "INFO:tensorflow:Saving dict for global step 162: eval_accuracy = 0.8896379, global_step = 162, loss = 0.3536357\n",
      "INFO:tensorflow:Saving 'checkpoint_path' summary for global step 162: ./fine_tuned_model/model.ckpt-162\n",
      "INFO:tensorflow:Calling model_fn.\n",
      "INFO:tensorflow:Saver not created because there are no variables in the graph to restore\n"
     ]
    },
    {
     "name": "stderr",
     "output_type": "stream",
     "text": [
      "/tensorflow-1.15.2/python3.6/tensorflow_core/python/framework/indexed_slices.py:424: UserWarning: Converting sparse IndexedSlices to a dense Tensor of unknown shape. This may consume a large amount of memory.\n",
      "  \"Converting sparse IndexedSlices to a dense Tensor of unknown shape. \"\n"
     ]
    },
    {
     "name": "stdout",
     "output_type": "stream",
     "text": [
      "INFO:tensorflow:Done calling model_fn.\n",
      "INFO:tensorflow:Starting evaluation at 2020-08-23T05:17:07Z\n",
      "INFO:tensorflow:Graph was finalized.\n",
      "INFO:tensorflow:Restoring parameters from ./fine_tuned_model/model.ckpt-324\n",
      "INFO:tensorflow:Running local_init_op.\n",
      "INFO:tensorflow:Done running local_init_op.\n",
      "INFO:tensorflow:Finished evaluation at 2020-08-23-05:17:39\n",
      "INFO:tensorflow:Saving dict for global step 324: eval_accuracy = 0.9395223, global_step = 324, loss = 0.20062038\n",
      "INFO:tensorflow:Saving 'checkpoint_path' summary for global step 324: ./fine_tuned_model/model.ckpt-324\n",
      "INFO:tensorflow:Calling model_fn.\n",
      "INFO:tensorflow:Saver not created because there are no variables in the graph to restore\n"
     ]
    },
    {
     "name": "stderr",
     "output_type": "stream",
     "text": [
      "/tensorflow-1.15.2/python3.6/tensorflow_core/python/framework/indexed_slices.py:424: UserWarning: Converting sparse IndexedSlices to a dense Tensor of unknown shape. This may consume a large amount of memory.\n",
      "  \"Converting sparse IndexedSlices to a dense Tensor of unknown shape. \"\n"
     ]
    },
    {
     "name": "stdout",
     "output_type": "stream",
     "text": [
      "INFO:tensorflow:Done calling model_fn.\n",
      "INFO:tensorflow:Starting evaluation at 2020-08-23T05:17:52Z\n",
      "INFO:tensorflow:Graph was finalized.\n",
      "INFO:tensorflow:Restoring parameters from ./fine_tuned_model/model.ckpt-486\n",
      "INFO:tensorflow:Running local_init_op.\n",
      "INFO:tensorflow:Done running local_init_op.\n",
      "INFO:tensorflow:Finished evaluation at 2020-08-23-05:18:24\n",
      "INFO:tensorflow:Saving dict for global step 486: eval_accuracy = 0.9666795, global_step = 486, loss = 0.117473945\n",
      "INFO:tensorflow:Saving 'checkpoint_path' summary for global step 486: ./fine_tuned_model/model.ckpt-486\n"
     ]
    }
   ],
   "source": [
    "train_result = []\n",
    "for i in [162, 324,486]:\n",
    "# for i in range(200, 1100, 100):\n",
    "    train_acc = estimator.evaluate(input_fn=test_input_fn_with_train_data, steps=None,\n",
    "                    checkpoint_path='./fine_tuned_model/model.ckpt-' + str(i))\n",
    "    train_result.append(train_acc)"
   ]
  },
  {
   "cell_type": "markdown",
   "metadata": {
    "colab_type": "text",
    "id": "CmbLTVniARy3"
   },
   "source": [
    "### Validation_accuracy:"
   ]
  },
  {
   "cell_type": "code",
   "execution_count": null,
   "metadata": {
    "colab": {},
    "colab_type": "code",
    "id": "JIhejfpyJ8Bx"
   },
   "outputs": [],
   "source": [
    "val_input_fn = run_classifier.input_fn_builder(\n",
    "    features=val_features,\n",
    "    seq_length=MAX_SEQ_LENGTH,\n",
    "    is_training=False,\n",
    "    drop_remainder=False)"
   ]
  },
  {
   "cell_type": "code",
   "execution_count": null,
   "metadata": {
    "colab": {
     "base_uri": "https://localhost:8080/",
     "height": 700
    },
    "colab_type": "code",
    "executionInfo": {
     "elapsed": 80674,
     "status": "ok",
     "timestamp": 1598159989599,
     "user": {
      "displayName": "Md Rifatul Islam Rifat",
      "photoUrl": "",
      "userId": "17304548563437753137"
     },
     "user_tz": -360
    },
    "id": "dG-AkONCZN0P",
    "outputId": "0c45c567-aa4e-481b-9bb3-8bd7618a9e1c"
   },
   "outputs": [
    {
     "name": "stdout",
     "output_type": "stream",
     "text": [
      "INFO:tensorflow:Calling model_fn.\n",
      "INFO:tensorflow:Saver not created because there are no variables in the graph to restore\n"
     ]
    },
    {
     "name": "stderr",
     "output_type": "stream",
     "text": [
      "/tensorflow-1.15.2/python3.6/tensorflow_core/python/framework/indexed_slices.py:424: UserWarning: Converting sparse IndexedSlices to a dense Tensor of unknown shape. This may consume a large amount of memory.\n",
      "  \"Converting sparse IndexedSlices to a dense Tensor of unknown shape. \"\n"
     ]
    },
    {
     "name": "stdout",
     "output_type": "stream",
     "text": [
      "INFO:tensorflow:Done calling model_fn.\n",
      "INFO:tensorflow:Starting evaluation at 2020-08-23T05:18:40Z\n",
      "INFO:tensorflow:Graph was finalized.\n",
      "INFO:tensorflow:Restoring parameters from ./fine_tuned_model/model.ckpt-162\n",
      "INFO:tensorflow:Running local_init_op.\n",
      "INFO:tensorflow:Done running local_init_op.\n",
      "INFO:tensorflow:Finished evaluation at 2020-08-23-05:18:55\n",
      "INFO:tensorflow:Saving dict for global step 162: eval_accuracy = 0.84724003, global_step = 162, loss = 0.48121017\n",
      "INFO:tensorflow:Saving 'checkpoint_path' summary for global step 162: ./fine_tuned_model/model.ckpt-162\n",
      "INFO:tensorflow:Calling model_fn.\n",
      "INFO:tensorflow:Saver not created because there are no variables in the graph to restore\n"
     ]
    },
    {
     "name": "stderr",
     "output_type": "stream",
     "text": [
      "/tensorflow-1.15.2/python3.6/tensorflow_core/python/framework/indexed_slices.py:424: UserWarning: Converting sparse IndexedSlices to a dense Tensor of unknown shape. This may consume a large amount of memory.\n",
      "  \"Converting sparse IndexedSlices to a dense Tensor of unknown shape. \"\n"
     ]
    },
    {
     "name": "stdout",
     "output_type": "stream",
     "text": [
      "INFO:tensorflow:Done calling model_fn.\n",
      "INFO:tensorflow:Starting evaluation at 2020-08-23T05:19:07Z\n",
      "INFO:tensorflow:Graph was finalized.\n",
      "INFO:tensorflow:Restoring parameters from ./fine_tuned_model/model.ckpt-324\n",
      "INFO:tensorflow:Running local_init_op.\n",
      "INFO:tensorflow:Done running local_init_op.\n",
      "INFO:tensorflow:Finished evaluation at 2020-08-23-05:19:21\n",
      "INFO:tensorflow:Saving dict for global step 324: eval_accuracy = 0.85109115, global_step = 324, loss = 0.45876718\n",
      "INFO:tensorflow:Saving 'checkpoint_path' summary for global step 324: ./fine_tuned_model/model.ckpt-324\n",
      "INFO:tensorflow:Calling model_fn.\n",
      "INFO:tensorflow:Saver not created because there are no variables in the graph to restore\n"
     ]
    },
    {
     "name": "stderr",
     "output_type": "stream",
     "text": [
      "/tensorflow-1.15.2/python3.6/tensorflow_core/python/framework/indexed_slices.py:424: UserWarning: Converting sparse IndexedSlices to a dense Tensor of unknown shape. This may consume a large amount of memory.\n",
      "  \"Converting sparse IndexedSlices to a dense Tensor of unknown shape. \"\n"
     ]
    },
    {
     "name": "stdout",
     "output_type": "stream",
     "text": [
      "INFO:tensorflow:Done calling model_fn.\n",
      "INFO:tensorflow:Starting evaluation at 2020-08-23T05:19:33Z\n",
      "INFO:tensorflow:Graph was finalized.\n",
      "INFO:tensorflow:Restoring parameters from ./fine_tuned_model/model.ckpt-486\n",
      "INFO:tensorflow:Running local_init_op.\n",
      "INFO:tensorflow:Done running local_init_op.\n",
      "INFO:tensorflow:Finished evaluation at 2020-08-23-05:19:48\n",
      "INFO:tensorflow:Saving dict for global step 486: eval_accuracy = 0.8684211, global_step = 486, loss = 0.44165662\n",
      "INFO:tensorflow:Saving 'checkpoint_path' summary for global step 486: ./fine_tuned_model/model.ckpt-486\n"
     ]
    }
   ],
   "source": [
    "val_result = []\n",
    "for i in [162, 324,486]:   \n",
    "    val_acc = estimator.evaluate(input_fn=val_input_fn, steps=None, \n",
    "                                checkpoint_path='./fine_tuned_model/model.ckpt-' + str(i))\n",
    "    val_result.append(val_acc)"
   ]
  },
  {
   "cell_type": "markdown",
   "metadata": {
    "colab_type": "text",
    "id": "gHgvDo0qiif5"
   },
   "source": [
    "### Prediction"
   ]
  },
  {
   "cell_type": "code",
   "execution_count": null,
   "metadata": {
    "colab": {},
    "colab_type": "code",
    "id": "OsrbTD2EJTVl"
   },
   "outputs": [],
   "source": [
    "def getPrediction(in_sentences):\n",
    "  labels = [0, 1, 2, 3, 4, 5, 6, 7]\n",
    "  input_examples = [run_classifier.InputExample(guid=\"\", text_a = x, text_b = None, label = 0) for x in in_sentences]\n",
    "  input_features = run_classifier.convert_examples_to_features(input_examples, label_list, MAX_SEQ_LENGTH, tokenizer)\n",
    "  predict_input_fn = run_classifier.input_fn_builder(features=input_features, seq_length=MAX_SEQ_LENGTH, is_training=False, drop_remainder=False)\n",
    "  predictions = estimator.predict(predict_input_fn, \n",
    "                                  checkpoint_path=\"./fine_tuned_model/model.ckpt-162\")\n",
    "  return [(sentence, prediction['probabilities'], labels[prediction['labels']]) for sentence, prediction in zip(in_sentences, predictions)]"
   ]
  },
  {
   "cell_type": "code",
   "execution_count": null,
   "metadata": {
    "colab": {
     "base_uri": "https://localhost:8080/",
     "height": 768
    },
    "colab_type": "code",
    "executionInfo": {
     "elapsed": 10262,
     "status": "ok",
     "timestamp": 1598160030665,
     "user": {
      "displayName": "Md Rifatul Islam Rifat",
      "photoUrl": "",
      "userId": "17304548563437753137"
     },
     "user_tz": -360
    },
    "id": "QrZmvZySKQTm",
    "outputId": "7e8b91ff-4dd3-444b-9918-94ba9eefa36d"
   },
   "outputs": [
    {
     "name": "stdout",
     "output_type": "stream",
     "text": [
      "INFO:tensorflow:Writing example 0 of 668\n",
      "INFO:tensorflow:*** Example ***\n",
      "INFO:tensorflow:guid: \n",
      "INFO:tensorflow:tokens: [CLS] រាជ ធានី ភ្នំ ពេញ ដោយ ឈរ លើ ស្មារតី នៃ កិច្ច សហ ប្រតិបត្តិការ រវាង ប្រទេស ទាំង ពីរ កម្ពុជា - ជប៉ុន សំខាន់ កិច្ច សហ ប្រតិបត្តិការ លើ វិស័យ ទេសចរណ៍ នេះ ប្រទេស ជប៉ុន នឹង រៀបចំ ឲ្យ មាន ជើង ហោះ ហើរ ដោយ ត្រង់ មក កម្ពុជា រយៈ ពេល ដ៏ ខ្លី ខាង មុខ នេះ ថ្លែង នៅ ក្នុង សន្និសីទ កាសែត ស្តី ពី ជើង ហោះ ហើរ ដោយ ត្រង់ ជា ប្រចាំ លើក ដំបូង កម្ពុជា - ជប៉ុន នៅ ថ្ងៃ ទី មិថុនា នៅ ទីស្តីការ ក្រសួង ទេសចរណ៍ លោក ថោង ខុន រដ្ឋ មន្ត្រី ក្រសួង ទេសចរណ៍ បាន បញ្ជាក់ ថា នៅ ថ្ងៃ ទី កញ្ញា នេះ ជប៉ុន នឹង មាន ជើង ហោះ ហើរ ដោយ ត្រង់ មក កម្ពុជា ជា លើក ដំបូង តាម រយៈ ក្រុមហ៊ុន Asia Atlantic Airlines លោក ថោង ខុន មាន ប្រសាសន៍ ថា ប្រទេស ជប៉ុន និង កម្ពុជា បាន ភ្ជាប់ កិច្ច សហ ប្រតិបត្តិការ ជាមួយ គ្នា ចាប់ [SEP]\n",
      "INFO:tensorflow:input_ids: 0 46225 8634 38431 90697 67734 162859 20394 116905 72073 106053 12023 131359 53368 22145 39376 137792 165324 2 87847 96442 106053 12023 131359 20394 105448 126665 28801 22145 87847 6654 100541 99009 2113 151702 1146 10718 67734 121559 44928 165324 127537 109932 26228 79680 19982 158978 28801 57811 129027 38977 71425 140597 131102 29168 151702 1146 10718 67734 121559 16100 109350 143822 6212 165324 2 87847 129027 133503 167467 2464 129027 150834 125045 126665 45584 40445 65921 148036 115123 125045 126665 128962 97310 57158 129027 133503 167467 74557 28801 87847 6654 2113 151702 1146 10718 67734 121559 44928 165324 16100 143822 6212 2746 127537 64430 75434 45786 86742 45584 40445 65921 2113 85459 57158 22145 87847 83338 165324 128962 22581 106053 12023 131359 8764 10625 15467 1\n",
      "INFO:tensorflow:input_mask: 1 1 1 1 1 1 1 1 1 1 1 1 1 1 1 1 1 1 1 1 1 1 1 1 1 1 1 1 1 1 1 1 1 1 1 1 1 1 1 1 1 1 1 1 1 1 1 1 1 1 1 1 1 1 1 1 1 1 1 1 1 1 1 1 1 1 1 1 1 1 1 1 1 1 1 1 1 1 1 1 1 1 1 1 1 1 1 1 1 1 1 1 1 1 1 1 1 1 1 1 1 1 1 1 1 1 1 1 1 1 1 1 1 1 1 1 1 1 1 1 1 1 1 1 1 1 1 1\n",
      "INFO:tensorflow:segment_ids: 0 0 0 0 0 0 0 0 0 0 0 0 0 0 0 0 0 0 0 0 0 0 0 0 0 0 0 0 0 0 0 0 0 0 0 0 0 0 0 0 0 0 0 0 0 0 0 0 0 0 0 0 0 0 0 0 0 0 0 0 0 0 0 0 0 0 0 0 0 0 0 0 0 0 0 0 0 0 0 0 0 0 0 0 0 0 0 0 0 0 0 0 0 0 0 0 0 0 0 0 0 0 0 0 0 0 0 0 0 0 0 0 0 0 0 0 0 0 0 0 0 0 0 0 0 0 0 0\n",
      "INFO:tensorflow:label: 0 (id = 0)\n",
      "INFO:tensorflow:*** Example ***\n",
      "INFO:tensorflow:guid: \n",
      "INFO:tensorflow:tokens: [CLS] តាម របាយការណ៍ ស្រាវជ្រាវ លើ មនុស្ស ប្រមាណ ម៉ឺន នាក់ ចុះ ផ្សាយ នៅ ក្នុង ព្រឹត្តិ បត្រ The Journal of the American Medical Association ( JAMA ) បាន រក ឃើញ ថា សេចក្តី ទុក្ខ ព្រួយ ក្នុង ចិត្ត ជា កត្តា សំខាន់ មួយ ក្នុង ចំណោម កត្តា នានា បង្កើន នូវ អត្រា ប្រឈម នឹង ជំងឺ ដាច់ សរសៃ ឈាម ក្នុង ខួរ ក្បាល របាយការណ៍ ដដែល បាន បន្ត ទៀត ថា ជំងឺ ដាច់ សរសៃ ឈាម ក្នុង ខួរ ក្បាល គឺ ជា មូលហេតុ នាំ មុខ គេ នៃ ការ ស្លាប់ និង ភាព ពិការ ជា អចិន្ត្រៃយ៍ សេចក្តី ទុក្ខ ព្រួយ នៅ ក្នុង ចិត្ត ស្ថិត ក្នុង កម្រិត ប្រេវ៉ាឡង់ ខ្ពស់ បំផុត ចំពោះ មនុស្ស ជា ទូទៅ វា ត្រូវ គេ ប៉ាន់ ប្រមាណ ថា បុរស , % និង ស្ត្រី , % ជួប សេចក្តី ទុក្ខ ព្រួយ ក្នុង ចិត្ត ឬ ការ តប់ប្រមល់ ក្នុង ចិត្ត ជាប់ គ្នា រយៈ ខែ ប្រៀប ដូច [SEP]\n",
      "INFO:tensorflow:input_ids: 0 2746 31750 153181 20394 148066 28389 163681 43082 70971 144 129027 38977 119644 100064 27150 56925 8204 66212 55151 141378 20226 2 119212 2 128962 39270 42571 57158 118726 78549 67959 38977 47229 16100 132292 96442 32244 38977 13177 132292 163157 116527 98562 26120 94160 6654 97987 124953 56745 111787 38977 10379 158463 31750 134012 128962 164277 80166 57158 97987 124953 56745 111787 38977 10379 158463 125739 16100 125800 160134 158978 85779 72073 152009 138088 83338 163655 35177 16100 55251 118726 78549 67959 129027 38977 47229 40904 38977 105842 154704 34194 21350 40843 148066 16100 32411 135432 74058 85779 101442 28389 57158 55252 2 2 83338 157481 2 2 155608 118726 78549 67959 38977 47229 63951 152009 15942 38977 47229 62388 10625 127537 55981 108104 164896 1\n",
      "INFO:tensorflow:input_mask: 1 1 1 1 1 1 1 1 1 1 1 1 1 1 1 1 1 1 1 1 1 1 1 1 1 1 1 1 1 1 1 1 1 1 1 1 1 1 1 1 1 1 1 1 1 1 1 1 1 1 1 1 1 1 1 1 1 1 1 1 1 1 1 1 1 1 1 1 1 1 1 1 1 1 1 1 1 1 1 1 1 1 1 1 1 1 1 1 1 1 1 1 1 1 1 1 1 1 1 1 1 1 1 1 1 1 1 1 1 1 1 1 1 1 1 1 1 1 1 1 1 1 1 1 1 1 1 1\n",
      "INFO:tensorflow:segment_ids: 0 0 0 0 0 0 0 0 0 0 0 0 0 0 0 0 0 0 0 0 0 0 0 0 0 0 0 0 0 0 0 0 0 0 0 0 0 0 0 0 0 0 0 0 0 0 0 0 0 0 0 0 0 0 0 0 0 0 0 0 0 0 0 0 0 0 0 0 0 0 0 0 0 0 0 0 0 0 0 0 0 0 0 0 0 0 0 0 0 0 0 0 0 0 0 0 0 0 0 0 0 0 0 0 0 0 0 0 0 0 0 0 0 0 0 0 0 0 0 0 0 0 0 0 0 0 0 0\n",
      "INFO:tensorflow:label: 0 (id = 0)\n",
      "INFO:tensorflow:*** Example ***\n",
      "INFO:tensorflow:guid: \n",
      "INFO:tensorflow:tokens: [CLS] ខេត្ត ស្វាយ រៀង នៅ ព្រឹក ថ្ងៃ ទី ខែ កុម្ភៈ ឆ្នាំ នេះ លោក ទេស រដ្ឋ មន្ត្រី ជា សុផារ៉ា លោក អ៊ុក រ៉ាប៊ុន រដ្ឋ មន្ត្រី ក្រសួង អភិវឌ្ឍន៍ ជនបទ បាន ចុះ ទៅ សំណេះសំណាល ជាមួយ បង ប្អូន ប្រជា ពល រដ្ឋ និង ពិនិត្យ ទីតាំង ដី សម្រាប់ សាង សង់ ហេដ្ឋា រចនា សម្ព័ន្ធ ជូន គ្រួសារ យោធិន នគរបាល និវត្ត ជន គ្រួសារ ពលី មរណៈ និង គ្រួសារ ទីទ័ល ក្រ ដែល មាន គុណ បំណាច់ ចំនួន គ្រួសារ និង សាង សង់ លំនៅ ដ្ឋាន បន្ត ជំហាន ទី របស់ រាជ រដ្ឋាភិបាល មាន ទីតាំង ស្ថិត នៅ ភូមិ ជីក ដី ឃុំ អណ្តូង ត្របែក ស្រុក រមាស ហែក ខេត្ត ស្វាយ រៀង លោក ជា សុផារ៉ា ទេស រដ្ឋ មន្ត្រី រដ្ឋ មន្ត្រី ក្រសួង រៀបចំ ដែន ដី នគរូបនីយ កម្ម និង សំណង់ បាន លើក ឡើង ថា ដោយសារ ប្រទេស ជាតិ មាន សុខ សន្តិភាព និង មាន ការ អភិវឌ្ឍន៍ លើ គ្រប់ លើ វិស័យ ក្រោម [SEP]\n",
      "INFO:tensorflow:input_ids: 0 162639 4682 102383 129027 129811 133503 167467 55981 32790 145194 28801 45584 4219 148036 115123 16100 116828 45584 11155 25772 148036 115123 125045 128940 74442 128962 70971 127642 46899 8764 109730 138912 51655 95146 148036 83338 2597 117298 95347 26142 45456 165900 143686 74319 67814 72446 102042 159329 45027 7062 55 102042 23015 35992 83338 102042 72627 36580 28613 2113 52872 64749 74681 102042 83338 45456 165900 67308 154369 164277 3733 167467 97489 46225 135066 2113 117298 40904 129027 154354 143094 95347 129477 62302 88086 103027 133536 143897 162639 4682 102383 45584 16100 116828 4219 148036 115123 148036 115123 125045 100541 29141 95347 90299 84262 83338 21377 128962 143822 46853 57158 66409 22145 4681 2113 82477 149237 83338 2113 152009 128940 20394 116017 20394 105448 160885 1\n",
      "INFO:tensorflow:input_mask: 1 1 1 1 1 1 1 1 1 1 1 1 1 1 1 1 1 1 1 1 1 1 1 1 1 1 1 1 1 1 1 1 1 1 1 1 1 1 1 1 1 1 1 1 1 1 1 1 1 1 1 1 1 1 1 1 1 1 1 1 1 1 1 1 1 1 1 1 1 1 1 1 1 1 1 1 1 1 1 1 1 1 1 1 1 1 1 1 1 1 1 1 1 1 1 1 1 1 1 1 1 1 1 1 1 1 1 1 1 1 1 1 1 1 1 1 1 1 1 1 1 1 1 1 1 1 1 1\n",
      "INFO:tensorflow:segment_ids: 0 0 0 0 0 0 0 0 0 0 0 0 0 0 0 0 0 0 0 0 0 0 0 0 0 0 0 0 0 0 0 0 0 0 0 0 0 0 0 0 0 0 0 0 0 0 0 0 0 0 0 0 0 0 0 0 0 0 0 0 0 0 0 0 0 0 0 0 0 0 0 0 0 0 0 0 0 0 0 0 0 0 0 0 0 0 0 0 0 0 0 0 0 0 0 0 0 0 0 0 0 0 0 0 0 0 0 0 0 0 0 0 0 0 0 0 0 0 0 0 0 0 0 0 0 0 0 0\n",
      "INFO:tensorflow:label: 0 (id = 0)\n",
      "INFO:tensorflow:*** Example ***\n",
      "INFO:tensorflow:guid: \n",
      "INFO:tensorflow:tokens: [CLS] បាត់ ដំបង ការ ប្រគំ តន្ត្រី យក្ស នៃ ការ ប្រកួត កីឡា បាល់ ទះ ឆ្នេរ ខ្សាច់ អន្តរ ជាតិ ស្រា បៀរ អាន់ ឆ័រ លើក ទី បាន កក្រើក ទី នេះ ដោយសារ តែ មាន ការ ចូល រួម ទស្សនា យ៉ាង ភ្លូក ទឹក ភ្លូក ដី ពី បង ប្អូន ប្រជា ពល រដ្ឋ ខេត្ត បាត់ ដំបង ក្រោយ ពី ពិធី ប្រកាស ក្រុម ជើង ឯក នៃ ការ ប្រកួត ផ្នែក នារី តែ ម្តង ប្រជា ពល រដ្ឋ យ៉ាង ច្រើន កុះករ ដែល មក ពី ស្រុក ផ្សេង នៅ ក្នុង ខេត្ត បាត់ ដំបង បាន នាំ គ្នា មក ចូល រួម កម្មវិធី ពិសេស របស់ ស្រា បៀរ អាន់ ឆ័រ ជា លក្ខណៈ គ្រួសារ និង មិត្ត ភ័ក្តិ នៅ ផ្តុំ គ្នា រង់ចាំ ទស្សនា កម្មវិធី នេះ ដោយ អ្នក ខ្លះ ទទួល ទាន ស្រា បៀរ អាន់ ឆ័រ ដែល បាន ទិញ ពី ស្តង់ ស្រា បៀរ អាន់ ឆ័រ ដែល លក់ ក្នុង តម្លៃ ប្រូម៉ូសិន [SEP]\n",
      "INFO:tensorflow:input_ids: 0 118162 62301 152009 63358 42011 117807 72073 152009 130293 130491 39370 137679 36939 61053 22879 4681 112160 120916 123895 43056 143822 167467 128962 34056 167467 28801 66409 70605 2113 152009 98248 121598 60644 50677 121287 39247 121287 95347 29168 109730 138912 51655 95146 148036 162639 118162 62301 70986 29168 91190 22618 28566 151702 92398 72073 152009 130293 92115 129075 70605 100522 51655 95146 148036 50677 131525 94285 28613 44928 29168 103027 20828 129027 38977 162639 118162 62301 128962 160134 10625 44928 98248 121598 92657 24082 97489 112160 120916 123895 43056 16100 160407 102042 83338 164101 156622 129027 32699 10625 120929 60644 92657 28801 67734 38340 80713 72135 89998 112160 120916 123895 43056 28613 128962 54796 29168 17403 112160 120916 123895 43056 28613 164450 38977 55153 134969 1\n",
      "INFO:tensorflow:input_mask: 1 1 1 1 1 1 1 1 1 1 1 1 1 1 1 1 1 1 1 1 1 1 1 1 1 1 1 1 1 1 1 1 1 1 1 1 1 1 1 1 1 1 1 1 1 1 1 1 1 1 1 1 1 1 1 1 1 1 1 1 1 1 1 1 1 1 1 1 1 1 1 1 1 1 1 1 1 1 1 1 1 1 1 1 1 1 1 1 1 1 1 1 1 1 1 1 1 1 1 1 1 1 1 1 1 1 1 1 1 1 1 1 1 1 1 1 1 1 1 1 1 1 1 1 1 1 1 1\n",
      "INFO:tensorflow:segment_ids: 0 0 0 0 0 0 0 0 0 0 0 0 0 0 0 0 0 0 0 0 0 0 0 0 0 0 0 0 0 0 0 0 0 0 0 0 0 0 0 0 0 0 0 0 0 0 0 0 0 0 0 0 0 0 0 0 0 0 0 0 0 0 0 0 0 0 0 0 0 0 0 0 0 0 0 0 0 0 0 0 0 0 0 0 0 0 0 0 0 0 0 0 0 0 0 0 0 0 0 0 0 0 0 0 0 0 0 0 0 0 0 0 0 0 0 0 0 0 0 0 0 0 0 0 0 0 0 0\n",
      "INFO:tensorflow:label: 0 (id = 0)\n",
      "INFO:tensorflow:*** Example ***\n",
      "INFO:tensorflow:guid: \n",
      "INFO:tensorflow:tokens: [CLS] ត្រាវ ត្រូវ គេ ចាត់ ចូល ក្នុង ប្រភេទ បន្លែ មើម ដែល ប្រជា ជន ជុំវិញ ពិភព លោក និយម ទទួល ទាន ដោយ ហេតុ ថា វា អាច យក ទៅ ច្នៃ ធ្វើ ជា អាហារ បាន ច្រើន មុខ ច្រើន បែប ក្រៅ ពី មើម ស្លឹក របស់ វា ក៏ ត្រូវ គេ យក ទៅ ប្រើ ជា បន្លែ ផង ដែរ ស្លឹក ត្រាវ ត្រូវ គេ ជឿ ថា សម្បូរ ទៅ ដោយ វីតាមីន A និង C មើម ត្រាវ មិន អាច ទទួល ទាន បាន ទាំង ឆៅ ទេ គេ ត្រូវតែ យក វា ទៅ ចម្អិន ដោយ ហ្មត់ចត់ ដើម្បី លាង ជម្រះ ឱ្យ អស់ សារ ធាតុ កាល់ស្យូម Oxalate ( ដែល អាច នាំ ឱ្យ កើត ក្រួស ក្នុង តម្រង នោម និង ហើម ប៉ោង លើ ម្រាម មេ ជើង ) ឯ ស្លឹក របស់ វា ក៏ ដូច គ្នា ដែរ គឺ ត្រូវតែ ចម្អិន ឱ្យ ឆ្អិន ជា មុន សិន ទើប អាច [SEP]\n",
      "INFO:tensorflow:input_ids: 0 91985 74058 85779 107858 98248 38977 95982 78697 159390 28613 51655 55 21057 42822 45584 63349 72135 89998 67734 150529 57158 135432 13977 143402 127642 24745 13122 16100 160424 128962 131525 158978 131525 145521 50207 29168 159390 166519 97489 135432 109539 74058 85779 143402 127642 145762 16100 78697 78470 151440 166519 91985 74058 85779 161728 57158 100394 127642 67734 82671 143907 83338 20483 159390 91985 85425 13977 72135 89998 128962 39376 72870 23478 85779 138794 143402 135432 127642 71620 67734 111650 76008 166716 164878 114197 101825 82742 37294 23060 53316 2 28613 13977 160134 114197 11833 94738 38977 41768 55663 83338 5806 68906 20394 71109 63564 151702 2 158512 166519 97489 135432 109539 164896 10625 151440 125739 138794 71620 114197 85035 16100 105256 26255 165808 13977 1\n",
      "INFO:tensorflow:input_mask: 1 1 1 1 1 1 1 1 1 1 1 1 1 1 1 1 1 1 1 1 1 1 1 1 1 1 1 1 1 1 1 1 1 1 1 1 1 1 1 1 1 1 1 1 1 1 1 1 1 1 1 1 1 1 1 1 1 1 1 1 1 1 1 1 1 1 1 1 1 1 1 1 1 1 1 1 1 1 1 1 1 1 1 1 1 1 1 1 1 1 1 1 1 1 1 1 1 1 1 1 1 1 1 1 1 1 1 1 1 1 1 1 1 1 1 1 1 1 1 1 1 1 1 1 1 1 1 1\n",
      "INFO:tensorflow:segment_ids: 0 0 0 0 0 0 0 0 0 0 0 0 0 0 0 0 0 0 0 0 0 0 0 0 0 0 0 0 0 0 0 0 0 0 0 0 0 0 0 0 0 0 0 0 0 0 0 0 0 0 0 0 0 0 0 0 0 0 0 0 0 0 0 0 0 0 0 0 0 0 0 0 0 0 0 0 0 0 0 0 0 0 0 0 0 0 0 0 0 0 0 0 0 0 0 0 0 0 0 0 0 0 0 0 0 0 0 0 0 0 0 0 0 0 0 0 0 0 0 0 0 0 0 0 0 0 0 0\n",
      "INFO:tensorflow:label: 0 (id = 0)\n",
      "INFO:tensorflow:Calling model_fn.\n",
      "INFO:tensorflow:Saver not created because there are no variables in the graph to restore\n",
      "INFO:tensorflow:Done calling model_fn.\n",
      "INFO:tensorflow:Graph was finalized.\n",
      "INFO:tensorflow:Restoring parameters from ./fine_tuned_model/model.ckpt-162\n",
      "INFO:tensorflow:Running local_init_op.\n",
      "INFO:tensorflow:Done running local_init_op.\n"
     ]
    }
   ],
   "source": [
    "pred_sentences = X_test.to_list()\n",
    "predictions = getPrediction(pred_sentences)"
   ]
  },
  {
   "cell_type": "code",
   "execution_count": null,
   "metadata": {
    "colab": {},
    "colab_type": "code",
    "id": "ERkTE8-7oQLZ"
   },
   "outputs": [],
   "source": [
    "y_actual = y_test.tolist()\n",
    "y_pred = [i[2] for i in predictions]\n",
    "result_df = pd.DataFrame({'actual': y_actual, 'pred':y_pred})"
   ]
  },
  {
   "cell_type": "markdown",
   "metadata": {
    "colab_type": "text",
    "id": "tFVKWHR69z2N"
   },
   "source": [
    "### Result Analysis"
   ]
  },
  {
   "cell_type": "code",
   "execution_count": null,
   "metadata": {
    "colab": {},
    "colab_type": "code",
    "id": "3iS0lpTo0V1Q"
   },
   "outputs": [],
   "source": [
    "from sklearn.metrics import accuracy_score\n",
    "from sklearn.metrics import confusion_matrix\n",
    "from sklearn.metrics import classification_report"
   ]
  },
  {
   "cell_type": "code",
   "execution_count": null,
   "metadata": {
    "colab": {
     "base_uri": "https://localhost:8080/",
     "height": 34
    },
    "colab_type": "code",
    "executionInfo": {
     "elapsed": 971,
     "status": "ok",
     "timestamp": 1598161008383,
     "user": {
      "displayName": "Md Rifatul Islam Rifat",
      "photoUrl": "",
      "userId": "17304548563437753137"
     },
     "user_tz": -360
    },
    "id": "qvdaTpdUklPN",
    "outputId": "f7f863ba-eb94-412e-9421-40ba551c2a18"
   },
   "outputs": [
    {
     "name": "stdout",
     "output_type": "stream",
     "text": [
      "Accuracy: 0.8458083832335329\n"
     ]
    }
   ],
   "source": [
    "test_result = accuracy_score(y_actual, y_pred)\n",
    "print(\"Accuracy:\", test_result)"
   ]
  },
  {
   "cell_type": "code",
   "execution_count": null,
   "metadata": {
    "colab": {
     "base_uri": "https://localhost:8080/",
     "height": 142
    },
    "colab_type": "code",
    "executionInfo": {
     "elapsed": 1259,
     "status": "ok",
     "timestamp": 1598161014647,
     "user": {
      "displayName": "Md Rifatul Islam Rifat",
      "photoUrl": "",
      "userId": "17304548563437753137"
     },
     "user_tz": -360
    },
    "id": "OA_KNYo7w26O",
    "outputId": "068983fc-ca32-47d1-e32c-e4aa74649215"
   },
   "outputs": [
    {
     "data": {
      "text/html": [
       "<div>\n",
       "<style scoped>\n",
       "    .dataframe tbody tr th:only-of-type {\n",
       "        vertical-align: middle;\n",
       "    }\n",
       "\n",
       "    .dataframe tbody tr th {\n",
       "        vertical-align: top;\n",
       "    }\n",
       "\n",
       "    .dataframe thead th {\n",
       "        text-align: right;\n",
       "    }\n",
       "</style>\n",
       "<table border=\"1\" class=\"dataframe\">\n",
       "  <thead>\n",
       "    <tr style=\"text-align: right;\">\n",
       "      <th></th>\n",
       "      <th>Accuracy</th>\n",
       "    </tr>\n",
       "  </thead>\n",
       "  <tbody>\n",
       "    <tr>\n",
       "      <th>Training</th>\n",
       "      <td>0.889638</td>\n",
       "    </tr>\n",
       "    <tr>\n",
       "      <th>Validation</th>\n",
       "      <td>0.847240</td>\n",
       "    </tr>\n",
       "    <tr>\n",
       "      <th>Test</th>\n",
       "      <td>0.845808</td>\n",
       "    </tr>\n",
       "  </tbody>\n",
       "</table>\n",
       "</div>"
      ],
      "text/plain": [
       "            Accuracy\n",
       "Training    0.889638\n",
       "Validation  0.847240\n",
       "Test        0.845808"
      ]
     },
     "execution_count": 97,
     "metadata": {
      "tags": []
     },
     "output_type": "execute_result"
    }
   ],
   "source": [
    "pd.DataFrame([train_result[0]['eval_accuracy'], val_result[0]['eval_accuracy'], test_result],\n",
    "              index = ['Training', 'Validation', 'Test'],\n",
    "              columns = ['Accuracy'])"
   ]
  },
  {
   "cell_type": "code",
   "execution_count": null,
   "metadata": {
    "colab": {
     "base_uri": "https://localhost:8080/",
     "height": 208
    },
    "colab_type": "code",
    "executionInfo": {
     "elapsed": 1805,
     "status": "ok",
     "timestamp": 1598163440460,
     "user": {
      "displayName": "Md Rifatul Islam Rifat",
      "photoUrl": "",
      "userId": "17304548563437753137"
     },
     "user_tz": -360
    },
    "id": "ehBop_-x9fYn",
    "outputId": "37068442-f31a-49c1-d702-253fb3717066"
   },
   "outputs": [
    {
     "data": {
      "text/html": [
       "<style  type=\"text/css\" >\n",
       "    #T_4bf8c65c_e508_11ea_be2b_0242ac1c0002row0_col0 {\n",
       "            background-color:  skyblue;\n",
       "            color:  black;\n",
       "        }    #T_4bf8c65c_e508_11ea_be2b_0242ac1c0002row0_col1 {\n",
       "            background-color:  skyblue;\n",
       "            color:  black;\n",
       "        }    #T_4bf8c65c_e508_11ea_be2b_0242ac1c0002row0_col2 {\n",
       "            background-color:  skyblue;\n",
       "            color:  black;\n",
       "        }    #T_4bf8c65c_e508_11ea_be2b_0242ac1c0002row0_col3 {\n",
       "            background-color:  skyblue;\n",
       "            color:  black;\n",
       "        }    #T_4bf8c65c_e508_11ea_be2b_0242ac1c0002row0_col4 {\n",
       "            background-color:  skyblue;\n",
       "            color:  black;\n",
       "        }    #T_4bf8c65c_e508_11ea_be2b_0242ac1c0002row0_col5 {\n",
       "            background-color:  skyblue;\n",
       "            color:  black;\n",
       "        }    #T_4bf8c65c_e508_11ea_be2b_0242ac1c0002row0_col6 {\n",
       "            background-color:  skyblue;\n",
       "            color:  black;\n",
       "        }    #T_4bf8c65c_e508_11ea_be2b_0242ac1c0002row0_col7 {\n",
       "            background-color:  skyblue;\n",
       "            color:  black;\n",
       "        }    #T_4bf8c65c_e508_11ea_be2b_0242ac1c0002row1_col0 {\n",
       "            background-color:  skyblue;\n",
       "            color:  black;\n",
       "        }    #T_4bf8c65c_e508_11ea_be2b_0242ac1c0002row1_col1 {\n",
       "            background-color:  skyblue;\n",
       "            color:  black;\n",
       "        }    #T_4bf8c65c_e508_11ea_be2b_0242ac1c0002row1_col2 {\n",
       "            background-color:  skyblue;\n",
       "            color:  black;\n",
       "        }    #T_4bf8c65c_e508_11ea_be2b_0242ac1c0002row1_col3 {\n",
       "            background-color:  skyblue;\n",
       "            color:  black;\n",
       "        }    #T_4bf8c65c_e508_11ea_be2b_0242ac1c0002row1_col4 {\n",
       "            background-color:  skyblue;\n",
       "            color:  black;\n",
       "        }    #T_4bf8c65c_e508_11ea_be2b_0242ac1c0002row1_col5 {\n",
       "            background-color:  skyblue;\n",
       "            color:  black;\n",
       "        }    #T_4bf8c65c_e508_11ea_be2b_0242ac1c0002row1_col6 {\n",
       "            background-color:  skyblue;\n",
       "            color:  black;\n",
       "        }    #T_4bf8c65c_e508_11ea_be2b_0242ac1c0002row1_col7 {\n",
       "            background-color:  skyblue;\n",
       "            color:  black;\n",
       "        }    #T_4bf8c65c_e508_11ea_be2b_0242ac1c0002row2_col0 {\n",
       "            background-color:  skyblue;\n",
       "            color:  black;\n",
       "        }    #T_4bf8c65c_e508_11ea_be2b_0242ac1c0002row2_col1 {\n",
       "            background-color:  skyblue;\n",
       "            color:  black;\n",
       "        }    #T_4bf8c65c_e508_11ea_be2b_0242ac1c0002row2_col2 {\n",
       "            background-color:  skyblue;\n",
       "            color:  black;\n",
       "        }    #T_4bf8c65c_e508_11ea_be2b_0242ac1c0002row2_col3 {\n",
       "            background-color:  skyblue;\n",
       "            color:  black;\n",
       "        }    #T_4bf8c65c_e508_11ea_be2b_0242ac1c0002row2_col4 {\n",
       "            background-color:  skyblue;\n",
       "            color:  black;\n",
       "        }    #T_4bf8c65c_e508_11ea_be2b_0242ac1c0002row2_col5 {\n",
       "            background-color:  skyblue;\n",
       "            color:  black;\n",
       "        }    #T_4bf8c65c_e508_11ea_be2b_0242ac1c0002row2_col6 {\n",
       "            background-color:  skyblue;\n",
       "            color:  black;\n",
       "        }    #T_4bf8c65c_e508_11ea_be2b_0242ac1c0002row2_col7 {\n",
       "            background-color:  skyblue;\n",
       "            color:  black;\n",
       "        }    #T_4bf8c65c_e508_11ea_be2b_0242ac1c0002row3_col0 {\n",
       "            background-color:  skyblue;\n",
       "            color:  black;\n",
       "        }    #T_4bf8c65c_e508_11ea_be2b_0242ac1c0002row3_col1 {\n",
       "            background-color:  skyblue;\n",
       "            color:  black;\n",
       "        }    #T_4bf8c65c_e508_11ea_be2b_0242ac1c0002row3_col2 {\n",
       "            background-color:  skyblue;\n",
       "            color:  black;\n",
       "        }    #T_4bf8c65c_e508_11ea_be2b_0242ac1c0002row3_col3 {\n",
       "            background-color:  skyblue;\n",
       "            color:  black;\n",
       "        }    #T_4bf8c65c_e508_11ea_be2b_0242ac1c0002row3_col4 {\n",
       "            background-color:  skyblue;\n",
       "            color:  black;\n",
       "        }    #T_4bf8c65c_e508_11ea_be2b_0242ac1c0002row3_col5 {\n",
       "            background-color:  skyblue;\n",
       "            color:  black;\n",
       "        }    #T_4bf8c65c_e508_11ea_be2b_0242ac1c0002row3_col6 {\n",
       "            background-color:  skyblue;\n",
       "            color:  black;\n",
       "        }    #T_4bf8c65c_e508_11ea_be2b_0242ac1c0002row3_col7 {\n",
       "            background-color:  skyblue;\n",
       "            color:  black;\n",
       "        }    #T_4bf8c65c_e508_11ea_be2b_0242ac1c0002row4_col0 {\n",
       "            background-color:  skyblue;\n",
       "            color:  black;\n",
       "        }    #T_4bf8c65c_e508_11ea_be2b_0242ac1c0002row4_col1 {\n",
       "            background-color:  skyblue;\n",
       "            color:  black;\n",
       "        }    #T_4bf8c65c_e508_11ea_be2b_0242ac1c0002row4_col2 {\n",
       "            background-color:  skyblue;\n",
       "            color:  black;\n",
       "        }    #T_4bf8c65c_e508_11ea_be2b_0242ac1c0002row4_col3 {\n",
       "            background-color:  skyblue;\n",
       "            color:  black;\n",
       "        }    #T_4bf8c65c_e508_11ea_be2b_0242ac1c0002row4_col4 {\n",
       "            background-color:  skyblue;\n",
       "            color:  black;\n",
       "        }    #T_4bf8c65c_e508_11ea_be2b_0242ac1c0002row4_col5 {\n",
       "            background-color:  skyblue;\n",
       "            color:  black;\n",
       "        }    #T_4bf8c65c_e508_11ea_be2b_0242ac1c0002row4_col6 {\n",
       "            background-color:  skyblue;\n",
       "            color:  black;\n",
       "        }    #T_4bf8c65c_e508_11ea_be2b_0242ac1c0002row4_col7 {\n",
       "            background-color:  skyblue;\n",
       "            color:  black;\n",
       "        }    #T_4bf8c65c_e508_11ea_be2b_0242ac1c0002row5_col0 {\n",
       "            background-color:  skyblue;\n",
       "            color:  black;\n",
       "        }    #T_4bf8c65c_e508_11ea_be2b_0242ac1c0002row5_col1 {\n",
       "            background-color:  skyblue;\n",
       "            color:  black;\n",
       "        }    #T_4bf8c65c_e508_11ea_be2b_0242ac1c0002row5_col2 {\n",
       "            background-color:  skyblue;\n",
       "            color:  black;\n",
       "        }    #T_4bf8c65c_e508_11ea_be2b_0242ac1c0002row5_col3 {\n",
       "            background-color:  skyblue;\n",
       "            color:  black;\n",
       "        }    #T_4bf8c65c_e508_11ea_be2b_0242ac1c0002row5_col4 {\n",
       "            background-color:  skyblue;\n",
       "            color:  black;\n",
       "        }    #T_4bf8c65c_e508_11ea_be2b_0242ac1c0002row5_col5 {\n",
       "            background-color:  skyblue;\n",
       "            color:  black;\n",
       "        }    #T_4bf8c65c_e508_11ea_be2b_0242ac1c0002row5_col6 {\n",
       "            background-color:  skyblue;\n",
       "            color:  black;\n",
       "        }    #T_4bf8c65c_e508_11ea_be2b_0242ac1c0002row5_col7 {\n",
       "            background-color:  skyblue;\n",
       "            color:  black;\n",
       "        }    #T_4bf8c65c_e508_11ea_be2b_0242ac1c0002row6_col0 {\n",
       "            background-color:  skyblue;\n",
       "            color:  black;\n",
       "        }    #T_4bf8c65c_e508_11ea_be2b_0242ac1c0002row6_col1 {\n",
       "            background-color:  skyblue;\n",
       "            color:  black;\n",
       "        }    #T_4bf8c65c_e508_11ea_be2b_0242ac1c0002row6_col2 {\n",
       "            background-color:  skyblue;\n",
       "            color:  black;\n",
       "        }    #T_4bf8c65c_e508_11ea_be2b_0242ac1c0002row6_col3 {\n",
       "            background-color:  skyblue;\n",
       "            color:  black;\n",
       "        }    #T_4bf8c65c_e508_11ea_be2b_0242ac1c0002row6_col4 {\n",
       "            background-color:  skyblue;\n",
       "            color:  black;\n",
       "        }    #T_4bf8c65c_e508_11ea_be2b_0242ac1c0002row6_col5 {\n",
       "            background-color:  skyblue;\n",
       "            color:  black;\n",
       "        }    #T_4bf8c65c_e508_11ea_be2b_0242ac1c0002row6_col6 {\n",
       "            background-color:  skyblue;\n",
       "            color:  black;\n",
       "        }    #T_4bf8c65c_e508_11ea_be2b_0242ac1c0002row6_col7 {\n",
       "            background-color:  skyblue;\n",
       "            color:  black;\n",
       "        }    #T_4bf8c65c_e508_11ea_be2b_0242ac1c0002row7_col0 {\n",
       "            background-color:  skyblue;\n",
       "            color:  black;\n",
       "        }    #T_4bf8c65c_e508_11ea_be2b_0242ac1c0002row7_col1 {\n",
       "            background-color:  skyblue;\n",
       "            color:  black;\n",
       "        }    #T_4bf8c65c_e508_11ea_be2b_0242ac1c0002row7_col2 {\n",
       "            background-color:  skyblue;\n",
       "            color:  black;\n",
       "        }    #T_4bf8c65c_e508_11ea_be2b_0242ac1c0002row7_col3 {\n",
       "            background-color:  skyblue;\n",
       "            color:  black;\n",
       "        }    #T_4bf8c65c_e508_11ea_be2b_0242ac1c0002row7_col4 {\n",
       "            background-color:  skyblue;\n",
       "            color:  black;\n",
       "        }    #T_4bf8c65c_e508_11ea_be2b_0242ac1c0002row7_col5 {\n",
       "            background-color:  skyblue;\n",
       "            color:  black;\n",
       "        }    #T_4bf8c65c_e508_11ea_be2b_0242ac1c0002row7_col6 {\n",
       "            background-color:  skyblue;\n",
       "            color:  black;\n",
       "        }    #T_4bf8c65c_e508_11ea_be2b_0242ac1c0002row7_col7 {\n",
       "            background-color:  skyblue;\n",
       "            color:  black;\n",
       "        }</style><table id=\"T_4bf8c65c_e508_11ea_be2b_0242ac1c0002\" ><thead>    <tr>        <th class=\"blank level0\" ></th>        <th class=\"col_heading level0 col0\" >arts-and-culture</th>        <th class=\"col_heading level0 col1\" >business</th>        <th class=\"col_heading level0 col2\" >health</th>        <th class=\"col_heading level0 col3\" >international-news</th>        <th class=\"col_heading level0 col4\" >national-news</th>        <th class=\"col_heading level0 col5\" >research</th>        <th class=\"col_heading level0 col6\" >service</th>        <th class=\"col_heading level0 col7\" >sports-news</th>    </tr></thead><tbody>\n",
       "                <tr>\n",
       "                        <th id=\"T_4bf8c65c_e508_11ea_be2b_0242ac1c0002level0_row0\" class=\"row_heading level0 row0\" >arts-and-culture</th>\n",
       "                        <td id=\"T_4bf8c65c_e508_11ea_be2b_0242ac1c0002row0_col0\" class=\"data row0 col0\" >82</td>\n",
       "                        <td id=\"T_4bf8c65c_e508_11ea_be2b_0242ac1c0002row0_col1\" class=\"data row0 col1\" >0</td>\n",
       "                        <td id=\"T_4bf8c65c_e508_11ea_be2b_0242ac1c0002row0_col2\" class=\"data row0 col2\" >1</td>\n",
       "                        <td id=\"T_4bf8c65c_e508_11ea_be2b_0242ac1c0002row0_col3\" class=\"data row0 col3\" >0</td>\n",
       "                        <td id=\"T_4bf8c65c_e508_11ea_be2b_0242ac1c0002row0_col4\" class=\"data row0 col4\" >3</td>\n",
       "                        <td id=\"T_4bf8c65c_e508_11ea_be2b_0242ac1c0002row0_col5\" class=\"data row0 col5\" >2</td>\n",
       "                        <td id=\"T_4bf8c65c_e508_11ea_be2b_0242ac1c0002row0_col6\" class=\"data row0 col6\" >2</td>\n",
       "                        <td id=\"T_4bf8c65c_e508_11ea_be2b_0242ac1c0002row0_col7\" class=\"data row0 col7\" >0</td>\n",
       "            </tr>\n",
       "            <tr>\n",
       "                        <th id=\"T_4bf8c65c_e508_11ea_be2b_0242ac1c0002level0_row1\" class=\"row_heading level0 row1\" >business</th>\n",
       "                        <td id=\"T_4bf8c65c_e508_11ea_be2b_0242ac1c0002row1_col0\" class=\"data row1 col0\" >0</td>\n",
       "                        <td id=\"T_4bf8c65c_e508_11ea_be2b_0242ac1c0002row1_col1\" class=\"data row1 col1\" >49</td>\n",
       "                        <td id=\"T_4bf8c65c_e508_11ea_be2b_0242ac1c0002row1_col2\" class=\"data row1 col2\" >0</td>\n",
       "                        <td id=\"T_4bf8c65c_e508_11ea_be2b_0242ac1c0002row1_col3\" class=\"data row1 col3\" >1</td>\n",
       "                        <td id=\"T_4bf8c65c_e508_11ea_be2b_0242ac1c0002row1_col4\" class=\"data row1 col4\" >2</td>\n",
       "                        <td id=\"T_4bf8c65c_e508_11ea_be2b_0242ac1c0002row1_col5\" class=\"data row1 col5\" >5</td>\n",
       "                        <td id=\"T_4bf8c65c_e508_11ea_be2b_0242ac1c0002row1_col6\" class=\"data row1 col6\" >2</td>\n",
       "                        <td id=\"T_4bf8c65c_e508_11ea_be2b_0242ac1c0002row1_col7\" class=\"data row1 col7\" >0</td>\n",
       "            </tr>\n",
       "            <tr>\n",
       "                        <th id=\"T_4bf8c65c_e508_11ea_be2b_0242ac1c0002level0_row2\" class=\"row_heading level0 row2\" >health</th>\n",
       "                        <td id=\"T_4bf8c65c_e508_11ea_be2b_0242ac1c0002row2_col0\" class=\"data row2 col0\" >0</td>\n",
       "                        <td id=\"T_4bf8c65c_e508_11ea_be2b_0242ac1c0002row2_col1\" class=\"data row2 col1\" >0</td>\n",
       "                        <td id=\"T_4bf8c65c_e508_11ea_be2b_0242ac1c0002row2_col2\" class=\"data row2 col2\" >83</td>\n",
       "                        <td id=\"T_4bf8c65c_e508_11ea_be2b_0242ac1c0002row2_col3\" class=\"data row2 col3\" >0</td>\n",
       "                        <td id=\"T_4bf8c65c_e508_11ea_be2b_0242ac1c0002row2_col4\" class=\"data row2 col4\" >2</td>\n",
       "                        <td id=\"T_4bf8c65c_e508_11ea_be2b_0242ac1c0002row2_col5\" class=\"data row2 col5\" >5</td>\n",
       "                        <td id=\"T_4bf8c65c_e508_11ea_be2b_0242ac1c0002row2_col6\" class=\"data row2 col6\" >0</td>\n",
       "                        <td id=\"T_4bf8c65c_e508_11ea_be2b_0242ac1c0002row2_col7\" class=\"data row2 col7\" >0</td>\n",
       "            </tr>\n",
       "            <tr>\n",
       "                        <th id=\"T_4bf8c65c_e508_11ea_be2b_0242ac1c0002level0_row3\" class=\"row_heading level0 row3\" >international-news</th>\n",
       "                        <td id=\"T_4bf8c65c_e508_11ea_be2b_0242ac1c0002row3_col0\" class=\"data row3 col0\" >0</td>\n",
       "                        <td id=\"T_4bf8c65c_e508_11ea_be2b_0242ac1c0002row3_col1\" class=\"data row3 col1\" >1</td>\n",
       "                        <td id=\"T_4bf8c65c_e508_11ea_be2b_0242ac1c0002row3_col2\" class=\"data row3 col2\" >1</td>\n",
       "                        <td id=\"T_4bf8c65c_e508_11ea_be2b_0242ac1c0002row3_col3\" class=\"data row3 col3\" >75</td>\n",
       "                        <td id=\"T_4bf8c65c_e508_11ea_be2b_0242ac1c0002row3_col4\" class=\"data row3 col4\" >0</td>\n",
       "                        <td id=\"T_4bf8c65c_e508_11ea_be2b_0242ac1c0002row3_col5\" class=\"data row3 col5\" >12</td>\n",
       "                        <td id=\"T_4bf8c65c_e508_11ea_be2b_0242ac1c0002row3_col6\" class=\"data row3 col6\" >1</td>\n",
       "                        <td id=\"T_4bf8c65c_e508_11ea_be2b_0242ac1c0002row3_col7\" class=\"data row3 col7\" >0</td>\n",
       "            </tr>\n",
       "            <tr>\n",
       "                        <th id=\"T_4bf8c65c_e508_11ea_be2b_0242ac1c0002level0_row4\" class=\"row_heading level0 row4\" >national-news</th>\n",
       "                        <td id=\"T_4bf8c65c_e508_11ea_be2b_0242ac1c0002row4_col0\" class=\"data row4 col0\" >1</td>\n",
       "                        <td id=\"T_4bf8c65c_e508_11ea_be2b_0242ac1c0002row4_col1\" class=\"data row4 col1\" >4</td>\n",
       "                        <td id=\"T_4bf8c65c_e508_11ea_be2b_0242ac1c0002row4_col2\" class=\"data row4 col2\" >0</td>\n",
       "                        <td id=\"T_4bf8c65c_e508_11ea_be2b_0242ac1c0002row4_col3\" class=\"data row4 col3\" >2</td>\n",
       "                        <td id=\"T_4bf8c65c_e508_11ea_be2b_0242ac1c0002row4_col4\" class=\"data row4 col4\" >80</td>\n",
       "                        <td id=\"T_4bf8c65c_e508_11ea_be2b_0242ac1c0002row4_col5\" class=\"data row4 col5\" >2</td>\n",
       "                        <td id=\"T_4bf8c65c_e508_11ea_be2b_0242ac1c0002row4_col6\" class=\"data row4 col6\" >0</td>\n",
       "                        <td id=\"T_4bf8c65c_e508_11ea_be2b_0242ac1c0002row4_col7\" class=\"data row4 col7\" >1</td>\n",
       "            </tr>\n",
       "            <tr>\n",
       "                        <th id=\"T_4bf8c65c_e508_11ea_be2b_0242ac1c0002level0_row5\" class=\"row_heading level0 row5\" >research</th>\n",
       "                        <td id=\"T_4bf8c65c_e508_11ea_be2b_0242ac1c0002row5_col0\" class=\"data row5 col0\" >0</td>\n",
       "                        <td id=\"T_4bf8c65c_e508_11ea_be2b_0242ac1c0002row5_col1\" class=\"data row5 col1\" >3</td>\n",
       "                        <td id=\"T_4bf8c65c_e508_11ea_be2b_0242ac1c0002row5_col2\" class=\"data row5 col2\" >15</td>\n",
       "                        <td id=\"T_4bf8c65c_e508_11ea_be2b_0242ac1c0002row5_col3\" class=\"data row5 col3\" >8</td>\n",
       "                        <td id=\"T_4bf8c65c_e508_11ea_be2b_0242ac1c0002row5_col4\" class=\"data row5 col4\" >0</td>\n",
       "                        <td id=\"T_4bf8c65c_e508_11ea_be2b_0242ac1c0002row5_col5\" class=\"data row5 col5\" >62</td>\n",
       "                        <td id=\"T_4bf8c65c_e508_11ea_be2b_0242ac1c0002row5_col6\" class=\"data row5 col6\" >2</td>\n",
       "                        <td id=\"T_4bf8c65c_e508_11ea_be2b_0242ac1c0002row5_col7\" class=\"data row5 col7\" >0</td>\n",
       "            </tr>\n",
       "            <tr>\n",
       "                        <th id=\"T_4bf8c65c_e508_11ea_be2b_0242ac1c0002level0_row6\" class=\"row_heading level0 row6\" >service</th>\n",
       "                        <td id=\"T_4bf8c65c_e508_11ea_be2b_0242ac1c0002row6_col0\" class=\"data row6 col0\" >3</td>\n",
       "                        <td id=\"T_4bf8c65c_e508_11ea_be2b_0242ac1c0002row6_col1\" class=\"data row6 col1\" >0</td>\n",
       "                        <td id=\"T_4bf8c65c_e508_11ea_be2b_0242ac1c0002row6_col2\" class=\"data row6 col2\" >12</td>\n",
       "                        <td id=\"T_4bf8c65c_e508_11ea_be2b_0242ac1c0002row6_col3\" class=\"data row6 col3\" >0</td>\n",
       "                        <td id=\"T_4bf8c65c_e508_11ea_be2b_0242ac1c0002row6_col4\" class=\"data row6 col4\" >2</td>\n",
       "                        <td id=\"T_4bf8c65c_e508_11ea_be2b_0242ac1c0002row6_col5\" class=\"data row6 col5\" >3</td>\n",
       "                        <td id=\"T_4bf8c65c_e508_11ea_be2b_0242ac1c0002row6_col6\" class=\"data row6 col6\" >68</td>\n",
       "                        <td id=\"T_4bf8c65c_e508_11ea_be2b_0242ac1c0002row6_col7\" class=\"data row6 col7\" >2</td>\n",
       "            </tr>\n",
       "            <tr>\n",
       "                        <th id=\"T_4bf8c65c_e508_11ea_be2b_0242ac1c0002level0_row7\" class=\"row_heading level0 row7\" >sports-news</th>\n",
       "                        <td id=\"T_4bf8c65c_e508_11ea_be2b_0242ac1c0002row7_col0\" class=\"data row7 col0\" >0</td>\n",
       "                        <td id=\"T_4bf8c65c_e508_11ea_be2b_0242ac1c0002row7_col1\" class=\"data row7 col1\" >0</td>\n",
       "                        <td id=\"T_4bf8c65c_e508_11ea_be2b_0242ac1c0002row7_col2\" class=\"data row7 col2\" >0</td>\n",
       "                        <td id=\"T_4bf8c65c_e508_11ea_be2b_0242ac1c0002row7_col3\" class=\"data row7 col3\" >1</td>\n",
       "                        <td id=\"T_4bf8c65c_e508_11ea_be2b_0242ac1c0002row7_col4\" class=\"data row7 col4\" >0</td>\n",
       "                        <td id=\"T_4bf8c65c_e508_11ea_be2b_0242ac1c0002row7_col5\" class=\"data row7 col5\" >1</td>\n",
       "                        <td id=\"T_4bf8c65c_e508_11ea_be2b_0242ac1c0002row7_col6\" class=\"data row7 col6\" >1</td>\n",
       "                        <td id=\"T_4bf8c65c_e508_11ea_be2b_0242ac1c0002row7_col7\" class=\"data row7 col7\" >66</td>\n",
       "            </tr>\n",
       "    </tbody></table>"
      ],
      "text/plain": [
       "<pandas.io.formats.style.Styler at 0x7fe6e9ccfd68>"
      ]
     },
     "execution_count": 111,
     "metadata": {
      "tags": []
     },
     "output_type": "execute_result"
    }
   ],
   "source": [
    "## generate confusion matrix\n",
    "cm = confusion_matrix(y_actual, y_pred)\n",
    "p = pd.DataFrame(cm, \n",
    "                 index = list(le.inverse_transform([0, 1, 2, 3, 4, 5, 6, 7])),\n",
    "                 columns = list(le.inverse_transform([0, 1, 2, 3, 4, 5, 6, 7])))\n",
    "p.style.set_properties(**{'background-color': 'skyblue', \n",
    "                          'color': 'black'})"
   ]
  },
  {
   "cell_type": "code",
   "execution_count": null,
   "metadata": {
    "colab": {
     "base_uri": "https://localhost:8080/",
     "height": 396
    },
    "colab_type": "code",
    "executionInfo": {
     "elapsed": 5510,
     "status": "ok",
     "timestamp": 1598162280283,
     "user": {
      "displayName": "Md Rifatul Islam Rifat",
      "photoUrl": "",
      "userId": "17304548563437753137"
     },
     "user_tz": -360
    },
    "id": "RoRfLdPsw29g",
    "outputId": "12d742dc-fb9b-49ad-e758-ea069c6edf0e"
   },
   "outputs": [
    {
     "data": {
      "image/png": "[encoded data removed]",
      "text/plain": [
       "<Figure size 432x288 with 2 Axes>"
      ]
     },
     "metadata": {
      "tags": []
     },
     "output_type": "display_data"
    }
   ],
   "source": [
    "## Confusion Matrix in Heatmap\n",
    "import matplotlib.pyplot as plt\n",
    "import seaborn as sns\n",
    "# plt.figure(figsize=(12, 8))\n",
    "sns.set()\n",
    "f = sns.heatmap(p, annot=True)\n",
    "plt.title(\"Confusion Matrix\", fontdict={'fontsize': 15})\n",
    "plt.xlabel(\"Predicted\")\n",
    "plt.ylabel(\"Actual\")\n",
    "plt.show()\n",
    "\n",
    "# f.get_figure().savefig(\"news_confusion_matrix_fine_tune.jpg\", dpi=300, bbox_inches='tight')"
   ]
  },
  {
   "cell_type": "code",
   "execution_count": null,
   "metadata": {
    "colab": {
     "base_uri": "https://localhost:8080/",
     "height": 272
    },
    "colab_type": "code",
    "executionInfo": {
     "elapsed": 1320,
     "status": "ok",
     "timestamp": 1598162388165,
     "user": {
      "displayName": "Md Rifatul Islam Rifat",
      "photoUrl": "",
      "userId": "17304548563437753137"
     },
     "user_tz": -360
    },
    "id": "TBEK3A3gw3Oo",
    "outputId": "1d6efc42-b32e-44db-af48-1db185080d7a"
   },
   "outputs": [
    {
     "name": "stdout",
     "output_type": "stream",
     "text": [
      "                    precision    recall  f1-score   support\n",
      "\n",
      "  arts-and-culture       0.95      0.91      0.93        90\n",
      "          business       0.86      0.83      0.84        59\n",
      "            health       0.74      0.92      0.82        90\n",
      "international-news       0.86      0.83      0.85        90\n",
      "     national-news       0.90      0.89      0.89        90\n",
      "          research       0.67      0.69      0.68        90\n",
      "           service       0.89      0.76      0.82        90\n",
      "       sports-news       0.96      0.96      0.96        69\n",
      "\n",
      "          accuracy                           0.85       668\n",
      "         macro avg       0.86      0.85      0.85       668\n",
      "      weighted avg       0.85      0.85      0.85       668\n",
      "\n"
     ]
    }
   ],
   "source": [
    "## Classification Report\n",
    "target_names = list(le.inverse_transform([0, 1, 2, 3, 4, 5, 6, 7]))\n",
    "print(classification_report(y_actual, y_pred, target_names = target_names))"
   ]
  },
  {
   "cell_type": "code",
   "execution_count": null,
   "metadata": {
    "colab": {},
    "colab_type": "code",
    "id": "AQpcJnYfw3bp"
   },
   "outputs": [],
   "source": []
  }
 ],
 "metadata": {
  "accelerator": "GPU",
  "colab": {
   "collapsed_sections": [],
   "machine_shape": "hm",
   "name": "News_Classification_BERT_NIPTICT_fine-tuning.ipynb",
   "provenance": [
    {
     "file_id": "https://github.com/google-research/bert/blob/master/predicting_movie_reviews_with_bert_on_tf_hub.ipynb",
     "timestamp": 1582706432461
    }
   ]
  },
  "kernelspec": {
   "display_name": "Python 3",
   "language": "python",
   "name": "python3"
  },
  "language_info": {
   "codemirror_mode": {
    "name": "ipython",
    "version": 3
   },
   "file_extension": ".py",
   "mimetype": "text/x-python",
   "name": "python",
   "nbconvert_exporter": "python",
   "pygments_lexer": "ipython3",
   "version": "3.7.4"
  }
 },
 "nbformat": 4,
 "nbformat_minor": 1
}
