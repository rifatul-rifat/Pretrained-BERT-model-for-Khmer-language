{
 "cells": [
  {
   "cell_type": "markdown",
   "metadata": {},
   "source": [
    "---"
   ]
  },
  {
   "cell_type": "markdown",
   "metadata": {},
   "source": [
    "## Khmer News Classification with fastText\n",
    "---"
   ]
  },
  {
   "cell_type": "code",
   "execution_count": null,
   "metadata": {
    "colab": {
     "base_uri": "https://localhost:8080/",
     "height": 34
    },
    "colab_type": "code",
    "executionInfo": {
     "elapsed": 1421,
     "status": "ok",
     "timestamp": 1598200239596,
     "user": {
      "displayName": "Md Rifatul Islam Rifat",
      "photoUrl": "",
      "userId": "17304548563437753137"
     },
     "user_tz": -360
    },
    "id": "ObHnHtoigqA8",
    "outputId": "d4e52116-4a74-45c9-9c99-c8540913fbca"
   },
   "outputs": [
    {
     "name": "stdout",
     "output_type": "stream",
     "text": [
      "TensorFlow 1.x selected.\n"
     ]
    }
   ],
   "source": [
    "%tensorflow_version 1.x"
   ]
  },
  {
   "cell_type": "code",
   "execution_count": null,
   "metadata": {
    "colab": {
     "base_uri": "https://localhost:8080/",
     "height": 128
    },
    "colab_type": "code",
    "executionInfo": {
     "elapsed": 27514,
     "status": "ok",
     "timestamp": 1598189972226,
     "user": {
      "displayName": "Md Rifatul Islam Rifat",
      "photoUrl": "",
      "userId": "17304548563437753137"
     },
     "user_tz": -360
    },
    "id": "fulaxgf7_LvF",
    "outputId": "60480811-e652-422f-c202-6281460cc824"
   },
   "outputs": [],
   "source": [
    "from google.colab import drive\n",
    "drive.mount('/content/drive')"
   ]
  },
  {
   "cell_type": "code",
   "execution_count": null,
   "metadata": {
    "colab": {},
    "colab_type": "code",
    "executionInfo": {
     "elapsed": 1226,
     "status": "ok",
     "timestamp": 1598190888298,
     "user": {
      "displayName": "Md Rifatul Islam Rifat",
      "photoUrl": "",
      "userId": "17304548563437753137"
     },
     "user_tz": -360
    },
    "id": "QUXZSmou-L7V"
   },
   "outputs": [],
   "source": [
    "from datetime import datetime\n",
    "import re\n",
    "import numpy as np\n",
    "import pandas as pd\n",
    "import matplotlib.pyplot as plt\n",
    "import seaborn as sns\n",
    "\n",
    "import warnings\n",
    "warnings.filterwarnings('ignore')"
   ]
  },
  {
   "cell_type": "markdown",
   "metadata": {
    "colab_type": "text",
    "id": "eJPiXiiC-L7b"
   },
   "source": [
    "### Load Data"
   ]
  },
  {
   "cell_type": "code",
   "execution_count": 23,
   "metadata": {
    "colab": {
     "base_uri": "https://localhost:8080/",
     "height": 190
    },
    "colab_type": "code",
    "executionInfo": {
     "elapsed": 3452,
     "status": "ok",
     "timestamp": 1598190908879,
     "user": {
      "displayName": "Md Rifatul Islam Rifat",
      "photoUrl": "",
      "userId": "17304548563437753137"
     },
     "user_tz": -360
    },
    "id": "HXkHXytgbpdr",
    "outputId": "5f55bf3f-0b3e-4e75-dcb9-510211d7dc55"
   },
   "outputs": [
    {
     "data": {
      "text/html": [
       "<div>\n",
       "<style scoped>\n",
       "    .dataframe tbody tr th:only-of-type {\n",
       "        vertical-align: middle;\n",
       "    }\n",
       "\n",
       "    .dataframe tbody tr th {\n",
       "        vertical-align: top;\n",
       "    }\n",
       "\n",
       "    .dataframe thead th {\n",
       "        text-align: right;\n",
       "    }\n",
       "</style>\n",
       "<table border=\"1\" class=\"dataframe\">\n",
       "  <thead>\n",
       "    <tr style=\"text-align: right;\">\n",
       "      <th></th>\n",
       "      <th>id</th>\n",
       "      <th>content</th>\n",
       "      <th>tokenized_content</th>\n",
       "      <th>category</th>\n",
       "      <th>category_en</th>\n",
       "      <th>text_prep</th>\n",
       "    </tr>\n",
       "  </thead>\n",
       "  <tbody>\n",
       "    <tr>\n",
       "      <th>0</th>\n",
       "      <td>45541</td>\n",
       "      <td>រាជធានីភ្នំពេញ ៖នៅក្នុងពិភពសិល្បៈតារាសម្តែងមួយ...</td>\n",
       "      <td>រាជ ធានី ភ្នំ ពេញ ៖ នៅ ក្នុង ពិភព សិល្បៈ តារា ...</td>\n",
       "      <td>សិល្បៈនិងវប្បធម៌</td>\n",
       "      <td>arts-and-culture</td>\n",
       "      <td>រាជ ធានី ភ្នំ ពេញ នៅ ក្នុង ពិភព សិល្បៈ តារា សម...</td>\n",
       "    </tr>\n",
       "    <tr>\n",
       "      <th>1</th>\n",
       "      <td>52071</td>\n",
       "      <td>រាជធានីភ្នំពេញ ៖ ក្រុមតន្ត្រីថ្មីមួយដែលមានឈ្មោ...</td>\n",
       "      <td>រាជ ធានី ភ្នំ ពេញ ៖ ក្រុម តន្ត្រី ថ្មី មួយ ដែល...</td>\n",
       "      <td>សិល្បៈនិងវប្បធម៌</td>\n",
       "      <td>arts-and-culture</td>\n",
       "      <td>រាជ ធានី ភ្នំ ពេញ ក្រុម តន្ត្រី ថ្មី មួយ ដែល ម...</td>\n",
       "    </tr>\n",
       "    <tr>\n",
       "      <th>2</th>\n",
       "      <td>8906</td>\n",
       "      <td>រូបកាយយើងនេះញាំញីទៅដោយជំងឺដង្កាត់គ្រប់ប្រភេទ អ...</td>\n",
       "      <td>រូប កាយ យើង នេះ ញាំញី ទៅ ដោយ ជំងឺ ដង្កាត់ គ្រប...</td>\n",
       "      <td>សិល្បៈនិងវប្បធម៌</td>\n",
       "      <td>arts-and-culture</td>\n",
       "      <td>រូប កាយ យើង នេះ ញាំញី ទៅ ដោយ ជំងឺ ដង្កាត់ គ្រប...</td>\n",
       "    </tr>\n",
       "  </tbody>\n",
       "</table>\n",
       "</div>"
      ],
      "text/plain": [
       "      id  ...                                          text_prep\n",
       "0  45541  ...  រាជ ធានី ភ្នំ ពេញ នៅ ក្នុង ពិភព សិល្បៈ តារា សម...\n",
       "1  52071  ...  រាជ ធានី ភ្នំ ពេញ ក្រុម តន្ត្រី ថ្មី មួយ ដែល ម...\n",
       "2   8906  ...  រូប កាយ យើង នេះ ញាំញី ទៅ ដោយ ជំងឺ ដង្កាត់ គ្រប...\n",
       "\n",
       "[3 rows x 6 columns]"
      ]
     },
     "execution_count": 23,
     "metadata": {
      "tags": []
     },
     "output_type": "execute_result"
    }
   ],
   "source": [
    "data = pd.read_excel('/content/drive/news_classification_data_km.xlsx', encoding=\"UTF-8\")\n",
    "data.head(3)"
   ]
  },
  {
   "cell_type": "markdown",
   "metadata": {},
   "source": [
    "### Preprocessing"
   ]
  },
  {
   "cell_type": "code",
   "execution_count": null,
   "metadata": {},
   "outputs": [],
   "source": [
    "data['text_prep'] = data['tokenized_content'].apply(lambda x: ' '.join(re.sub(r'[០១២៣៤៥៦៧៨៩។៕៖ៗ៘៙៚]+', ' ', x).strip().split()))\n",
    "data.drop_duplicates(subset=['text_prep'], inplace=True)"
   ]
  },
  {
   "cell_type": "code",
   "execution_count": 24,
   "metadata": {
    "colab": {
     "base_uri": "https://localhost:8080/",
     "height": 35
    },
    "colab_type": "code",
    "executionInfo": {
     "elapsed": 1309,
     "status": "ok",
     "timestamp": 1598190935820,
     "user": {
      "displayName": "Md Rifatul Islam Rifat",
      "photoUrl": "",
      "userId": "17304548563437753137"
     },
     "user_tz": -360
    },
    "id": "x5K91Uwm-L7m",
    "outputId": "7f699cc3-eaf5-4ae9-f143-874be9333a0c"
   },
   "outputs": [
    {
     "data": {
      "text/plain": [
       "(7418, 6)"
      ]
     },
     "execution_count": 24,
     "metadata": {
      "tags": []
     },
     "output_type": "execute_result"
    }
   ],
   "source": [
    "data.shape"
   ]
  },
  {
   "cell_type": "code",
   "execution_count": 25,
   "metadata": {
    "colab": {},
    "colab_type": "code",
    "executionInfo": {
     "elapsed": 2672,
     "status": "ok",
     "timestamp": 1598190972908,
     "user": {
      "displayName": "Md Rifatul Islam Rifat",
      "photoUrl": "",
      "userId": "17304548563437753137"
     },
     "user_tz": -360
    },
    "id": "BQyKikGRdTmo"
   },
   "outputs": [],
   "source": [
    "data['texts_tokenized'] = data.text_prep.apply(lambda x: x.split())"
   ]
  },
  {
   "cell_type": "code",
   "execution_count": 26,
   "metadata": {
    "colab": {
     "base_uri": "https://localhost:8080/",
     "height": 181
    },
    "colab_type": "code",
    "executionInfo": {
     "elapsed": 1474,
     "status": "ok",
     "timestamp": 1598191000827,
     "user": {
      "displayName": "Md Rifatul Islam Rifat",
      "photoUrl": "",
      "userId": "17304548563437753137"
     },
     "user_tz": -360
    },
    "id": "y9s-VLw1m0mD",
    "outputId": "8e086948-03e2-4ba3-cc4a-38f92937f6b9"
   },
   "outputs": [
    {
     "data": {
      "text/plain": [
       "research              999\n",
       "health                999\n",
       "national-news         999\n",
       "international-news    999\n",
       "arts-and-culture      998\n",
       "service               994\n",
       "sports-news           769\n",
       "business              661\n",
       "Name: category_en, dtype: int64"
      ]
     },
     "execution_count": 26,
     "metadata": {
      "tags": []
     },
     "output_type": "execute_result"
    }
   ],
   "source": [
    "data['category_en'].value_counts()"
   ]
  },
  {
   "cell_type": "code",
   "execution_count": 27,
   "metadata": {
    "colab": {},
    "colab_type": "code",
    "executionInfo": {
     "elapsed": 1279,
     "status": "ok",
     "timestamp": 1598191010486,
     "user": {
      "displayName": "Md Rifatul Islam Rifat",
      "photoUrl": "",
      "userId": "17304548563437753137"
     },
     "user_tz": -360
    },
    "id": "mka5iETwm0ta"
   },
   "outputs": [],
   "source": [
    "## Encoding\n",
    "from sklearn.preprocessing import LabelEncoder\n",
    "le = LabelEncoder()\n",
    "data['label'] = le.fit_transform(data.loc[:, 'category_en'].copy().tolist())"
   ]
  },
  {
   "cell_type": "code",
   "execution_count": 28,
   "metadata": {
    "colab": {
     "base_uri": "https://localhost:8080/",
     "height": 288
    },
    "colab_type": "code",
    "executionInfo": {
     "elapsed": 1217,
     "status": "ok",
     "timestamp": 1598191021686,
     "user": {
      "displayName": "Md Rifatul Islam Rifat",
      "photoUrl": "",
      "userId": "17304548563437753137"
     },
     "user_tz": -360
    },
    "id": "NN8BNDCcm0pT",
    "outputId": "7a7d7876-ec30-44a1-eca9-b0f62585d8d9"
   },
   "outputs": [
    {
     "data": {
      "text/html": [
       "<div>\n",
       "<style scoped>\n",
       "    .dataframe tbody tr th:only-of-type {\n",
       "        vertical-align: middle;\n",
       "    }\n",
       "\n",
       "    .dataframe tbody tr th {\n",
       "        vertical-align: top;\n",
       "    }\n",
       "\n",
       "    .dataframe thead th {\n",
       "        text-align: right;\n",
       "    }\n",
       "</style>\n",
       "<table border=\"1\" class=\"dataframe\">\n",
       "  <thead>\n",
       "    <tr style=\"text-align: right;\">\n",
       "      <th></th>\n",
       "      <th>category_en</th>\n",
       "      <th>label</th>\n",
       "    </tr>\n",
       "  </thead>\n",
       "  <tbody>\n",
       "    <tr>\n",
       "      <th>0</th>\n",
       "      <td>arts-and-culture</td>\n",
       "      <td>0</td>\n",
       "    </tr>\n",
       "    <tr>\n",
       "      <th>1</th>\n",
       "      <td>business</td>\n",
       "      <td>1</td>\n",
       "    </tr>\n",
       "    <tr>\n",
       "      <th>2</th>\n",
       "      <td>health</td>\n",
       "      <td>2</td>\n",
       "    </tr>\n",
       "    <tr>\n",
       "      <th>3</th>\n",
       "      <td>international-news</td>\n",
       "      <td>3</td>\n",
       "    </tr>\n",
       "    <tr>\n",
       "      <th>4</th>\n",
       "      <td>national-news</td>\n",
       "      <td>4</td>\n",
       "    </tr>\n",
       "    <tr>\n",
       "      <th>5</th>\n",
       "      <td>research</td>\n",
       "      <td>5</td>\n",
       "    </tr>\n",
       "    <tr>\n",
       "      <th>6</th>\n",
       "      <td>service</td>\n",
       "      <td>6</td>\n",
       "    </tr>\n",
       "    <tr>\n",
       "      <th>7</th>\n",
       "      <td>sports-news</td>\n",
       "      <td>7</td>\n",
       "    </tr>\n",
       "  </tbody>\n",
       "</table>\n",
       "</div>"
      ],
      "text/plain": [
       "          category_en  label\n",
       "0    arts-and-culture      0\n",
       "1            business      1\n",
       "2              health      2\n",
       "3  international-news      3\n",
       "4       national-news      4\n",
       "5            research      5\n",
       "6             service      6\n",
       "7         sports-news      7"
      ]
     },
     "execution_count": 28,
     "metadata": {
      "tags": []
     },
     "output_type": "execute_result"
    }
   ],
   "source": [
    "data[['category_en', 'label']].drop_duplicates(subset=['category_en']).sort_values(by=['label']).reset_index(drop=True)"
   ]
  },
  {
   "cell_type": "code",
   "execution_count": 29,
   "metadata": {
    "colab": {
     "base_uri": "https://localhost:8080/",
     "height": 190
    },
    "colab_type": "code",
    "executionInfo": {
     "elapsed": 1513,
     "status": "ok",
     "timestamp": 1598191051545,
     "user": {
      "displayName": "Md Rifatul Islam Rifat",
      "photoUrl": "",
      "userId": "17304548563437753137"
     },
     "user_tz": -360
    },
    "id": "PJn-2M3ym7Hz",
    "outputId": "3c1c1f7f-6af0-4b4e-ecf4-4c156ebfb18e"
   },
   "outputs": [
    {
     "data": {
      "text/html": [
       "<div>\n",
       "<style scoped>\n",
       "    .dataframe tbody tr th:only-of-type {\n",
       "        vertical-align: middle;\n",
       "    }\n",
       "\n",
       "    .dataframe tbody tr th {\n",
       "        vertical-align: top;\n",
       "    }\n",
       "\n",
       "    .dataframe thead th {\n",
       "        text-align: right;\n",
       "    }\n",
       "</style>\n",
       "<table border=\"1\" class=\"dataframe\">\n",
       "  <thead>\n",
       "    <tr style=\"text-align: right;\">\n",
       "      <th></th>\n",
       "      <th>id</th>\n",
       "      <th>content</th>\n",
       "      <th>tokenized_content</th>\n",
       "      <th>category</th>\n",
       "      <th>category_en</th>\n",
       "      <th>text_prep</th>\n",
       "      <th>texts_tokenized</th>\n",
       "      <th>label</th>\n",
       "    </tr>\n",
       "  </thead>\n",
       "  <tbody>\n",
       "    <tr>\n",
       "      <th>0</th>\n",
       "      <td>45541</td>\n",
       "      <td>រាជធានីភ្នំពេញ ៖នៅក្នុងពិភពសិល្បៈតារាសម្តែងមួយ...</td>\n",
       "      <td>រាជ ធានី ភ្នំ ពេញ ៖ នៅ ក្នុង ពិភព សិល្បៈ តារា ...</td>\n",
       "      <td>សិល្បៈនិងវប្បធម៌</td>\n",
       "      <td>arts-and-culture</td>\n",
       "      <td>រាជ ធានី ភ្នំ ពេញ នៅ ក្នុង ពិភព សិល្បៈ តារា សម...</td>\n",
       "      <td>[រាជ, ធានី, ភ្នំ, ពេញ, នៅ, ក្នុង, ពិភព, សិល្បៈ...</td>\n",
       "      <td>0</td>\n",
       "    </tr>\n",
       "    <tr>\n",
       "      <th>1</th>\n",
       "      <td>52071</td>\n",
       "      <td>រាជធានីភ្នំពេញ ៖ ក្រុមតន្ត្រីថ្មីមួយដែលមានឈ្មោ...</td>\n",
       "      <td>រាជ ធានី ភ្នំ ពេញ ៖ ក្រុម តន្ត្រី ថ្មី មួយ ដែល...</td>\n",
       "      <td>សិល្បៈនិងវប្បធម៌</td>\n",
       "      <td>arts-and-culture</td>\n",
       "      <td>រាជ ធានី ភ្នំ ពេញ ក្រុម តន្ត្រី ថ្មី មួយ ដែល ម...</td>\n",
       "      <td>[រាជ, ធានី, ភ្នំ, ពេញ, ក្រុម, តន្ត្រី, ថ្មី, ម...</td>\n",
       "      <td>0</td>\n",
       "    </tr>\n",
       "    <tr>\n",
       "      <th>2</th>\n",
       "      <td>8906</td>\n",
       "      <td>រូបកាយយើងនេះញាំញីទៅដោយជំងឺដង្កាត់គ្រប់ប្រភេទ អ...</td>\n",
       "      <td>រូប កាយ យើង នេះ ញាំញី ទៅ ដោយ ជំងឺ ដង្កាត់ គ្រប...</td>\n",
       "      <td>សិល្បៈនិងវប្បធម៌</td>\n",
       "      <td>arts-and-culture</td>\n",
       "      <td>រូប កាយ យើង នេះ ញាំញី ទៅ ដោយ ជំងឺ ដង្កាត់ គ្រប...</td>\n",
       "      <td>[រូប, កាយ, យើង, នេះ, ញាំញី, ទៅ, ដោយ, ជំងឺ, ដង្...</td>\n",
       "      <td>0</td>\n",
       "    </tr>\n",
       "  </tbody>\n",
       "</table>\n",
       "</div>"
      ],
      "text/plain": [
       "      id  ... label\n",
       "0  45541  ...     0\n",
       "1  52071  ...     0\n",
       "2   8906  ...     0\n",
       "\n",
       "[3 rows x 8 columns]"
      ]
     },
     "execution_count": 29,
     "metadata": {
      "tags": []
     },
     "output_type": "execute_result"
    }
   ],
   "source": [
    "data.head(3)"
   ]
  },
  {
   "cell_type": "markdown",
   "metadata": {
    "colab_type": "text",
    "id": "Ij79VXKY-L7t"
   },
   "source": [
    "### Data Partitioning"
   ]
  },
  {
   "cell_type": "code",
   "execution_count": 53,
   "metadata": {
    "colab": {},
    "colab_type": "code",
    "executionInfo": {
     "elapsed": 1203,
     "status": "ok",
     "timestamp": 1598192692833,
     "user": {
      "displayName": "Md Rifatul Islam Rifat",
      "photoUrl": "",
      "userId": "17304548563437753137"
     },
     "user_tz": -360
    },
    "id": "SU3Swz4eedbX"
   },
   "outputs": [],
   "source": [
    "X = data['texts_tokenized']\n",
    "y = data['label']"
   ]
  },
  {
   "cell_type": "code",
   "execution_count": 54,
   "metadata": {
    "colab": {
     "base_uri": "https://localhost:8080/",
     "height": 72
    },
    "colab_type": "code",
    "executionInfo": {
     "elapsed": 1373,
     "status": "ok",
     "timestamp": 1598192695943,
     "user": {
      "displayName": "Md Rifatul Islam Rifat",
      "photoUrl": "",
      "userId": "17304548563437753137"
     },
     "user_tz": -360
    },
    "id": "pRozZVGC-L7t",
    "outputId": "08c18877-522e-41c1-8714-57ce72a56875"
   },
   "outputs": [
    {
     "name": "stdout",
     "output_type": "stream",
     "text": [
      "Training shape: 5192\n",
      "Validation shape: 1558\n",
      "Testing shape: 668\n"
     ]
    }
   ],
   "source": [
    "from sklearn.model_selection import train_test_split\n",
    "X_train, X_val, y_train, y_val = train_test_split(X, y, test_size=0.3, random_state=1234, shuffle=True, stratify=y)\n",
    "X_val, X_test, y_val, y_test = train_test_split(X_val, y_val, test_size=0.3, random_state=1234, shuffle=True, stratify=y_val)\n",
    "\n",
    "print(\"\"\"Training shape: {}\n",
    "Validation shape: {}\n",
    "Testing shape: {}\"\"\".format(X_train.shape[0], X_val.shape[0], X_test.shape[0]))"
   ]
  },
  {
   "cell_type": "markdown",
   "metadata": {
    "colab_type": "text",
    "id": "WMbQmY2C-L8L"
   },
   "source": [
    "### Load fastText pre-trained model"
   ]
  },
  {
   "cell_type": "code",
   "execution_count": 32,
   "metadata": {
    "colab": {},
    "colab_type": "code",
    "executionInfo": {
     "elapsed": 64734,
     "status": "ok",
     "timestamp": 1598191706121,
     "user": {
      "displayName": "Md Rifatul Islam Rifat",
      "photoUrl": "",
      "userId": "17304548563437753137"
     },
     "user_tz": -360
    },
    "id": "i6KTQlNs-L8L"
   },
   "outputs": [],
   "source": [
    "from gensim.models import KeyedVectors\n",
    "\n",
    "path = \"/content/drive/cc.km.300.vec\"\n",
    "fastText_model = KeyedVectors.load_word2vec_format(path, binary=False)"
   ]
  },
  {
   "cell_type": "code",
   "execution_count": 33,
   "metadata": {
    "colab": {
     "base_uri": "https://localhost:8080/",
     "height": 35
    },
    "colab_type": "code",
    "executionInfo": {
     "elapsed": 62928,
     "status": "ok",
     "timestamp": 1598191706122,
     "user": {
      "displayName": "Md Rifatul Islam Rifat",
      "photoUrl": "",
      "userId": "17304548563437753137"
     },
     "user_tz": -360
    },
    "id": "RmdrYpgQ-L8Q",
    "outputId": "5720d62d-970c-44ac-cfeb-5f3b1c01e020"
   },
   "outputs": [
    {
     "data": {
      "text/plain": [
       "242732"
      ]
     },
     "execution_count": 33,
     "metadata": {
      "tags": []
     },
     "output_type": "execute_result"
    }
   ],
   "source": [
    "len(fastText_model.vocab)"
   ]
  },
  {
   "cell_type": "code",
   "execution_count": 34,
   "metadata": {
    "colab": {
     "base_uri": "https://localhost:8080/",
     "height": 35
    },
    "colab_type": "code",
    "executionInfo": {
     "elapsed": 61485,
     "status": "ok",
     "timestamp": 1598191706123,
     "user": {
      "displayName": "Md Rifatul Islam Rifat",
      "photoUrl": "",
      "userId": "17304548563437753137"
     },
     "user_tz": -360
    },
    "id": "dnk--unv-L8S",
    "outputId": "2acdbd0e-97c0-40e4-c2b5-f33204b7d2b0",
    "scrolled": true
   },
   "outputs": [
    {
     "data": {
      "text/plain": [
       "300"
      ]
     },
     "execution_count": 34,
     "metadata": {
      "tags": []
     },
     "output_type": "execute_result"
    }
   ],
   "source": [
    "fastText_model.vector_size"
   ]
  },
  {
   "cell_type": "markdown",
   "metadata": {
    "colab_type": "text",
    "id": "wMIA82kC-L8T"
   },
   "source": [
    "### Feature Extraction"
   ]
  },
  {
   "cell_type": "code",
   "execution_count": 35,
   "metadata": {
    "colab": {},
    "colab_type": "code",
    "executionInfo": {
     "elapsed": 1291,
     "status": "ok",
     "timestamp": 1598191795491,
     "user": {
      "displayName": "Md Rifatul Islam Rifat",
      "photoUrl": "",
      "userId": "17304548563437753137"
     },
     "user_tz": -360
    },
    "id": "sEkP1tQ5-L8U"
   },
   "outputs": [],
   "source": [
    "def embedding_vectorizer(fastText_model, docs):\n",
    "    mean_vecs = []\n",
    "    for instance in docs:\n",
    "        vecs = []\n",
    "        for word in instance:\n",
    "            if word in fastText_model.vocab:\n",
    "                vecs.append(fastText_model[word])\n",
    "            else:\n",
    "                vecs.append(np.zeros(fastText_model.vector_size))\n",
    "                \n",
    "        mean_vecs.append(np.mean(vecs, axis=0))\n",
    "        \n",
    "    return mean_vecs"
   ]
  },
  {
   "cell_type": "code",
   "execution_count": 55,
   "metadata": {
    "colab": {
     "base_uri": "https://localhost:8080/",
     "height": 51
    },
    "colab_type": "code",
    "executionInfo": {
     "elapsed": 9773,
     "status": "ok",
     "timestamp": 1598192714904,
     "user": {
      "displayName": "Md Rifatul Islam Rifat",
      "photoUrl": "",
      "userId": "17304548563437753137"
     },
     "user_tz": -360
    },
    "id": "1uCvu8He-L8Y",
    "outputId": "9ded212c-4826-4d0e-9930-fbe97dce2cb3",
    "scrolled": true
   },
   "outputs": [
    {
     "name": "stdout",
     "output_type": "stream",
     "text": [
      "CPU times: user 8.34 s, sys: 141 ms, total: 8.49 s\n",
      "Wall time: 8.49 s\n"
     ]
    }
   ],
   "source": [
    "%%time\n",
    "x_train_vectorized = pd.DataFrame(embedding_vectorizer(fastText_model, X_train)).add_prefix('col_')\n",
    "x_val_vectorized = pd.DataFrame(embedding_vectorizer(fastText_model, X_val)).add_prefix('col_')\n",
    "x_test_vectorized = pd.DataFrame(embedding_vectorizer(fastText_model, X_test)).add_prefix('col_')"
   ]
  },
  {
   "cell_type": "markdown",
   "metadata": {
    "colab_type": "text",
    "id": "YR9U6sBk-L8d"
   },
   "source": [
    "### Model Architecture"
   ]
  },
  {
   "cell_type": "code",
   "execution_count": 37,
   "metadata": {
    "colab": {
     "base_uri": "https://localhost:8080/",
     "height": 34
    },
    "colab_type": "code",
    "executionInfo": {
     "elapsed": 7155,
     "status": "ok",
     "timestamp": 1598191908294,
     "user": {
      "displayName": "Md Rifatul Islam Rifat",
      "photoUrl": "",
      "userId": "17304548563437753137"
     },
     "user_tz": -360
    },
    "id": "0BYz0Mrt-L8e",
    "outputId": "60e1bacf-8268-4dfe-ec5d-f865fa0a02cd"
   },
   "outputs": [
    {
     "name": "stderr",
     "output_type": "stream",
     "text": [
      "Using TensorFlow backend.\n"
     ]
    }
   ],
   "source": [
    "import tensorflow as tf\n",
    "import random as rn\n",
    "\n",
    "from keras.models import Sequential\n",
    "from keras.layers import Dense, Dropout\n",
    "from keras.callbacks import History\n",
    "from keras.optimizers import Adam, SGD"
   ]
  },
  {
   "cell_type": "code",
   "execution_count": 56,
   "metadata": {
    "colab": {},
    "colab_type": "code",
    "executionInfo": {
     "elapsed": 1444,
     "status": "ok",
     "timestamp": 1598192720875,
     "user": {
      "displayName": "Md Rifatul Islam Rifat",
      "photoUrl": "",
      "userId": "17304548563437753137"
     },
     "user_tz": -360
    },
    "id": "FAoPNo-h-L8g"
   },
   "outputs": [],
   "source": [
    "from keras.utils import to_categorical\n",
    "\n",
    "y_train_k = to_categorical(y_train, num_classes=8)\n",
    "y_val_k = to_categorical(y_val, num_classes=8)\n",
    "y_test_k = to_categorical(y_test, num_classes=8)"
   ]
  },
  {
   "cell_type": "code",
   "execution_count": 58,
   "metadata": {
    "colab": {
     "base_uri": "https://localhost:8080/",
     "height": 1000
    },
    "colab_type": "code",
    "executionInfo": {
     "elapsed": 3798,
     "status": "ok",
     "timestamp": 1598192727083,
     "user": {
      "displayName": "Md Rifatul Islam Rifat",
      "photoUrl": "",
      "userId": "17304548563437753137"
     },
     "user_tz": -360
    },
    "id": "J_BidpXd-L8i",
    "outputId": "3cfa26e9-5585-4e84-cd0d-62578fbbadef",
    "scrolled": true
   },
   "outputs": [
    {
     "name": "stdout",
     "output_type": "stream",
     "text": [
      "Train on 5192 samples, validate on 1558 samples\n",
      "Epoch 1/30\n",
      "5192/5192 [==============================] - 0s 63us/step - loss: 2.0659 - accuracy: 0.1851 - val_loss: 2.0033 - val_accuracy: 0.3370\n",
      "Epoch 2/30\n",
      "5192/5192 [==============================] - 0s 7us/step - loss: 1.9847 - accuracy: 0.3760 - val_loss: 1.8969 - val_accuracy: 0.4949\n",
      "Epoch 3/30\n",
      "5192/5192 [==============================] - 0s 7us/step - loss: 1.8666 - accuracy: 0.5258 - val_loss: 1.7350 - val_accuracy: 0.5642\n",
      "Epoch 4/30\n",
      "5192/5192 [==============================] - 0s 7us/step - loss: 1.6928 - accuracy: 0.5697 - val_loss: 1.5149 - val_accuracy: 0.5809\n",
      "Epoch 5/30\n",
      "5192/5192 [==============================] - 0s 7us/step - loss: 1.4692 - accuracy: 0.5859 - val_loss: 1.3082 - val_accuracy: 0.5963\n",
      "Epoch 6/30\n",
      "5192/5192 [==============================] - 0s 7us/step - loss: 1.2689 - accuracy: 0.6115 - val_loss: 1.1551 - val_accuracy: 0.6476\n",
      "Epoch 7/30\n",
      "5192/5192 [==============================] - 0s 7us/step - loss: 1.1289 - accuracy: 0.6510 - val_loss: 1.0511 - val_accuracy: 0.6650\n",
      "Epoch 8/30\n",
      "5192/5192 [==============================] - 0s 7us/step - loss: 1.0361 - accuracy: 0.6706 - val_loss: 0.9831 - val_accuracy: 0.6836\n",
      "Epoch 9/30\n",
      "5192/5192 [==============================] - 0s 7us/step - loss: 0.9705 - accuracy: 0.6836 - val_loss: 0.9274 - val_accuracy: 0.7022\n",
      "Epoch 10/30\n",
      "5192/5192 [==============================] - 0s 7us/step - loss: 0.9077 - accuracy: 0.7047 - val_loss: 0.8735 - val_accuracy: 0.7169\n",
      "Epoch 11/30\n",
      "5192/5192 [==============================] - 0s 7us/step - loss: 0.8436 - accuracy: 0.7155 - val_loss: 0.8287 - val_accuracy: 0.7259\n",
      "Epoch 12/30\n",
      "5192/5192 [==============================] - 0s 9us/step - loss: 0.7960 - accuracy: 0.7263 - val_loss: 0.7909 - val_accuracy: 0.7368\n",
      "Epoch 13/30\n",
      "5192/5192 [==============================] - 0s 7us/step - loss: 0.7536 - accuracy: 0.7332 - val_loss: 0.7664 - val_accuracy: 0.7349\n",
      "Epoch 14/30\n",
      "5192/5192 [==============================] - 0s 7us/step - loss: 0.7186 - accuracy: 0.7483 - val_loss: 0.7544 - val_accuracy: 0.7407\n",
      "Epoch 15/30\n",
      "5192/5192 [==============================] - 0s 7us/step - loss: 0.6931 - accuracy: 0.7573 - val_loss: 0.7475 - val_accuracy: 0.7375\n",
      "Epoch 16/30\n",
      "5192/5192 [==============================] - 0s 7us/step - loss: 0.6758 - accuracy: 0.7629 - val_loss: 0.7117 - val_accuracy: 0.7567\n",
      "Epoch 17/30\n",
      "5192/5192 [==============================] - 0s 7us/step - loss: 0.6573 - accuracy: 0.7702 - val_loss: 0.6997 - val_accuracy: 0.7632\n",
      "Epoch 18/30\n",
      "5192/5192 [==============================] - 0s 7us/step - loss: 0.6357 - accuracy: 0.7789 - val_loss: 0.6653 - val_accuracy: 0.7754\n",
      "Epoch 19/30\n",
      "5192/5192 [==============================] - 0s 7us/step - loss: 0.6077 - accuracy: 0.7931 - val_loss: 0.6456 - val_accuracy: 0.7831\n",
      "Epoch 20/30\n",
      "5192/5192 [==============================] - 0s 7us/step - loss: 0.5907 - accuracy: 0.7955 - val_loss: 0.6368 - val_accuracy: 0.7863\n",
      "Epoch 21/30\n",
      "5192/5192 [==============================] - 0s 7us/step - loss: 0.5774 - accuracy: 0.8010 - val_loss: 0.6225 - val_accuracy: 0.7908\n",
      "Epoch 22/30\n",
      "5192/5192 [==============================] - 0s 8us/step - loss: 0.5644 - accuracy: 0.8134 - val_loss: 0.6273 - val_accuracy: 0.7875\n",
      "Epoch 23/30\n",
      "5192/5192 [==============================] - 0s 7us/step - loss: 0.5535 - accuracy: 0.8093 - val_loss: 0.6040 - val_accuracy: 0.7908\n",
      "Epoch 24/30\n",
      "5192/5192 [==============================] - 0s 7us/step - loss: 0.5479 - accuracy: 0.8138 - val_loss: 0.6033 - val_accuracy: 0.7965\n",
      "Epoch 25/30\n",
      "5192/5192 [==============================] - 0s 7us/step - loss: 0.5397 - accuracy: 0.8145 - val_loss: 0.5842 - val_accuracy: 0.8010\n",
      "Epoch 26/30\n",
      "5192/5192 [==============================] - 0s 7us/step - loss: 0.5302 - accuracy: 0.8197 - val_loss: 0.5784 - val_accuracy: 0.8100\n",
      "Epoch 27/30\n",
      "5192/5192 [==============================] - 0s 7us/step - loss: 0.5217 - accuracy: 0.8222 - val_loss: 0.5724 - val_accuracy: 0.8126\n",
      "Epoch 28/30\n",
      "5192/5192 [==============================] - 0s 7us/step - loss: 0.5109 - accuracy: 0.8288 - val_loss: 0.5697 - val_accuracy: 0.8068\n",
      "Epoch 29/30\n",
      "5192/5192 [==============================] - 0s 7us/step - loss: 0.5051 - accuracy: 0.8297 - val_loss: 0.5780 - val_accuracy: 0.8036\n",
      "Epoch 30/30\n",
      "5192/5192 [==============================] - 0s 8us/step - loss: 0.5076 - accuracy: 0.8263 - val_loss: 0.5589 - val_accuracy: 0.8145\n"
     ]
    },
    {
     "data": {
      "text/plain": [
       "<keras.callbacks.callbacks.History at 0x7f1502c17a90>"
      ]
     },
     "execution_count": 58,
     "metadata": {
      "tags": []
     },
     "output_type": "execute_result"
    }
   ],
   "source": [
    "np.random.seed(2)\n",
    "rn.seed(3)\n",
    "history = History()\n",
    "\n",
    "model = Sequential()\n",
    "model.add(Dense(1024, input_dim=300, activation=\"tanh\"))\n",
    "# model.add(Dropout(0.1))\n",
    "model.add(Dense(512, activation=\"tanh\"))\n",
    "model.add(Dropout(0.1))\n",
    "model.add(Dense(256, activation=\"tanh\"))\n",
    "model.add(Dropout(0.1))\n",
    "model.add(Dense(128, activation=\"tanh\"))\n",
    "model.add(Dropout(0.1))\n",
    "model.add(Dense(8, activation=\"softmax\"))\n",
    "\n",
    "model.compile(optimizer=Adam(0.001), loss=\"categorical_crossentropy\", metrics=['accuracy'])\n",
    "\n",
    "model.fit(np.array(x_train_vectorized), np.array(y_train_k), \n",
    "          validation_data=(np.array(x_val_vectorized), np.array(y_val_k)), \n",
    "          epochs=30, \n",
    "          batch_size=3000, \n",
    "          shuffle=True, \n",
    "          callbacks=[history], \n",
    "          verbose=True)"
   ]
  },
  {
   "cell_type": "code",
   "execution_count": 81,
   "metadata": {
    "colab": {},
    "colab_type": "code",
    "executionInfo": {
     "elapsed": 1146,
     "status": "ok",
     "timestamp": 1598194815788,
     "user": {
      "displayName": "Md Rifatul Islam Rifat",
      "photoUrl": "",
      "userId": "17304548563437753137"
     },
     "user_tz": -360
    },
    "id": "5xfW-h7UuuiK"
   },
   "outputs": [],
   "source": [
    "## for learning curve\n",
    "his_train_loss = history.history['loss']\n",
    "his_val_loss = history.history['val_loss']"
   ]
  },
  {
   "cell_type": "code",
   "execution_count": 85,
   "metadata": {
    "colab": {
     "base_uri": "https://localhost:8080/",
     "height": 293
    },
    "colab_type": "code",
    "executionInfo": {
     "elapsed": 2400,
     "status": "ok",
     "timestamp": 1598194990847,
     "user": {
      "displayName": "Md Rifatul Islam Rifat",
      "photoUrl": "",
      "userId": "17304548563437753137"
     },
     "user_tz": -360
    },
    "id": "lYgNnWzV1eWi",
    "outputId": "6e2aa7e8-3120-42ed-f3be-1efb70eeff14"
   },
   "outputs": [
    {
     "data": {
      "image/png": "[encoded data removed]",
      "text/plain": [
       "<Figure size 576x288 with 1 Axes>"
      ]
     },
     "metadata": {
      "tags": []
     },
     "output_type": "display_data"
    }
   ],
   "source": [
    "## Plot learning curve\n",
    "import matplotlib.pyplot as plt\n",
    "sns.set()\n",
    "fig, ax = plt.subplots(figsize=(8,4))\n",
    "plt.plot(his_train_loss,'darkorange')\n",
    "plt.plot(his_val_loss, 'seagreen')\n",
    "\n",
    "plt.title(\"Loss vs Epochs\", fontdict={'fontsize': 12})\n",
    "plt.ylabel('Loss')\n",
    "plt.xlabel('Epochs')\n",
    "\n",
    "plt.legend(['Train', 'Validation'], loc='upper right')\n",
    "plt.tight_layout()\n",
    "plt.savefig(\"news_loss_vs_epochs_fastText.jpg\", dpi=300, bbox_inches='tight')\n",
    "plt.show()"
   ]
  },
  {
   "cell_type": "code",
   "execution_count": 87,
   "metadata": {
    "colab": {},
    "colab_type": "code",
    "executionInfo": {
     "elapsed": 2179,
     "status": "ok",
     "timestamp": 1598195114664,
     "user": {
      "displayName": "Md Rifatul Islam Rifat",
      "photoUrl": "",
      "userId": "17304548563437753137"
     },
     "user_tz": -360
    },
    "id": "Jm3Zz4lZ-L8n"
   },
   "outputs": [],
   "source": [
    "loss, test_accuracy = model.evaluate(np.array(x_test_vectorized), np.array(y_test_k), verbose=0)"
   ]
  },
  {
   "cell_type": "code",
   "execution_count": 89,
   "metadata": {
    "colab": {
     "base_uri": "https://localhost:8080/",
     "height": 142
    },
    "colab_type": "code",
    "executionInfo": {
     "elapsed": 2707,
     "status": "ok",
     "timestamp": 1598195123958,
     "user": {
      "displayName": "Md Rifatul Islam Rifat",
      "photoUrl": "",
      "userId": "17304548563437753137"
     },
     "user_tz": -360
    },
    "id": "gVv6-H2g-L8p",
    "outputId": "6be1345a-3c01-4812-9f91-c8d07ed065a7",
    "scrolled": true
   },
   "outputs": [
    {
     "data": {
      "text/html": [
       "<div>\n",
       "<style scoped>\n",
       "    .dataframe tbody tr th:only-of-type {\n",
       "        vertical-align: middle;\n",
       "    }\n",
       "\n",
       "    .dataframe tbody tr th {\n",
       "        vertical-align: top;\n",
       "    }\n",
       "\n",
       "    .dataframe thead th {\n",
       "        text-align: right;\n",
       "    }\n",
       "</style>\n",
       "<table border=\"1\" class=\"dataframe\">\n",
       "  <thead>\n",
       "    <tr style=\"text-align: right;\">\n",
       "      <th></th>\n",
       "      <th>Accuracy</th>\n",
       "    </tr>\n",
       "  </thead>\n",
       "  <tbody>\n",
       "    <tr>\n",
       "      <th>Training</th>\n",
       "      <td>0.826</td>\n",
       "    </tr>\n",
       "    <tr>\n",
       "      <th>Validation</th>\n",
       "      <td>0.815</td>\n",
       "    </tr>\n",
       "    <tr>\n",
       "      <th>Test</th>\n",
       "      <td>0.832</td>\n",
       "    </tr>\n",
       "  </tbody>\n",
       "</table>\n",
       "</div>"
      ],
      "text/plain": [
       "            Accuracy\n",
       "Training       0.826\n",
       "Validation     0.815\n",
       "Test           0.832"
      ]
     },
     "execution_count": 89,
     "metadata": {
      "tags": []
     },
     "output_type": "execute_result"
    }
   ],
   "source": [
    "train_accuracy = history.history['accuracy'][-1]\n",
    "val_accuracy = history.history['val_accuracy'][-1]\n",
    "\n",
    "accuracy_table = pd.DataFrame([round(train_accuracy, 3), round(val_accuracy, 3), round(test_accuracy, 3)], \n",
    "             index=['Training', 'Validation', 'Test'], \n",
    "             columns=['Accuracy'])\n",
    "accuracy_table"
   ]
  },
  {
   "cell_type": "markdown",
   "metadata": {},
   "source": [
    "### Prediction"
   ]
  },
  {
   "cell_type": "code",
   "execution_count": 90,
   "metadata": {
    "colab": {},
    "colab_type": "code",
    "executionInfo": {
     "elapsed": 1415,
     "status": "ok",
     "timestamp": 1598195364488,
     "user": {
      "displayName": "Md Rifatul Islam Rifat",
      "photoUrl": "",
      "userId": "17304548563437753137"
     },
     "user_tz": -360
    },
    "id": "WrT4kbs8WCZQ"
   },
   "outputs": [],
   "source": [
    "from sklearn.metrics import accuracy_score\n",
    "from sklearn.metrics import confusion_matrix\n",
    "from sklearn.metrics import classification_report"
   ]
  },
  {
   "cell_type": "code",
   "execution_count": 92,
   "metadata": {
    "colab": {
     "base_uri": "https://localhost:8080/",
     "height": 34
    },
    "colab_type": "code",
    "executionInfo": {
     "elapsed": 1476,
     "status": "ok",
     "timestamp": 1598195438970,
     "user": {
      "displayName": "Md Rifatul Islam Rifat",
      "photoUrl": "",
      "userId": "17304548563437753137"
     },
     "user_tz": -360
    },
    "id": "-SDWP0iW3X6b",
    "outputId": "703ffae8-8a64-4707-bf13-4fc19f9eb1eb"
   },
   "outputs": [
    {
     "name": "stdout",
     "output_type": "stream",
     "text": [
      "Test Accuracy: 0.83\n"
     ]
    }
   ],
   "source": [
    "y_pred = model.predict(np.array(x_test_vectorized))\n",
    "ac = accuracy_score(y_test_k.argmax(axis=1), y_pred.argmax(axis=1))\n",
    "print(\"Test Accuracy:\", round(ac, 2))"
   ]
  },
  {
   "cell_type": "code",
   "execution_count": null,
   "metadata": {
    "colab": {
     "base_uri": "https://localhost:8080/",
     "height": 153
    },
    "colab_type": "code",
    "executionInfo": {
     "elapsed": 1406,
     "status": "ok",
     "timestamp": 1598195451319,
     "user": {
      "displayName": "Md Rifatul Islam Rifat",
      "photoUrl": "",
      "userId": "17304548563437753137"
     },
     "user_tz": -360
    },
    "id": "CHLjnNWn3YFW",
    "outputId": "eaafedf8-b54c-4ad0-c797-182fa379f54f"
   },
   "outputs": [],
   "source": [
    "## generate confusion matrix\n",
    "cm = confusion_matrix(y_test_k.argmax(axis=1), y_pred.argmax(axis=1))"
   ]
  },
  {
   "cell_type": "code",
   "execution_count": 94,
   "metadata": {
    "colab": {
     "base_uri": "https://localhost:8080/",
     "height": 246
    },
    "colab_type": "code",
    "executionInfo": {
     "elapsed": 1320,
     "status": "ok",
     "timestamp": 1598195459766,
     "user": {
      "displayName": "Md Rifatul Islam Rifat",
      "photoUrl": "",
      "userId": "17304548563437753137"
     },
     "user_tz": -360
    },
    "id": "dCT0W6aB3X-V",
    "outputId": "bc26352b-acde-4ba4-fb59-604c0df9c058"
   },
   "outputs": [
    {
     "name": "stdout",
     "output_type": "stream",
     "text": [
      "Confusion Matrix: \n"
     ]
    },
    {
     "data": {
      "text/html": [
       "<style  type=\"text/css\" >\n",
       "    #T_d957b176_e552_11ea_8d4d_0242ac1c0002row0_col0 {\n",
       "            background-color:  skyblue;\n",
       "            color:  black;\n",
       "        }    #T_d957b176_e552_11ea_8d4d_0242ac1c0002row0_col1 {\n",
       "            background-color:  skyblue;\n",
       "            color:  black;\n",
       "        }    #T_d957b176_e552_11ea_8d4d_0242ac1c0002row0_col2 {\n",
       "            background-color:  skyblue;\n",
       "            color:  black;\n",
       "        }    #T_d957b176_e552_11ea_8d4d_0242ac1c0002row0_col3 {\n",
       "            background-color:  skyblue;\n",
       "            color:  black;\n",
       "        }    #T_d957b176_e552_11ea_8d4d_0242ac1c0002row0_col4 {\n",
       "            background-color:  skyblue;\n",
       "            color:  black;\n",
       "        }    #T_d957b176_e552_11ea_8d4d_0242ac1c0002row0_col5 {\n",
       "            background-color:  skyblue;\n",
       "            color:  black;\n",
       "        }    #T_d957b176_e552_11ea_8d4d_0242ac1c0002row0_col6 {\n",
       "            background-color:  skyblue;\n",
       "            color:  black;\n",
       "        }    #T_d957b176_e552_11ea_8d4d_0242ac1c0002row0_col7 {\n",
       "            background-color:  skyblue;\n",
       "            color:  black;\n",
       "        }    #T_d957b176_e552_11ea_8d4d_0242ac1c0002row1_col0 {\n",
       "            background-color:  skyblue;\n",
       "            color:  black;\n",
       "        }    #T_d957b176_e552_11ea_8d4d_0242ac1c0002row1_col1 {\n",
       "            background-color:  skyblue;\n",
       "            color:  black;\n",
       "        }    #T_d957b176_e552_11ea_8d4d_0242ac1c0002row1_col2 {\n",
       "            background-color:  skyblue;\n",
       "            color:  black;\n",
       "        }    #T_d957b176_e552_11ea_8d4d_0242ac1c0002row1_col3 {\n",
       "            background-color:  skyblue;\n",
       "            color:  black;\n",
       "        }    #T_d957b176_e552_11ea_8d4d_0242ac1c0002row1_col4 {\n",
       "            background-color:  skyblue;\n",
       "            color:  black;\n",
       "        }    #T_d957b176_e552_11ea_8d4d_0242ac1c0002row1_col5 {\n",
       "            background-color:  skyblue;\n",
       "            color:  black;\n",
       "        }    #T_d957b176_e552_11ea_8d4d_0242ac1c0002row1_col6 {\n",
       "            background-color:  skyblue;\n",
       "            color:  black;\n",
       "        }    #T_d957b176_e552_11ea_8d4d_0242ac1c0002row1_col7 {\n",
       "            background-color:  skyblue;\n",
       "            color:  black;\n",
       "        }    #T_d957b176_e552_11ea_8d4d_0242ac1c0002row2_col0 {\n",
       "            background-color:  skyblue;\n",
       "            color:  black;\n",
       "        }    #T_d957b176_e552_11ea_8d4d_0242ac1c0002row2_col1 {\n",
       "            background-color:  skyblue;\n",
       "            color:  black;\n",
       "        }    #T_d957b176_e552_11ea_8d4d_0242ac1c0002row2_col2 {\n",
       "            background-color:  skyblue;\n",
       "            color:  black;\n",
       "        }    #T_d957b176_e552_11ea_8d4d_0242ac1c0002row2_col3 {\n",
       "            background-color:  skyblue;\n",
       "            color:  black;\n",
       "        }    #T_d957b176_e552_11ea_8d4d_0242ac1c0002row2_col4 {\n",
       "            background-color:  skyblue;\n",
       "            color:  black;\n",
       "        }    #T_d957b176_e552_11ea_8d4d_0242ac1c0002row2_col5 {\n",
       "            background-color:  skyblue;\n",
       "            color:  black;\n",
       "        }    #T_d957b176_e552_11ea_8d4d_0242ac1c0002row2_col6 {\n",
       "            background-color:  skyblue;\n",
       "            color:  black;\n",
       "        }    #T_d957b176_e552_11ea_8d4d_0242ac1c0002row2_col7 {\n",
       "            background-color:  skyblue;\n",
       "            color:  black;\n",
       "        }    #T_d957b176_e552_11ea_8d4d_0242ac1c0002row3_col0 {\n",
       "            background-color:  skyblue;\n",
       "            color:  black;\n",
       "        }    #T_d957b176_e552_11ea_8d4d_0242ac1c0002row3_col1 {\n",
       "            background-color:  skyblue;\n",
       "            color:  black;\n",
       "        }    #T_d957b176_e552_11ea_8d4d_0242ac1c0002row3_col2 {\n",
       "            background-color:  skyblue;\n",
       "            color:  black;\n",
       "        }    #T_d957b176_e552_11ea_8d4d_0242ac1c0002row3_col3 {\n",
       "            background-color:  skyblue;\n",
       "            color:  black;\n",
       "        }    #T_d957b176_e552_11ea_8d4d_0242ac1c0002row3_col4 {\n",
       "            background-color:  skyblue;\n",
       "            color:  black;\n",
       "        }    #T_d957b176_e552_11ea_8d4d_0242ac1c0002row3_col5 {\n",
       "            background-color:  skyblue;\n",
       "            color:  black;\n",
       "        }    #T_d957b176_e552_11ea_8d4d_0242ac1c0002row3_col6 {\n",
       "            background-color:  skyblue;\n",
       "            color:  black;\n",
       "        }    #T_d957b176_e552_11ea_8d4d_0242ac1c0002row3_col7 {\n",
       "            background-color:  skyblue;\n",
       "            color:  black;\n",
       "        }    #T_d957b176_e552_11ea_8d4d_0242ac1c0002row4_col0 {\n",
       "            background-color:  skyblue;\n",
       "            color:  black;\n",
       "        }    #T_d957b176_e552_11ea_8d4d_0242ac1c0002row4_col1 {\n",
       "            background-color:  skyblue;\n",
       "            color:  black;\n",
       "        }    #T_d957b176_e552_11ea_8d4d_0242ac1c0002row4_col2 {\n",
       "            background-color:  skyblue;\n",
       "            color:  black;\n",
       "        }    #T_d957b176_e552_11ea_8d4d_0242ac1c0002row4_col3 {\n",
       "            background-color:  skyblue;\n",
       "            color:  black;\n",
       "        }    #T_d957b176_e552_11ea_8d4d_0242ac1c0002row4_col4 {\n",
       "            background-color:  skyblue;\n",
       "            color:  black;\n",
       "        }    #T_d957b176_e552_11ea_8d4d_0242ac1c0002row4_col5 {\n",
       "            background-color:  skyblue;\n",
       "            color:  black;\n",
       "        }    #T_d957b176_e552_11ea_8d4d_0242ac1c0002row4_col6 {\n",
       "            background-color:  skyblue;\n",
       "            color:  black;\n",
       "        }    #T_d957b176_e552_11ea_8d4d_0242ac1c0002row4_col7 {\n",
       "            background-color:  skyblue;\n",
       "            color:  black;\n",
       "        }    #T_d957b176_e552_11ea_8d4d_0242ac1c0002row5_col0 {\n",
       "            background-color:  skyblue;\n",
       "            color:  black;\n",
       "        }    #T_d957b176_e552_11ea_8d4d_0242ac1c0002row5_col1 {\n",
       "            background-color:  skyblue;\n",
       "            color:  black;\n",
       "        }    #T_d957b176_e552_11ea_8d4d_0242ac1c0002row5_col2 {\n",
       "            background-color:  skyblue;\n",
       "            color:  black;\n",
       "        }    #T_d957b176_e552_11ea_8d4d_0242ac1c0002row5_col3 {\n",
       "            background-color:  skyblue;\n",
       "            color:  black;\n",
       "        }    #T_d957b176_e552_11ea_8d4d_0242ac1c0002row5_col4 {\n",
       "            background-color:  skyblue;\n",
       "            color:  black;\n",
       "        }    #T_d957b176_e552_11ea_8d4d_0242ac1c0002row5_col5 {\n",
       "            background-color:  skyblue;\n",
       "            color:  black;\n",
       "        }    #T_d957b176_e552_11ea_8d4d_0242ac1c0002row5_col6 {\n",
       "            background-color:  skyblue;\n",
       "            color:  black;\n",
       "        }    #T_d957b176_e552_11ea_8d4d_0242ac1c0002row5_col7 {\n",
       "            background-color:  skyblue;\n",
       "            color:  black;\n",
       "        }    #T_d957b176_e552_11ea_8d4d_0242ac1c0002row6_col0 {\n",
       "            background-color:  skyblue;\n",
       "            color:  black;\n",
       "        }    #T_d957b176_e552_11ea_8d4d_0242ac1c0002row6_col1 {\n",
       "            background-color:  skyblue;\n",
       "            color:  black;\n",
       "        }    #T_d957b176_e552_11ea_8d4d_0242ac1c0002row6_col2 {\n",
       "            background-color:  skyblue;\n",
       "            color:  black;\n",
       "        }    #T_d957b176_e552_11ea_8d4d_0242ac1c0002row6_col3 {\n",
       "            background-color:  skyblue;\n",
       "            color:  black;\n",
       "        }    #T_d957b176_e552_11ea_8d4d_0242ac1c0002row6_col4 {\n",
       "            background-color:  skyblue;\n",
       "            color:  black;\n",
       "        }    #T_d957b176_e552_11ea_8d4d_0242ac1c0002row6_col5 {\n",
       "            background-color:  skyblue;\n",
       "            color:  black;\n",
       "        }    #T_d957b176_e552_11ea_8d4d_0242ac1c0002row6_col6 {\n",
       "            background-color:  skyblue;\n",
       "            color:  black;\n",
       "        }    #T_d957b176_e552_11ea_8d4d_0242ac1c0002row6_col7 {\n",
       "            background-color:  skyblue;\n",
       "            color:  black;\n",
       "        }    #T_d957b176_e552_11ea_8d4d_0242ac1c0002row7_col0 {\n",
       "            background-color:  skyblue;\n",
       "            color:  black;\n",
       "        }    #T_d957b176_e552_11ea_8d4d_0242ac1c0002row7_col1 {\n",
       "            background-color:  skyblue;\n",
       "            color:  black;\n",
       "        }    #T_d957b176_e552_11ea_8d4d_0242ac1c0002row7_col2 {\n",
       "            background-color:  skyblue;\n",
       "            color:  black;\n",
       "        }    #T_d957b176_e552_11ea_8d4d_0242ac1c0002row7_col3 {\n",
       "            background-color:  skyblue;\n",
       "            color:  black;\n",
       "        }    #T_d957b176_e552_11ea_8d4d_0242ac1c0002row7_col4 {\n",
       "            background-color:  skyblue;\n",
       "            color:  black;\n",
       "        }    #T_d957b176_e552_11ea_8d4d_0242ac1c0002row7_col5 {\n",
       "            background-color:  skyblue;\n",
       "            color:  black;\n",
       "        }    #T_d957b176_e552_11ea_8d4d_0242ac1c0002row7_col6 {\n",
       "            background-color:  skyblue;\n",
       "            color:  black;\n",
       "        }    #T_d957b176_e552_11ea_8d4d_0242ac1c0002row7_col7 {\n",
       "            background-color:  skyblue;\n",
       "            color:  black;\n",
       "        }</style><table id=\"T_d957b176_e552_11ea_8d4d_0242ac1c0002\" ><thead>    <tr>        <th class=\"blank\" ></th>        <th class=\"blank level0\" ></th>        <th class=\"col_heading level0 col0\" colspan=8>Predicted</th>    </tr>    <tr>        <th class=\"blank\" ></th>        <th class=\"blank level1\" ></th>        <th class=\"col_heading level1 col0\" >arts-and-culture</th>        <th class=\"col_heading level1 col1\" >business</th>        <th class=\"col_heading level1 col2\" >health</th>        <th class=\"col_heading level1 col3\" >international-news</th>        <th class=\"col_heading level1 col4\" >national-news</th>        <th class=\"col_heading level1 col5\" >research</th>        <th class=\"col_heading level1 col6\" >service</th>        <th class=\"col_heading level1 col7\" >sports-news</th>    </tr></thead><tbody>\n",
       "                <tr>\n",
       "                        <th id=\"T_d957b176_e552_11ea_8d4d_0242ac1c0002level0_row0\" class=\"row_heading level0 row0\" rowspan=8>Actual</th>\n",
       "                        <th id=\"T_d957b176_e552_11ea_8d4d_0242ac1c0002level1_row0\" class=\"row_heading level1 row0\" >arts-and-culture</th>\n",
       "                        <td id=\"T_d957b176_e552_11ea_8d4d_0242ac1c0002row0_col0\" class=\"data row0 col0\" >84</td>\n",
       "                        <td id=\"T_d957b176_e552_11ea_8d4d_0242ac1c0002row0_col1\" class=\"data row0 col1\" >0</td>\n",
       "                        <td id=\"T_d957b176_e552_11ea_8d4d_0242ac1c0002row0_col2\" class=\"data row0 col2\" >0</td>\n",
       "                        <td id=\"T_d957b176_e552_11ea_8d4d_0242ac1c0002row0_col3\" class=\"data row0 col3\" >1</td>\n",
       "                        <td id=\"T_d957b176_e552_11ea_8d4d_0242ac1c0002row0_col4\" class=\"data row0 col4\" >2</td>\n",
       "                        <td id=\"T_d957b176_e552_11ea_8d4d_0242ac1c0002row0_col5\" class=\"data row0 col5\" >0</td>\n",
       "                        <td id=\"T_d957b176_e552_11ea_8d4d_0242ac1c0002row0_col6\" class=\"data row0 col6\" >3</td>\n",
       "                        <td id=\"T_d957b176_e552_11ea_8d4d_0242ac1c0002row0_col7\" class=\"data row0 col7\" >0</td>\n",
       "            </tr>\n",
       "            <tr>\n",
       "                                <th id=\"T_d957b176_e552_11ea_8d4d_0242ac1c0002level1_row1\" class=\"row_heading level1 row1\" >business</th>\n",
       "                        <td id=\"T_d957b176_e552_11ea_8d4d_0242ac1c0002row1_col0\" class=\"data row1 col0\" >0</td>\n",
       "                        <td id=\"T_d957b176_e552_11ea_8d4d_0242ac1c0002row1_col1\" class=\"data row1 col1\" >39</td>\n",
       "                        <td id=\"T_d957b176_e552_11ea_8d4d_0242ac1c0002row1_col2\" class=\"data row1 col2\" >0</td>\n",
       "                        <td id=\"T_d957b176_e552_11ea_8d4d_0242ac1c0002row1_col3\" class=\"data row1 col3\" >9</td>\n",
       "                        <td id=\"T_d957b176_e552_11ea_8d4d_0242ac1c0002row1_col4\" class=\"data row1 col4\" >5</td>\n",
       "                        <td id=\"T_d957b176_e552_11ea_8d4d_0242ac1c0002row1_col5\" class=\"data row1 col5\" >5</td>\n",
       "                        <td id=\"T_d957b176_e552_11ea_8d4d_0242ac1c0002row1_col6\" class=\"data row1 col6\" >1</td>\n",
       "                        <td id=\"T_d957b176_e552_11ea_8d4d_0242ac1c0002row1_col7\" class=\"data row1 col7\" >0</td>\n",
       "            </tr>\n",
       "            <tr>\n",
       "                                <th id=\"T_d957b176_e552_11ea_8d4d_0242ac1c0002level1_row2\" class=\"row_heading level1 row2\" >health</th>\n",
       "                        <td id=\"T_d957b176_e552_11ea_8d4d_0242ac1c0002row2_col0\" class=\"data row2 col0\" >1</td>\n",
       "                        <td id=\"T_d957b176_e552_11ea_8d4d_0242ac1c0002row2_col1\" class=\"data row2 col1\" >0</td>\n",
       "                        <td id=\"T_d957b176_e552_11ea_8d4d_0242ac1c0002row2_col2\" class=\"data row2 col2\" >81</td>\n",
       "                        <td id=\"T_d957b176_e552_11ea_8d4d_0242ac1c0002row2_col3\" class=\"data row2 col3\" >0</td>\n",
       "                        <td id=\"T_d957b176_e552_11ea_8d4d_0242ac1c0002row2_col4\" class=\"data row2 col4\" >2</td>\n",
       "                        <td id=\"T_d957b176_e552_11ea_8d4d_0242ac1c0002row2_col5\" class=\"data row2 col5\" >6</td>\n",
       "                        <td id=\"T_d957b176_e552_11ea_8d4d_0242ac1c0002row2_col6\" class=\"data row2 col6\" >0</td>\n",
       "                        <td id=\"T_d957b176_e552_11ea_8d4d_0242ac1c0002row2_col7\" class=\"data row2 col7\" >0</td>\n",
       "            </tr>\n",
       "            <tr>\n",
       "                                <th id=\"T_d957b176_e552_11ea_8d4d_0242ac1c0002level1_row3\" class=\"row_heading level1 row3\" >international-news</th>\n",
       "                        <td id=\"T_d957b176_e552_11ea_8d4d_0242ac1c0002row3_col0\" class=\"data row3 col0\" >1</td>\n",
       "                        <td id=\"T_d957b176_e552_11ea_8d4d_0242ac1c0002row3_col1\" class=\"data row3 col1\" >1</td>\n",
       "                        <td id=\"T_d957b176_e552_11ea_8d4d_0242ac1c0002row3_col2\" class=\"data row3 col2\" >1</td>\n",
       "                        <td id=\"T_d957b176_e552_11ea_8d4d_0242ac1c0002row3_col3\" class=\"data row3 col3\" >75</td>\n",
       "                        <td id=\"T_d957b176_e552_11ea_8d4d_0242ac1c0002row3_col4\" class=\"data row3 col4\" >3</td>\n",
       "                        <td id=\"T_d957b176_e552_11ea_8d4d_0242ac1c0002row3_col5\" class=\"data row3 col5\" >8</td>\n",
       "                        <td id=\"T_d957b176_e552_11ea_8d4d_0242ac1c0002row3_col6\" class=\"data row3 col6\" >0</td>\n",
       "                        <td id=\"T_d957b176_e552_11ea_8d4d_0242ac1c0002row3_col7\" class=\"data row3 col7\" >1</td>\n",
       "            </tr>\n",
       "            <tr>\n",
       "                                <th id=\"T_d957b176_e552_11ea_8d4d_0242ac1c0002level1_row4\" class=\"row_heading level1 row4\" >national-news</th>\n",
       "                        <td id=\"T_d957b176_e552_11ea_8d4d_0242ac1c0002row4_col0\" class=\"data row4 col0\" >3</td>\n",
       "                        <td id=\"T_d957b176_e552_11ea_8d4d_0242ac1c0002row4_col1\" class=\"data row4 col1\" >3</td>\n",
       "                        <td id=\"T_d957b176_e552_11ea_8d4d_0242ac1c0002row4_col2\" class=\"data row4 col2\" >0</td>\n",
       "                        <td id=\"T_d957b176_e552_11ea_8d4d_0242ac1c0002row4_col3\" class=\"data row4 col3\" >3</td>\n",
       "                        <td id=\"T_d957b176_e552_11ea_8d4d_0242ac1c0002row4_col4\" class=\"data row4 col4\" >79</td>\n",
       "                        <td id=\"T_d957b176_e552_11ea_8d4d_0242ac1c0002row4_col5\" class=\"data row4 col5\" >0</td>\n",
       "                        <td id=\"T_d957b176_e552_11ea_8d4d_0242ac1c0002row4_col6\" class=\"data row4 col6\" >2</td>\n",
       "                        <td id=\"T_d957b176_e552_11ea_8d4d_0242ac1c0002row4_col7\" class=\"data row4 col7\" >0</td>\n",
       "            </tr>\n",
       "            <tr>\n",
       "                                <th id=\"T_d957b176_e552_11ea_8d4d_0242ac1c0002level1_row5\" class=\"row_heading level1 row5\" >research</th>\n",
       "                        <td id=\"T_d957b176_e552_11ea_8d4d_0242ac1c0002row5_col0\" class=\"data row5 col0\" >3</td>\n",
       "                        <td id=\"T_d957b176_e552_11ea_8d4d_0242ac1c0002row5_col1\" class=\"data row5 col1\" >4</td>\n",
       "                        <td id=\"T_d957b176_e552_11ea_8d4d_0242ac1c0002row5_col2\" class=\"data row5 col2\" >13</td>\n",
       "                        <td id=\"T_d957b176_e552_11ea_8d4d_0242ac1c0002row5_col3\" class=\"data row5 col3\" >10</td>\n",
       "                        <td id=\"T_d957b176_e552_11ea_8d4d_0242ac1c0002row5_col4\" class=\"data row5 col4\" >0</td>\n",
       "                        <td id=\"T_d957b176_e552_11ea_8d4d_0242ac1c0002row5_col5\" class=\"data row5 col5\" >53</td>\n",
       "                        <td id=\"T_d957b176_e552_11ea_8d4d_0242ac1c0002row5_col6\" class=\"data row5 col6\" >6</td>\n",
       "                        <td id=\"T_d957b176_e552_11ea_8d4d_0242ac1c0002row5_col7\" class=\"data row5 col7\" >1</td>\n",
       "            </tr>\n",
       "            <tr>\n",
       "                                <th id=\"T_d957b176_e552_11ea_8d4d_0242ac1c0002level1_row6\" class=\"row_heading level1 row6\" >service</th>\n",
       "                        <td id=\"T_d957b176_e552_11ea_8d4d_0242ac1c0002row6_col0\" class=\"data row6 col0\" >0</td>\n",
       "                        <td id=\"T_d957b176_e552_11ea_8d4d_0242ac1c0002row6_col1\" class=\"data row6 col1\" >2</td>\n",
       "                        <td id=\"T_d957b176_e552_11ea_8d4d_0242ac1c0002row6_col2\" class=\"data row6 col2\" >6</td>\n",
       "                        <td id=\"T_d957b176_e552_11ea_8d4d_0242ac1c0002row6_col3\" class=\"data row6 col3\" >0</td>\n",
       "                        <td id=\"T_d957b176_e552_11ea_8d4d_0242ac1c0002row6_col4\" class=\"data row6 col4\" >1</td>\n",
       "                        <td id=\"T_d957b176_e552_11ea_8d4d_0242ac1c0002row6_col5\" class=\"data row6 col5\" >1</td>\n",
       "                        <td id=\"T_d957b176_e552_11ea_8d4d_0242ac1c0002row6_col6\" class=\"data row6 col6\" >80</td>\n",
       "                        <td id=\"T_d957b176_e552_11ea_8d4d_0242ac1c0002row6_col7\" class=\"data row6 col7\" >0</td>\n",
       "            </tr>\n",
       "            <tr>\n",
       "                                <th id=\"T_d957b176_e552_11ea_8d4d_0242ac1c0002level1_row7\" class=\"row_heading level1 row7\" >sports-news</th>\n",
       "                        <td id=\"T_d957b176_e552_11ea_8d4d_0242ac1c0002row7_col0\" class=\"data row7 col0\" >1</td>\n",
       "                        <td id=\"T_d957b176_e552_11ea_8d4d_0242ac1c0002row7_col1\" class=\"data row7 col1\" >0</td>\n",
       "                        <td id=\"T_d957b176_e552_11ea_8d4d_0242ac1c0002row7_col2\" class=\"data row7 col2\" >0</td>\n",
       "                        <td id=\"T_d957b176_e552_11ea_8d4d_0242ac1c0002row7_col3\" class=\"data row7 col3\" >2</td>\n",
       "                        <td id=\"T_d957b176_e552_11ea_8d4d_0242ac1c0002row7_col4\" class=\"data row7 col4\" >0</td>\n",
       "                        <td id=\"T_d957b176_e552_11ea_8d4d_0242ac1c0002row7_col5\" class=\"data row7 col5\" >0</td>\n",
       "                        <td id=\"T_d957b176_e552_11ea_8d4d_0242ac1c0002row7_col6\" class=\"data row7 col6\" >1</td>\n",
       "                        <td id=\"T_d957b176_e552_11ea_8d4d_0242ac1c0002row7_col7\" class=\"data row7 col7\" >65</td>\n",
       "            </tr>\n",
       "    </tbody></table>"
      ],
      "text/plain": [
       "<pandas.io.formats.style.Styler at 0x7f14ec9a7e10>"
      ]
     },
     "execution_count": 94,
     "metadata": {
      "tags": []
     },
     "output_type": "execute_result"
    }
   ],
   "source": [
    "print(\"Confusion Matrix: \")\n",
    "p = pd.DataFrame(cm, \n",
    "                 index=[['Actual']*8,list(le.inverse_transform([0, 1, 2, 3, 4, 5, 6, 7]))], \n",
    "                 columns=[['Predicted']*8,list(le.inverse_transform([0, 1, 2, 3, 4, 5, 6, 7]))])\n",
    "\n",
    "p.style.set_properties(**{'background-color': 'skyblue', \n",
    "                          'color': 'black'})"
   ]
  },
  {
   "cell_type": "code",
   "execution_count": 96,
   "metadata": {
    "colab": {},
    "colab_type": "code",
    "executionInfo": {
     "elapsed": 1191,
     "status": "ok",
     "timestamp": 1598195618222,
     "user": {
      "displayName": "Md Rifatul Islam Rifat",
      "photoUrl": "",
      "userId": "17304548563437753137"
     },
     "user_tz": -360
    },
    "id": "JilniCSp4cRf"
   },
   "outputs": [],
   "source": [
    "p = pd.DataFrame(cm, \n",
    "                 index=list(le.inverse_transform([0, 1, 2, 3, 4, 5, 6, 7])), \n",
    "                 columns=list(le.inverse_transform([0, 1, 2, 3, 4, 5, 6, 7])))"
   ]
  },
  {
   "cell_type": "code",
   "execution_count": 98,
   "metadata": {
    "colab": {
     "base_uri": "https://localhost:8080/",
     "height": 394
    },
    "colab_type": "code",
    "executionInfo": {
     "elapsed": 2890,
     "status": "ok",
     "timestamp": 1598195678095,
     "user": {
      "displayName": "Md Rifatul Islam Rifat",
      "photoUrl": "",
      "userId": "17304548563437753137"
     },
     "user_tz": -360
    },
    "id": "eKofSc0G3X3a",
    "outputId": "1c1548c7-2f1e-4765-f2e7-f4f9bba696ff"
   },
   "outputs": [
    {
     "data": {
      "image/png": "[encoded data removed]",
      "text/plain": [
       "<Figure size 432x288 with 2 Axes>"
      ]
     },
     "metadata": {
      "tags": []
     },
     "output_type": "display_data"
    }
   ],
   "source": [
    "## Confusion Matrix in Heatmap\n",
    "import matplotlib.pyplot as plt\n",
    "import seaborn as sns\n",
    "# plt.figure(figsize=(12, 8))\n",
    "sns.set()\n",
    "f = sns.heatmap(p, annot=True)\n",
    "plt.title(\"Confusion Matrix\", fontdict={'fontsize': 12})\n",
    "plt.xlabel(\"Predicted\")\n",
    "plt.ylabel(\"Actual\")\n",
    "plt.show()\n",
    "\n",
    "f.get_figure().savefig(\"news_confusion_matrix_fastText.jpg\", dpi=300, bbox_inches='tight')"
   ]
  },
  {
   "cell_type": "code",
   "execution_count": 99,
   "metadata": {
    "colab": {
     "base_uri": "https://localhost:8080/",
     "height": 272
    },
    "colab_type": "code",
    "executionInfo": {
     "elapsed": 1320,
     "status": "ok",
     "timestamp": 1598195849388,
     "user": {
      "displayName": "Md Rifatul Islam Rifat",
      "photoUrl": "",
      "userId": "17304548563437753137"
     },
     "user_tz": -360
    },
    "id": "Dj_AB3ct3841",
    "outputId": "c3d6aeef-c9c6-4871-93b4-d25707395ea5"
   },
   "outputs": [
    {
     "name": "stdout",
     "output_type": "stream",
     "text": [
      "                    precision    recall  f1-score   support\n",
      "\n",
      "  arts-and-culture       0.90      0.93      0.92        90\n",
      "          business       0.80      0.66      0.72        59\n",
      "            health       0.80      0.90      0.85        90\n",
      "international-news       0.75      0.83      0.79        90\n",
      "     national-news       0.86      0.88      0.87        90\n",
      "          research       0.73      0.59      0.65        90\n",
      "           service       0.86      0.89      0.87        90\n",
      "       sports-news       0.97      0.94      0.96        69\n",
      "\n",
      "          accuracy                           0.83       668\n",
      "         macro avg       0.83      0.83      0.83       668\n",
      "      weighted avg       0.83      0.83      0.83       668\n",
      "\n"
     ]
    }
   ],
   "source": [
    "## Classification Report\n",
    "target_names = list(le.inverse_transform([0, 1, 2, 3, 4, 5, 6, 7]))\n",
    "print(classification_report(y_test_k.argmax(axis=1), y_pred.argmax(axis=1), target_names = target_names))"
   ]
  },
  {
   "cell_type": "code",
   "execution_count": null,
   "metadata": {
    "colab": {},
    "colab_type": "code",
    "id": "u8rZVu-f5VMD"
   },
   "outputs": [],
   "source": []
  }
 ],
 "metadata": {
  "accelerator": "GPU",
  "colab": {
   "collapsed_sections": [],
   "name": "News_Classification_fastText.ipynb",
   "provenance": []
  },
  "kernelspec": {
   "display_name": "Python 3",
   "language": "python",
   "name": "python3"
  },
  "language_info": {
   "codemirror_mode": {
    "name": "ipython",
    "version": 3
   },
   "file_extension": ".py",
   "mimetype": "text/x-python",
   "name": "python",
   "nbconvert_exporter": "python",
   "pygments_lexer": "ipython3",
   "version": "3.7.4"
  }
 },
 "nbformat": 4,
 "nbformat_minor": 1
}
